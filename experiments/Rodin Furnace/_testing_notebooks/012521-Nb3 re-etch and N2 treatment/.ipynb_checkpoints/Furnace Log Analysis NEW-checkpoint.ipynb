{
 "cells": [
  {
   "cell_type": "code",
   "execution_count": 5,
   "metadata": {},
   "outputs": [],
   "source": [
    "import slab \n",
    "from slab import *\n",
    "import numpy as np\n",
    "import matplotlib\n",
    "from matplotlib import pyplot as plt \n",
    "from scipy import interpolate as interp \n",
    "import h5py\n",
    "from h5py import File\n",
    "%matplotlib notebook\n"
   ]
  },
  {
   "cell_type": "code",
   "execution_count": 2,
   "metadata": {},
   "outputs": [],
   "source": [
    "'''\n",
    "Need to convert type-J to type K since I messed up...\n",
    "'''\n",
    "\n",
    "# data taken from thermocoupleinfo.com reference tables\n",
    "\n",
    "def Type_K_lookup(V):\n",
    "    type_K_data=[[-50, 0, 50, 100, 150, 200, 250, 300, 350, 400, 450, 500, 550, 600,650, 700, 750, 800, 850, 900, 950, 1000, 1050, 1100], \n",
    "            [-1.889, 0.000, 2.023, 4.096, 6.138, 8.138, 10.153, 12.209, 14.293,16.397, 18.516,          20.644, 22.776, 24.905, 27.025, 29.129, 31.213, 33.275, 35.313, 37.326, 39.314, 41.276, 43.211, 45.119]]\n",
    "    f_K=interp.CubicSpline(type_K_data[1], type_K_data[0])\n",
    "    return f_K(V)\n",
    "\n",
    "def Type_J_lookup(T):\n",
    "    type_J_data=[[-50, 0, 50, 100, 150, 200, 250, 300, 350, 400, 450, 500, 550, 600, 650, 700, 750, 800, 850, 900, 950, 1000, 1050, 1100],[-2.431, 0.000, 2.585, 5.269, 8.010, 10.779, 13.555, 16.327, 19.090, 21.848, 24.610, 27.393, 30.216, 33.102, 36.071, 39.132, 42.281, 45.496, 48.715, 51.877, 54.956, 57.953, 60.890, 63.792]]\n",
    "    f_J=interp.CubicSpline(type_J_data[0], type_J_data[1])\n",
    "    return f_J(T)\n",
    "\n",
    "def J_to_K_conv(T):\n",
    "    return Type_K_lookup(Type_J_lookup(T))"
   ]
  },
  {
   "cell_type": "code",
   "execution_count": 7,
   "metadata": {},
   "outputs": [],
   "source": [
    "'''\n",
    "Log file\n",
    "'''\n",
    "\n",
    "log_path='c:\\\\Users\\\\Molybdenum\\\\Documents\\\\Furnace Automation\\\\Furnace Logs\\\\'\n",
    "    \n",
    "fname='00002_2021-01-23_Furnace_log.h5'"
   ]
  },
  {
   "cell_type": "code",
   "execution_count": null,
   "metadata": {},
   "outputs": [],
   "source": [
    "with File(log_path+fname, 'r') as f:\n",
    "    tpts=np.array(f['tpts']-f['tpts'][0])\n",
    "    temp=np.array(f['cav_temp'])\n",
    "    pp_vals={}\n",
    "    keys = [key for key in f.keys()]\n",
    "    for vals in keys:\n",
    "        if vals!='tpts' and vals!='volts' and vals!='curr' and vals!='fil_state':\n",
    "            pp_vals[vals]=np.array(f[vals])\n",
    "            \n",
    "\n",
    "#convert temps:\n",
    "temp=J_to_K_conv(temp)\n",
    "\n",
    "fig, ax=plt.subplots(figsize=(10,6))\n",
    "for key in iter(pp_vals.keys()):\n",
    "    plt.semilogy(tpts/3600, pp_vals[key], label=key)\n",
    "ax.set_ylim([5E-11,1E-1])\n",
    "\n",
    "ax.set_xlabel('Elapsed Time (Hours)')\n",
    "ax.set_ylabel('Pressure (mbar)')\n",
    "\n",
    "ax2 = ax.twinx()\n",
    "\n",
    "\n",
    "plt.title('Pressure and Applied Power vs Time log: %s'%fname.split('.')[0])\n",
    "\n",
    "ax2.plot(tpts/3600, temp, '-c', linewidth=3, label='Measured Coil Power')\n",
    "\n",
    "ax2.set_ylabel('Temp (C)', color='c')\n",
    "ax2.tick_params(axis='y', labelcolor='c')\n",
    "ax.legend(loc=1)\n",
    "plt.xlim([0,12.5])\n",
    "# plt.savefig(fname.split('.')[0]+'.png', bbox_inches='tight',dpi=500)"
   ]
  },
  {
   "cell_type": "code",
   "execution_count": null,
   "metadata": {},
   "outputs": [],
   "source": []
  }
 ],
 "metadata": {
  "kernelspec": {
   "display_name": "Python 3",
   "language": "python",
   "name": "python3"
  },
  "language_info": {
   "codemirror_mode": {
    "name": "ipython",
    "version": 3
   },
   "file_extension": ".py",
   "mimetype": "text/x-python",
   "name": "python",
   "nbconvert_exporter": "python",
   "pygments_lexer": "ipython3",
   "version": "3.7.3"
  }
 },
 "nbformat": 4,
 "nbformat_minor": 2
}
