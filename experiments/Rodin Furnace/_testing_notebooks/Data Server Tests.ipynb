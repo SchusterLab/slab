{
 "metadata": {
  "language_info": {
   "codemirror_mode": {
    "name": "ipython",
    "version": 3
   },
   "file_extension": ".py",
   "mimetype": "text/x-python",
   "name": "python",
   "nbconvert_exporter": "python",
   "pygments_lexer": "ipython3",
   "version": "3.7.3-final"
  },
  "orig_nbformat": 2,
  "kernelspec": {
   "name": "python3",
   "display_name": "Python 3"
  }
 },
 "nbformat": 4,
 "nbformat_minor": 2,
 "cells": [
  {
   "cell_type": "code",
   "execution_count": 43,
   "metadata": {},
   "outputs": [],
   "source": [
    "import glob\n",
    "import slab \n",
    "from slab import dataanalysis\n",
    "import numpy as np\n",
    "import subprocess\n",
    "import time\n",
    "import os\n",
    "from h5py import File, special_dtype\n",
    "import threading\n",
    "import gc\n",
    "import yaml\n",
    "from datetime import datetime, timedelta"
   ]
  },
  {
   "cell_type": "code",
   "execution_count": 37,
   "metadata": {},
   "outputs": [
    {
     "output_type": "stream",
     "name": "stdout",
     "text": [
      "\f\n"
     ]
    }
   ],
   "source": [
    "clear"
   ]
  },
  {
   "cell_type": "code",
   "execution_count": 57,
   "metadata": {},
   "outputs": [],
   "source": [
    "class Server():\n",
    "    def __init__(self, config_path=None, launch_at_start=True):\n",
    "        if config_path==None:\n",
    "            local_path=os.getcwd()\n",
    "            config_path=local_path+'\\\\furnace_config.yml'\n",
    "        try:\n",
    "            with open(config_path, 'r') as f:\n",
    "                self.RGA_config=yaml.full_load(f)['RGA']\n",
    "            self.data_path = self.RGA_config['data_path']\n",
    "            if self.data_path==None:\n",
    "                log_dir='\\\\Furnace Logs'\n",
    "                self.data_path=os.path.dirname(config_path)+log_dir\n",
    "                if not os.path.exists(self.data_path):\n",
    "                    os.makedirs(self.data_path)\n",
    "                self.data_path=self.data_path+'\\\\'\n",
    "            \n",
    "        except:\n",
    "            print('Unable to find or open server, check config_path and config.')\n",
    "        if launch_at_start:\n",
    "            self.log, self.PID = self.pressure_server(self.data_path)\n",
    "        else:\n",
    "            pass\n",
    "\n",
    "    def get_log(self):\n",
    "        return self.log\n",
    "\n",
    "    def get_PID(self):\n",
    "        return self.PID\n",
    "\n",
    "    def last_log_fname(self, path, prefix):\n",
    "        dirlist = glob.glob(path + '*' + prefix + '*')\n",
    "        dsort = dirlist.sort()\n",
    "        i = 1\n",
    "        max_iter = 100\n",
    "        if dsort == None and len(dirlist) == 0:\n",
    "            date = prefix.split('_')[0]\n",
    "            while dsort == None and len(dirlist) == 0 and i < max_iter:\n",
    "                prefix = (datetime.strptime(date, '%Y-%m-%d') - timedelta(days=i)).strftime('%Y-%m-%d') + '_RGA_log'\n",
    "                dirlist = glob.glob(path + '*' + prefix + '*')\n",
    "                dirlist.sort()\n",
    "                i += 1\n",
    "            if i == max_iter:\n",
    "                return None\n",
    "            else:\n",
    "                f_name = os.path.split(dirlist[-1])[-1]\n",
    "        else:\n",
    "            f_name = os.path.split(dirlist[-1])[-1]\n",
    "        return f_name\n",
    "\n",
    "    def pressure_server(self, data_path):\n",
    "        next_fname = self.next_log_fname(data_path)\n",
    "        num = next_fname.split('_')[0]\n",
    "        prefix = next_fname.split(num + '_')[1]\n",
    "        last_fname = self.last_log_fname(data_path, prefix)\n",
    "        if last_fname!=None:\n",
    "            log_time = self.swmr_read(data_path + last_fname, 'tpts', -1)\n",
    "            et = time.time() - log_time\n",
    "            if et > 30:\n",
    "                self.p_log, self.p_log_ID = self.start_pressure_server(data_path)\n",
    "            else:\n",
    "                try:\n",
    "                    PID = self.swmr_attr(data_path + last_fname, 'LOG_PID')\n",
    "                    p_name = self.process_name(PID)\n",
    "                    if p_name == 'python.exe':\n",
    "                        self.p_log = last_fname\n",
    "                        self.p_log_ID = PID\n",
    "                        print('Server Running:')\n",
    "                        print('_________________')\n",
    "                        print('Server Log: %s' % self.p_log)\n",
    "                        print('Server Process ID %i' % self.p_log_ID)\n",
    "                    else:\n",
    "                        self.p_log, self.p_log_ID = self.start_pressure_server(data_path)\n",
    "                except:\n",
    "                    print('ERROR in determining PID from log')\n",
    "        else:\n",
    "            self.p_log, self.p_log_ID = self.start_pressure_server(data_path)\n",
    "        return self.p_log, self.p_log_ID\n",
    "\n",
    "    def server_state(self):\n",
    "        p_name = self.process_name(self.PID)\n",
    "        if p_name == 'python.exe':\n",
    "            state = True\n",
    "        else:\n",
    "            state = False\n",
    "        return state\n",
    "\n",
    "    def read(self, key):\n",
    "        data = self.swmr_read(self.data_path + self.log, key, -1)\n",
    "        return data\n",
    "\n",
    "    def attr_read(self, key):\n",
    "        data=self.swmr_attr(self.data_path+self.log, key)\n",
    "        return data\n",
    "\n",
    "    def pp_keys(self):\n",
    "        data_file = File(self.data_path + self.log, 'r', libver='latest', swmr=True)\n",
    "        try:\n",
    "            keys = [key for key in data_file.keys()]\n",
    "            pp_key_vals = []\n",
    "            for vals in keys:\n",
    "                if vals != 'tpts' and vals != 'p_tot':\n",
    "                    pp_key_vals.append(vals)\n",
    "                else:\n",
    "                    pass\n",
    "            data_file.close()\n",
    "            return pp_key_vals\n",
    "        except:\n",
    "            self.exit_handler()\n",
    "            raise Exception('ERROR')\n",
    "\n",
    "    def start_pressure_server(self, data_path, suffix='h5'):\n",
    "        '''\n",
    "        Starts an external pressure datalogger using shell command\n",
    "        '''\n",
    "        try:\n",
    "            conf = subprocess.call('start python pressure_server.py', shell=True)\n",
    "            if conf != 0:\n",
    "                raise Exception('Error in shell script, check instrument')\n",
    "            else:\n",
    "                pass\n",
    "\n",
    "            new_log_fname = self.next_log_fname(data_path)\n",
    "\n",
    "            i = 0\n",
    "            max_iter = 60\n",
    "            print('Waiting for server to start...')\n",
    "\n",
    "            while os.path.isfile(data_path + new_log_fname + '.' + suffix) == False and i < max_iter:\n",
    "                time.sleep(1)\n",
    "                i += 1\n",
    "            if i >= max_iter:\n",
    "                raise Exception('ERROR: Timed out waiting for log to be created')\n",
    "            else:\n",
    "                pass\n",
    "            print('_________________')\n",
    "\n",
    "            try:\n",
    "                time.sleep(2)\n",
    "                PID = self.swmr_attr(data_path + new_log_fname + '.' + suffix, 'LOG_PID')\n",
    "                print('New log created: %s' % new_log_fname + '.' + suffix)\n",
    "                print('Server Process ID: %i' % PID)\n",
    "                return new_log_fname + '.' + suffix, PID\n",
    "            except:\n",
    "                raise Exception('ERROR: Server has no PID')\n",
    "\n",
    "        except RuntimeError:\n",
    "            print('Error occurred in server initialization')\n",
    "\n",
    "    def exit_handler(self):\n",
    "        '''\n",
    "        Function that finds any instances of open H5 files and safely\n",
    "        closes them in event of normal interpreter shutdown or error.\n",
    "        '''\n",
    "        for obj in gc.get_objects():  # Browse through ALL objects\n",
    "            if isinstance(obj, File):  # Just HDF5 files\n",
    "                try:\n",
    "                    obj.close()\n",
    "                except:\n",
    "                    pass  # Was already closed\n",
    "\n",
    "    def latest_file(self, filepath):\n",
    "        list_files = glob.glob(filepath + '*')\n",
    "        latest_file = max(list_files, key=os.path.getctime)\n",
    "        data_file = latest_file.split('\\\\')[-1]\n",
    "        return data_file\n",
    "\n",
    "    def swmr_read(self, file_path, key, index):\n",
    "        data_file = File(file_path, 'r', libver='latest', swmr=True)\n",
    "        try:\n",
    "            data = np.array(data_file[key])[index]\n",
    "            data_file.close()\n",
    "            return data\n",
    "        except:\n",
    "            self.exit_handler()\n",
    "\n",
    "    def swmr_attr(self, file_path, key):\n",
    "        data_file = File(file_path, 'r', libver='latest', swmr=True)\n",
    "        try:\n",
    "            attr_val = data_file.attrs[key]\n",
    "            data_file.close()\n",
    "            return attr_val\n",
    "        except:\n",
    "            self.exit_handler()\n",
    "            print('ERROR')\n",
    "\n",
    "    def kill(self):\n",
    "        self.kill_server(self.PID)\n",
    "\n",
    "    def process_name(self, PID):\n",
    "        '''\n",
    "        Finds process name for a given process ID using shell commands and parsing return.\n",
    "        '''\n",
    "        out = subprocess.check_output('tasklist /fi \"pid eq {0}\"'.format(PID), shell=True).decode(\"utf-8\")\n",
    "        if out.split(':')[0] == 'INFO':\n",
    "            return 'no task'\n",
    "        else:\n",
    "            return out.split('\\r\\n')[3].split(' ')[0]\n",
    "\n",
    "    def kill_server(self, PID):\n",
    "        '''\n",
    "        safely kills the data server via shell. Checks if process is a valid python executable.\n",
    "        '''\n",
    "        try:\n",
    "            p_name = self.process_name(PID)\n",
    "            if p_name == 'python.exe':\n",
    "                # needs /t flag for safe process shutdown\n",
    "                subprocess.Popen('taskkill /PID {0} /t'.format(PID), shell=True)\n",
    "            elif p_name == 'no task':\n",
    "                print('No process currently running with that ID')\n",
    "            else:\n",
    "                print('Not a valid python interpreter, cannot close process')\n",
    "        except:\n",
    "            print('ERROR Occurred in killing process')\n",
    "\n",
    "    def _get_next_filename(self, datapath,prefix,suffix=''):\n",
    "        ii = self._next_file_index(datapath, prefix)\n",
    "        return \"%05d_\" % (ii) + prefix +suffix\n",
    "\n",
    "    def _next_file_index(self, datapath,prefix=''):\n",
    "        \"\"\"Searches directories for files of the form *_prefix* and returns next number\n",
    "            in the series\"\"\"\n",
    "\n",
    "        dirlist=glob.glob(os.path.join(datapath,'*_'+prefix+'*'))\n",
    "        dirlist.sort()\n",
    "        try:\n",
    "            ii=int(os.path.split(dirlist[-1])[-1].split('_')[0])+1\n",
    "        except:\n",
    "            ii=0\n",
    "        return ii\n",
    "\n",
    "    def next_log_fname(self, path):\n",
    "        local_time = time.time()\n",
    "        date = datetime.fromtimestamp(local_time).strftime('%Y-%m-%d %H:%M:%S').split(' ')[0]\n",
    "        prefix = date.split(' ')[0] + '_RGA_log'\n",
    "        next_file = self._get_next_filename(path, prefix)\n",
    "        return next_file"
   ]
  },
  {
   "cell_type": "code",
   "execution_count": 60,
   "metadata": {},
   "outputs": [
    {
     "output_type": "stream",
     "name": "stdout",
     "text": [
      "Server Running:\n_________________\nServer Log: 00003_2020-11-30_RGA_log.h5\nServer Process ID 20292\n"
     ]
    }
   ],
   "source": [
    "server=Server()"
   ]
  },
  {
   "cell_type": "code",
   "execution_count": 42,
   "metadata": {},
   "outputs": [
    {
     "output_type": "execute_result",
     "data": {
      "text/plain": [
       "'c:\\\\Users\\\\Molybdenum\\\\Documents\\\\Furnace Automation\\\\Furnace Logs'"
      ]
     },
     "metadata": {},
     "execution_count": 42
    }
   ],
   "source": [
    "server.data_path"
   ]
  },
  {
   "cell_type": "code",
   "execution_count": 12,
   "metadata": {},
   "outputs": [],
   "source": [
    "def pressure_server(self, data_path):\n",
    "        next_fname = self.next_log_fname(data_path)\n",
    "        num = next_fname.split('_')[0]\n",
    "        prefix = next_fname.split(num + '_')[1]\n",
    "        print(prefix)\n",
    "        last_fname = self.last_log_fname(data_path, prefix)\n",
    "        print(next_fname, data_path)\n",
    "        if last_fname!=None:\n",
    "            log_time = self.swmr_read(data_path + last_fname, 'tpts', -1)\n",
    "            et = time.time() - log_time\n",
    "            if et > 30:\n",
    "                p_log, p_log_ID = self.start_pressure_server(data_path)\n",
    "                return p_log, p_log_ID\n",
    "            else:\n",
    "                try:\n",
    "                    PID = self.swmr_attr(data_path + last_fname, 'LOG_PID')\n",
    "                    p_name = self.process_name(PID)\n",
    "                    if p_name == 'python.exe':\n",
    "                        p_log = last_fname\n",
    "                        p_log_ID = PID\n",
    "                        print('Server Running:')\n",
    "                        print('_________________')\n",
    "                        print('Server Log: %s' % p_log)\n",
    "                        print('Server Process ID %i' % p_log_ID)\n",
    "                    else:\n",
    "                        p_log, p_log_ID = self.start_pressure_server(data_path)\n",
    "                    return p_log, p_log_ID\n",
    "                except:\n",
    "                    print('ERROR in determining PID from log')\n",
    "        else:\n",
    "            p_log, p_log_ID = self.start_pressure_server(data_path)\n",
    "            return(p_log, p_log_ID)"
   ]
  },
  {
   "cell_type": "code",
   "execution_count": 13,
   "metadata": {},
   "outputs": [
    {
     "output_type": "stream",
     "name": "stdout",
     "text": [
      "2020-11-30_RGA_log\n00000_2020-11-30_RGA_log C:\\Users\\Molybdenum\\Documents\\Furnace Logs\\\n1.5478551387786865\nServer Running:\n_________________\nServer Log: 00000_2020-11-29_RGA_log.h5\nServer Process ID 10612\n"
     ]
    },
    {
     "output_type": "execute_result",
     "data": {
      "text/plain": [
       "('00000_2020-11-29_RGA_log.h5', 10612)"
      ]
     },
     "metadata": {},
     "execution_count": 13
    }
   ],
   "source": [
    "pressure_server(server, path)"
   ]
  },
  {
   "cell_type": "code",
   "execution_count": 20,
   "metadata": {},
   "outputs": [],
   "source": [
    "#RGA parameter keys\n",
    "RGA_keys=['fil_current','e_energy','ion_energy','foc_volts','scan_rate','units','t_wait']\n",
    "config_path='C:\\\\Users\\\\Molybdenum\\\\Documents\\\\Furnace Automation\\\\'\n",
    "config_name='furnace_config.yml'\n",
    "system_config='system_config.yml'\n",
    "\n",
    "with open(config_path+config_name, 'r') as f:\n",
    "    rga_config=yaml.full_load(f)['RGA']"
   ]
  },
  {
   "cell_type": "code",
   "execution_count": 22,
   "metadata": {},
   "outputs": [
    {
     "output_type": "execute_result",
     "data": {
      "text/plain": [
       "True"
      ]
     },
     "metadata": {},
     "execution_count": 22
    }
   ],
   "source": [
    "rga_config['data_path']==None"
   ]
  },
  {
   "cell_type": "code",
   "execution_count": 27,
   "metadata": {},
   "outputs": [
    {
     "output_type": "execute_result",
     "data": {
      "text/plain": [
       "['C:\\\\Users\\\\Molybdenum\\\\Documents\\\\Furnace Automation\\\\Furnace Logs']"
      ]
     },
     "metadata": {},
     "execution_count": 27
    }
   ],
   "source": [
    "glob.glob(config_path+'Furnace Logs')"
   ]
  },
  {
   "cell_type": "code",
   "execution_count": 32,
   "metadata": {},
   "outputs": [
    {
     "output_type": "stream",
     "name": "stdout",
     "text": [
      "hey\n"
     ]
    }
   ],
   "source": [
    "log_dir='Furnace Log'\n",
    "if not os.path.exists(config_path+log_dir):\n",
    "    os.makedirs(config_path+log_dir)\n",
    "    print('hey')"
   ]
  },
  {
   "cell_type": "code",
   "execution_count": 34,
   "metadata": {},
   "outputs": [
    {
     "output_type": "execute_result",
     "data": {
      "text/plain": [
       "'c:\\\\Users\\\\Molybdenum\\\\Documents\\\\Furnace Automation'"
      ]
     },
     "metadata": {},
     "execution_count": 34
    }
   ],
   "source": [
    "os.getcwd()"
   ]
  },
  {
   "cell_type": "code",
   "execution_count": null,
   "metadata": {},
   "outputs": [],
   "source": []
  }
 ]
}