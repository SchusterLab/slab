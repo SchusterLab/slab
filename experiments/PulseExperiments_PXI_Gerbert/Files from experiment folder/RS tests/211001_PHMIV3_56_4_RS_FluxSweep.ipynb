{
 "cells": [
  {
   "cell_type": "code",
   "execution_count": 1,
   "metadata": {},
   "outputs": [
    {
     "name": "stderr",
     "output_type": "stream",
     "text": [
      "C:\\ProgramData\\Anaconda3\\envs\\py36vis\\lib\\site-packages\\IPython\\qt.py:13: ShimWarning: The `IPython.qt` package has been deprecated since IPython 4.0. You should import from qtconsole instead.\n",
      "  \"You should import from qtconsole instead.\", ShimWarning)\n"
     ]
    },
    {
     "name": "stdout",
     "output_type": "stream",
     "text": [
      "Could not load InstrumentManagerWindow\n",
      "Could not load labbrick\n",
      "Could not load Autonics TM4 Driver\n",
      "Could not load Oxford Trition driver\n"
     ]
    }
   ],
   "source": [
    "\"\"\"\n",
    "Rhode Schwarz (BatMaus) Demo\n",
    "Author: Andrei V.\n",
    "\"\"\"\n",
    "\n",
    "# from slab import *\n",
    "# from slab.datamanagement import SlabFile\n",
    "import numpy as np\n",
    "import os\n",
    "import datetime\n",
    "import os.path\n",
    "from importlib import reload\n",
    "import matplotlib.pyplot as plt\n",
    "%matplotlib notebook\n",
    "\n",
    "import RhodeSchwarz\n",
    "reload(RhodeSchwarz)\n",
    "\n",
    "from RhodeSchwarz import RhodeSchwarz\n",
    "from RhodeSchwarz import ZVB8\n"
   ]
  },
  {
   "cell_type": "code",
   "execution_count": 6,
   "metadata": {},
   "outputs": [],
   "source": [
    "baddata = ['1,2,3,4,5']"
   ]
  },
  {
   "cell_type": "code",
   "execution_count": 7,
   "metadata": {},
   "outputs": [
    {
     "ename": "TypeError",
     "evalue": "float() argument must be a string or a number, not 'list'",
     "output_type": "error",
     "traceback": [
      "\u001b[1;31m---------------------------------------------------------------------------\u001b[0m",
      "\u001b[1;31mTypeError\u001b[0m                                 Traceback (most recent call last)",
      "\u001b[1;32m<ipython-input-7-c0eff07ea463>\u001b[0m in \u001b[0;36m<module>\u001b[1;34m()\u001b[0m\n\u001b[1;32m----> 1\u001b[1;33m \u001b[0mfloat\u001b[0m\u001b[1;33m(\u001b[0m\u001b[0mbaddata\u001b[0m\u001b[1;33m)\u001b[0m\u001b[1;33m\u001b[0m\u001b[1;33m\u001b[0m\u001b[0m\n\u001b[0m",
      "\u001b[1;31mTypeError\u001b[0m: float() argument must be a string or a number, not 'list'"
     ]
    }
   ],
   "source": [
    "float(baddata)"
   ]
  },
  {
   "cell_type": "code",
   "execution_count": 11,
   "metadata": {},
   "outputs": [
    {
     "data": {
      "text/plain": [
       "['1', '2', '3', '4', '5']"
      ]
     },
     "execution_count": 11,
     "metadata": {},
     "output_type": "execute_result"
    }
   ],
   "source": [
    "baddata[0].split( ',')"
   ]
  },
  {
   "cell_type": "code",
   "execution_count": 2,
   "metadata": {},
   "outputs": [],
   "source": [
    "# rs = RhodeSchwarz(address='192.168.14.190')\n",
    "rs = ZVB8(address='192.168.14.231', reset = True)"
   ]
  },
  {
   "cell_type": "code",
   "execution_count": 14,
   "metadata": {},
   "outputs": [
    {
     "name": "stdout",
     "output_type": "stream",
     "text": [
      "I'm Bat Mouse!\n"
     ]
    },
    {
     "data": {
      "text/plain": [
       "'Rohde-Schwarz,ZNB8-4Port,1311601044101437,3.20\\n'"
      ]
     },
     "execution_count": 14,
     "metadata": {},
     "output_type": "execute_result"
    }
   ],
   "source": [
    "rs.get_id()"
   ]
  },
  {
   "cell_type": "code",
   "execution_count": 15,
   "metadata": {},
   "outputs": [],
   "source": [
    "import time"
   ]
  },
  {
   "cell_type": "code",
   "execution_count": 16,
   "metadata": {},
   "outputs": [],
   "source": [
    "rs.reset()"
   ]
  },
  {
   "cell_type": "markdown",
   "metadata": {},
   "source": [
    "## Resonator readout scans"
   ]
  },
  {
   "cell_type": "code",
   "execution_count": 43,
   "metadata": {},
   "outputs": [],
   "source": [
    "readfreqcenter = [6.180e9, 6.290e9, 6.405e9, 6.510e9, 6.610e9, 6.735e9, 6.835e9, 6.955e9]\n",
    "drive_freq_start = [4.0e9,4.0e9,4.0e9,4.0e9,4.0e9,4.0e9,4.0e9,4.75e9]\n",
    "drive_freq_stop = [6.05e9,6.05e9,6.05e9,6.05e9,6.05e9,6.05e9,6.05e9,5.25e9]"
   ]
  },
  {
   "cell_type": "code",
   "execution_count": 45,
   "metadata": {},
   "outputs": [],
   "source": [
    "dataarray = []\n",
    "resonatorbw = 40e6\n",
    "# for ii in [0,1,2,3,4,5,6]:\n",
    "for ii in [0]:\n",
    "    rs.reset()\n",
    "    time.sleep(0.2)\n",
    "    trans_settings = rs.trans_default_settings()\n",
    "    trans_settings['start_freq'] = readfreqcenter[ii]-resonatorbw/2\n",
    "    trans_settings['stop_freq'] = readfreqcenter[ii]+resonatorbw/2\n",
    "    trans_settings['avg_time'] = 10\n",
    "    trans_settings['ifBW'] = 1000\n",
    "    trans_settings['RFpower'] = -25\n",
    "    trans_settings['freq_points'] = 1001\n",
    "    trans_settings\n",
    "    dataarray.append(rs.trans_meas(trans_settings))"
   ]
  },
  {
   "cell_type": "code",
   "execution_count": 46,
   "metadata": {
    "scrolled": true
   },
   "outputs": [
    {
     "data": {
      "image/png": "[encoded data removed]",
      "text/plain": [
       "<Figure size 576x144 with 2 Axes>"
      ]
     },
     "metadata": {
      "needs_background": "light"
     },
     "output_type": "display_data"
    }
   ],
   "source": [
    "omegaresgarray = []\n",
    "# for ii in [0,1,2,3,4,5,6]:\n",
    "for ii in [0]:\n",
    "    data = dataarray[ii]\n",
    "    \n",
    "    mag = np.array([float(i) for i in (data['mag'].split(','))])\n",
    "    phase = np.array([float(i) for i in (data['phase'].split(','))])\n",
    "    freq = np.array([float(i) for i in (((data['xaxis']).tolist()).split(','))])/1e9\n",
    "\n",
    "    fig, ax = plt.subplots(1,2,figsize=(8, 2));\n",
    "\n",
    "    ax1 = ax[0]\n",
    "    ax1.plot(freq,mag, color = 'slategrey')\n",
    "#     yhat = savgol_filter(y, 51, 3)\n",
    "#     p = fitlor(data['freq']/1e9,savgol_filter(data['mag'],51,7))\n",
    "    ax1.set_xlabel('Frequency (GHz)');\n",
    "    ax1.set_ylabel('$S_{21}$ Magnitude (db)');\n",
    "#     ax1.set_xlim(span)\n",
    "#     ax1.axvline(p[2] , color = 'k')\n",
    "    ax1.axvline((freq)[np.argmin(mag)] , color = 'k')\n",
    "    ax1.axvline(importedomegaresgarray[ii],color = 'b',label = 'importedomegares')\n",
    "\n",
    "    ax1 = ax[1]\n",
    "    ax1.plot(freq,phase, color = 'firebrick')\n",
    "    ax1.set_xlabel('Frequency (GHz)');\n",
    "    ax1.set_ylabel('$S_{21}$ Phase');\n",
    "#     ax1.set_xlim(span)\n",
    "#     ax1.axvline(marker , color = 'k')\n",
    "\n",
    "    plt.tight_layout()\n",
    "    \n",
    "    omegaresgarray.append((freq)[np.argmin(mag)])"
   ]
  },
  {
   "cell_type": "code",
   "execution_count": null,
   "metadata": {},
   "outputs": [],
   "source": []
  },
  {
   "cell_type": "markdown",
   "metadata": {},
   "source": [
    "## Two tone Spec across lattice"
   ]
  },
  {
   "cell_type": "code",
   "execution_count": 50,
   "metadata": {},
   "outputs": [
    {
     "data": {
      "text/plain": [
       "4000000000.0"
      ]
     },
     "execution_count": 50,
     "metadata": {},
     "output_type": "execute_result"
    }
   ],
   "source": [
    "drive_freq_start[ii]"
   ]
  },
  {
   "cell_type": "code",
   "execution_count": 51,
   "metadata": {},
   "outputs": [
    {
     "data": {
      "text/plain": [
       "6050000000.0"
      ]
     },
     "execution_count": 51,
     "metadata": {},
     "output_type": "execute_result"
    }
   ],
   "source": [
    "drive_freq_stop[ii]"
   ]
  },
  {
   "cell_type": "code",
   "execution_count": 52,
   "metadata": {},
   "outputs": [
    {
     "data": {
      "text/plain": [
       "6.19052"
      ]
     },
     "execution_count": 52,
     "metadata": {},
     "output_type": "execute_result"
    }
   ],
   "source": [
    "omegaresgarray[ii]"
   ]
  },
  {
   "cell_type": "code",
   "execution_count": 59,
   "metadata": {},
   "outputs": [],
   "source": [
    "dataarray = []\n",
    "for ii in [0]:\n",
    "# for ii in [0]:\n",
    "    rs.reset()\n",
    "    spec_settings = rs.spec_default_settings()\n",
    "    spec_settings['CAVport'] = 1\n",
    "    spec_settings['RFport'] = 3\n",
    "    spec_settings['Mport'] = 2\n",
    "\n",
    "    spec_settings['start_freq'] = drive_freq_start[ii]\n",
    "    spec_settings['stop_freq'] = drive_freq_stop[ii]\n",
    "    spec_settings['RFpower'] = -10\n",
    "    spec_settings['CAVfreq'] = omegaresgarray[ii]*1e9\n",
    "    spec_settings['CAVpower'] = -25\n",
    "    spec_settings['avg_time'] = 10\n",
    "    spec_settings['ifBW'] = 1000\n",
    "    spec_settings['freq_points'] = 501\n",
    "    spec_settings['measurement'] = 'S21'\n",
    "#     print(spec_settings)\n",
    "    \n",
    "    dataarray.append(rs.spec_meas(spec_settings))"
   ]
  },
  {
   "cell_type": "code",
   "execution_count": 60,
   "metadata": {},
   "outputs": [],
   "source": [
    "from scipy.signal import savgol_filter\n",
    "from slab.dsfit import fitlor\n",
    "from slab.dsfit import lorfunc"
   ]
  },
  {
   "cell_type": "code",
   "execution_count": 61,
   "metadata": {},
   "outputs": [
    {
     "name": "stdout",
     "output_type": "stream",
     "text": [
      "[5.9579067]\n"
     ]
    },
    {
     "data": {
      "image/png": "[encoded data removed]",
      "text/plain": [
       "<Figure size 432x216 with 1 Axes>"
      ]
     },
     "metadata": {
      "needs_background": "light"
     },
     "output_type": "display_data"
    }
   ],
   "source": [
    "omegaqgarray = []\n",
    "for ii in [0]:\n",
    "# for ii in [0]:\n",
    "    data = dataarray[ii]\n",
    "    \n",
    "    mag = np.array([float(i) for i in (data['mag'].split(','))])\n",
    "    phase = np.array([float(i) for i in (data['phase'].split(','))])\n",
    "    freq = np.array([float(i) for i in (((data['xaxis']).tolist()).split(','))])/1e9\n",
    "    \n",
    "    \n",
    "    fig, ax = plt.subplots(figsize=(6, 3));\n",
    "    ax1 = ax\n",
    "    ax1.plot(freq, mag, color = 'firebrick')\n",
    "    p = fitlor(freq, mag)\n",
    "    ax1.plot(freq, lorfunc(p, freq), 'k.-', label='fit',alpha = 0.3)\n",
    "    ax1.set_xlabel('Frequency (GHz)');\n",
    "    ax1.set_ylabel('$S_{21}$ Magnitude (db)');\n",
    "    ax1.axvline(p[2] , color = 'k',label = 'fitomegaq')\n",
    "    ax1.axvline(importedomegaqgarray[ii],color = 'b',label = 'importedomegaq')\n",
    "    plt.title(\"Q%s\"%ii)\n",
    "    plt.tight_layout()\n",
    "    plt.legend()\n",
    "    \n",
    "    omegaqgarray.append(p[2])\n",
    "print(np.array(omegaqgarray))"
   ]
  },
  {
   "cell_type": "code",
   "execution_count": 62,
   "metadata": {},
   "outputs": [
    {
     "data": {
      "text/plain": [
       "[5.957906697565522]"
      ]
     },
     "execution_count": 62,
     "metadata": {},
     "output_type": "execute_result"
    }
   ],
   "source": [
    "omegaqgarray"
   ]
  },
  {
   "cell_type": "markdown",
   "metadata": {},
   "source": [
    "## Looks like DACBox isn't tuning qubits - likely open on Q3's flux line! "
   ]
  },
  {
   "cell_type": "code",
   "execution_count": null,
   "metadata": {},
   "outputs": [],
   "source": []
  }
 ],
 "metadata": {
  "kernelspec": {
   "display_name": "Python 3",
   "language": "python",
   "name": "python3"
  },
  "language_info": {
   "codemirror_mode": {
    "name": "ipython",
    "version": 3
   },
   "file_extension": ".py",
   "mimetype": "text/x-python",
   "name": "python",
   "nbconvert_exporter": "python",
   "pygments_lexer": "ipython3",
   "version": "3.6.12"
  },
  "toc": {
   "base_numbering": 1,
   "nav_menu": {},
   "number_sections": true,
   "sideBar": true,
   "skip_h1_title": false,
   "title_cell": "Table of Contents",
   "title_sidebar": "Contents",
   "toc_cell": false,
   "toc_position": {
    "height": "calc(100% - 180px)",
    "left": "10px",
    "top": "150px",
    "width": "165px"
   },
   "toc_section_display": true,
   "toc_window_display": true
  }
 },
 "nbformat": 4,
 "nbformat_minor": 4
}
