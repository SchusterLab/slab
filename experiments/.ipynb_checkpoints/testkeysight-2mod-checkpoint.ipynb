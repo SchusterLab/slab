{
 "cells": [
  {
   "cell_type": "code",
   "execution_count": 16,
   "metadata": {},
   "outputs": [
    {
     "name": "stdout",
     "output_type": "stream",
     "text": [
      "Populating the interactive namespace from numpy and matplotlib\n"
     ]
    },
    {
     "name": "stderr",
     "output_type": "stream",
     "text": [
      "C:\\Users\\slab\\Anaconda3\\lib\\site-packages\\IPython\\core\\magics\\pylab.py:160: UserWarning: pylab import has clobbered these variables: ['exp']\n",
      "`%matplotlib` prevents importing * from pylab and numpy\n",
      "  \"\\n`%matplotlib` prevents importing * from pylab and numpy\"\n"
     ]
    }
   ],
   "source": [
    "# -*- coding: utf-8 -*-\n",
    "\"\"\"\n",
    "Created on Thu Sep 13 19:41:56 2018\n",
    "\n",
    "@author: slab\n",
    "\n",
    "Module 7 used as AWG/marker:\n",
    "    Channel 1 is I\n",
    "    Channel 2 is Q\n",
    "    Channel 3 is marker for readout pulse\n",
    "    Channel 4 is indicator to take data. Should be connected to \"Trigger\" on\n",
    "        Module 10.\n",
    "\n",
    "Module 10 is used for reacout.\n",
    "    Channel 1 is I\n",
    "    Channel 2 is Q\n",
    "\"\"\"\n",
    "\n",
    "%pylab inline\n",
    "from slab.instruments.keysight import KeysightLib as key\n",
    "from slab.instruments.keysight import keysightSD1 as SD1\n",
    "from slab.experiments.HVIExperiments import HVIExpLib as exp\n",
    "import time\n",
    "import numpy as np\n",
    "import os\n",
    "import threading\n",
    "import matplotlib.pyplot as plt\n",
    "from tqdm import tqdm_notebook as tqdmn\n",
    "\n",
    "\n",
    "AWG_BANDWIDTH = 10**9 #Samples per second\n",
    "NUM_TRIALS = 100 #This is the number of different experiments, or how many values the parameter that is being varied (in this case sigma) will take\n",
    "SIGMA_STEP=2 #This is the parameter step\n",
    "READOUT_PULSE=100 #length in ns\n",
    "READOUT_LENGTH = 1000\n",
    "NUM_SWEEPS = 200 #This is the total number of runs that will be averaged"
   ]
  },
  {
   "cell_type": "code",
   "execution_count": 17,
   "metadata": {},
   "outputs": [],
   "source": [
    "class KeysightTwoModules:\n",
    "    '''Class designed to implement a simple single qubit experiment given a pulse sequence. Note that this will not work for error correction or \n",
    "    anything else needing the FPGA (extend HVIEnabledQubitExperiment instead) or anything requiring more than 1 AWG and 1 digitizer module\n",
    "    (it is impossible to trigger them in synch from Python using the manufacturer-provided code). In either case you will have to use the HVI\n",
    "    technology.\n",
    "    \n",
    "    This currently only works for one hardware configuration. In particular, Module (slot) 6 is used as the AWG/marker, and Module 10 is used as\n",
    "    the digitizer. On Module 6, channel 1 goes to the I input to the mixer, channel 2 goes to the Q input, channel 3 is the readout pulse, and\n",
    "    channel 4 is the qubit pulse. Module 6, channel 3 (readout pulse) should also be connected to the trigger input of Module 10 (digitizer). On\n",
    "    module 10, channel 1 is for readout of I component and channel 2 is for readout from Q component.'''\n",
    "    \n",
    "    \n",
    "    \n",
    "    def __init__(self, num_sweeps = NUM_SWEEPS, num_experiments = NUM_TRIALS, save_path = r\"C:\\Users\\slab\\Documents\\Data\",\n",
    "                 sleep_time_between_trials = 500*1000): #1000*10000 if you want to watch sweep by eye\n",
    "        '''Initializes the experiment.\n",
    "        Params:\n",
    "            num_sweeps: the number of total runs that will be averaged.\n",
    "            num_experiments: The number of values that the parameter being varied will take (i.e. the number of unique experiments being done). \n",
    "                Equivalently, this is the number of arrays you'll expect to get back at the end of a single sweep.\n",
    "            save_path: The path where the data is to be saved.\n",
    "            sleep_time_between_trials: Sleep time in ns between triggers for each trial. Keep in mind that this should be at least the length\n",
    "                of the longest trial, plus any qubit relaxation time. Also keep in mind that the latency can very somewhat between trials because\n",
    "                of the speed at which instructions are delivered to the Keysight hardware, so it is possible for two trials to occur a\n",
    "                hundred ns or so closer together than expected if the first is delayed and the second is not.\n",
    "        '''\n",
    "        \n",
    "        chassis = key.KeysightChassis(1,\n",
    "                                  {6: key.ModuleType.OUTPUT,\n",
    "                                   7: key.ModuleType.OUTPUT,\n",
    "                                   8: key.ModuleType.OUTPUT,\n",
    "                                   9: key.ModuleType.OUTPUT,\n",
    "                                   10: key.ModuleType.INPUT})\n",
    "        #initialized with our hardware setup. Could also read from .keycfg file using KeysightLib.KeysightChassis.fromFile()\n",
    "        \n",
    "        self.chassis = chassis \n",
    "        self.AWG_I_channel_1 = chassis.getChannel(6, 1) #module 7, channel 1. AWG for I input to mixer\n",
    "        self.AWG_Q_channel_1 = chassis.getChannel(6, 2) #AWG for Q input into mixer\n",
    "        self.readout_pulse_marker_1 = chassis.getChannel(6, 3) #AWG used as marker for readout pulse\n",
    "        self.qubit_marker_1 = chassis.getChannel(6, 4) #AWG used as marker for qubit pulse\n",
    "        self.AWG_module_1 = chassis.getModule(6)\n",
    "        \n",
    "        self.AWG_I_channel_2 = chassis.getChannel(7, 1) #module 7, channel 1. AWG for I input to mixer\n",
    "        self.AWG_Q_channel_2 = chassis.getChannel(7, 2) #AWG for Q input into mixer\n",
    "        self.readout_pulse_marker_2 = chassis.getChannel(7, 3) #AWG used as marker for readout pulse\n",
    "        self.qubit_marker_2 = chassis.getChannel(7, 4) #AWG used as marker for qubit pulse\n",
    "        self.AWG_module_2 = chassis.getModule(7)\n",
    "        \n",
    "        self.digitizer_I_channel = chassis.getChannel(10, 1)\n",
    "        self.digitizer_Q_channel = chassis.getChannel(10, 2)\n",
    "        self.digitizer_I_channel_2 = chassis.getChannel(10, 3)\n",
    "        self.digitizer_Q_channel_2 = chassis.getChannel(10, 4)\n",
    "        self.DIG_module = chassis.getModule(10)\n",
    "        \n",
    "        self.configureChannels()\n",
    "        self.num_sweeps = num_sweeps\n",
    "        self.num_data_points = num_experiments\n",
    "\n",
    "        self.data_list_I = [] #Stores the data from the I channel as a list of numpy arrays\n",
    "        self.data_list_Q = [] #Stores the data from the Q channel analogously\n",
    "        self.data_list_I_2 = [] #Stores the data from the I channel as a list of numpy arrays\n",
    "        self.data_list_Q_2 = [] #Stores the data from the Q channel analogously\n",
    "        \n",
    "        #Threads that control data acquisition. Has to be done in own thread to avoid missing data due to latency\n",
    "        #self.data_handler_I = SimpleDataHandler(\"Data List I\", self.data_list_I, self.digitizer_I_channel)\n",
    "        #self.data_handler_Q = SimpleDataHandler(\"Data List Q\", self.data_list_Q, self.digitizer_Q_channel)\n",
    "\n",
    "        self.sleep_time = sleep_time_between_trials / (10**9) #stored in seconds internally\n",
    "        print(self.sleep_time)\n",
    "        self.save_path = save_path\n",
    "        \n",
    "        \n",
    "        \n",
    "    def configureChannels(self):\n",
    "        '''Configures the individual channels that are used in the experiment. This section may be modified as needed\n",
    "        for other experiments. See documentation in KeysightLib for the configure() methods on KeysightChannelIn and\n",
    "        KeysightChannelOut. Amplitude is in volts.'''\n",
    "\n",
    "\n",
    "        self.AWG_module_1.triggerIOconfig(SD1.SD_TriggerDirections.AOU_TRG_IN)\n",
    "\n",
    "        self.AWG_I_channel_1.configure(amplitude = 0.75 / 2, #volt\n",
    "                trigger_source = SD1.SD_TriggerModes.EXTTRIG) #We want to trigger from software\n",
    "        \n",
    "        self.AWG_Q_channel_1.configure(\n",
    "                amplitude=0.75 / 2, trigger_source = SD1.SD_TriggerModes.EXTTRIG)\n",
    "\n",
    "        self.readout_pulse_marker_1.configure(\n",
    "                amplitude=2, trigger_source = SD1.SD_TriggerModes.EXTTRIG)\n",
    "\n",
    "        self.qubit_marker_1.configure(\n",
    "                amplitude=2, trigger_source = SD1.SD_TriggerModes.EXTTRIG)\n",
    "        \n",
    "        self.AWG_module_2.triggerIOconfig(SD1.SD_TriggerDirections.AOU_TRG_IN)\n",
    "\n",
    "        self.AWG_I_channel_2.configure(amplitude = 0.75 / 2, #volt\n",
    "                trigger_source = SD1.SD_TriggerModes.EXTTRIG) #We want to trigger from software\n",
    "        \n",
    "        self.AWG_Q_channel_2.configure(\n",
    "                amplitude=0.75 / 2, trigger_source = SD1.SD_TriggerModes.EXTTRIG)\n",
    "\n",
    "        self.readout_pulse_marker_2.configure(\n",
    "                amplitude=2, trigger_source = SD1.SD_TriggerModes.EXTTRIG)\n",
    "\n",
    "        self.qubit_marker_2.configure(\n",
    "                amplitude=2, trigger_source = SD1.SD_TriggerModes.EXTTRIG)\n",
    "\n",
    "        self.DIG_module.triggerIOconfig(SD1.SD_TriggerDirections.AOU_TRG_IN)\n",
    "\n",
    "        for n in range(1,5): #tan: Why 5 times??\n",
    "            self.AWG_module_1.AWGtriggerExternalConfig(nAWG=n,externalSource=SD1.SD_TriggerExternalSources.TRIGGER_EXTERN,\n",
    "                                                    triggerBehavior=SD1.SD_TriggerBehaviors.TRIGGER_RISE )\n",
    "            self.AWG_module_2.AWGtriggerExternalConfig(nAWG=n,externalSource=SD1.SD_TriggerExternalSources.TRIGGER_EXTERN,\n",
    "                                                    triggerBehavior=SD1.SD_TriggerBehaviors.TRIGGER_RISE )\n",
    "\n",
    "        self.digitizer_I_channel.configure(points_per_cycle = READOUT_LENGTH, #Divide by 2 because bandwidth of digitizer is less than AWG\n",
    "                                           #Number of data points to acquire at one time, at 2 ns apiece.\n",
    "                                           \n",
    "                                           cycles = NUM_TRIALS * NUM_SWEEPS, #Total number of times digitizer will be asked to take data\n",
    "                                           buffer_time_out = 100000, #Time before aborting data read, ms.\n",
    "                                           #In general want to be quite large, but not infinite\n",
    "                                           \n",
    "                                           trigger_mode = SD1.SD_TriggerModes.EXTTRIG,\n",
    "                                           #Triggered externally by linking to readout pulse\n",
    "                                           use_buffering = True, #Unnecessary with a Data Handler subprocess\n",
    "                                           cycles_per_return = NUM_TRIALS) #Return and log 1 trial's data at a time. Can increase to bundle data together.\n",
    "        #time.sleep(0.001)\n",
    "        self.digitizer_Q_channel.configure(points_per_cycle = READOUT_LENGTH,\n",
    "                                           buffer_time_out = 100000,\n",
    "                                           cycles = NUM_TRIALS * NUM_SWEEPS, \n",
    "                                           trigger_mode = SD1.SD_TriggerModes.EXTTRIG_CYCLE,\n",
    "                                           use_buffering = True,\n",
    "                                           cycles_per_return = NUM_TRIALS)\n",
    "        \n",
    "        self.digitizer_I_channel_2.configure(points_per_cycle = READOUT_LENGTH, #Divide by 2 because bandwidth of digitizer is less than AWG\n",
    "                                           #Number of data points to acquire at one time, at 2 ns apiece.\n",
    "                                           \n",
    "                                           cycles = NUM_TRIALS * NUM_SWEEPS, #Total number of times digitizer will be asked to take data\n",
    "                                           buffer_time_out = 100000, #Time before aborting data read, ms.\n",
    "                                           #In general want to be quite large, but not infinite\n",
    "                                           \n",
    "                                           trigger_mode = SD1.SD_TriggerModes.EXTTRIG,\n",
    "                                           #Triggered externally by linking to readout pulse\n",
    "                                           use_buffering = True, #Unnecessary with a Data Handler subprocess\n",
    "                                           cycles_per_return = NUM_TRIALS) #Return and log 1 trial's data at a time. Can increase to bundle data together.\n",
    "        #time.sleep(0.001)\n",
    "        self.digitizer_Q_channel_2.configure(points_per_cycle = READOUT_LENGTH,\n",
    "                                           buffer_time_out = 100000,\n",
    "                                           cycles = NUM_TRIALS * NUM_SWEEPS, \n",
    "                                           trigger_mode = SD1.SD_TriggerModes.EXTTRIG_CYCLE,\n",
    "                                           use_buffering = True,\n",
    "                                           cycles_per_return = NUM_TRIALS)\n",
    "\n",
    "#        for ii in range(1,5):\n",
    "#            self.DIG_module.DAQdigitalTriggerConfig(channel=ii,triggerSource=1,triggerBehavior=4)\n",
    "        \n",
    "    def loadAndQueueWaveforms(self, module_1, module_2, waveforms_I, waveforms_Q, markers_readout,\n",
    "                              markers_qubit):\n",
    "        '''Loads the provided waveforms from a pulse sequence to the appropriate modules.\n",
    "        This should easily link into the PulseSequenceBuilder.\n",
    "        \n",
    "        Note that all waveforms should consist of values from -1 to 1 (inclusive) only. Amplitude is set in the configureChannels() method.\n",
    "        If you accidentally pass in an array containing larger values, the code raises a KeysightError: Invalid Waveform.\n",
    "        \n",
    "        Params:\n",
    "            waveforms_I: A list of numpy arrays representing waveforms (or a 2D array) for the \"I\" input AWG to the mixer, \n",
    "                1 for each unique trial/experiment. Should be the same number of waveforms as num_experiments in the __init__ method. If a 2D array,\n",
    "                the \"inner\" array is a waveform, and the \"outer\" dimension corresponds to the experiment/trial.\n",
    "            waveforms_Q: Same for the \"Q\" channel.\n",
    "            markers_readout: Same for the readout pulse.\n",
    "            markers_qubit: Same for the qubit pulse.'''\n",
    "        AWG_module_1 = self.chassis.getModule(module_1)\n",
    "        AWG_module_2 = self.chassis.getModule(module_2)\n",
    "        if len(waveforms_I)!=len(waveforms_Q) or len(waveforms_I)!=len(markers_readout) or len(waveforms_I)!=len(markers_qubit):\n",
    "            raise TypeError(\"Not all waveform lists are the same length\")\n",
    "            \n",
    "#        for ii in range(1,5,1):\n",
    "#            self.AWG_module.AWGflush(ii)\n",
    "\n",
    "        self.AWG_module_1.clearAll() #Remove any waveforms already on the machine\n",
    "        self.AWG_module_2.clearAll() #Remove any waveforms already on the machine\n",
    "        key.Waveform._waveform_number_counter=0\n",
    "\n",
    "        for i in tqdmn(range(len(waveforms_I))):\n",
    "            #Generate KeysightLib.Waveform objects\n",
    "            wave_I = key.Waveform(np.array(waveforms_I[i]), append_zero = True) #Have to include append_zero or the triggers get messed up!\n",
    "            wave_Q = key.Waveform(waveforms_Q[i], append_zero = True)\n",
    "            wave_readout = key.Waveform(markers_readout[i], append_zero = True)\n",
    "            wave_qubit = key.Waveform(markers_qubit[i], append_zero = True)\n",
    "            \n",
    "            #Load objects to the modules\n",
    "            wave_I.loadToModule(AWG_module_1)\n",
    "            wave_Q.loadToModule(AWG_module_1)\n",
    "            wave_readout.loadToModule(AWG_module_1)\n",
    "            wave_qubit.loadToModule(AWG_module_1)\n",
    "            \n",
    "            wave_I.loadToModule(AWG_module_2)\n",
    "            wave_Q.loadToModule(AWG_module_2)\n",
    "            wave_readout.loadToModule(AWG_module_2)\n",
    "            wave_qubit.loadToModule(AWG_module_2)\n",
    "\n",
    "            #Queue the waveforms. Want to set trigger mode to SWHVITRIG to trigger from computer.\n",
    "            wave_I.queue(self.AWG_I_channel_1, trigger_mode = SD1.SD_TriggerModes.EXTTRIG)\n",
    "            wave_Q.queue(self.AWG_Q_channel_1, trigger_mode = SD1.SD_TriggerModes.EXTTRIG)\n",
    "            wave_readout.queue(self.readout_pulse_marker_1, trigger_mode = SD1.SD_TriggerModes.EXTTRIG)\n",
    "            wave_qubit.queue(self.qubit_marker_1, trigger_mode = SD1.SD_TriggerModes.EXTTRIG)\n",
    "            \n",
    "            wave_I.queue(self.AWG_I_channel_2, trigger_mode = SD1.SD_TriggerModes.EXTTRIG)\n",
    "            wave_Q.queue(self.AWG_Q_channel_2, trigger_mode = SD1.SD_TriggerModes.EXTTRIG)\n",
    "            wave_readout.queue(self.readout_pulse_marker_2, trigger_mode = SD1.SD_TriggerModes.EXTTRIG)\n",
    "            wave_qubit.queue(self.qubit_marker_2, trigger_mode = SD1.SD_TriggerModes.EXTTRIG)\n",
    "\n",
    "            self.AWG_module_1.AWGqueueMarkerConfig(nAWG=1,markerMode=1,trgPXImask=0b11111111,trgIOmask=0,value=1,syncMode=1,length=10,delay=0)\n",
    "            self.AWG_module_2.AWGqueueMarkerConfig(nAWG=1,markerMode=1,trgPXImask=0b11111111,trgIOmask=0,value=1,syncMode=1,length=10,delay=0)\n",
    "\n",
    "    def run(self):\n",
    "        print(\"Experiment starting\")\n",
    "        try:\n",
    "            #Calls the run() method of the Data Handlers in new thread.\n",
    "            #self.data_handler_I.start()\n",
    "            #self.data_handler_Q.start()\n",
    "            \n",
    "            #Start all the channels on the AWG and digitizer modules.\n",
    "            self.idata = np.zeros( (self.num_data_points,READOUT_LENGTH))\n",
    "            self.qdata = np.zeros((self.num_data_points, READOUT_LENGTH))\n",
    "            self.idata_2 = np.zeros( (self.num_data_points,READOUT_LENGTH))\n",
    "            self.qdata_2 = np.zeros((self.num_data_points, READOUT_LENGTH))\n",
    "\n",
    "            #self.DIG_module.startAll()\n",
    "            self.digitizer_Q_channel.clear()\n",
    "            self.digitizer_Q_channel.start()\n",
    "            self.digitizer_I_channel.clear()\n",
    "            self.digitizer_I_channel.start()\n",
    "            self.digitizer_Q_channel_2.clear()\n",
    "            self.digitizer_Q_channel_2.start()\n",
    "            self.digitizer_I_channel_2.clear()\n",
    "            self.digitizer_I_channel_2.start()\n",
    "            self.AWG_module_1.startAll()\n",
    "            self.AWG_module_2.startAll()\n",
    "            #self.AWG_module.triggerAll()\n",
    "\n",
    "            #Run the experiment\n",
    "\n",
    "            #time.sleep(.1)\n",
    "            for sweep_ct in tqdmn(range(self.num_sweeps)):\n",
    "                #print (\"sweep %d\" % (sweep_ct))\n",
    "                self.idata += np.reshape(self.digitizer_I_channel.readDataQuiet(),self.idata.shape)\n",
    "                self.qdata += np.reshape(self.digitizer_Q_channel.readDataQuiet(),self.qdata.shape)\n",
    "                self.idata_2 += np.reshape(self.digitizer_I_channel_2.readDataQuiet(),self.idata.shape)\n",
    "                self.qdata_2 += np.reshape(self.digitizer_Q_channel_2.readDataQuiet(),self.qdata.shape)\n",
    "#                 for data_pt in range(self.num_data_points):\n",
    "#                     self.idata[data_pt,:] = self.idata[data_pt,:] + self.digitizer_I_channel.readDataQuiet()\n",
    "#                     self.qdata[data_pt,:] = self.qdata[data_pt,:] + self.digitizer_Q_channel.readDataQuiet()\n",
    "\n",
    "            self.idata/=self.num_sweeps\n",
    "            self.qdata/=self.num_sweeps\n",
    "            \n",
    "            #lp=LivePlotClient()\n",
    "            #lp.clear()\n",
    "            #lp.plot_z('Idata',idata.T,start_step=((0,1),(0,1)))\n",
    "            #lp.plot_z('Qdata',qdata.T,start_step=((0,1),(0,1)))\n",
    "            subplot(121)\n",
    "            imshow(self.idata,aspect='auto')\n",
    "            subplot(122)\n",
    "            imshow(self.qdata,aspect='auto')\n",
    "            \n",
    "            print(\"Done taking data\")\n",
    "            \n",
    "        except BaseException as e: #Quickly kill everything and risk data loss, mainly in case of keyboard interrupt\n",
    "            pass\n",
    "            print (e)\n",
    "\n",
    "        finally: #Clean up threads to prevent zombies. If this fails, you have to restart program.            \n",
    "            pass\n",
    "\n",
    "'''Various Rabi-experiment specific code. When integrated with PulseSequenceBuilder, will be obsolete.'''       \n",
    "        \n",
    "def gaussianSin(x, amplitude, mu, sigma, period = 50):\n",
    "    '''Returns a gaussian * sin.\n",
    "    Params:\n",
    "        x: The point where the function is to be evaluated\n",
    "        amplitude, mu, sigma: In waveform points (or equivalently ns)\n",
    "        period: The period of the sin wave, in ns\n",
    "    Returns:  The gaussia*sin function acting on x.'''\n",
    "    return amplitude * np.exp(-(x-mu)**2 / (2 * sigma **2)) * np.sin(2 * np.pi / period *(x-mu))\n",
    "\n",
    "def gaussianCos(x, amplitude, mu, sigma, period = 50):\n",
    "    #Analogous to gaussianSin\n",
    "    return amplitude * np.exp(-(x-mu)**2 / (2 * sigma **2)) * np.cos(2 * np.pi / period *(x-mu))\n",
    "\n",
    "def gaussian(x, amplitude, mu, sigma):\n",
    "    #Analogous to gaussianSin\n",
    "    return amplitude * np.exp(-(x-mu)**2 / (2 * sigma **2))\n",
    "\n",
    "def generateWaveforms():\n",
    "    '''Generates the waveforms for the Rabi experiment. Assumes pulses are 4 sigma width.\n",
    "    Will be obsolete once PulseSequenceBuilder is linked in.'''\n",
    "    print(\"Generating waveforms\")\n",
    "    I_arr = []\n",
    "    Q_arr = []\n",
    "    readout_arr = []\n",
    "    qubit_arr = []\n",
    "    sigma_max = SIGMA_STEP * (NUM_TRIALS)\n",
    "    waveform_length = 4 * sigma_max\n",
    "    I_arr=np.zeros((NUM_TRIALS, waveform_length))\n",
    "    Q_arr=np.zeros((NUM_TRIALS, waveform_length))\n",
    "    readout_arr=np.zeros((NUM_TRIALS, waveform_length))\n",
    "    qubit_arr=np.zeros((NUM_TRIALS, waveform_length))\n",
    "    tpts=arange(0,waveform_length,1)\n",
    "    for ii,sigma in enumerate(range(1, SIGMA_STEP*(NUM_TRIALS), SIGMA_STEP)):\n",
    "        #waveform_start = waveform_length - 4 * sigma\n",
    "        I_arr[ii] += gaussianCos(tpts,1,waveform_length/2,sigma)\n",
    "        Q_arr[ii] += gaussianSin(tpts,1,waveform_length/2,sigma)\n",
    "        readout_arr[ii] += np.array(tpts > (waveform_length/2+5*sigma),dtype=float)\n",
    "        qubit_arr[ii] += np.array( (tpts < (waveform_length-5)) * (tpts > (5)),dtype=float)\n",
    "    return I_arr, Q_arr, readout_arr, qubit_arr \n",
    "\n"
   ]
  },
  {
   "cell_type": "code",
   "execution_count": 18,
   "metadata": {},
   "outputs": [
    {
     "name": "stdout",
     "output_type": "stream",
     "text": [
      "===== MODULE OUT =====\n",
      "Module opened: 65538\n",
      "Module name: M3202A\n",
      "slot: 6\n",
      "Chassis: 1\n",
      "\n",
      "===== MODULE OUT =====\n",
      "Module opened: 131074\n",
      "Module name: M3202A\n",
      "slot: 7\n",
      "Chassis: 1\n",
      "\n",
      "===== MODULE OUT =====\n",
      "Module opened: 196610\n",
      "Module name: M3201A\n",
      "slot: 8\n",
      "Chassis: 1\n",
      "\n",
      "===== MODULE OUT =====\n",
      "Module opened: 262146\n",
      "Module name: M3201A\n",
      "slot: 9\n",
      "Chassis: 1\n",
      "\n",
      "===== MODULE IN =====\n",
      "ID:\t\t 327686\n",
      "Product name:\t M3102A\n",
      "Serial number:\t MY57280182\n",
      "Chassis:\t 1\n",
      "Slot:\t\t 10\n",
      "\n",
      "0.0005\n",
      "Generating waveforms\n"
     ]
    },
    {
     "data": {
      "application/vnd.jupyter.widget-view+json": {
       "model_id": "edc821765c874032aac84fedcaed33c2",
       "version_major": 2,
       "version_minor": 0
      },
      "text/plain": [
       "HBox(children=(IntProgress(value=0), HTML(value='')))"
      ]
     },
     "metadata": {},
     "output_type": "display_data"
    },
    {
     "name": "stdout",
     "output_type": "stream",
     "text": [
      "\n",
      "Experiment starting\n"
     ]
    },
    {
     "data": {
      "application/vnd.jupyter.widget-view+json": {
       "model_id": "1cbf24fa75644e95966b7d0430957fa2",
       "version_major": 2,
       "version_minor": 0
      },
      "text/plain": [
       "HBox(children=(IntProgress(value=0, max=200), HTML(value='')))"
      ]
     },
     "metadata": {},
     "output_type": "display_data"
    },
    {
     "name": "stdout",
     "output_type": "stream",
     "text": [
      "\n",
      "Done taking data\n"
     ]
    },
    {
     "data": {
      "image/png": "[encoded data removed]",
      "text/plain": [
       "<Figure size 432x288 with 2 Axes>"
      ]
     },
     "metadata": {},
     "output_type": "display_data"
    }
   ],
   "source": [
    "setup = KeysightTwoModules()\n",
    "try:\n",
    "    waveforms_I, waveforms_Q, readout, qubit = generateWaveforms()\n",
    "    #print (len(waveforms_I))\n",
    "    setup.loadAndQueueWaveforms(6,7, waveforms_I, waveforms_Q, readout, qubit)\n",
    "    setup.run()\n",
    "    save_path = r\"S:\\_Data\\180828 - Manipulate cavity and 3D readout - Cooldown 2\\Jupyter notebooks\\keysight_rabi_test\"\n",
    "    #np.save(os.path.join(save_path, \"I\"), np.array(setup.data_list_I))\n",
    "    #np.save(os.path.join(save_path, \"Q\"), np.array(setup.data_list_Q))\n",
    "finally:\n",
    "    setup.AWG_module_1.stopAll()\n",
    "    setup.AWG_module_1.clearAll()\n",
    "    setup.AWG_module_2.stopAll()\n",
    "    setup.AWG_module_2.clearAll()\n",
    "    setup.chassis.close()"
   ]
  },
  {
   "cell_type": "code",
   "execution_count": 19,
   "metadata": {},
   "outputs": [
    {
     "data": {
      "text/plain": [
       "[<matplotlib.lines.Line2D at 0x2dd8f6ea2e8>]"
      ]
     },
     "execution_count": 19,
     "metadata": {},
     "output_type": "execute_result"
    },
    {
     "data": {
      "image/png": "[encoded data removed]",
      "text/plain": [
       "<Figure size 432x288 with 1 Axes>"
      ]
     },
     "metadata": {},
     "output_type": "display_data"
    }
   ],
   "source": [
    "plot(setup.idata[40])"
   ]
  },
  {
   "cell_type": "code",
   "execution_count": 25,
   "metadata": {},
   "outputs": [
    {
     "data": {
      "text/plain": [
       "40.0"
      ]
     },
     "execution_count": 25,
     "metadata": {},
     "output_type": "execute_result"
    }
   ],
   "source": [
    "2*(setup.idata.shape[1])*8/400e-6/1e6"
   ]
  },
  {
   "cell_type": "code",
   "execution_count": 21,
   "metadata": {},
   "outputs": [
    {
     "data": {
      "text/plain": [
       "dtype('float64')"
      ]
     },
     "execution_count": 21,
     "metadata": {},
     "output_type": "execute_result"
    }
   ],
   "source": [
    "setup.idata.dtype"
   ]
  },
  {
   "cell_type": "code",
   "execution_count": 26,
   "metadata": {},
   "outputs": [
    {
     "data": {
      "text/plain": [
       "(100, 1000)"
      ]
     },
     "execution_count": 26,
     "metadata": {},
     "output_type": "execute_result"
    }
   ],
   "source": [
    "setup.idata.shape"
   ]
  },
  {
   "cell_type": "code",
   "execution_count": null,
   "metadata": {},
   "outputs": [],
   "source": []
  }
 ],
 "metadata": {
  "kernelspec": {
   "display_name": "Python 3",
   "language": "python",
   "name": "python3"
  },
  "language_info": {
   "codemirror_mode": {
    "name": "ipython",
    "version": 3
   },
   "file_extension": ".py",
   "mimetype": "text/x-python",
   "name": "python",
   "nbconvert_exporter": "python",
   "pygments_lexer": "ipython3",
   "version": "3.6.5"
  }
 },
 "nbformat": 4,
 "nbformat_minor": 2
}
