{
 "cells": [
  {
   "cell_type": "markdown",
   "metadata": {},
   "source": [
    "# Repeated parity measurement photon counting "
   ]
  },
  {
   "cell_type": "code",
   "execution_count": 1,
   "metadata": {
    "ExecuteTime": {
     "end_time": "2021-08-15T01:23:00.870868Z",
     "start_time": "2021-08-15T01:22:57.714605Z"
    }
   },
   "outputs": [
    {
     "name": "stderr",
     "output_type": "stream",
     "text": [
      "C:\\ProgramData\\Miniconda3\\lib\\site-packages\\visa.py:13: FutureWarning: The visa module provided by PyVISA is being deprecated. You can replace `import visa` by `import pyvisa as visa` to achieve the same effect.\n",
      "\n",
      "The reason for the deprecation is the possible conflict with the visa package provided by the https://github.com/visa-sdk/visa-python which can result in hard to debug situations.\n",
      "  warnings.warn(\n",
      "C:\\ProgramData\\Miniconda3\\lib\\site-packages\\IPython\\qt.py:12: ShimWarning: The `IPython.qt` package has been deprecated since IPython 4.0. You should import from qtconsole instead.\n",
      "  warn(\"The `IPython.qt` package has been deprecated since IPython 4.0. \"\n"
     ]
    },
    {
     "name": "stdout",
     "output_type": "stream",
     "text": [
      "Warning could not load Chase AWG dll, check that dll located at 'C:\\_Lib\\python\\slab\\instruments\\awg\\chase\\dax22000_lib_DLL32.dll'\n",
      "Could not load InstrumentManagerWindow\n",
      "Warning could not load LDA labbrick dll, check that dll located at 'C:\\_Lib\\python\\slab\\instruments\\labbrick\\VNX_atten64.dll'\n",
      "Warning could not load LMS labbrick dll, check that dll located at 'C:\\_Lib\\python\\slab\\instruments\\labbrick\\vnx_fmsynth.dll'\n",
      "Warning could not load LPS labbrick dll, check that dll located at 'C:\\_Lib\\python\\slab\\instruments\\labbrick\\VNX_dps64.dll'\n",
      "Could not load labbrick\n",
      "Could not load BKPowerSupply\n",
      "Could not load BKPowerSupply\n",
      "Could not load BKPowerSupply\n",
      "Warning could not load LDA labbrick dll, check that dll located at 'C:\\_Lib\\python\\slab\\instruments\\labbrick\\VNX_atten64.dll'\n",
      "Warning could not load LMS labbrick dll, check that dll located at 'C:\\_Lib\\python\\slab\\instruments\\labbrick\\vnx_fmsynth.dll'\n",
      "Warning could not load LPS labbrick dll, check that dll located at 'C:\\_Lib\\python\\slab\\instruments\\labbrick\\VNX_dps64.dll'\n",
      "Could not load labbrick\n"
     ]
    }
   ],
   "source": [
    "from pylab import*\n",
    "import matplotlib.pyplot as plt\n",
    "import seaborn as sns\n",
    "from h5py import File\n",
    "import pandas as pd\n",
    "from slab.dsfit import*\n",
    "import json\n",
    "import numpy as np\n",
    "from datetime import datetime\n",
    "import scipy as sc\n",
    "from scipy.optimize import curve_fit\n",
    "from scipy.signal import argrelextrema\n",
    "# from qutip import *\n",
    "from h5py import File\n",
    "import os\n",
    "from slab.dataanalysis import get_next_filename"
   ]
  },
  {
   "cell_type": "markdown",
   "metadata": {},
   "source": [
    "# Fit functions"
   ]
  },
  {
   "cell_type": "code",
   "execution_count": 2,
   "metadata": {
    "ExecuteTime": {
     "end_time": "2021-08-15T01:23:00.950863Z",
     "start_time": "2021-08-15T01:23:00.870868Z"
    }
   },
   "outputs": [],
   "source": [
    "def coherent_state(n, alpha):\n",
    "    return np.exp(-abs(alpha)**2)*abs(alpha)**(2*n)/scipy.special.factorial(n)\n",
    "\n",
    "def line(x, m, b):\n",
    "    return m*x+b\n",
    "\n",
    "def proportional(x, m):\n",
    "    return m * x\n",
    "\n",
    "def gfromchi(chi,alpha,delta):\n",
    "    return np.sqrt(chi*delta*(delta+alpha)/alpha)\n",
    "\n",
    "def gaussfuncsum(p, x):\n",
    "    \"\"\"p[0]+p[1]/(1+(x-p[2])**2/p[3]**2)\"\"\"\n",
    "    y = 0\n",
    "    for ii in range(N):\n",
    "        y = y + p[3*ii+1]*exp(-(x-(p[3*ii+2]))**2/2/p[3*ii+3]**2)\n",
    "    return y\n",
    "\n",
    "def gaussfuncsum_with_baseline(x, *args):\n",
    "    \"\"\"p[0]+p[1]/(1+(x-p[2])**2/p[3]**2)\"\"\"\n",
    "    y = 0 \n",
    "    p = args\n",
    "#     print(len(p))\n",
    "    for ii in range(7):\n",
    "        y = y + p[3*ii+1]*exp(-(x-(p[3*ii+2]))**2/2/p[3*ii+3]**2)\n",
    "    y += p[0]\n",
    "    return y\n",
    "def fitgausssum(xdata, ydata, fitparams=None, domain=None, showfit=False,\n",
    "                showstartfit=False, label=\"\", debug=False):\n",
    "    \"\"\"fit lorentzian:\n",
    "        returns [offset,amplitude,center,hwhm]\"\"\"\n",
    "    if domain is not None:\n",
    "        fitdatax,fitdatay = selectdomain(xdata, ydata, domain)\n",
    "    else:\n",
    "        fitdatax = xdata\n",
    "        fitdatay = ydata\n",
    "    \n",
    "    if fitparams is None:\n",
    "        fitparams = 0*ones(3*N+1)\n",
    "        fitparams[0] = (fitdatay[0] + fitdatay[-1])/2.\n",
    "        fitparams[1] = max(fitdatay) - min(fitdatay)\n",
    "        fitparams[2] = fitdatax[np.argmax(fitdatay)]\n",
    "        fitparams[3] = (max(fitdatax) - min(fitdatax))/10.\n",
    "    \n",
    "    if debug==True: \n",
    "        print(fitparams)\n",
    "        \n",
    "    p1 = fitgeneral(fitdatax, fitdatay, gaussfuncsum, fitparams, domain=None, showfit=showfit, \n",
    "                    showstartfit=showstartfit, label=label)\n",
    "    p1[3]=abs(p1[3])\n",
    "    \n",
    "    return p1\n",
    "\n",
    "def fitgausssum_with_baseline(xdata, ydata, fitparams=None):\n",
    "    \"\"\"fit lorentzian:\n",
    "        returns [offset,amplitude,center,hwhm]\"\"\"\n",
    "    fitdatax = xdata\n",
    "    fitdatay = ydata\n",
    "#     if fitparams is None:\n",
    "#         fitparams = 0*ones(3*N+1)\n",
    "#         fitparams[0] = (fitdatay[0]+fitdatay[-1])/2.\n",
    "#         fitparams[1] = max(fitdatay)-min(fitdatay)\n",
    "#         fitparams[2] = fitdatax[np.argmax(fitdatay)]\n",
    "#         fitparams[3] = (max(fitdatax)-min(fitdatax))/10.\n",
    "    \n",
    "#     p1 = fitgeneral(fitdatax, fitdatay, gaussfuncsum_with_baseline, fitparams, domain=None, showfit=showfit,\n",
    "#                     showstartfit=showstartfit, label=label)\n",
    "#     bounds=(0, [3., 1., 0.5])\n",
    "        \n",
    "    popt, pcov = curve_fit(gaussfuncsum_with_baseline, fitdatax, fitdatay, p0=fitparams, bounds=(0, np.inf))\n",
    "\n",
    "    return popt, pcov\n",
    "\n",
    "def fitamp(p1):\n",
    "    fitamparray = []\n",
    "    fitfreqarray = []\n",
    "    n_peaks = int((len(p1)-1)/3)\n",
    "    for i in range(n_peaks):\n",
    "        fitamparray.append(p1[3*i+1])\n",
    "        fitfreqarray.append(p1[3*i+2])\n",
    "    return fitamparray , fitfreqarray\n",
    "\n",
    "def fitcoherentstate(peak_val):\n",
    "    xdata = np.arange(len(peak_val))\n",
    "    ydata = peak_val\n",
    "    popt, pcov = curve_fit(coherent_state, xdata, ydata)\n",
    "    return popt[0], np.sqrt(pcov[0][0])\n",
    "\n",
    "def expfunc2(x, p):\n",
    "    \"\"\"p[0]+p[1]*exp(-(x-p[2])/p[3])\"\"\"\n",
    "    return p[0]*np.exp**(-(x-p[1])/p[2])\n",
    "\n",
    "def fitexp2(xdata,ydata,fitparams=None,domain=None,showfit=False,showstartfit=False,label=\"\"):\n",
    "    \"\"\"Fit exponential decay (p[0]*exp(-(x-p[1])/p[2]))\"\"\"\n",
    "    if domain is not None:\n",
    "        fitdatax,fitdatay = selectdomain(xdata,ydata,domain)\n",
    "    else:\n",
    "        fitdatax=xdata\n",
    "        fitdatay=ydata\n",
    "    if fitparams is None:    \n",
    "        fitparams=[0.,0.,0.,0.]\n",
    "        fitparams[0]=fitdatay[0]-fitdatay[-1]\n",
    "        fitparams[1]=fitdatax[0]\n",
    "        fitparams[2]=(fitdatax[-1]-fitdatax[0])/5.\n",
    "    #print fitparams\n",
    "    p1 = fitgeneral(fitdatax, fitdatay, expfunc2, fitparams, domain=None, showfit=showfit, showstartfit=showstartfit,\n",
    "                    label=label)\n",
    "    return p1   \n",
    "\n",
    "def expfunc_test(x, a, b, c):\n",
    "    return b*np.exp(-(x-a)/c)\n",
    "\n",
    "def expfunc_baseline(x, a, b, c):\n",
    "    return a*np.exp(-x/b) + c\n",
    "\n",
    "def doublegauss(bins, *p):\n",
    "    a1, sigma1, mu1 = p[0], p[1], p[2]\n",
    "    a2, sigma2, mu2 = p[3], p[4], p[5]\n",
    "\n",
    "    y1 = a1*((1 / (np.sqrt(2 * np.pi) * sigma1)) *\n",
    "     np.exp(-0.5 * (1 / sigma1 * (bins - mu1))**2))\n",
    "    y2 = a2*((1 / (np.sqrt(2 * np.pi) * sigma2)) *\n",
    "     np.exp(-0.5 * (1 / sigma2 * (bins - mu2))**2))\n",
    "    y = y1+y2\n",
    "    \n",
    "    return y\n",
    "def gaussian2d(x, y, x0, y0, xalpha, yalpha, A):\n",
    "    return A * np.exp( -((x-x0)/xalpha)**2 -((y-y0)/yalpha)**2)\n",
    "\n",
    "\n",
    "def hist(filename=None, data=None, plot=True, ran=1.0):\n",
    "    \n",
    "    if data == None:\n",
    "        with File(filename,'r') as a:\n",
    "            ig = array(a['ig'])\n",
    "            qg = array(a['qg'])\n",
    "            ie = array(a['ie'])\n",
    "            qe = array(a['qe'])\n",
    "            a.close()\n",
    "    else:\n",
    "        ig = data[0]\n",
    "        qg = data[1]\n",
    "        ie = data[2]\n",
    "        qe = data[3]\n",
    "\n",
    "    numbins = 200\n",
    "    \n",
    "    xg, yg = np.median(ig), np.median(qg)\n",
    "    xe, ye = np.median(ie), np.median(qe)\n",
    "\n",
    "    if plot==True:\n",
    "        fig, axs = plt.subplots(nrows=1, ncols=3, figsize=(16, 4))\n",
    "        fig.tight_layout()\n",
    "\n",
    "        axs[0].scatter(ig, qg, label='g', color='b', marker='*')\n",
    "        axs[0].scatter(ie, qe, label='e', color='r', marker='*')\n",
    "        axs[0].scatter(xg, yg, color='k', marker='o')\n",
    "        axs[0].scatter(xe, ye, color='k', marker='o')\n",
    "        axs[0].set_xlabel('I (a.u.)')\n",
    "        axs[0].set_ylabel('Q (a.u.)')\n",
    "        axs[0].legend(loc='upper right')\n",
    "        axs[0].set_title('Unrotated')\n",
    "        axs[0].axis('equal')\n",
    "    \"\"\"Compute the rotation angle\"\"\"\n",
    "    theta = -arctan((ye-yg)/(xe-xg))\n",
    "    \"\"\"Rotate the IQ data\"\"\"\n",
    "    ig_new = ig*cos(theta) - qg*sin(theta)\n",
    "    qg_new = ig*sin(theta) + qg*cos(theta) \n",
    "    ie_new = ie*cos(theta) - qe*sin(theta)\n",
    "    qe_new = ie*sin(theta) + qe*cos(theta)\n",
    "    \n",
    "    \"\"\"New means of each blob\"\"\"\n",
    "    xg, yg = np.median(ig_new), np.median(qg_new)\n",
    "    xe, ye = np.median(ie_new), np.median(qe_new)\n",
    "\n",
    "    xlims = [xg-ran, xg+ran]\n",
    "    ylims = [yg-ran, yg+ran]\n",
    "\n",
    "    if plot==True:\n",
    "        axs[1].scatter(ig_new, qg_new, label='g', color='b', marker='*')\n",
    "        axs[1].scatter(ie_new, qe_new, label='e', color='r', marker='*')\n",
    "        axs[1].scatter(xg, yg, color='k', marker='o')\n",
    "        axs[1].scatter(xe, ye, color='k', marker='o')    \n",
    "        axs[1].set_xlabel('I (a.u.)')\n",
    "        axs[1].legend(loc='upper right')\n",
    "        axs[1].set_title('Rotated')\n",
    "        axs[1].axis('equal')\n",
    "\n",
    "        \"\"\"X and Y ranges for histogram\"\"\"\n",
    "        \n",
    "        ng, binsg, pg = axs[2].hist(ig_new, bins=numbins, range = xlims, color='b', label='g', alpha=0.5)\n",
    "    #     popt, pcov = curve_fit(doublegauss, xdata=binsg[:-1], ydata=ng, p0=p0)\n",
    "    #     mu_g = popt[2]\n",
    "    #     axs[2].plot(binsg, doublegauss(binsg, *popt), 'k--', linewidth=2 )\n",
    "        ne, binse, pe = axs[2].hist(ie_new, bins=numbins, range = xlims, color='r', label='e', alpha=0.5)\n",
    "    #     popt, pcov = curve_fit(doublegauss, xdata=binse[:-1], ydata=ne, p0=p0)\n",
    "    #     mu_e = popt[5]\n",
    "    #     axs[2].plot(binse, doublegauss(binse, *popt), 'k--', linewidth=2 )\n",
    "    #     axs[2].text(0.5*(mu_g + mu_e), 0.3*np.max(ne), \"$\\mu_{g}$ = %.4f \\n $\\mu_{e}$ = %.4f\"%(mu_g, mu_e), fontsize=16)\n",
    "\n",
    "        axs[2].set_xlabel('I(a.u.)')        \n",
    "        fig.show()\n",
    "        \n",
    "    else:        \n",
    "        ng, binsg = np.histogram(ig_new, bins=numbins, range = xlims)\n",
    "        ne, binse = np.histogram(ie_new, bins=numbins, range = xlims)\n",
    "\n",
    "    \"\"\"Compute the fidelity using overlap of the histograms\"\"\"\n",
    "    fid = np.abs(((np.cumsum(ng) - np.cumsum(ne)) / (0.5*ng.sum() + 0.5*ne.sum()))).max()\n",
    "\n",
    "    return fid, theta\n",
    "\n",
    "def rot_data(i, q, hist_filename=None):\n",
    "    \n",
    "    fid, theta = hist(hist_filename, ran=0.1)\n",
    "    print(fid, theta)\n",
    "    \"\"\"Rotate the IQ data\"\"\"\n",
    "    i_new = i*cos(theta) - q*sin(theta)\n",
    "    q_new = i*sin(theta) + q*cos(theta) \n",
    "    \n",
    "    return (i_new, q_new)\n",
    "\n",
    "\n",
    "def ramsfit(tR, n0, phi0, a):\n",
    "    T2 = 120e-6\n",
    "    dephase = 1/T2\n",
    "    detune = 2*np.pi*1e6 \n",
    "    chi = 2*np.pi*380e3\n",
    "    kappa = 2*np.pi*(8.0517e9)/8800\n",
    "    tau = []\n",
    "    z = []\n",
    "    res = []\n",
    "    for i,t in enumerate(tR):\n",
    "        tau.append((1-np.exp(-complex(kappa*tR[i], 2*chi*tR[i])))/complex(kappa, 2*chi))\n",
    "        z.append(np.exp(complex(-dephase*tR[i] , phi0 - detune*tR[i] - 2*n0*chi*tau[i])))\n",
    "        res.append(a*0.5*(1-np.imag(z[i])))\n",
    "    return np.array(res)\n",
    "\n",
    "def cav_response_new(p, x):\n",
    "    \"\"\"(p[0]/p[1])/(-1/2*p[0]/p[1] - 1j*(x-p[0])\"\"\"\n",
    "    ### p[0]=center freq, p[1]=kappa\n",
    "    temp = (p[1])/(p[1] - 1j*(x-p[0]))\n",
    "    return temp/max(abs(temp))\n",
    "\n",
    "def IF_window(p,x):\n",
    "    ### p[0] = center freq, p[1] = window width\n",
    "    temp = zeros(len(x)) + 1j*zeros(len(x))\n",
    "    for ii in range(len(x)):\n",
    "        if x[ii]>(p[0]-p[1]) and x[ii]<(p[0]+p[1]):\n",
    "            temp[ii] = 1/sqrt(2)*(1+1j)\n",
    "        else:\n",
    "            pass\n",
    "    return temp/max(abs(temp))\n",
    "\n",
    "def erf_t(A, sig, tc, tb, t):\n",
    "    #A-Amplitude, sig-Gaussian Filter Width, tc-Core Pulse length, tb - zero-amplitude buffer length\n",
    "    return (A/2)*(sc.special.erf((t-tb)/(sqrt(2)*sig))-sc.special.erf((t-tc-tb)/(sqrt(2)*sig)))"
   ]
  },
  {
   "cell_type": "markdown",
   "metadata": {},
   "source": [
    "# HMM Model"
   ]
  },
  {
   "cell_type": "code",
   "execution_count": 3,
   "metadata": {
    "ExecuteTime": {
     "end_time": "2021-08-15T01:23:01.016892Z",
     "start_time": "2021-08-15T01:23:00.950863Z"
    }
   },
   "outputs": [],
   "source": [
    "class hmm_analysis:\n",
    "\n",
    "    def __init__(self, qubit_params = None, cavity_params = None, readout_params = None):\n",
    "        \n",
    "        self.qubit_params = qubit_params\n",
    "        self.cavity_params = cavity_params\n",
    "        self.readout_params = readout_params\n",
    "\n",
    "        \"\"\"All the timescales are in μs\"\"\"\n",
    "        self.qubit_t1 = qubit_params['t1']\n",
    "        self.qubit_t2 = qubit_params['t2']\n",
    "        self.qubit_nth = qubit_params['nth']\n",
    "        \n",
    "        self.cavity_t1 = cavity_params['t1']\n",
    "        self.cavity_nth = cavity_params['nth']\n",
    "        \n",
    "        self.readout_len = readout_params['length']        \n",
    "        self.trigger_period = readout_params['trigger']\n",
    "        self.pi_length = readout_params['pi_pulse']\n",
    "\n",
    "    ##----------------------------------------------------------------##\n",
    "    def forward(self, meas_seq, T, E):\n",
    "        num_meas = len(meas_seq)\n",
    "        N = T.shape[0]\n",
    "        alpha = zeros((num_meas, N))\n",
    "        pi = [0.25, 0.25, 0.25, 0.25]\n",
    "        alpha[0] = pi*E[:,meas_seq[0]]\n",
    "        for t in range(1, num_meas):\n",
    "            alpha[t] = alpha[t-1].dot(T) * E[:, meas_seq[t]]\n",
    "        return alpha\n",
    "\n",
    "    def backward(self, meas_seq, T, E):\n",
    "        N = T.shape[0]\n",
    "        num_meas = len(meas_seq)\n",
    "        beta = zeros((N,num_meas))\n",
    "        beta[:,-1:] = 1\n",
    "        for t in reversed(range(num_meas-1)):\n",
    "            for n in range(N):\n",
    "                beta[n,t] = sum(beta[:,t+1] * T[n,:] * E[:, meas_seq[t+1]])\n",
    "        return beta\n",
    "\n",
    "    def likelihood(self, meas_seq, T, E):\n",
    "        # returns log P(Y  \\mid  model)\n",
    "        # using the forward part of the forward-backward algorithm\n",
    "        return  self.forward(meas_seq, T, E)[-1].sum()\n",
    "\n",
    "    def gamma(self, meas_seq, T, E):\n",
    "        alpha = self.forward(meas_seq, T, E)\n",
    "        beta  = self.backward(meas_seq, T, E)\n",
    "        obs_prob = self.likelihood(meas_seq, T, E)\n",
    "        return (multiply(alpha, beta.T) / obs_prob)\n",
    "\n",
    "    def viterbi(self, meas_seq, T, E):\n",
    "        # returns the most likely state sequence given observed sequence x\n",
    "        # using the Viterbi algorithm\n",
    "        num_meas = len(meas_seq)\n",
    "        N = T.shape[0]\n",
    "        delta = zeros((num_meas, N))\n",
    "        psi = zeros((num_meas, N))\n",
    "        pi = [0.25,0.25,0.25,0.25]\n",
    "        delta[0] = pi*E[:,meas_seq[0]]\n",
    "        for t in range(1, num_meas):\n",
    "            for j in range(N):\n",
    "                delta[t,j] = max(delta[t-1]*T[:,j]) * E[j, meas_seq[t]]\n",
    "                psi[t,j] = argmax(delta[t-1]*T[:,j])\n",
    "\n",
    "        # backtrack\n",
    "        states = zeros(num_meas, dtype=int32)\n",
    "        states[num_meas-1] = argmax(delta[num_meas-1])\n",
    "        for t in range(num_meas-2, -1, -1):\n",
    "            states[t] = psi[t+1, states[t+1]]\n",
    "        return states\n",
    "    ##----------------------------------------------------------------##\n",
    "    def alpha_awg_cal(self, cav_amp=0.4, cav_len=250):\n",
    "        # takes input array of amps and length and converts them to output array of alphas,\n",
    "        # using a calibration h5 file defined in the experiment config\n",
    "        # pull calibration data from file, handling properly in case of multimode cavity\n",
    "        cal_path = 'C:\\_Lib\\python\\slab\\experiments\\qm_opx\\drive_calibration'\n",
    "\n",
    "        fn_file = cal_path + '\\\\00000_2021_7_30_cavity_square.h5'\n",
    "\n",
    "        with File(fn_file, 'r') as f:\n",
    "            omegas = np.array(f['omegas'])\n",
    "            amps = np.array(f['amps'])\n",
    "\n",
    "        # assume zero frequency at zero amplitude, used for interpolation function\n",
    "        omegas = np.append(omegas, 0.0)\n",
    "        amps = np.append(amps, 0.0)\n",
    "\n",
    "        o_s = omegas\n",
    "        a_s = amps\n",
    "\n",
    "        # interpolate data, transfer_fn is a function that for each amp returns the corresponding omega\n",
    "        transfer_fn = scipy.interpolate.interp1d(a_s, o_s)\n",
    "\n",
    "        omega_desired = transfer_fn(cav_amp)\n",
    "        alpha = omega_desired * cav_len\n",
    "\n",
    "        \"\"\"Returns alpha in the cavity\"\"\"\n",
    "        return alpha\n",
    "        \n",
    "    ##----------------------------------------------------------------##\n",
    "    def openfile(self, filename):\n",
    "        \n",
    "        return File(filename,'r')\n",
    "\n",
    "    def stateprep(self, data_filename, at_end=True, t2_err = 0.0):\n",
    "        \n",
    "        \"\"\"Readout fidelities from an independent measurement\"\"\"\n",
    "        g_infidelity, e_infidelity = 0.0198, 0.0694\n",
    "        \n",
    "        self.a = self.openfile(data_filename)\n",
    "\n",
    "        bit1 = np.array(self.a['bit1'])[:]\n",
    "        bit2 = np.array(self.a['bit2'])[:]\n",
    "        bit3 = pd.DataFrame(self.a['bit3'])[:]\n",
    "        \n",
    "        p_cav = np.array(self.a['p_cav'])/100\n",
    "        cav_amp = np.array(self.a['amp'])\n",
    "        cav_len = np.array(self.a['time'])\n",
    "        npi_m = int(np.array(self.a['pi_m']))\n",
    "        npi_n = int(np.array(self.a['pi_n']))\n",
    "\n",
    "        self.a.close()\n",
    "        \n",
    "        df = bit3\n",
    "        alpha = self.alpha_awg_cal(cav_amp, cav_len)\n",
    "        print('# of π at m= {}, at n = {}'.format(npi_m, npi_n))\n",
    "        print('Coherent drive: amp = {}, length = {} ns'.format(cav_amp, cav_len))\n",
    "\n",
    "        nx, ny = np.shape(df)\n",
    "                \n",
    "        \"\"\"Renaming the columns of repeated pi pulses\"\"\"\n",
    "        l = []\n",
    "        for i in range(ny):\n",
    "            l.append('π%i'%i)\n",
    "        df.columns = l\n",
    "\n",
    "        df['n'] = 2*bit2 + bit1\n",
    "\n",
    "        cols = df.columns.tolist()\n",
    "        cols = cols[-1:] + cols[:-1]\n",
    "        df = df[cols].sort_values(by=['n'])\n",
    "\n",
    "        \"\"\"Find out the unique Fock levels and their occurences\"\"\"\n",
    "\n",
    "        (unique, counts) = np.unique(df['n'], return_counts=True)\n",
    "\n",
    "        print(unique, counts)\n",
    "        \n",
    "        p_m_counts = []\n",
    "        p_n_counts = []\n",
    "        \n",
    "        index = 0\n",
    "        for ii in range(len(unique)):\n",
    "            pm_temp = []\n",
    "            pn_temp = []\n",
    "            \n",
    "            fstate_in = unique[ii]+1\n",
    "\n",
    "            cavity_t1 = self.cavity_t1/fstate_in\n",
    "            Pnm =  (1-np.exp(-self.trigger_period/cavity_t1)) + self.cavity_nth * (1-np.exp(-self.trigger_period/cavity_t1))\n",
    "\n",
    "            Pmn = 0 + 0 #assuming that the population at (n+1) is negligible and (n-1) we will estimate\\\n",
    "            Pge = self.qubit_nth * (1-np.exp(-self.trigger_period/self.qubit_t1)) +\\\n",
    "                (1-np.exp(-self.pi_length/self.qubit_t2) - t2_err)\n",
    "            Peg = (1-np.exp(-self.trigger_period/self.qubit_t1)) + \\\n",
    "                (1-np.exp(-self.pi_length/self.qubit_t2) - t2_err)\n",
    "\n",
    "            T = asarray([[(1-Pmn)*(1-Pge), (1-Pmn)*Pge, Pmn*Pge, Pmn*(1-Pge)],\n",
    "                 [(1-Pmn)*Peg, (1-Pmn)*(1-Peg), Pmn*(1-Peg), Pmn*Peg],\n",
    "                 [Pnm*(1-Pge), Pnm*Pge, (1-Pnm)*Pge, (1-Pnm)*(1-Pge)],\n",
    "                 [Pnm*Peg, Pnm*(1-Peg), (1-Pnm)*(1-Peg), (1-Pnm)*Peg]])\n",
    "\n",
    "            E = 0.5*asarray([[1-g_infidelity, g_infidelity],\n",
    "                [e_infidelity, 1- e_infidelity],\n",
    "                [1-g_infidelity, g_infidelity],\n",
    "                [e_infidelity, 1- e_infidelity]])\n",
    "            \n",
    "            for jj in range(counts[ii]):\n",
    "                \"\"\"State preparation probabilities at the end or at the beginning of m π pulses\"\"\"\n",
    "                meas_seq = df.iloc[index + jj][1:1+npi_m]\n",
    "                gamma_matrix = self.gamma(meas_seq, T, E)\n",
    "                if at_end==True: #Probablitity of state surviving till the end\n",
    "                    P0_last = gamma_matrix[-1,0] + gamma_matrix[-1,1]\n",
    "                    P1_last = gamma_matrix[-1,2] + gamma_matrix[-1,3]\n",
    "                else:#Probability at the beginnning\n",
    "                    P0_last = gamma_matrix[0,0] + gamma_matrix[0,1]\n",
    "                    P1_last = gamma_matrix[0,2] + gamma_matrix[0,3]   \n",
    "                pm_temp.append(P1_last/P0_last)\n",
    "\n",
    "                \"\"\"After the coherent drive, probabilities at the begining of n π pulses\"\"\"    \n",
    "                meas_seq = df.iloc[index + jj][npi_m:]\n",
    "                gamma_matrix = self.gamma(meas_seq, T, E)\n",
    "                P0_first = gamma_matrix[0,0] + gamma_matrix[0,1]\n",
    "                P1_first = gamma_matrix[0,2] + gamma_matrix[0,3]   \n",
    "                pn_temp.append(P1_first/P0_first)\n",
    "\n",
    "            index = index + counts[ii]\n",
    "            p_m_counts.append(pm_temp)\n",
    "            p_n_counts.append(pn_temp)\n",
    "\n",
    "        return alpha, unique, counts, p_m_counts, p_n_counts"
   ]
  },
  {
   "cell_type": "code",
   "execution_count": 9,
   "metadata": {
    "ExecuteTime": {
     "end_time": "2021-08-15T14:17:21.921984Z",
     "start_time": "2021-08-15T14:17:21.851981Z"
    }
   },
   "outputs": [],
   "source": [
    "class hmm_analysis_2:\n",
    "\n",
    "    def __init__(self, qubit_params = None, cavity_params = None, readout_params = None):\n",
    "        \n",
    "        self.qubit_params = qubit_params\n",
    "        self.cavity_params = cavity_params\n",
    "        self.readout_params = readout_params\n",
    "\n",
    "        \"\"\"All the timescales are in μs\"\"\"\n",
    "        self.qubit_t1 = qubit_params['t1']\n",
    "        self.qubit_t2 = qubit_params['t2']\n",
    "        self.qubit_nth = qubit_params['nth']\n",
    "        \n",
    "        self.cavity_t1 = cavity_params['t1']\n",
    "        self.cavity_nth = cavity_params['nth']\n",
    "        \n",
    "        self.readout_len = readout_params['length']        \n",
    "        self.trigger_period = readout_params['trigger']\n",
    "        self.pi_length = readout_params['pi_pulse']\n",
    "        self.g_inf = readout_params['g_inf']        \n",
    "        self.e_inf = readout_params['e_inf']        \n",
    "\n",
    "    ##----------------------------------------------------------------##\n",
    "    def forward(self, meas_seq, T, E):\n",
    "        num_meas = len(meas_seq)\n",
    "        N = T.shape[0]\n",
    "        alpha = zeros((num_meas, N))\n",
    "        pi = [0.25, 0.25, 0.25, 0.25]\n",
    "        alpha[0] = pi*E[:,meas_seq[0]]\n",
    "        for t in range(1, num_meas):\n",
    "            alpha[t] = alpha[t-1].dot(T) * E[:, meas_seq[t]]\n",
    "        return alpha\n",
    "\n",
    "    def backward(self, meas_seq, T, E):\n",
    "        N = T.shape[0]\n",
    "        num_meas = len(meas_seq)\n",
    "        beta = zeros((N,num_meas))\n",
    "        beta[:,-1:] = 1\n",
    "        for t in reversed(range(num_meas-1)):\n",
    "            for n in range(N):\n",
    "                beta[n,t] = sum(beta[:,t+1] * T[n,:] * E[:, meas_seq[t+1]])\n",
    "        return beta\n",
    "\n",
    "    def likelihood(self, meas_seq, T, E):\n",
    "        # returns log P(Y  \\mid  model)\n",
    "        # using the forward part of the forward-backward algorithm\n",
    "        return  self.forward(meas_seq, T, E)[-1].sum()\n",
    "\n",
    "    def gamma(self, meas_seq, T, E):\n",
    "        alpha = self.forward(meas_seq, T, E)\n",
    "        beta  = self.backward(meas_seq, T, E)\n",
    "        obs_prob = self.likelihood(meas_seq, T, E)\n",
    "        return (multiply(alpha, beta.T) / obs_prob)\n",
    "\n",
    "    def viterbi(self, meas_seq, T, E):\n",
    "        # returns the most likely state sequence given observed sequence x\n",
    "        # using the Viterbi algorithm\n",
    "        num_meas = len(meas_seq)\n",
    "        N = T.shape[0]\n",
    "        delta = zeros((num_meas, N))\n",
    "        psi = zeros((num_meas, N))\n",
    "        pi = [0.25,0.25,0.25,0.25]\n",
    "        delta[0] = pi*E[:,meas_seq[0]]\n",
    "        for t in range(1, num_meas):\n",
    "            for j in range(N):\n",
    "                delta[t,j] = max(delta[t-1]*T[:,j]) * E[j, meas_seq[t]]\n",
    "                psi[t,j] = argmax(delta[t-1]*T[:,j])\n",
    "\n",
    "        # backtrack\n",
    "        states = zeros(num_meas, dtype=int32)\n",
    "        states[num_meas-1] = argmax(delta[num_meas-1])\n",
    "        for t in range(num_meas-2, -1, -1):\n",
    "            states[t] = psi[t+1, states[t+1]]\n",
    "        return states\n",
    "    ##----------------------------------------------------------------##\n",
    "    def alpha_awg_cal(self, cav_amp=0.4, cav_len=250):\n",
    "        # takes input array of amps and length and converts them to output array of alphas,\n",
    "        # using a calibration h5 file defined in the experiment config\n",
    "        # pull calibration data from file, handling properly in case of multimode cavity\n",
    "        cal_path = 'C:\\_Lib\\python\\slab\\experiments\\qm_opx\\drive_calibration'\n",
    "\n",
    "        fn_file = cal_path + '\\\\00000_2021_08_13_cavity_square.h5'\n",
    "\n",
    "        with File(fn_file, 'r') as f:\n",
    "            omegas = np.array(f['omegas'])\n",
    "            amps = np.array(f['amps'])\n",
    "\n",
    "        # assume zero frequency at zero amplitude, used for interpolation function\n",
    "        omegas = np.append(omegas, 0.0)\n",
    "        amps = np.append(amps, 0.0)\n",
    "\n",
    "        o_s = omegas\n",
    "        a_s = amps\n",
    "\n",
    "        # interpolate data, transfer_fn is a function that for each amp returns the corresponding omega\n",
    "        transfer_fn = scipy.interpolate.interp1d(a_s, o_s)\n",
    "\n",
    "        omega_desired = transfer_fn(cav_amp)\n",
    "        alpha = omega_desired * cav_len\n",
    "\n",
    "        \"\"\"Returns alpha in the cavity\"\"\"\n",
    "        return alpha\n",
    "        \n",
    "    ##----------------------------------------------------------------##\n",
    "    def openfile(self, filename):\n",
    "\n",
    "        return File(filename,'r')\n",
    "\n",
    "    def stateprep(self, fstate_in=0, data_filename=None, at_end=True, t2_err=0.0):\n",
    "        \n",
    "        \"\"\"Readout fidelities from an independent measurement\"\"\"\n",
    "        g_infidelity, e_infidelity = self.g_inf, self.e_inf\n",
    "        \n",
    "        self.a = self.openfile(data_filename)\n",
    "\n",
    "        bit3 = pd.DataFrame(self.a['bit3'])[:]\n",
    "        \n",
    "        cav_amp = np.array(self.a['amp'])\n",
    "        cav_len = np.array(self.a['time'])\n",
    "        npi_m = int(np.array(self.a['pi_m']))\n",
    "        npi_n = int(np.array(self.a['pi_n']))\n",
    "\n",
    "        self.a.close()\n",
    "        \n",
    "        df = bit3\n",
    "        alpha = self.alpha_awg_cal(cav_amp, cav_len)\n",
    "        print('# of π at m= {}, at n = {}'.format(npi_m, npi_n))\n",
    "        print('Coherent drive: amp = {}, length = {} ns'.format(cav_amp, cav_len))\n",
    "\n",
    "        nx, ny = np.shape(df)\n",
    "                \n",
    "        \"\"\"Renaming the columns of repeated pi pulses\"\"\"\n",
    "        l = []\n",
    "        for i in range(ny):\n",
    "            l.append('π%i'%i)\n",
    "        df.columns = l\n",
    "\n",
    "        \"\"\"Find out the unique Fock levels and their occurences\"\"\"\n",
    "        \n",
    "        p_m_counts = []\n",
    "        \n",
    "        \"\"\"T and E matrices for the state prep part\"\"\"\n",
    "        fstate_in = 0\n",
    "\n",
    "        if fstate_in ==0:\n",
    "            cavity_t1 = self.cavity_t1/(fstate_in+1)\n",
    "            Pnm =  self.cavity_nth * (1-np.exp(-self.trigger_period/cavity_t1))\n",
    "        else: \n",
    "            cavity_t1 = self.cavity_t1/(fstate_in)\n",
    "            Pnm =  (1-np.exp(-self.trigger_period/cavity_t1)) + self.cavity_nth * (1-np.exp(-self.trigger_period/cavity_t1))\n",
    "\n",
    "        Pmn = 0 + 0 #assuming that the population at (n+1) is negligible and (n-1) we will estimate\\\n",
    "\n",
    "        Pge = self.qubit_nth * (1-np.exp(-self.trigger_period/self.qubit_t1)) +\\\n",
    "            (1-np.exp(-self.pi_length/self.qubit_t2) - t2_err)\n",
    "        Peg = (1-np.exp(-self.trigger_period/self.qubit_t1)) + \\\n",
    "            (1-np.exp(-self.pi_length/self.qubit_t2) - t2_err)\n",
    "\n",
    "        T = np.asarray([[(1-Pmn)*(1-Pge), (1-Pmn)*Pge, Pmn*Pge, Pmn*(1-Pge)],\n",
    "             [(1-Pmn)*Peg, (1-Pmn)*(1-Peg), Pmn*(1-Peg), Pmn*Peg],\n",
    "             [Pnm*(1-Pge), Pnm*Pge, (1-Pnm)*Pge, (1-Pnm)*(1-Pge)],\n",
    "             [Pnm*Peg, Pnm*(1-Peg), (1-Pnm)*(1-Peg), (1-Pnm)*Peg]])\n",
    "\n",
    "        E = 0.5*np.asarray([[1-g_infidelity, g_infidelity],\n",
    "            [e_infidelity, 1- e_infidelity],\n",
    "            [1-g_infidelity, g_infidelity],\n",
    "            [e_infidelity, 1- e_infidelity]])\n",
    "            \n",
    "        for jj in range(len(df)):\n",
    "            \"\"\"State preparation probabilities at the end or at the beginning of m π pulses\"\"\"\n",
    "            meas_seq = df.iloc[jj]\n",
    "            gamma_matrix = self.gamma(meas_seq, T, E)\n",
    "            if at_end==True: #Probablitity of state surviving till the end\n",
    "                P0_last = gamma_matrix[-1,0] + gamma_matrix[-1,1]\n",
    "                P1_last = gamma_matrix[-1,2] + gamma_matrix[-1,3]\n",
    "            else:#Probability at the beginnning\n",
    "                P0_last = gamma_matrix[0,0] + gamma_matrix[0,1]\n",
    "                P1_last = gamma_matrix[0,2] + gamma_matrix[0,3]   \n",
    "            p_m_counts.append(P1_last/P0_last)\n",
    "\n",
    "        return alpha, cav_amp, p_m_counts"
   ]
  },
  {
   "cell_type": "markdown",
   "metadata": {},
   "source": [
    "# Varying injected alpha"
   ]
  },
  {
   "cell_type": "markdown",
   "metadata": {},
   "source": [
    "## 0.0"
   ]
  },
  {
   "cell_type": "code",
   "execution_count": 5,
   "metadata": {
    "ExecuteTime": {
     "end_time": "2021-08-15T01:30:19.370662Z",
     "start_time": "2021-08-15T01:24:50.471357Z"
    }
   },
   "outputs": [
    {
     "name": "stdout",
     "output_type": "stream",
     "text": [
      "..\\data\\00184_photon_counting_parity_alpha.h5\n",
      "# of π at m= 30, at n = 0\n",
      "Coherent drive: amp = 0.0, length = 400 ns\n"
     ]
    }
   ],
   "source": [
    "qubit_params = {'t1':124, 't2':132, 'nth':1e-2}\n",
    "cavity_params = {'t1':6.54e2, 'nth':0.0003}\n",
    "readout_params = {'length':3.2, 'trigger':4.768, 'pi_pulse':565e-3, 'g_inf':0.0446, 'e_inf':0.0356}\n",
    "expt_name = 'photon_counting_parity_alpha'\n",
    "\n",
    "filelist = np.arange(184, 185, 1)\n",
    "\n",
    "p_m_counts = []\n",
    "alphas = []\n",
    "camp = []\n",
    "for ii, i in enumerate(filelist):\n",
    "    p_m_temp = []\n",
    "    filename = \"..\\\\data\\\\\" + str(i).zfill(5) + \"_\"+expt_name.lower()+\".h5\"\n",
    "    print(filename)\n",
    "    obj = hmm_analysis_2(qubit_params=qubit_params, cavity_params=cavity_params, readout_params=readout_params)\n",
    "    alpha, c_amp, p_m_temp = obj.stateprep(data_filename=filename, at_end=False)\n",
    "    alphas.append(alpha)\n",
    "    camp.append(c_amp)\n",
    "    p_m_counts.append(p_m_temp)"
   ]
  },
  {
   "cell_type": "code",
   "execution_count": 7,
   "metadata": {
    "ExecuteTime": {
     "end_time": "2021-08-15T01:30:25.779593Z",
     "start_time": "2021-08-15T01:30:25.683059Z"
    }
   },
   "outputs": [
    {
     "name": "stdout",
     "output_type": "stream",
     "text": [
      "../data/photon_counting/g0_20210814/n0_camp_0.0_len_400.h5\n"
     ]
    }
   ],
   "source": [
    "alphas = obj.alpha_awg_cal(cav_amp=camp, cav_len=400*np.ones(len(camp)))\n",
    "path = \"../data/photon_counting/g0_20210814/\"\n",
    "for i in range(len(filelist)):\n",
    "\n",
    "    filename = path + \"n\" + str(0) +\"_camp_\" + str(camp[i])+\"_len_\"+str(400)+\".h5\"\n",
    "    print(filename)\n",
    "    \n",
    "    temp= p_m_counts[i]\n",
    "    \n",
    "    with File(filename, 'w') as f:\n",
    "        f.create_dataset(\"p_m_counts\", data=temp)\n",
    "        f.create_dataset('alpha', data = alphas[i])"
   ]
  },
  {
   "cell_type": "markdown",
   "metadata": {},
   "source": [
    "## 0.0005-0.0009"
   ]
  },
  {
   "cell_type": "code",
   "execution_count": 10,
   "metadata": {
    "ExecuteTime": {
     "end_time": "2021-08-15T14:45:03.135593Z",
     "start_time": "2021-08-15T14:17:26.736616Z"
    }
   },
   "outputs": [
    {
     "name": "stdout",
     "output_type": "stream",
     "text": [
      "..\\data\\00185_photon_counting_parity_alpha.h5\n",
      "# of π at m= 30, at n = 0\n",
      "Coherent drive: amp = 0.0005, length = 400 ns\n",
      "..\\data\\00186_photon_counting_parity_alpha.h5\n",
      "# of π at m= 30, at n = 0\n",
      "Coherent drive: amp = 0.0006, length = 400 ns\n",
      "..\\data\\00187_photon_counting_parity_alpha.h5\n",
      "# of π at m= 30, at n = 0\n",
      "Coherent drive: amp = 0.0007, length = 400 ns\n",
      "..\\data\\00188_photon_counting_parity_alpha.h5\n",
      "# of π at m= 30, at n = 0\n",
      "Coherent drive: amp = 0.0008, length = 400 ns\n",
      "..\\data\\00189_photon_counting_parity_alpha.h5\n",
      "# of π at m= 30, at n = 0\n",
      "Coherent drive: amp = 0.0009, length = 400 ns\n"
     ]
    }
   ],
   "source": [
    "qubit_params = {'t1':124, 't2':132, 'nth':1e-2}\n",
    "cavity_params = {'t1':6.54e2, 'nth':0.0003}\n",
    "readout_params = {'length':3.2, 'trigger':4.768, 'pi_pulse':565e-3, 'g_inf':0.0446, 'e_inf':0.0356}\n",
    "expt_name = 'photon_counting_parity_alpha'\n",
    "\n",
    "filelist = np.arange(185, 190, 1)\n",
    "\n",
    "p_m_counts = []\n",
    "alphas = []\n",
    "camp = []\n",
    "for ii, i in enumerate(filelist):\n",
    "    p_m_temp = []\n",
    "    filename = \"..\\\\data\\\\\" + str(i).zfill(5) + \"_\"+expt_name.lower()+\".h5\"\n",
    "    print(filename)\n",
    "    obj = hmm_analysis_2(qubit_params=qubit_params, cavity_params=cavity_params, readout_params=readout_params)\n",
    "    alpha, c_amp, p_m_temp = obj.stateprep(data_filename=filename, at_end=False)\n",
    "    alphas.append(alpha)\n",
    "    camp.append(c_amp)\n",
    "    p_m_counts.append(p_m_temp)"
   ]
  },
  {
   "cell_type": "code",
   "execution_count": null,
   "metadata": {},
   "outputs": [],
   "source": [
    "lambd_th = 1e7\n",
    "pos_events = []\n",
    "pos_events_err = []\n",
    "\n",
    "for i in range(len(filelist)):\n",
    "    df = pd.DataFrame(p_m_counts[i])\n",
    "    t = df[df>lambd_th].count()/len(p_m_counts[i])\n",
    "    pos_events.append(t)\n",
    "    pos_events_err.append(np.sqrt(df[df>lambd_th].count())/len(p_m_counts[i]))\n",
    "pos_events = np.array(pos_events).flatten()\n",
    "pos_events_err = np.array(pos_events_err[:]).flatten()"
   ]
  },
  {
   "cell_type": "code",
   "execution_count": 11,
   "metadata": {
    "ExecuteTime": {
     "end_time": "2021-08-15T14:45:03.525543Z",
     "start_time": "2021-08-15T14:45:03.135593Z"
    }
   },
   "outputs": [
    {
     "name": "stdout",
     "output_type": "stream",
     "text": [
      "../data/photon_counting/g0_20210814/n0_camp_0.0005_len_400.h5\n",
      "../data/photon_counting/g0_20210814/n0_camp_0.0006_len_400.h5\n",
      "../data/photon_counting/g0_20210814/n0_camp_0.0007_len_400.h5\n",
      "../data/photon_counting/g0_20210814/n0_camp_0.0008_len_400.h5\n",
      "../data/photon_counting/g0_20210814/n0_camp_0.0009_len_400.h5\n"
     ]
    }
   ],
   "source": [
    "alphas = obj.alpha_awg_cal(cav_amp=camp, cav_len=400*np.ones(len(camp)))\n",
    "path = \"../data/photon_counting/g0_20210814/\"\n",
    "for i in range(len(filelist)):\n",
    "\n",
    "    filename = path + \"n\" + str(0) +\"_camp_\" + str(camp[i])+\"_len_\"+str(400)+\".h5\"\n",
    "    print(filename)\n",
    "    \n",
    "    temp= p_m_counts[i]\n",
    "    \n",
    "    with File(filename, 'w') as f:\n",
    "        f.create_dataset(\"p_m_counts\", data=temp)\n",
    "        f.create_dataset('alpha', data = alphas[i])"
   ]
  },
  {
   "cell_type": "code",
   "execution_count": null,
   "metadata": {},
   "outputs": [],
   "source": []
  },
  {
   "cell_type": "markdown",
   "metadata": {},
   "source": [
    "## 0.001-0.009 "
   ]
  },
  {
   "cell_type": "code",
   "execution_count": 12,
   "metadata": {
    "ExecuteTime": {
     "end_time": "2021-08-15T15:15:25.434054Z",
     "start_time": "2021-08-15T14:51:03.049573Z"
    }
   },
   "outputs": [
    {
     "name": "stdout",
     "output_type": "stream",
     "text": [
      "..\\data\\00190_photon_counting_parity_alpha.h5\n",
      "# of π at m= 30, at n = 0\n",
      "Coherent drive: amp = 0.001, length = 400 ns\n",
      "..\\data\\00191_photon_counting_parity_alpha.h5\n",
      "# of π at m= 30, at n = 0\n",
      "Coherent drive: amp = 0.002, length = 400 ns\n",
      "..\\data\\00192_photon_counting_parity_alpha.h5\n",
      "# of π at m= 30, at n = 0\n",
      "Coherent drive: amp = 0.003, length = 400 ns\n",
      "..\\data\\00193_photon_counting_parity_alpha.h5\n",
      "# of π at m= 30, at n = 0\n",
      "Coherent drive: amp = 0.004, length = 400 ns\n",
      "..\\data\\00194_photon_counting_parity_alpha.h5\n",
      "# of π at m= 30, at n = 0\n",
      "Coherent drive: amp = 0.005, length = 400 ns\n",
      "..\\data\\00195_photon_counting_parity_alpha.h5\n",
      "# of π at m= 30, at n = 0\n",
      "Coherent drive: amp = 0.006, length = 400 ns\n",
      "..\\data\\00196_photon_counting_parity_alpha.h5\n",
      "# of π at m= 30, at n = 0\n",
      "Coherent drive: amp = 0.007, length = 400 ns\n",
      "..\\data\\00197_photon_counting_parity_alpha.h5\n",
      "# of π at m= 30, at n = 0\n",
      "Coherent drive: amp = 0.008, length = 400 ns\n",
      "..\\data\\00198_photon_counting_parity_alpha.h5\n",
      "# of π at m= 30, at n = 0\n",
      "Coherent drive: amp = 0.009, length = 400 ns\n"
     ]
    }
   ],
   "source": [
    "qubit_params = {'t1':124, 't2':132, 'nth':1e-2}\n",
    "cavity_params = {'t1':6.54e2, 'nth':0.0003}\n",
    "readout_params = {'length':3.2, 'trigger':4.768, 'pi_pulse':565e-3, 'g_inf':0.0446, 'e_inf':0.0356}\n",
    "expt_name = 'photon_counting_parity_alpha'\n",
    "\n",
    "filelist = np.arange(190, 199, 1)\n",
    "\n",
    "p_m_counts = []\n",
    "alphas = []\n",
    "camp = []\n",
    "for ii, i in enumerate(filelist):\n",
    "    p_m_temp = []\n",
    "    filename = \"..\\\\data\\\\\" + str(i).zfill(5) + \"_\"+expt_name.lower()+\".h5\"\n",
    "    print(filename)\n",
    "    obj = hmm_analysis_2(qubit_params=qubit_params, cavity_params=cavity_params, readout_params=readout_params)\n",
    "    alpha, c_amp, p_m_temp = obj.stateprep(data_filename=filename, at_end=False)\n",
    "    alphas.append(alpha)\n",
    "    camp.append(c_amp)\n",
    "    p_m_counts.append(p_m_temp)"
   ]
  },
  {
   "cell_type": "code",
   "execution_count": 26,
   "metadata": {
    "ExecuteTime": {
     "end_time": "2021-07-15T18:48:33.726482Z",
     "start_time": "2021-07-15T18:48:33.619449Z"
    }
   },
   "outputs": [],
   "source": [
    "lambd_th = 1e7\n",
    "pos_events = []\n",
    "pos_events_err = []\n",
    "\n",
    "for i in range(len(filelist)):\n",
    "    df = pd.DataFrame(p_m_counts[i])\n",
    "    t = df[df>lambd_th].count()/len(p_m_counts[i])\n",
    "    pos_events.append(t)\n",
    "    pos_events_err.append(np.sqrt(df[df>lambd_th].count())/len(p_m_counts[i]))\n",
    "pos_events = np.array(pos_events).flatten()\n",
    "pos_events_err = np.array(pos_events_err[:]).flatten()"
   ]
  },
  {
   "cell_type": "code",
   "execution_count": 13,
   "metadata": {
    "ExecuteTime": {
     "end_time": "2021-08-15T15:15:25.814055Z",
     "start_time": "2021-08-15T15:15:25.434054Z"
    }
   },
   "outputs": [
    {
     "name": "stdout",
     "output_type": "stream",
     "text": [
      "../data/photon_counting/g0_20210814/n0_camp_0.001_len_400.h5\n",
      "../data/photon_counting/g0_20210814/n0_camp_0.002_len_400.h5\n",
      "../data/photon_counting/g0_20210814/n0_camp_0.003_len_400.h5\n",
      "../data/photon_counting/g0_20210814/n0_camp_0.004_len_400.h5\n",
      "../data/photon_counting/g0_20210814/n0_camp_0.005_len_400.h5\n",
      "../data/photon_counting/g0_20210814/n0_camp_0.006_len_400.h5\n",
      "../data/photon_counting/g0_20210814/n0_camp_0.007_len_400.h5\n",
      "../data/photon_counting/g0_20210814/n0_camp_0.008_len_400.h5\n",
      "../data/photon_counting/g0_20210814/n0_camp_0.009_len_400.h5\n"
     ]
    }
   ],
   "source": [
    "alphas = obj.alpha_awg_cal(cav_amp=camp, cav_len=400*np.ones(len(camp)))\n",
    "path = \"../data/photon_counting/g0_20210814/\"\n",
    "for i in range(len(filelist)):\n",
    "\n",
    "    filename = path + \"n\" + str(0) +\"_camp_\" + str(camp[i])+\"_len_\"+str(400)+\".h5\"\n",
    "    print(filename)\n",
    "    \n",
    "    temp= p_m_counts[i]\n",
    "    \n",
    "    with File(filename, 'w') as f:\n",
    "        f.create_dataset(\"p_m_counts\", data=temp)\n",
    "        f.create_dataset('alpha', data = alphas[i])"
   ]
  },
  {
   "cell_type": "markdown",
   "metadata": {},
   "source": [
    "## 0.01-0.09"
   ]
  },
  {
   "cell_type": "code",
   "execution_count": 14,
   "metadata": {
    "ExecuteTime": {
     "end_time": "2021-08-15T16:13:24.775669Z",
     "start_time": "2021-08-15T16:01:03.159377Z"
    }
   },
   "outputs": [
    {
     "name": "stdout",
     "output_type": "stream",
     "text": [
      "..\\data\\00199_photon_counting_parity_alpha.h5\n",
      "# of π at m= 30, at n = 0\n",
      "Coherent drive: amp = 0.01, length = 400 ns\n",
      "..\\data\\00200_photon_counting_parity_alpha.h5\n",
      "# of π at m= 30, at n = 0\n",
      "Coherent drive: amp = 0.02, length = 400 ns\n",
      "..\\data\\00201_photon_counting_parity_alpha.h5\n",
      "# of π at m= 30, at n = 0\n",
      "Coherent drive: amp = 0.03, length = 400 ns\n",
      "..\\data\\00202_photon_counting_parity_alpha.h5\n",
      "# of π at m= 30, at n = 0\n",
      "Coherent drive: amp = 0.04, length = 400 ns\n",
      "..\\data\\00203_photon_counting_parity_alpha.h5\n",
      "# of π at m= 30, at n = 0\n",
      "Coherent drive: amp = 0.05, length = 400 ns\n",
      "..\\data\\00204_photon_counting_parity_alpha.h5\n",
      "# of π at m= 30, at n = 0\n",
      "Coherent drive: amp = 0.06, length = 400 ns\n",
      "..\\data\\00205_photon_counting_parity_alpha.h5\n",
      "# of π at m= 30, at n = 0\n",
      "Coherent drive: amp = 0.07, length = 400 ns\n",
      "..\\data\\00206_photon_counting_parity_alpha.h5\n",
      "# of π at m= 30, at n = 0\n",
      "Coherent drive: amp = 0.08, length = 400 ns\n",
      "..\\data\\00207_photon_counting_parity_alpha.h5\n",
      "# of π at m= 30, at n = 0\n",
      "Coherent drive: amp = 0.09, length = 400 ns\n"
     ]
    }
   ],
   "source": [
    "qubit_params = {'t1':124, 't2':132, 'nth':1e-2}\n",
    "cavity_params = {'t1':6.54e2, 'nth':0.0003}\n",
    "readout_params = {'length':3.2, 'trigger':4.768, 'pi_pulse':565e-3, 'g_inf':0.0446, 'e_inf':0.0356}\n",
    "expt_name = 'photon_counting_parity_alpha'\n",
    "\n",
    "filelist = np.arange(199, 208, 1)\n",
    "\n",
    "p_m_counts = []\n",
    "alphas = []\n",
    "camp = []\n",
    "for ii, i in enumerate(filelist):\n",
    "    p_m_temp = []\n",
    "    filename = \"..\\\\data\\\\\" + str(i).zfill(5) + \"_\"+expt_name.lower()+\".h5\"\n",
    "    print(filename)\n",
    "    obj = hmm_analysis_2(qubit_params=qubit_params, cavity_params=cavity_params, readout_params=readout_params)\n",
    "    alpha, c_amp, p_m_temp = obj.stateprep(data_filename=filename, at_end=False)\n",
    "    alphas.append(alpha)\n",
    "    camp.append(c_amp)\n",
    "    p_m_counts.append(p_m_temp)"
   ]
  },
  {
   "cell_type": "code",
   "execution_count": 32,
   "metadata": {
    "ExecuteTime": {
     "end_time": "2021-07-15T20:23:37.162833Z",
     "start_time": "2021-07-15T20:23:36.902832Z"
    }
   },
   "outputs": [],
   "source": [
    "lambd_th = 1e7\n",
    "pos_events = []\n",
    "pos_events_err = []\n",
    "\n",
    "for i in range(len(filelist)):\n",
    "    df = pd.DataFrame(p_m_counts[i])\n",
    "    t = df[df>lambd_th].count()/len(p_m_counts[i])\n",
    "    pos_events.append(t)\n",
    "    pos_events_err.append(np.sqrt(df[df>lambd_th].count())/len(p_m_counts[i]))\n",
    "pos_events = np.array(pos_events).flatten()\n",
    "pos_events_err = np.array(pos_events_err[:]).flatten()"
   ]
  },
  {
   "cell_type": "code",
   "execution_count": 15,
   "metadata": {
    "ExecuteTime": {
     "end_time": "2021-08-15T16:13:24.976854Z",
     "start_time": "2021-08-15T16:13:24.775669Z"
    }
   },
   "outputs": [
    {
     "name": "stdout",
     "output_type": "stream",
     "text": [
      "../data/photon_counting/g0_20210814/n0_camp_0.01_len_400.h5\n",
      "../data/photon_counting/g0_20210814/n0_camp_0.02_len_400.h5\n",
      "../data/photon_counting/g0_20210814/n0_camp_0.03_len_400.h5\n",
      "../data/photon_counting/g0_20210814/n0_camp_0.04_len_400.h5\n",
      "../data/photon_counting/g0_20210814/n0_camp_0.05_len_400.h5\n",
      "../data/photon_counting/g0_20210814/n0_camp_0.06_len_400.h5\n",
      "../data/photon_counting/g0_20210814/n0_camp_0.07_len_400.h5\n",
      "../data/photon_counting/g0_20210814/n0_camp_0.08_len_400.h5\n",
      "../data/photon_counting/g0_20210814/n0_camp_0.09_len_400.h5\n"
     ]
    }
   ],
   "source": [
    "alphas = obj.alpha_awg_cal(cav_amp=camp, cav_len=400*np.ones(len(camp)))\n",
    "path = \"../data/photon_counting/g0_20210814/\"\n",
    "for i in range(len(filelist)):\n",
    "\n",
    "    filename = path + \"n\" + str(0) +\"_camp_\" + str(camp[i])+\"_len_\"+str(400)+\".h5\"\n",
    "    print(filename)\n",
    "    \n",
    "    temp= p_m_counts[i]\n",
    "    \n",
    "    with File(filename, 'w') as f:\n",
    "        f.create_dataset(\"p_m_counts\", data=temp)\n",
    "        f.create_dataset('alpha', data = alphas[i])"
   ]
  },
  {
   "cell_type": "markdown",
   "metadata": {},
   "source": [
    "## 0.1-0.9"
   ]
  },
  {
   "cell_type": "code",
   "execution_count": 21,
   "metadata": {
    "ExecuteTime": {
     "end_time": "2021-08-15T17:21:47.029495Z",
     "start_time": "2021-08-15T17:19:30.448622Z"
    }
   },
   "outputs": [
    {
     "name": "stdout",
     "output_type": "stream",
     "text": [
      "..\\data\\00208_photon_counting_parity_alpha.h5\n",
      "# of π at m= 30, at n = 0\n",
      "Coherent drive: amp = 0.1, length = 400 ns\n",
      "..\\data\\00209_photon_counting_parity_alpha.h5\n",
      "# of π at m= 30, at n = 0\n",
      "Coherent drive: amp = 0.2, length = 400 ns\n",
      "..\\data\\00210_photon_counting_parity_alpha.h5\n",
      "# of π at m= 30, at n = 0\n",
      "Coherent drive: amp = 0.3, length = 400 ns\n",
      "..\\data\\00211_photon_counting_parity_alpha.h5\n",
      "# of π at m= 30, at n = 0\n",
      "Coherent drive: amp = 0.4, length = 400 ns\n",
      "..\\data\\00212_photon_counting_parity_alpha.h5\n"
     ]
    },
    {
     "ename": "FileNotFoundError",
     "evalue": "[Errno 2] Unable to open file (unable to open file: name = '..\\data\\00212_photon_counting_parity_alpha.h5', errno = 2, error message = 'No such file or directory', flags = 0, o_flags = 0)",
     "output_type": "error",
     "traceback": [
      "\u001b[1;31m---------------------------------------------------------------------------\u001b[0m",
      "\u001b[1;31mFileNotFoundError\u001b[0m                         Traceback (most recent call last)",
      "\u001b[1;32m<ipython-input-21-9769b007ca06>\u001b[0m in \u001b[0;36m<module>\u001b[1;34m\u001b[0m\n\u001b[0;32m     16\u001b[0m     \u001b[0mprint\u001b[0m\u001b[1;33m(\u001b[0m\u001b[0mfilename\u001b[0m\u001b[1;33m)\u001b[0m\u001b[1;33m\u001b[0m\u001b[1;33m\u001b[0m\u001b[0m\n\u001b[0;32m     17\u001b[0m     \u001b[0mobj\u001b[0m \u001b[1;33m=\u001b[0m \u001b[0mhmm_analysis_2\u001b[0m\u001b[1;33m(\u001b[0m\u001b[0mqubit_params\u001b[0m\u001b[1;33m=\u001b[0m\u001b[0mqubit_params\u001b[0m\u001b[1;33m,\u001b[0m \u001b[0mcavity_params\u001b[0m\u001b[1;33m=\u001b[0m\u001b[0mcavity_params\u001b[0m\u001b[1;33m,\u001b[0m \u001b[0mreadout_params\u001b[0m\u001b[1;33m=\u001b[0m\u001b[0mreadout_params\u001b[0m\u001b[1;33m)\u001b[0m\u001b[1;33m\u001b[0m\u001b[1;33m\u001b[0m\u001b[0m\n\u001b[1;32m---> 18\u001b[1;33m     \u001b[0malpha\u001b[0m\u001b[1;33m,\u001b[0m \u001b[0mc_amp\u001b[0m\u001b[1;33m,\u001b[0m \u001b[0mp_m_temp\u001b[0m \u001b[1;33m=\u001b[0m \u001b[0mobj\u001b[0m\u001b[1;33m.\u001b[0m\u001b[0mstateprep\u001b[0m\u001b[1;33m(\u001b[0m\u001b[0mdata_filename\u001b[0m\u001b[1;33m=\u001b[0m\u001b[0mfilename\u001b[0m\u001b[1;33m,\u001b[0m \u001b[0mat_end\u001b[0m\u001b[1;33m=\u001b[0m\u001b[1;32mFalse\u001b[0m\u001b[1;33m,\u001b[0m \u001b[0mt2_err\u001b[0m\u001b[1;33m=\u001b[0m\u001b[1;36m0.0\u001b[0m\u001b[1;33m)\u001b[0m\u001b[1;33m\u001b[0m\u001b[1;33m\u001b[0m\u001b[0m\n\u001b[0m\u001b[0;32m     19\u001b[0m     \u001b[0malphas\u001b[0m\u001b[1;33m.\u001b[0m\u001b[0mappend\u001b[0m\u001b[1;33m(\u001b[0m\u001b[0malpha\u001b[0m\u001b[1;33m)\u001b[0m\u001b[1;33m\u001b[0m\u001b[1;33m\u001b[0m\u001b[0m\n\u001b[0;32m     20\u001b[0m     \u001b[0mcamp\u001b[0m\u001b[1;33m.\u001b[0m\u001b[0mappend\u001b[0m\u001b[1;33m(\u001b[0m\u001b[0mc_amp\u001b[0m\u001b[1;33m)\u001b[0m\u001b[1;33m\u001b[0m\u001b[1;33m\u001b[0m\u001b[0m\n",
      "\u001b[1;32m<ipython-input-9-d2a0b5bffeaf>\u001b[0m in \u001b[0;36mstateprep\u001b[1;34m(self, fstate_in, data_filename, at_end, t2_err)\u001b[0m\n\u001b[0;32m    112\u001b[0m         \u001b[0mg_infidelity\u001b[0m\u001b[1;33m,\u001b[0m \u001b[0me_infidelity\u001b[0m \u001b[1;33m=\u001b[0m \u001b[0mself\u001b[0m\u001b[1;33m.\u001b[0m\u001b[0mg_inf\u001b[0m\u001b[1;33m,\u001b[0m \u001b[0mself\u001b[0m\u001b[1;33m.\u001b[0m\u001b[0me_inf\u001b[0m\u001b[1;33m\u001b[0m\u001b[1;33m\u001b[0m\u001b[0m\n\u001b[0;32m    113\u001b[0m \u001b[1;33m\u001b[0m\u001b[0m\n\u001b[1;32m--> 114\u001b[1;33m         \u001b[0mself\u001b[0m\u001b[1;33m.\u001b[0m\u001b[0ma\u001b[0m \u001b[1;33m=\u001b[0m \u001b[0mself\u001b[0m\u001b[1;33m.\u001b[0m\u001b[0mopenfile\u001b[0m\u001b[1;33m(\u001b[0m\u001b[0mdata_filename\u001b[0m\u001b[1;33m)\u001b[0m\u001b[1;33m\u001b[0m\u001b[1;33m\u001b[0m\u001b[0m\n\u001b[0m\u001b[0;32m    115\u001b[0m \u001b[1;33m\u001b[0m\u001b[0m\n\u001b[0;32m    116\u001b[0m         \u001b[0mbit3\u001b[0m \u001b[1;33m=\u001b[0m \u001b[0mpd\u001b[0m\u001b[1;33m.\u001b[0m\u001b[0mDataFrame\u001b[0m\u001b[1;33m(\u001b[0m\u001b[0mself\u001b[0m\u001b[1;33m.\u001b[0m\u001b[0ma\u001b[0m\u001b[1;33m[\u001b[0m\u001b[1;34m'bit3'\u001b[0m\u001b[1;33m]\u001b[0m\u001b[1;33m)\u001b[0m\u001b[1;33m[\u001b[0m\u001b[1;33m:\u001b[0m\u001b[1;33m]\u001b[0m\u001b[1;33m\u001b[0m\u001b[1;33m\u001b[0m\u001b[0m\n",
      "\u001b[1;32m<ipython-input-9-d2a0b5bffeaf>\u001b[0m in \u001b[0;36mopenfile\u001b[1;34m(self, filename)\u001b[0m\n\u001b[0;32m    105\u001b[0m     \u001b[1;32mdef\u001b[0m \u001b[0mopenfile\u001b[0m\u001b[1;33m(\u001b[0m\u001b[0mself\u001b[0m\u001b[1;33m,\u001b[0m \u001b[0mfilename\u001b[0m\u001b[1;33m)\u001b[0m\u001b[1;33m:\u001b[0m\u001b[1;33m\u001b[0m\u001b[1;33m\u001b[0m\u001b[0m\n\u001b[0;32m    106\u001b[0m \u001b[1;33m\u001b[0m\u001b[0m\n\u001b[1;32m--> 107\u001b[1;33m         \u001b[1;32mreturn\u001b[0m \u001b[0mFile\u001b[0m\u001b[1;33m(\u001b[0m\u001b[0mfilename\u001b[0m\u001b[1;33m,\u001b[0m\u001b[1;34m'r'\u001b[0m\u001b[1;33m)\u001b[0m\u001b[1;33m\u001b[0m\u001b[1;33m\u001b[0m\u001b[0m\n\u001b[0m\u001b[0;32m    108\u001b[0m \u001b[1;33m\u001b[0m\u001b[0m\n\u001b[0;32m    109\u001b[0m     \u001b[1;32mdef\u001b[0m \u001b[0mstateprep\u001b[0m\u001b[1;33m(\u001b[0m\u001b[0mself\u001b[0m\u001b[1;33m,\u001b[0m \u001b[0mfstate_in\u001b[0m\u001b[1;33m=\u001b[0m\u001b[1;36m0\u001b[0m\u001b[1;33m,\u001b[0m \u001b[0mdata_filename\u001b[0m\u001b[1;33m=\u001b[0m\u001b[1;32mNone\u001b[0m\u001b[1;33m,\u001b[0m \u001b[0mat_end\u001b[0m\u001b[1;33m=\u001b[0m\u001b[1;32mTrue\u001b[0m\u001b[1;33m,\u001b[0m \u001b[0mt2_err\u001b[0m\u001b[1;33m=\u001b[0m\u001b[1;36m0.0\u001b[0m\u001b[1;33m)\u001b[0m\u001b[1;33m:\u001b[0m\u001b[1;33m\u001b[0m\u001b[1;33m\u001b[0m\u001b[0m\n",
      "\u001b[1;32mC:\\ProgramData\\Miniconda3\\lib\\site-packages\\h5py\\_hl\\files.py\u001b[0m in \u001b[0;36m__init__\u001b[1;34m(self, name, mode, driver, libver, userblock_size, swmr, rdcc_nslots, rdcc_nbytes, rdcc_w0, track_order, fs_strategy, fs_persist, fs_threshold, **kwds)\u001b[0m\n\u001b[0;32m    440\u001b[0m             \u001b[1;32mwith\u001b[0m \u001b[0mphil\u001b[0m\u001b[1;33m:\u001b[0m\u001b[1;33m\u001b[0m\u001b[1;33m\u001b[0m\u001b[0m\n\u001b[0;32m    441\u001b[0m                 \u001b[0mfapl\u001b[0m \u001b[1;33m=\u001b[0m \u001b[0mmake_fapl\u001b[0m\u001b[1;33m(\u001b[0m\u001b[0mdriver\u001b[0m\u001b[1;33m,\u001b[0m \u001b[0mlibver\u001b[0m\u001b[1;33m,\u001b[0m \u001b[0mrdcc_nslots\u001b[0m\u001b[1;33m,\u001b[0m \u001b[0mrdcc_nbytes\u001b[0m\u001b[1;33m,\u001b[0m \u001b[0mrdcc_w0\u001b[0m\u001b[1;33m,\u001b[0m \u001b[1;33m**\u001b[0m\u001b[0mkwds\u001b[0m\u001b[1;33m)\u001b[0m\u001b[1;33m\u001b[0m\u001b[1;33m\u001b[0m\u001b[0m\n\u001b[1;32m--> 442\u001b[1;33m                 fid = make_fid(name, mode, userblock_size,\n\u001b[0m\u001b[0;32m    443\u001b[0m                                fapl, fcpl=make_fcpl(track_order=track_order, fs_strategy=fs_strategy,\n\u001b[0;32m    444\u001b[0m                                fs_persist=fs_persist, fs_threshold=fs_threshold),\n",
      "\u001b[1;32mC:\\ProgramData\\Miniconda3\\lib\\site-packages\\h5py\\_hl\\files.py\u001b[0m in \u001b[0;36mmake_fid\u001b[1;34m(name, mode, userblock_size, fapl, fcpl, swmr)\u001b[0m\n\u001b[0;32m    193\u001b[0m         \u001b[1;32mif\u001b[0m \u001b[0mswmr\u001b[0m \u001b[1;32mand\u001b[0m \u001b[0mswmr_support\u001b[0m\u001b[1;33m:\u001b[0m\u001b[1;33m\u001b[0m\u001b[1;33m\u001b[0m\u001b[0m\n\u001b[0;32m    194\u001b[0m             \u001b[0mflags\u001b[0m \u001b[1;33m|=\u001b[0m \u001b[0mh5f\u001b[0m\u001b[1;33m.\u001b[0m\u001b[0mACC_SWMR_READ\u001b[0m\u001b[1;33m\u001b[0m\u001b[1;33m\u001b[0m\u001b[0m\n\u001b[1;32m--> 195\u001b[1;33m         \u001b[0mfid\u001b[0m \u001b[1;33m=\u001b[0m \u001b[0mh5f\u001b[0m\u001b[1;33m.\u001b[0m\u001b[0mopen\u001b[0m\u001b[1;33m(\u001b[0m\u001b[0mname\u001b[0m\u001b[1;33m,\u001b[0m \u001b[0mflags\u001b[0m\u001b[1;33m,\u001b[0m \u001b[0mfapl\u001b[0m\u001b[1;33m=\u001b[0m\u001b[0mfapl\u001b[0m\u001b[1;33m)\u001b[0m\u001b[1;33m\u001b[0m\u001b[1;33m\u001b[0m\u001b[0m\n\u001b[0m\u001b[0;32m    196\u001b[0m     \u001b[1;32melif\u001b[0m \u001b[0mmode\u001b[0m \u001b[1;33m==\u001b[0m \u001b[1;34m'r+'\u001b[0m\u001b[1;33m:\u001b[0m\u001b[1;33m\u001b[0m\u001b[1;33m\u001b[0m\u001b[0m\n\u001b[0;32m    197\u001b[0m         \u001b[0mfid\u001b[0m \u001b[1;33m=\u001b[0m \u001b[0mh5f\u001b[0m\u001b[1;33m.\u001b[0m\u001b[0mopen\u001b[0m\u001b[1;33m(\u001b[0m\u001b[0mname\u001b[0m\u001b[1;33m,\u001b[0m \u001b[0mh5f\u001b[0m\u001b[1;33m.\u001b[0m\u001b[0mACC_RDWR\u001b[0m\u001b[1;33m,\u001b[0m \u001b[0mfapl\u001b[0m\u001b[1;33m=\u001b[0m\u001b[0mfapl\u001b[0m\u001b[1;33m)\u001b[0m\u001b[1;33m\u001b[0m\u001b[1;33m\u001b[0m\u001b[0m\n",
      "\u001b[1;32mh5py\\_objects.pyx\u001b[0m in \u001b[0;36mh5py._objects.with_phil.wrapper\u001b[1;34m()\u001b[0m\n",
      "\u001b[1;32mh5py\\_objects.pyx\u001b[0m in \u001b[0;36mh5py._objects.with_phil.wrapper\u001b[1;34m()\u001b[0m\n",
      "\u001b[1;32mh5py\\h5f.pyx\u001b[0m in \u001b[0;36mh5py.h5f.open\u001b[1;34m()\u001b[0m\n",
      "\u001b[1;31mFileNotFoundError\u001b[0m: [Errno 2] Unable to open file (unable to open file: name = '..\\data\\00212_photon_counting_parity_alpha.h5', errno = 2, error message = 'No such file or directory', flags = 0, o_flags = 0)"
     ]
    }
   ],
   "source": [
    "qubit_params = {'t1':124, 't2':132, 'nth':1e-2}\n",
    "cavity_params = {'t1':6.54e2, 'nth':0.0003}\n",
    "readout_params = {'length':3.2, 'trigger':4.768, 'pi_pulse':565e-3, 'g_inf':0.0446, 'e_inf':0.0356}\n",
    "expt_name = 'photon_counting_parity_alpha'\n",
    "\n",
    "filelist = np.arange(208, 213, 1)\n",
    "\n",
    "# filelist = [151]\n",
    "\n",
    "p_m_counts = []\n",
    "alphas = []\n",
    "camp = []\n",
    "for ii, i in enumerate(filelist):\n",
    "    p_m_temp = []\n",
    "    filename = \"..\\\\data\\\\\" + str(i).zfill(5) + \"_\"+expt_name.lower()+\".h5\"\n",
    "    print(filename)\n",
    "    obj = hmm_analysis_2(qubit_params=qubit_params, cavity_params=cavity_params, readout_params=readout_params)\n",
    "    alpha, c_amp, p_m_temp = obj.stateprep(data_filename=filename, at_end=False, t2_err=0.0)\n",
    "    alphas.append(alpha)\n",
    "    camp.append(c_amp)\n",
    "    p_m_counts.append(p_m_temp)"
   ]
  },
  {
   "cell_type": "code",
   "execution_count": 27,
   "metadata": {
    "ExecuteTime": {
     "end_time": "2021-08-16T16:14:06.815473Z",
     "start_time": "2021-08-16T16:14:06.434460Z"
    }
   },
   "outputs": [
    {
     "name": "stdout",
     "output_type": "stream",
     "text": [
      "..\\data\\00000_photon_counting_parity_test.h5\n",
      "# of π at m= 30, at n = 0\n",
      "Coherent drive: amp = 0.1, length = 400 ns\n"
     ]
    }
   ],
   "source": [
    "qubit_params = {'t1':124, 't2':132, 'nth':1e-2}\n",
    "cavity_params = {'t1':6.54e2, 'nth':0.0003}\n",
    "readout_params = {'length':3.2, 'trigger':4.768, 'pi_pulse':565e-3, 'g_inf':0.0446, 'e_inf':0.0356}\n",
    "expt_name = 'photon_counting_parity_test'\n",
    "\n",
    "# filelist = np.arange(208, 213, 1)\n",
    "# \n",
    "filelist = [0]\n",
    "\n",
    "p_m_counts = []\n",
    "alphas = []\n",
    "camp = []\n",
    "for ii, i in enumerate(filelist):\n",
    "    p_m_temp = []\n",
    "    filename = \"..\\\\data\\\\\" + str(i).zfill(5) + \"_\"+expt_name.lower()+\".h5\"\n",
    "    print(filename)\n",
    "    obj = hmm_analysis_2(qubit_params=qubit_params, cavity_params=cavity_params, readout_params=readout_params)\n",
    "    alpha, c_amp, p_m_temp = obj.stateprep(data_filename=filename, at_end=False, t2_err=0.0)\n",
    "    alphas.append(alpha)\n",
    "    camp.append(c_amp)\n",
    "    p_m_counts.append(p_m_temp)"
   ]
  },
  {
   "cell_type": "code",
   "execution_count": 31,
   "metadata": {
    "ExecuteTime": {
     "end_time": "2021-08-16T16:15:02.998414Z",
     "start_time": "2021-08-16T16:15:02.982415Z"
    }
   },
   "outputs": [
    {
     "data": {
      "text/plain": [
       "(1, 1)"
      ]
     },
     "execution_count": 31,
     "metadata": {},
     "output_type": "execute_result"
    }
   ],
   "source": [
    "np.shape(p_m_counts)"
   ]
  },
  {
   "cell_type": "code",
   "execution_count": 32,
   "metadata": {
    "ExecuteTime": {
     "end_time": "2021-08-16T16:15:24.560524Z",
     "start_time": "2021-08-16T16:15:24.552524Z"
    }
   },
   "outputs": [
    {
     "name": "stdout",
     "output_type": "stream",
     "text": [
      "0    0.000002\n",
      "Name: 0, dtype: float64\n"
     ]
    }
   ],
   "source": [
    "df = pd.DataFrame(p_m_counts)\n",
    "\n",
    "print(df.iloc[0])"
   ]
  },
  {
   "cell_type": "code",
   "execution_count": 40,
   "metadata": {
    "ExecuteTime": {
     "end_time": "2021-08-16T16:20:44.204498Z",
     "start_time": "2021-08-16T16:20:44.183495Z"
    }
   },
   "outputs": [
    {
     "name": "stdout",
     "output_type": "stream",
     "text": [
      "0.8910459404454945\n"
     ]
    }
   ],
   "source": [
    "data = obj.openfile(filename)\n",
    "\n",
    "g0 = np.array(data['g0'])\n",
    "e0 = np.array(data['e0'])\n",
    "g1 = np.array(data['g1'])\n",
    "e1 = np.array(data['e1'])\n",
    "\n",
    "bit3 = np.array(data['bit3'])\n",
    "\n",
    "lamb = (e1[0]+g1[0])/(g0[0]+e0[0])\n",
    "print(lamb)"
   ]
  },
  {
   "cell_type": "code",
   "execution_count": 41,
   "metadata": {
    "ExecuteTime": {
     "end_time": "2021-08-16T16:20:47.278546Z",
     "start_time": "2021-08-16T16:20:47.269547Z"
    }
   },
   "outputs": [
    {
     "data": {
      "text/plain": [
       "array([[0, 0, 0, 0, 0, 0, 0, 0, 0, 0, 0, 0, 0, 0, 0, 0, 0, 0, 0, 0, 0, 0,\n",
       "        0, 0, 0, 0, 0, 0, 0, 0]], dtype=int64)"
      ]
     },
     "execution_count": 41,
     "metadata": {},
     "output_type": "execute_result"
    }
   ],
   "source": [
    "bit3"
   ]
  },
  {
   "cell_type": "code",
   "execution_count": 35,
   "metadata": {
    "ExecuteTime": {
     "end_time": "2021-08-16T16:16:55.797584Z",
     "start_time": "2021-08-16T16:16:55.783582Z"
    }
   },
   "outputs": [
    {
     "data": {
      "text/plain": [
       "array([1.19571377e-01, 5.71012646e-02, 2.72660442e-02, 1.30195469e-02,\n",
       "       6.21683151e-03, 2.96853483e-03, 1.41747296e-03, 6.76840544e-04,\n",
       "       3.23187560e-04, 1.54316425e-04, 7.36825168e-05, 3.51779163e-05,\n",
       "       1.67898834e-05, 8.01309943e-06, 3.82214785e-06, 1.82166696e-06,\n",
       "       8.67992640e-07, 4.09781933e-07, 1.93715096e-07, 8.94069672e-08,\n",
       "       4.09781933e-08, 1.49011612e-08, 3.72529030e-09, 0.00000000e+00,\n",
       "       0.00000000e+00, 0.00000000e+00, 0.00000000e+00, 0.00000000e+00,\n",
       "       0.00000000e+00, 0.00000000e+00])"
      ]
     },
     "execution_count": 35,
     "metadata": {},
     "output_type": "execute_result"
    }
   ],
   "source": [
    "g0"
   ]
  },
  {
   "cell_type": "code",
   "execution_count": 37,
   "metadata": {
    "ExecuteTime": {
     "end_time": "2021-08-16T16:18:52.330817Z",
     "start_time": "2021-08-16T16:18:52.317839Z"
    }
   },
   "outputs": [
    {
     "data": {
      "text/plain": [
       "array([1.88534409e-02, 5.97886369e-03, 2.76395306e-03, 1.31705031e-03,\n",
       "       6.28806651e-04, 3.00250947e-04, 1.43367797e-04, 6.84522092e-05,\n",
       "       3.26856971e-05, 1.56015158e-05, 7.44685531e-06, 3.55392694e-06,\n",
       "       1.69500709e-06, 8.04662704e-07, 3.83704901e-07, 1.82539225e-07,\n",
       "       8.56816769e-08, 3.72529030e-08, 1.49011612e-08, 3.72529030e-09,\n",
       "       0.00000000e+00, 0.00000000e+00, 0.00000000e+00, 0.00000000e+00,\n",
       "       0.00000000e+00, 0.00000000e+00, 0.00000000e+00, 0.00000000e+00,\n",
       "       0.00000000e+00, 0.00000000e+00])"
      ]
     },
     "execution_count": 37,
     "metadata": {},
     "output_type": "execute_result"
    }
   ],
   "source": [
    "e0"
   ]
  },
  {
   "cell_type": "code",
   "execution_count": 38,
   "metadata": {
    "ExecuteTime": {
     "end_time": "2021-08-16T16:18:58.885456Z",
     "start_time": "2021-08-16T16:18:58.864456Z"
    }
   },
   "outputs": [
    {
     "data": {
      "text/plain": [
       "array([1.12028964e-01, 5.37889451e-03, 1.69523805e-03, 1.04483217e-04,\n",
       "       2.60956585e-05, 1.94832683e-06, 4.17232513e-07, 3.35276127e-08,\n",
       "       3.72529030e-09, 0.00000000e+00, 0.00000000e+00, 0.00000000e+00,\n",
       "       0.00000000e+00, 0.00000000e+00, 0.00000000e+00, 0.00000000e+00,\n",
       "       0.00000000e+00, 0.00000000e+00, 0.00000000e+00, 0.00000000e+00,\n",
       "       0.00000000e+00, 0.00000000e+00, 0.00000000e+00, 0.00000000e+00,\n",
       "       0.00000000e+00, 0.00000000e+00, 0.00000000e+00, 0.00000000e+00,\n",
       "       0.00000000e+00, 0.00000000e+00])"
      ]
     },
     "execution_count": 38,
     "metadata": {},
     "output_type": "execute_result"
    }
   ],
   "source": [
    "e1"
   ]
  },
  {
   "cell_type": "code",
   "execution_count": 39,
   "metadata": {
    "ExecuteTime": {
     "end_time": "2021-08-16T16:19:05.923058Z",
     "start_time": "2021-08-16T16:19:05.905058Z"
    }
   },
   "outputs": [
    {
     "data": {
      "text/plain": [
       "array([1.13139078e-02, 3.77198309e-03, 2.23062932e-04, 5.79133630e-05,\n",
       "       4.20957804e-06, 9.35047865e-07, 8.56816769e-08, 1.86264515e-08,\n",
       "       0.00000000e+00, 0.00000000e+00, 0.00000000e+00, 0.00000000e+00,\n",
       "       0.00000000e+00, 0.00000000e+00, 0.00000000e+00, 0.00000000e+00,\n",
       "       0.00000000e+00, 0.00000000e+00, 0.00000000e+00, 0.00000000e+00,\n",
       "       0.00000000e+00, 0.00000000e+00, 0.00000000e+00, 0.00000000e+00,\n",
       "       0.00000000e+00, 0.00000000e+00, 0.00000000e+00, 0.00000000e+00,\n",
       "       0.00000000e+00, 0.00000000e+00])"
      ]
     },
     "execution_count": 39,
     "metadata": {},
     "output_type": "execute_result"
    }
   ],
   "source": [
    "g1"
   ]
  },
  {
   "cell_type": "code",
   "execution_count": 22,
   "metadata": {
    "ExecuteTime": {
     "end_time": "2021-08-04T21:46:42.065340Z",
     "start_time": "2021-08-04T21:46:42.045333Z"
    }
   },
   "outputs": [
    {
     "name": "stdout",
     "output_type": "stream",
     "text": [
      "0    127\n",
      "dtype: int64\n"
     ]
    }
   ],
   "source": [
    "df = pd.DataFrame(p_m_counts[0])\n",
    "th = 1e9\n",
    "print(df[df>th].count())"
   ]
  },
  {
   "cell_type": "code",
   "execution_count": 22,
   "metadata": {
    "ExecuteTime": {
     "end_time": "2021-08-15T17:21:52.019515Z",
     "start_time": "2021-08-15T17:21:51.934174Z"
    }
   },
   "outputs": [
    {
     "name": "stdout",
     "output_type": "stream",
     "text": [
      "../data/photon_counting/g0_20210814/n0_camp_0.1_len_400.h5\n",
      "../data/photon_counting/g0_20210814/n0_camp_0.2_len_400.h5\n",
      "../data/photon_counting/g0_20210814/n0_camp_0.3_len_400.h5\n",
      "../data/photon_counting/g0_20210814/n0_camp_0.4_len_400.h5\n"
     ]
    },
    {
     "ename": "IndexError",
     "evalue": "list index out of range",
     "output_type": "error",
     "traceback": [
      "\u001b[1;31m---------------------------------------------------------------------------\u001b[0m",
      "\u001b[1;31mIndexError\u001b[0m                                Traceback (most recent call last)",
      "\u001b[1;32m<ipython-input-22-bc338d44e6fc>\u001b[0m in \u001b[0;36m<module>\u001b[1;34m\u001b[0m\n\u001b[0;32m      3\u001b[0m \u001b[1;32mfor\u001b[0m \u001b[0mi\u001b[0m \u001b[1;32min\u001b[0m \u001b[0mrange\u001b[0m\u001b[1;33m(\u001b[0m\u001b[0mlen\u001b[0m\u001b[1;33m(\u001b[0m\u001b[0mfilelist\u001b[0m\u001b[1;33m)\u001b[0m\u001b[1;33m)\u001b[0m\u001b[1;33m:\u001b[0m\u001b[1;33m\u001b[0m\u001b[1;33m\u001b[0m\u001b[0m\n\u001b[0;32m      4\u001b[0m \u001b[1;33m\u001b[0m\u001b[0m\n\u001b[1;32m----> 5\u001b[1;33m     \u001b[0mfilename\u001b[0m \u001b[1;33m=\u001b[0m \u001b[0mpath\u001b[0m \u001b[1;33m+\u001b[0m \u001b[1;34m\"n\"\u001b[0m \u001b[1;33m+\u001b[0m \u001b[0mstr\u001b[0m\u001b[1;33m(\u001b[0m\u001b[1;36m0\u001b[0m\u001b[1;33m)\u001b[0m \u001b[1;33m+\u001b[0m\u001b[1;34m\"_camp_\"\u001b[0m \u001b[1;33m+\u001b[0m \u001b[0mstr\u001b[0m\u001b[1;33m(\u001b[0m\u001b[0mcamp\u001b[0m\u001b[1;33m[\u001b[0m\u001b[0mi\u001b[0m\u001b[1;33m]\u001b[0m\u001b[1;33m)\u001b[0m\u001b[1;33m+\u001b[0m\u001b[1;34m\"_len_\"\u001b[0m\u001b[1;33m+\u001b[0m\u001b[0mstr\u001b[0m\u001b[1;33m(\u001b[0m\u001b[1;36m400\u001b[0m\u001b[1;33m)\u001b[0m\u001b[1;33m+\u001b[0m\u001b[1;34m\".h5\"\u001b[0m\u001b[1;33m\u001b[0m\u001b[1;33m\u001b[0m\u001b[0m\n\u001b[0m\u001b[0;32m      6\u001b[0m     \u001b[0mprint\u001b[0m\u001b[1;33m(\u001b[0m\u001b[0mfilename\u001b[0m\u001b[1;33m)\u001b[0m\u001b[1;33m\u001b[0m\u001b[1;33m\u001b[0m\u001b[0m\n\u001b[0;32m      7\u001b[0m \u001b[1;33m\u001b[0m\u001b[0m\n",
      "\u001b[1;31mIndexError\u001b[0m: list index out of range"
     ]
    }
   ],
   "source": [
    "alphas = obj.alpha_awg_cal(cav_amp=camp, cav_len=400*np.ones(len(camp)))\n",
    "path = \"../data/photon_counting/g0_20210814/\"\n",
    "for i in range(len(filelist)):\n",
    "\n",
    "    filename = path + \"n\" + str(0) +\"_camp_\" + str(camp[i])+\"_len_\"+str(400)+\".h5\"\n",
    "    print(filename)\n",
    "    \n",
    "    temp= p_m_counts[i]\n",
    "    \n",
    "    with File(filename, 'w') as f:\n",
    "        f.create_dataset(\"p_m_counts\", data=temp)\n",
    "        f.create_dataset('alpha', data = alphas[i])"
   ]
  },
  {
   "cell_type": "code",
   "execution_count": 8,
   "metadata": {
    "ExecuteTime": {
     "end_time": "2021-07-31T23:57:30.525718Z",
     "start_time": "2021-07-31T23:57:30.493211Z"
    }
   },
   "outputs": [
    {
     "data": {
      "text/plain": [
       "(8, 25000)"
      ]
     },
     "execution_count": 8,
     "metadata": {},
     "output_type": "execute_result"
    }
   ],
   "source": [
    "np.shape(p_m_counts)"
   ]
  },
  {
   "cell_type": "code",
   "execution_count": null,
   "metadata": {},
   "outputs": [],
   "source": [
    "pos_events_err"
   ]
  },
  {
   "cell_type": "code",
   "execution_count": 43,
   "metadata": {
    "ExecuteTime": {
     "end_time": "2021-08-01T13:41:21.819621Z",
     "start_time": "2021-08-01T13:36:57.221876Z"
    }
   },
   "outputs": [
    {
     "name": "stdout",
     "output_type": "stream",
     "text": [
      "..\\data\\00133_photon_counting_parity_alpha.h5\n",
      "# of π at m= 30, at n = 0\n",
      "Coherent drive: amp = 0.1, length = 400 ns\n",
      "..\\data\\00134_photon_counting_parity_alpha.h5\n",
      "# of π at m= 30, at n = 0\n",
      "Coherent drive: amp = 0.2, length = 400 ns\n",
      "..\\data\\00135_photon_counting_parity_alpha.h5\n",
      "# of π at m= 30, at n = 0\n",
      "Coherent drive: amp = 0.3, length = 400 ns\n",
      "..\\data\\00136_photon_counting_parity_alpha.h5\n",
      "# of π at m= 30, at n = 0\n",
      "Coherent drive: amp = 0.4, length = 400 ns\n",
      "..\\data\\00137_photon_counting_parity_alpha.h5\n",
      "# of π at m= 30, at n = 0\n",
      "Coherent drive: amp = 0.5, length = 400 ns\n",
      "..\\data\\00138_photon_counting_parity_alpha.h5\n",
      "# of π at m= 30, at n = 0\n",
      "Coherent drive: amp = 0.6, length = 400 ns\n",
      "..\\data\\00139_photon_counting_parity_alpha.h5\n",
      "# of π at m= 30, at n = 0\n",
      "Coherent drive: amp = 0.7, length = 400 ns\n",
      "..\\data\\00140_photon_counting_parity_alpha.h5\n",
      "# of π at m= 30, at n = 0\n",
      "Coherent drive: amp = 0.8, length = 400 ns\n"
     ]
    }
   ],
   "source": [
    "qubit_params = {'t1':100, 't2':130, 'nth':5e-2}\n",
    "cavity_params = {'t1':6.0e2, 'nth':0.001}\n",
    "readout_params = {'length':3.2, 'trigger':7.2, 'pi_pulse':500e-3, 'g_inf':0.0246, 'e_inf':0.0408}\n",
    "expt_name = 'photon_counting_parity_alpha'\n",
    "\n",
    "filelist = np.arange(133, 141, 1)\n",
    "\n",
    "p_m_counts = []\n",
    "alphas = []\n",
    "camp = []\n",
    "for ii, i in enumerate(filelist):\n",
    "    p_m_temp = []\n",
    "    filename = \"..\\\\data\\\\\" + str(i).zfill(5) + \"_\"+expt_name.lower()+\".h5\"\n",
    "    print(filename)\n",
    "    obj = hmm_analysis_2(qubit_params=qubit_params, cavity_params=cavity_params, readout_params=readout_params)\n",
    "    alpha, c_amp, p_m_temp = obj.stateprep(data_filename=filename, at_end=False)\n",
    "    alphas.append(alpha)\n",
    "    camp.append(c_amp)\n",
    "    p_m_counts.append(p_m_temp)"
   ]
  },
  {
   "cell_type": "code",
   "execution_count": 44,
   "metadata": {
    "ExecuteTime": {
     "end_time": "2021-08-01T14:19:26.805525Z",
     "start_time": "2021-08-01T14:19:26.616462Z"
    }
   },
   "outputs": [],
   "source": [
    "lambd_th = 1e7\n",
    "pos_events = []\n",
    "pos_events_err = []\n",
    "\n",
    "for i in range(len(filelist)):\n",
    "    df = pd.DataFrame(p_m_counts[i])\n",
    "    t = df[df>lambd_th].count()/len(p_m_counts[i])\n",
    "    pos_events.append(t)\n",
    "    pos_events_err.append(np.sqrt(df[df>lambd_th].count())/len(p_m_counts[i]))\n",
    "pos_events = np.array(pos_events).flatten()\n",
    "pos_events_err = np.array(pos_events_err[:]).flatten()"
   ]
  },
  {
   "cell_type": "code",
   "execution_count": 45,
   "metadata": {
    "ExecuteTime": {
     "end_time": "2021-08-01T14:19:41.157759Z",
     "start_time": "2021-08-01T14:19:41.147747Z"
    }
   },
   "outputs": [
    {
     "data": {
      "text/plain": [
       "array([0.0157, 0.0623, 0.1225, 0.1935, 0.245 , 0.293 , 0.3245, 0.3268])"
      ]
     },
     "execution_count": 45,
     "metadata": {},
     "output_type": "execute_result"
    }
   ],
   "source": [
    "pos_events"
   ]
  },
  {
   "cell_type": "code",
   "execution_count": 47,
   "metadata": {
    "ExecuteTime": {
     "end_time": "2021-08-01T14:25:59.410656Z",
     "start_time": "2021-08-01T14:25:59.374927Z"
    }
   },
   "outputs": [
    {
     "data": {
      "text/plain": [
       "0    3053\n",
       "dtype: int64"
      ]
     },
     "execution_count": 47,
     "metadata": {},
     "output_type": "execute_result"
    }
   ],
   "source": [
    "th = 1e9\n",
    "df[df>th].count()"
   ]
  },
  {
   "cell_type": "code",
   "execution_count": 48,
   "metadata": {
    "ExecuteTime": {
     "end_time": "2021-08-01T18:49:08.981657Z",
     "start_time": "2021-08-01T18:49:08.605297Z"
    }
   },
   "outputs": [
    {
     "name": "stdout",
     "output_type": "stream",
     "text": [
      "../data/photon_counting/g0_20210731/n0_camp_0.1_len_400.h5\n",
      "../data/photon_counting/g0_20210731/n0_camp_0.2_len_400.h5\n",
      "../data/photon_counting/g0_20210731/n0_camp_0.3_len_400.h5\n",
      "../data/photon_counting/g0_20210731/n0_camp_0.4_len_400.h5\n",
      "../data/photon_counting/g0_20210731/n0_camp_0.5_len_400.h5\n",
      "../data/photon_counting/g0_20210731/n0_camp_0.6_len_400.h5\n",
      "../data/photon_counting/g0_20210731/n0_camp_0.7_len_400.h5\n",
      "../data/photon_counting/g0_20210731/n0_camp_0.8_len_400.h5\n"
     ]
    }
   ],
   "source": [
    "alphas = obj.alpha_awg_cal(cav_amp=camp, cav_len=400*np.ones(len(camp)))\n",
    "path = \"../data/photon_counting/g0_20210731/\"\n",
    "for i in range(len(filelist)):\n",
    "\n",
    "    filename = path + \"n\" + str(0) +\"_camp_\" + str(camp[i])+\"_len_\"+str(400)+\".h5\"\n",
    "    print(filename)\n",
    "    \n",
    "    temp= p_m_counts[i]\n",
    "    \n",
    "    with File(filename, 'w') as f:\n",
    "        f.create_dataset(\"p_m_counts\", data=temp)\n",
    "        f.create_dataset('alpha', data = alphas[i])"
   ]
  },
  {
   "cell_type": "markdown",
   "metadata": {},
   "source": [
    "# Test"
   ]
  },
  {
   "cell_type": "code",
   "execution_count": 23,
   "metadata": {
    "ExecuteTime": {
     "end_time": "2021-08-04T22:27:34.242748Z",
     "start_time": "2021-08-04T22:27:34.212743Z"
    }
   },
   "outputs": [],
   "source": [
    "filename = \"../data/photon_counting/g0_20210731/test/n0_camp_0.1_len_400.h5\"\n",
    "with File(filename,'r') as a:\n",
    "    p_m_counts = np.array(a['p_m_counts'], dtype=float)\n",
    "    alpha = np.array(a['alpha'])"
   ]
  },
  {
   "cell_type": "code",
   "execution_count": 28,
   "metadata": {
    "ExecuteTime": {
     "end_time": "2021-08-04T22:30:34.014141Z",
     "start_time": "2021-08-04T22:30:33.984100Z"
    }
   },
   "outputs": [
    {
     "name": "stdout",
     "output_type": "stream",
     "text": [
      "0    127\n",
      "dtype: int64\n",
      "0    66\n",
      "dtype: int64\n",
      "0    0\n",
      "dtype: int64\n",
      "0    0\n",
      "dtype: int64\n"
     ]
    }
   ],
   "source": [
    "for i in range(len(p_m_counts)):\n",
    "    df = pd.DataFrame(p_m_counts[i])\n",
    "    th = 1e9\n",
    "    print(df[df>th].count())"
   ]
  },
  {
   "cell_type": "markdown",
   "metadata": {},
   "source": [
    "# photon counter fit"
   ]
  },
  {
   "cell_type": "code",
   "execution_count": 23,
   "metadata": {
    "ExecuteTime": {
     "end_time": "2021-08-15T17:22:01.966907Z",
     "start_time": "2021-08-15T17:22:01.089155Z"
    }
   },
   "outputs": [
    {
     "name": "stdout",
     "output_type": "stream",
     "text": [
      "n0_camp_0.0005_len_400.h5\n",
      "0.000725\n",
      "Total number of events collected: 100000, 17 events crossed \\lambda \n",
      "n0_camp_0.0006_len_400.h5\n",
      "0.00087\n",
      "Total number of events collected: 100000, 17 events crossed \\lambda \n",
      "n0_camp_0.0007_len_400.h5\n",
      "0.001015\n",
      "Total number of events collected: 100000, 23 events crossed \\lambda \n",
      "n0_camp_0.0008_len_400.h5\n",
      "0.00116\n",
      "Total number of events collected: 100000, 18 events crossed \\lambda \n",
      "n0_camp_0.0009_len_400.h5\n",
      "0.001305\n",
      "Total number of events collected: 100000, 17 events crossed \\lambda \n",
      "n0_camp_0.001_len_400.h5\n",
      "0.00145\n",
      "Total number of events collected: 50000, 8 events crossed \\lambda \n",
      "n0_camp_0.002_len_400.h5\n",
      "0.002899\n",
      "Total number of events collected: 50000, 11 events crossed \\lambda \n",
      "n0_camp_0.003_len_400.h5\n",
      "0.004349\n",
      "Total number of events collected: 50000, 7 events crossed \\lambda \n",
      "n0_camp_0.004_len_400.h5\n",
      "0.005798\n",
      "Total number of events collected: 50000, 9 events crossed \\lambda \n",
      "n0_camp_0.005_len_400.h5\n",
      "0.007248\n",
      "Total number of events collected: 50000, 14 events crossed \\lambda \n",
      "n0_camp_0.006_len_400.h5\n",
      "0.008697\n",
      "Total number of events collected: 50000, 14 events crossed \\lambda \n",
      "n0_camp_0.007_len_400.h5\n",
      "0.010147\n",
      "Total number of events collected: 50000, 14 events crossed \\lambda \n",
      "n0_camp_0.008_len_400.h5\n",
      "0.011596\n",
      "Total number of events collected: 50000, 18 events crossed \\lambda \n",
      "n0_camp_0.009_len_400.h5\n",
      "0.013046\n",
      "Total number of events collected: 50000, 27 events crossed \\lambda \n",
      "n0_camp_0.01_len_400.h5\n",
      "0.014495\n",
      "Total number of events collected: 25000, 9 events crossed \\lambda \n",
      "n0_camp_0.02_len_400.h5\n",
      "0.032252\n",
      "Total number of events collected: 25000, 24 events crossed \\lambda \n",
      "n0_camp_0.03_len_400.h5\n",
      "0.048843\n",
      "Total number of events collected: 25000, 45 events crossed \\lambda \n",
      "n0_camp_0.04_len_400.h5\n",
      "0.064668\n",
      "Total number of events collected: 25000, 83 events crossed \\lambda \n",
      "n0_camp_0.05_len_400.h5\n",
      "0.08038\n",
      "Total number of events collected: 25000, 133 events crossed \\lambda \n",
      "n0_camp_0.06_len_400.h5\n",
      "0.097812\n",
      "Total number of events collected: 25000, 170 events crossed \\lambda \n",
      "n0_camp_0.07_len_400.h5\n",
      "0.115991\n",
      "Total number of events collected: 25000, 251 events crossed \\lambda \n",
      "n0_camp_0.08_len_400.h5\n",
      "0.128889\n",
      "Total number of events collected: 25000, 348 events crossed \\lambda \n",
      "n0_camp_0.09_len_400.h5\n",
      "0.145007\n",
      "Total number of events collected: 25000, 457 events crossed \\lambda \n",
      "n0_camp_0.0_len_400.h5\n",
      "0.0\n",
      "Total number of events collected: 100000, 19 events crossed \\lambda \n",
      "n0_camp_0.1_len_400.h5\n",
      "0.160984\n",
      "Total number of events collected: 10000, 205 events crossed \\lambda \n",
      "n0_camp_0.2_len_400.h5\n",
      "0.324593\n",
      "Total number of events collected: 10000, 745 events crossed \\lambda \n",
      "n0_camp_0.3_len_400.h5\n",
      "0.491732\n",
      "Total number of events collected: 10000, 1553 events crossed \\lambda \n",
      "n0_camp_0.4_len_400.h5\n",
      "0.649281\n",
      "Total number of events collected: 10000, 2273 events crossed \\lambda \n"
     ]
    }
   ],
   "source": [
    "data_path =  \"../data/photon_counting/g0_20210814/\"\n",
    "filenames_like = os.listdir(data_path)\n",
    "\n",
    "th_m = np.logspace(2, 10, 9)\n",
    "detected_th = {}\n",
    "detected_th_err = {}\n",
    "alphas = []\n",
    "for jj, filename in enumerate(filenames_like):\n",
    "    print(filename)\n",
    "    filename = data_path + filename\n",
    "    with File(filename,'r') as a:\n",
    "        p_m_counts = np.array(a['p_m_counts'], dtype=float)\n",
    "        alpha = np.array(a['alpha'])\n",
    "        print(np.round(alpha, 6))\n",
    "        a.close()\n",
    "    alphas.append(np.round(alpha, 6))\n",
    "    detect = []\n",
    "    detect_err = []\n",
    "    detect_err_bi = []\n",
    "    for th in th_m:\n",
    "        df = pd.DataFrame(p_m_counts)\n",
    "        count_m = df[df>th].count()\n",
    "        t = count_m/len(p_m_counts)\n",
    "        detect.append(t)\n",
    "        detect_err.append(np.sqrt(count_m)/len(p_m_counts))\n",
    "    print(r\"Total number of events collected: %d, %d events crossed \\lambda \"%(len(p_m_counts), count_m))\n",
    "    detected_th[np.round(alpha, 6)]= detect\n",
    "    detected_th_err[np.round(alpha, 6)] = detect_err\n",
    "\n",
    "\"\"\"Sorts the columns according to injected photon number\"\"\"\n",
    "y = pd.DataFrame(detected_th).sort_index(axis=1)\n",
    "yerr = pd.DataFrame(detected_th_err).sort_index(axis=1)\n",
    "n_exp = np.sort(np.array(alphas)**2)"
   ]
  },
  {
   "cell_type": "code",
   "execution_count": 24,
   "metadata": {
    "ExecuteTime": {
     "end_time": "2021-08-15T17:22:02.067964Z",
     "start_time": "2021-08-15T17:22:01.966907Z"
    }
   },
   "outputs": [],
   "source": [
    "def photon_counter_line0(x, eff, err):\n",
    "    return eff*(np.array(x)) + err\n",
    "\n",
    "det_eff = []\n",
    "det_darkcount = []\n",
    "eff_corr_darkcount = []\n",
    "\n",
    "for ii in range(len(th_m)):\n",
    "    popt, pcov = curve_fit(f=photon_counter_line0, xdata=n_exp, ydata=np.array(y.iloc[ii], dtype=float), sigma=np.array(yerr.iloc[ii], dtype=float), \n",
    "                           bounds = ([0.0, 1e-5],[1.0, 1e-2]))\n",
    "    perr = np.sqrt(np.diag(pcov))\n",
    "    det_eff.append([popt[0], perr[0]])\n",
    "    det_darkcount.append([popt[1], perr[1]])\n",
    "    err = np.sqrt((perr[1]/(popt[0]))**2 + (perr[0]*(popt[1]/(popt[0]**2)))**2)\n",
    "    eff_corr_darkcount.append([popt[1]/(popt[0]), err])"
   ]
  },
  {
   "cell_type": "code",
   "execution_count": 25,
   "metadata": {
    "ExecuteTime": {
     "end_time": "2021-08-15T17:22:03.820765Z",
     "start_time": "2021-08-15T17:22:02.945619Z"
    }
   },
   "outputs": [
    {
     "data": {
      "image/png": "[encoded data removed]",
      "text/plain": [
       "<Figure size 1800x1200 with 2 Axes>"
      ]
     },
     "metadata": {
      "needs_background": "light"
     },
     "output_type": "display_data"
    }
   ],
   "source": [
    "fig, (ax1, ax2) = plt.subplots(nrows=2, dpi=300, sharex=True)\n",
    "ax1.errorbar(x= th_m, y= pd.DataFrame(det_eff)[0], yerr= pd.DataFrame(det_eff)[1],\n",
    "             fmt='o',  capthick=4, markerfacecolor='#ffa600', markeredgecolor='k', ecolor='#003f5c')\n",
    "ax1.set_ylabel(r'$\\eta$')\n",
    "ax1.grid(minorticks_on)\n",
    "ax2.errorbar(x= th_m, y= pd.DataFrame(eff_corr_darkcount)[0], yerr= pd.DataFrame(eff_corr_darkcount)[1],\n",
    "             fmt='o',  capthick=4, markerfacecolor='#ffa600', markeredgecolor='k', ecolor='#003f5c')\n",
    "ax2.set_ylabel(r'$\\frac{\\delta}{\\eta}$')\n",
    "ax2.set_xlabel(r'$\\lambda_{th}$')\n",
    "ax2.set_xscale('log')\n",
    "ax2.set_yscale('log')\n",
    "ax2.grid(minorticks_on)\n",
    "plt.tight_layout()\n",
    "plt.show()"
   ]
  },
  {
   "cell_type": "code",
   "execution_count": 26,
   "metadata": {
    "ExecuteTime": {
     "end_time": "2021-08-15T17:22:11.455492Z",
     "start_time": "2021-08-15T17:22:10.215582Z"
    }
   },
   "outputs": [
    {
     "name": "stdout",
     "output_type": "stream",
     "text": [
      "0.03644\n"
     ]
    },
    {
     "data": {
      "image/png": "[encoded data removed]",
      "text/plain": [
       "<Figure size 1800x1200 with 1 Axes>"
      ]
     },
     "metadata": {
      "needs_background": "light"
     },
     "output_type": "display_data"
    }
   ],
   "source": [
    "#003f5c\n",
    "#58508d\n",
    "#bc5090\n",
    "#ff6361\n",
    "#ffa600\n",
    "m = 5\n",
    "plt.figure(dpi=300)\n",
    "plt.errorbar(n_exp, y= y.iloc[-m], yerr= yerr.iloc[-m], fmt='o', capthick=4, \n",
    "            markerfacecolor='#003f5c', markeredgecolor='k', ecolor='#003f5c',\n",
    "                 label=r'$\\lambda_{th} =  10^{%.f}$'%(np.log10(th_m[-m])))\n",
    "\n",
    "popt, pcov = curve_fit(f=photon_counter_line0, xdata=n_exp, ydata=np.array(y.iloc[-m], dtype=float), sigma=np.array(yerr.iloc[-m], dtype=float), \n",
    "                           bounds = ([0.0, 1e-5],[1.0, 1e-2]))\n",
    "perr = np.sqrt(np.diag(pcov))\n",
    "delta_eta  = popt[1]/popt[0]\n",
    "delta_eta_err = delta_eta*(np.sqrt((perr[0]/popt[0])**2 + (perr[1]/popt[1])**2))\n",
    "###########\n",
    "w = 2*np.pi*6.011215233526263*1e9\n",
    "\n",
    "from scipy.constants import hbar, k\n",
    "\n",
    "T = np.round(hbar*w/(k*np.log(1/delta_eta)), 5)\n",
    "print(T)\n",
    "###########\n",
    "x = np.linspace(1e-8, 4e-1, 100001)\n",
    "h = photon_counter_line0(x, *popt)\n",
    "plt.plot(x, h, linewidth=2, linestyle='--', color='#ffa600')\n",
    "plt.ylabel(r'$n_{meas}$')\n",
    "plt.xlabel(r'$n_{inj}$')\n",
    "plt.xscale('symlog', linthresh=1e-6)\n",
    "# plt.yscale('symlog', linthreshy=1e-5)\n",
    "plt.yscale('log')\n",
    "plt.ylim(5e-6, 2e0)\n",
    "plt.text(1e-3, 5e-5, '$\\eta$ = {:^.2f} $\\pm$ {:^.3f} \\n$\\delta$ = {:^.2e} $\\pm$ {:^.2e}'.format(popt[0], perr[0], popt[1], perr[1]))\n",
    "plt.text(5e-7, 5e-2, 'Efficiency corrected \\n dark count rate,\\\n",
    "        \\n $\\delta$/$\\eta$ = {:<.2e} $\\pm$ {:<.2e}'.format(delta_eta, delta_eta_err))\n",
    "plt.title('Photon temperature = {} mK'.format(T*1000))\n",
    "plt.legend(fontsize=14, loc='best') \n",
    "plt.grid(minorticks_on)\n",
    "# plt.savefig('2021-08-01-PhotonCounting.png', dpi=300)\n",
    "plt.show()"
   ]
  },
  {
   "cell_type": "code",
   "execution_count": 73,
   "metadata": {
    "ExecuteTime": {
     "end_time": "2021-08-01T22:26:03.941895Z",
     "start_time": "2021-08-01T22:26:03.925356Z"
    }
   },
   "outputs": [
    {
     "name": "stdout",
     "output_type": "stream",
     "text": [
      "0.03595919112878462\n"
     ]
    }
   ],
   "source": [
    "w = 2*np.pi*6.011*1e9\n",
    "\n",
    "from scipy.constants import hbar, k\n",
    "\n",
    "T = hbar*w/(k*np.log(1/3.28e-4))\n",
    "print(T)"
   ]
  },
  {
   "cell_type": "code",
   "execution_count": null,
   "metadata": {},
   "outputs": [],
   "source": []
  }
 ],
 "metadata": {
  "kernelspec": {
   "display_name": "Python 3",
   "language": "python",
   "name": "python3"
  },
  "language_info": {
   "codemirror_mode": {
    "name": "ipython",
    "version": 3
   },
   "file_extension": ".py",
   "mimetype": "text/x-python",
   "name": "python",
   "nbconvert_exporter": "python",
   "pygments_lexer": "ipython3",
   "version": "3.8.5"
  },
  "toc": {
   "base_numbering": 1,
   "nav_menu": {},
   "number_sections": true,
   "sideBar": true,
   "skip_h1_title": false,
   "title_cell": "Table of Contents",
   "title_sidebar": "Contents",
   "toc_cell": false,
   "toc_position": {
    "height": "calc(100% - 180px)",
    "left": "10px",
    "top": "150px",
    "width": "493.833px"
   },
   "toc_section_display": true,
   "toc_window_display": true
  }
 },
 "nbformat": 4,
 "nbformat_minor": 4
}
