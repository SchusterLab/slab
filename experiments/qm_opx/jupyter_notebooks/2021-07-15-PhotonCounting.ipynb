{
 "cells": [
  {
   "cell_type": "markdown",
   "metadata": {},
   "source": [
    "# Repeated parity measurement photon counting "
   ]
  },
  {
   "cell_type": "code",
   "execution_count": 1,
   "metadata": {
    "ExecuteTime": {
     "end_time": "2021-07-27T14:41:16.875897Z",
     "start_time": "2021-07-27T14:41:13.477423Z"
    }
   },
   "outputs": [
    {
     "name": "stdout",
     "output_type": "stream",
     "text": [
      "Warning could not load Chase AWG dll, check that dll located at 'C:\\_Lib\\python\\slab\\instruments\\awg\\chase\\dax22000_lib_DLL32.dll'\n",
      "Could not load InstrumentManagerWindow\n",
      "Warning could not load LDA labbrick dll, check that dll located at 'C:\\_Lib\\python\\slab\\instruments\\labbrick\\VNX_atten.dll'\n",
      "Warning could not load LMS labbrick dll, check that dll located at 'C:\\_Lib\\python\\slab\\instruments\\labbrick\\vnx_fmsynth.dll'\n",
      "Warning could not load LPS labbrick dll, check that dll located at 'C:\\_Lib\\python\\slab\\instruments\\labbrick\\VNX_dps.dll'\n",
      "Could not load labbrick\n"
     ]
    },
    {
     "name": "stderr",
     "output_type": "stream",
     "text": [
      "C:\\ProgramData\\Miniconda3\\lib\\site-packages\\IPython\\qt.py:12: ShimWarning: The `IPython.qt` package has been deprecated since IPython 4.0. You should import from qtconsole instead.\n",
      "  warn(\"The `IPython.qt` package has been deprecated since IPython 4.0. \"\n",
      "C:\\ProgramData\\Miniconda3\\lib\\site-packages\\visa.py:13: FutureWarning: The visa module provided by PyVISA is being deprecated. You can replace `import visa` by `import pyvisa as visa` to achieve the same effect.\n",
      "\n",
      "The reason for the deprecation is the possible conflict with the visa package provided by the https://github.com/visa-sdk/visa-python which can result in hard to debug situations.\n",
      "  warnings.warn(\n"
     ]
    }
   ],
   "source": [
    "from pylab import*\n",
    "import matplotlib.pyplot as plt\n",
    "import seaborn as sns\n",
    "from h5py import File\n",
    "import pandas as pd\n",
    "from slab.dsfit import*\n",
    "import json\n",
    "import numpy as np\n",
    "from datetime import datetime\n",
    "import scipy as sc\n",
    "from scipy.optimize import curve_fit\n",
    "from scipy.signal import argrelextrema\n",
    "# from qutip import *\n",
    "from h5py import File\n",
    "import os\n",
    "from slab.dataanalysis import get_next_filename"
   ]
  },
  {
   "cell_type": "code",
   "execution_count": 3,
   "metadata": {
    "ExecuteTime": {
     "end_time": "2021-07-27T14:42:06.915756Z",
     "start_time": "2021-07-27T14:42:06.905756Z"
    },
    "code_folding": []
   },
   "outputs": [],
   "source": [
    "\n",
    "\n",
    "#     def backward(self, meas_seq, T, E):\n",
    "#         N = T.shape[0]\n",
    "#         num_meas = len(meas_seq)\n",
    "#         beta = zeros((N,num_meas))\n",
    "#         beta[:,-1:] = 1\n",
    "#         for t in reversed(range(num_meas-1)):\n",
    "#             for n in range(N):\n",
    "#                 beta[n,t] = sum(beta[:,t+1] * T[n,:] * E[:, meas_seq[t+1]])\n",
    "#         return beta\n",
    "beta = np.zeros((4, 10))"
   ]
  },
  {
   "cell_type": "code",
   "execution_count": 4,
   "metadata": {
    "ExecuteTime": {
     "end_time": "2021-07-27T14:42:11.099332Z",
     "start_time": "2021-07-27T14:42:11.078348Z"
    }
   },
   "outputs": [
    {
     "data": {
      "text/plain": [
       "array([[0., 0., 0., 0., 0., 0., 0., 0., 0., 0.],\n",
       "       [0., 0., 0., 0., 0., 0., 0., 0., 0., 0.],\n",
       "       [0., 0., 0., 0., 0., 0., 0., 0., 0., 0.],\n",
       "       [0., 0., 0., 0., 0., 0., 0., 0., 0., 0.]])"
      ]
     },
     "execution_count": 4,
     "metadata": {},
     "output_type": "execute_result"
    }
   ],
   "source": [
    "beta"
   ]
  },
  {
   "cell_type": "code",
   "execution_count": 5,
   "metadata": {
    "ExecuteTime": {
     "end_time": "2021-07-27T14:42:28.996719Z",
     "start_time": "2021-07-27T14:42:28.976721Z"
    }
   },
   "outputs": [],
   "source": [
    "beta[:, -1:] = 1"
   ]
  },
  {
   "cell_type": "code",
   "execution_count": 6,
   "metadata": {
    "ExecuteTime": {
     "end_time": "2021-07-27T14:42:33.140182Z",
     "start_time": "2021-07-27T14:42:33.128202Z"
    }
   },
   "outputs": [
    {
     "data": {
      "text/plain": [
       "array([[0., 0., 0., 0., 0., 0., 0., 0., 0., 1.],\n",
       "       [0., 0., 0., 0., 0., 0., 0., 0., 0., 1.],\n",
       "       [0., 0., 0., 0., 0., 0., 0., 0., 0., 1.],\n",
       "       [0., 0., 0., 0., 0., 0., 0., 0., 0., 1.]])"
      ]
     },
     "execution_count": 6,
     "metadata": {},
     "output_type": "execute_result"
    }
   ],
   "source": [
    "beta"
   ]
  },
  {
   "cell_type": "markdown",
   "metadata": {},
   "source": [
    "# Fit functions"
   ]
  },
  {
   "cell_type": "code",
   "execution_count": 2,
   "metadata": {
    "ExecuteTime": {
     "end_time": "2021-07-15T18:22:04.139710Z",
     "start_time": "2021-07-15T18:22:04.059706Z"
    }
   },
   "outputs": [],
   "source": [
    "def coherent_state(n, alpha):\n",
    "    return np.exp(-abs(alpha)**2)*abs(alpha)**(2*n)/scipy.special.factorial(n)\n",
    "\n",
    "def line(x, m, b):\n",
    "    return m*x+b\n",
    "\n",
    "def proportional(x, m):\n",
    "    return m * x\n",
    "\n",
    "def gfromchi(chi,alpha,delta):\n",
    "    return np.sqrt(chi*delta*(delta+alpha)/alpha)\n",
    "\n",
    "def gaussfuncsum(p, x):\n",
    "    \"\"\"p[0]+p[1]/(1+(x-p[2])**2/p[3]**2)\"\"\"\n",
    "    y = 0\n",
    "    for ii in range(N):\n",
    "        y = y + p[3*ii+1]*exp(-(x-(p[3*ii+2]))**2/2/p[3*ii+3]**2)\n",
    "    return y\n",
    "\n",
    "def gaussfuncsum_with_baseline(x, *args):\n",
    "    \"\"\"p[0]+p[1]/(1+(x-p[2])**2/p[3]**2)\"\"\"\n",
    "    y = 0 \n",
    "    p = args\n",
    "#     print(len(p))\n",
    "    for ii in range(7):\n",
    "        y = y + p[3*ii+1]*exp(-(x-(p[3*ii+2]))**2/2/p[3*ii+3]**2)\n",
    "    y += p[0]\n",
    "    return y\n",
    "def fitgausssum(xdata, ydata, fitparams=None, domain=None, showfit=False,\n",
    "                showstartfit=False, label=\"\", debug=False):\n",
    "    \"\"\"fit lorentzian:\n",
    "        returns [offset,amplitude,center,hwhm]\"\"\"\n",
    "    if domain is not None:\n",
    "        fitdatax,fitdatay = selectdomain(xdata, ydata, domain)\n",
    "    else:\n",
    "        fitdatax = xdata\n",
    "        fitdatay = ydata\n",
    "    \n",
    "    if fitparams is None:\n",
    "        fitparams = 0*ones(3*N+1)\n",
    "        fitparams[0] = (fitdatay[0] + fitdatay[-1])/2.\n",
    "        fitparams[1] = max(fitdatay) - min(fitdatay)\n",
    "        fitparams[2] = fitdatax[np.argmax(fitdatay)]\n",
    "        fitparams[3] = (max(fitdatax) - min(fitdatax))/10.\n",
    "    \n",
    "    if debug==True: \n",
    "        print(fitparams)\n",
    "        \n",
    "    p1 = fitgeneral(fitdatax, fitdatay, gaussfuncsum, fitparams, domain=None, showfit=showfit, \n",
    "                    showstartfit=showstartfit, label=label)\n",
    "    p1[3]=abs(p1[3])\n",
    "    \n",
    "    return p1\n",
    "\n",
    "def fitgausssum_with_baseline(xdata, ydata, fitparams=None):\n",
    "    \"\"\"fit lorentzian:\n",
    "        returns [offset,amplitude,center,hwhm]\"\"\"\n",
    "    fitdatax = xdata\n",
    "    fitdatay = ydata\n",
    "#     if fitparams is None:\n",
    "#         fitparams = 0*ones(3*N+1)\n",
    "#         fitparams[0] = (fitdatay[0]+fitdatay[-1])/2.\n",
    "#         fitparams[1] = max(fitdatay)-min(fitdatay)\n",
    "#         fitparams[2] = fitdatax[np.argmax(fitdatay)]\n",
    "#         fitparams[3] = (max(fitdatax)-min(fitdatax))/10.\n",
    "    \n",
    "#     p1 = fitgeneral(fitdatax, fitdatay, gaussfuncsum_with_baseline, fitparams, domain=None, showfit=showfit,\n",
    "#                     showstartfit=showstartfit, label=label)\n",
    "#     bounds=(0, [3., 1., 0.5])\n",
    "        \n",
    "    popt, pcov = curve_fit(gaussfuncsum_with_baseline, fitdatax, fitdatay, p0=fitparams, bounds=(0, np.inf))\n",
    "\n",
    "    return popt, pcov\n",
    "\n",
    "def fitamp(p1):\n",
    "    fitamparray = []\n",
    "    fitfreqarray = []\n",
    "    n_peaks = int((len(p1)-1)/3)\n",
    "    for i in range(n_peaks):\n",
    "        fitamparray.append(p1[3*i+1])\n",
    "        fitfreqarray.append(p1[3*i+2])\n",
    "    return fitamparray , fitfreqarray\n",
    "\n",
    "def fitcoherentstate(peak_val):\n",
    "    xdata = np.arange(len(peak_val))\n",
    "    ydata = peak_val\n",
    "    popt, pcov = curve_fit(coherent_state, xdata, ydata)\n",
    "    return popt[0], np.sqrt(pcov[0][0])\n",
    "\n",
    "def expfunc2(x, p):\n",
    "    \"\"\"p[0]+p[1]*exp(-(x-p[2])/p[3])\"\"\"\n",
    "    return p[0]*np.exp**(-(x-p[1])/p[2])\n",
    "\n",
    "def fitexp2(xdata,ydata,fitparams=None,domain=None,showfit=False,showstartfit=False,label=\"\"):\n",
    "    \"\"\"Fit exponential decay (p[0]*exp(-(x-p[1])/p[2]))\"\"\"\n",
    "    if domain is not None:\n",
    "        fitdatax,fitdatay = selectdomain(xdata,ydata,domain)\n",
    "    else:\n",
    "        fitdatax=xdata\n",
    "        fitdatay=ydata\n",
    "    if fitparams is None:    \n",
    "        fitparams=[0.,0.,0.,0.]\n",
    "        fitparams[0]=fitdatay[0]-fitdatay[-1]\n",
    "        fitparams[1]=fitdatax[0]\n",
    "        fitparams[2]=(fitdatax[-1]-fitdatax[0])/5.\n",
    "    #print fitparams\n",
    "    p1 = fitgeneral(fitdatax, fitdatay, expfunc2, fitparams, domain=None, showfit=showfit, showstartfit=showstartfit,\n",
    "                    label=label)\n",
    "    return p1   \n",
    "\n",
    "def expfunc_test(x, a, b, c):\n",
    "    return b*np.exp(-(x-a)/c)\n",
    "\n",
    "def expfunc_baseline(x, a, b, c):\n",
    "    return a*np.exp(-x/b) + c\n",
    "\n",
    "def doublegauss(bins, *p):\n",
    "    a1, sigma1, mu1 = p[0], p[1], p[2]\n",
    "    a2, sigma2, mu2 = p[3], p[4], p[5]\n",
    "\n",
    "    y1 = a1*((1 / (np.sqrt(2 * np.pi) * sigma1)) *\n",
    "     np.exp(-0.5 * (1 / sigma1 * (bins - mu1))**2))\n",
    "    y2 = a2*((1 / (np.sqrt(2 * np.pi) * sigma2)) *\n",
    "     np.exp(-0.5 * (1 / sigma2 * (bins - mu2))**2))\n",
    "    y = y1+y2\n",
    "    \n",
    "    return y\n",
    "def gaussian2d(x, y, x0, y0, xalpha, yalpha, A):\n",
    "    return A * np.exp( -((x-x0)/xalpha)**2 -((y-y0)/yalpha)**2)\n",
    "\n",
    "\n",
    "def hist(filename=None, data=None, plot=True, ran=1.0):\n",
    "    \n",
    "    if data == None:\n",
    "        with File(filename,'r') as a:\n",
    "            ig = array(a['ig'])\n",
    "            qg = array(a['qg'])\n",
    "            ie = array(a['ie'])\n",
    "            qe = array(a['qe'])\n",
    "            a.close()\n",
    "    else:\n",
    "        ig = data[0]\n",
    "        qg = data[1]\n",
    "        ie = data[2]\n",
    "        qe = data[3]\n",
    "\n",
    "    numbins = 200\n",
    "    \n",
    "    xg, yg = np.median(ig), np.median(qg)\n",
    "    xe, ye = np.median(ie), np.median(qe)\n",
    "\n",
    "    if plot==True:\n",
    "        fig, axs = plt.subplots(nrows=1, ncols=3, figsize=(16, 4))\n",
    "        fig.tight_layout()\n",
    "\n",
    "        axs[0].scatter(ig, qg, label='g', color='b', marker='*')\n",
    "        axs[0].scatter(ie, qe, label='e', color='r', marker='*')\n",
    "        axs[0].scatter(xg, yg, color='k', marker='o')\n",
    "        axs[0].scatter(xe, ye, color='k', marker='o')\n",
    "        axs[0].set_xlabel('I (a.u.)')\n",
    "        axs[0].set_ylabel('Q (a.u.)')\n",
    "        axs[0].legend(loc='upper right')\n",
    "        axs[0].set_title('Unrotated')\n",
    "        axs[0].axis('equal')\n",
    "    \"\"\"Compute the rotation angle\"\"\"\n",
    "    theta = -arctan((ye-yg)/(xe-xg))\n",
    "    \"\"\"Rotate the IQ data\"\"\"\n",
    "    ig_new = ig*cos(theta) - qg*sin(theta)\n",
    "    qg_new = ig*sin(theta) + qg*cos(theta) \n",
    "    ie_new = ie*cos(theta) - qe*sin(theta)\n",
    "    qe_new = ie*sin(theta) + qe*cos(theta)\n",
    "    \n",
    "    \"\"\"New means of each blob\"\"\"\n",
    "    xg, yg = np.median(ig_new), np.median(qg_new)\n",
    "    xe, ye = np.median(ie_new), np.median(qe_new)\n",
    "\n",
    "    xlims = [xg-ran, xg+ran]\n",
    "    ylims = [yg-ran, yg+ran]\n",
    "\n",
    "    if plot==True:\n",
    "        axs[1].scatter(ig_new, qg_new, label='g', color='b', marker='*')\n",
    "        axs[1].scatter(ie_new, qe_new, label='e', color='r', marker='*')\n",
    "        axs[1].scatter(xg, yg, color='k', marker='o')\n",
    "        axs[1].scatter(xe, ye, color='k', marker='o')    \n",
    "        axs[1].set_xlabel('I (a.u.)')\n",
    "        axs[1].legend(loc='upper right')\n",
    "        axs[1].set_title('Rotated')\n",
    "        axs[1].axis('equal')\n",
    "\n",
    "        \"\"\"X and Y ranges for histogram\"\"\"\n",
    "        \n",
    "        ng, binsg, pg = axs[2].hist(ig_new, bins=numbins, range = xlims, color='b', label='g', alpha=0.5)\n",
    "    #     popt, pcov = curve_fit(doublegauss, xdata=binsg[:-1], ydata=ng, p0=p0)\n",
    "    #     mu_g = popt[2]\n",
    "    #     axs[2].plot(binsg, doublegauss(binsg, *popt), 'k--', linewidth=2 )\n",
    "        ne, binse, pe = axs[2].hist(ie_new, bins=numbins, range = xlims, color='r', label='e', alpha=0.5)\n",
    "    #     popt, pcov = curve_fit(doublegauss, xdata=binse[:-1], ydata=ne, p0=p0)\n",
    "    #     mu_e = popt[5]\n",
    "    #     axs[2].plot(binse, doublegauss(binse, *popt), 'k--', linewidth=2 )\n",
    "    #     axs[2].text(0.5*(mu_g + mu_e), 0.3*np.max(ne), \"$\\mu_{g}$ = %.4f \\n $\\mu_{e}$ = %.4f\"%(mu_g, mu_e), fontsize=16)\n",
    "\n",
    "        axs[2].set_xlabel('I(a.u.)')        \n",
    "        fig.show()\n",
    "        \n",
    "    else:        \n",
    "        ng, binsg = np.histogram(ig_new, bins=numbins, range = xlims)\n",
    "        ne, binse = np.histogram(ie_new, bins=numbins, range = xlims)\n",
    "\n",
    "    \"\"\"Compute the fidelity using overlap of the histograms\"\"\"\n",
    "    fid = np.abs(((np.cumsum(ng) - np.cumsum(ne)) / (0.5*ng.sum() + 0.5*ne.sum()))).max()\n",
    "\n",
    "    return fid, theta\n",
    "\n",
    "def rot_data(i, q, hist_filename=None):\n",
    "    \n",
    "    fid, theta = hist(hist_filename, ran=0.1)\n",
    "    print(fid, theta)\n",
    "    \"\"\"Rotate the IQ data\"\"\"\n",
    "    i_new = i*cos(theta) - q*sin(theta)\n",
    "    q_new = i*sin(theta) + q*cos(theta) \n",
    "    \n",
    "    return (i_new, q_new)\n",
    "\n",
    "\n",
    "def ramsfit(tR, n0, phi0, a):\n",
    "    T2 = 120e-6\n",
    "    dephase = 1/T2\n",
    "    detune = 2*np.pi*1e6 \n",
    "    chi = 2*np.pi*380e3\n",
    "    kappa = 2*np.pi*(8.0517e9)/8800\n",
    "    tau = []\n",
    "    z = []\n",
    "    res = []\n",
    "    for i,t in enumerate(tR):\n",
    "        tau.append((1-np.exp(-complex(kappa*tR[i], 2*chi*tR[i])))/complex(kappa, 2*chi))\n",
    "        z.append(np.exp(complex(-dephase*tR[i] , phi0 - detune*tR[i] - 2*n0*chi*tau[i])))\n",
    "        res.append(a*0.5*(1-np.imag(z[i])))\n",
    "    return np.array(res)\n",
    "\n",
    "def cav_response_new(p, x):\n",
    "    \"\"\"(p[0]/p[1])/(-1/2*p[0]/p[1] - 1j*(x-p[0])\"\"\"\n",
    "    ### p[0]=center freq, p[1]=kappa\n",
    "    temp = (p[1])/(p[1] - 1j*(x-p[0]))\n",
    "    return temp/max(abs(temp))\n",
    "\n",
    "def IF_window(p,x):\n",
    "    ### p[0] = center freq, p[1] = window width\n",
    "    temp = zeros(len(x)) + 1j*zeros(len(x))\n",
    "    for ii in range(len(x)):\n",
    "        if x[ii]>(p[0]-p[1]) and x[ii]<(p[0]+p[1]):\n",
    "            temp[ii] = 1/sqrt(2)*(1+1j)\n",
    "        else:\n",
    "            pass\n",
    "    return temp/max(abs(temp))\n",
    "\n",
    "def erf_t(A, sig, tc, tb, t):\n",
    "    #A-Amplitude, sig-Gaussian Filter Width, tc-Core Pulse length, tb - zero-amplitude buffer length\n",
    "    return (A/2)*(sc.special.erf((t-tb)/(sqrt(2)*sig))-sc.special.erf((t-tc-tb)/(sqrt(2)*sig)))"
   ]
  },
  {
   "cell_type": "markdown",
   "metadata": {},
   "source": [
    "# HMM Model"
   ]
  },
  {
   "cell_type": "code",
   "execution_count": 3,
   "metadata": {
    "ExecuteTime": {
     "end_time": "2021-07-15T18:22:05.000704Z",
     "start_time": "2021-07-15T18:22:04.930284Z"
    }
   },
   "outputs": [],
   "source": [
    "class hmm_analysis:\n",
    "\n",
    "    def __init__(self, qubit_params = None, cavity_params = None, readout_params = None):\n",
    "        \n",
    "        self.qubit_params = qubit_params\n",
    "        self.cavity_params = cavity_params\n",
    "        self.readout_params = readout_params\n",
    "\n",
    "        \"\"\"All the timescales are in μs\"\"\"\n",
    "        self.qubit_t1 = qubit_params['t1']\n",
    "        self.qubit_t2 = qubit_params['t2']\n",
    "        self.qubit_nth = qubit_params['nth']\n",
    "        \n",
    "        self.cavity_t1 = cavity_params['t1']\n",
    "        self.cavity_nth = cavity_params['nth']\n",
    "        \n",
    "        self.readout_len = readout_params['length']        \n",
    "        self.trigger_period = readout_params['trigger']\n",
    "        self.pi_length = readout_params['pi_pulse']\n",
    "\n",
    "    ##----------------------------------------------------------------##\n",
    "    def forward(self, meas_seq, T, E):\n",
    "        num_meas = len(meas_seq)\n",
    "        N = T.shape[0]\n",
    "        alpha = zeros((num_meas, N))\n",
    "        pi = [0.25, 0.25, 0.25, 0.25]\n",
    "        alpha[0] = pi*E[:,meas_seq[0]]\n",
    "        for t in range(1, num_meas):\n",
    "            alpha[t] = alpha[t-1].dot(T) * E[:, meas_seq[t]]\n",
    "        return alpha\n",
    "\n",
    "    def backward(self, meas_seq, T, E):\n",
    "        N = T.shape[0]\n",
    "        num_meas = len(meas_seq)\n",
    "        beta = zeros((N,num_meas))\n",
    "        beta[:,-1:] = 1\n",
    "        for t in reversed(range(num_meas-1)):\n",
    "            for n in range(N):\n",
    "                beta[n,t] = sum(beta[:,t+1] * T[n,:] * E[:, meas_seq[t+1]])\n",
    "        return beta\n",
    "\n",
    "    def likelihood(self, meas_seq, T, E):\n",
    "        # returns log P(Y  \\mid  model)\n",
    "        # using the forward part of the forward-backward algorithm\n",
    "        return  self.forward(meas_seq, T, E)[-1].sum()\n",
    "\n",
    "    def gamma(self, meas_seq, T, E):\n",
    "        alpha = self.forward(meas_seq, T, E)\n",
    "        beta  = self.backward(meas_seq, T, E)\n",
    "        obs_prob = self.likelihood(meas_seq, T, E)\n",
    "        return (multiply(alpha, beta.T) / obs_prob)\n",
    "\n",
    "    def viterbi(self, meas_seq, T, E):\n",
    "        # returns the most likely state sequence given observed sequence x\n",
    "        # using the Viterbi algorithm\n",
    "        num_meas = len(meas_seq)\n",
    "        N = T.shape[0]\n",
    "        delta = zeros((num_meas, N))\n",
    "        psi = zeros((num_meas, N))\n",
    "        pi = [0.25,0.25,0.25,0.25]\n",
    "        delta[0] = pi*E[:,meas_seq[0]]\n",
    "        for t in range(1, num_meas):\n",
    "            for j in range(N):\n",
    "                delta[t,j] = max(delta[t-1]*T[:,j]) * E[j, meas_seq[t]]\n",
    "                psi[t,j] = argmax(delta[t-1]*T[:,j])\n",
    "\n",
    "        # backtrack\n",
    "        states = zeros(num_meas, dtype=int32)\n",
    "        states[num_meas-1] = argmax(delta[num_meas-1])\n",
    "        for t in range(num_meas-2, -1, -1):\n",
    "            states[t] = psi[t+1, states[t+1]]\n",
    "        return states\n",
    "    ##----------------------------------------------------------------##\n",
    "    def alpha_awg_cal(self, cav_amp=0.4, cav_len=250):\n",
    "        # takes input array of amps and length and converts them to output array of alphas,\n",
    "        # using a calibration h5 file defined in the experiment config\n",
    "        # pull calibration data from file, handling properly in case of multimode cavity\n",
    "        cal_path = 'C:\\_Lib\\python\\slab\\experiments\\qm_opx\\drive_calibration'\n",
    "\n",
    "        fn_file = cal_path + '\\\\00000_2021_05_20_cavity_square.h5'\n",
    "\n",
    "        with File(fn_file, 'r') as f:\n",
    "            omegas = np.array(f['omegas'])\n",
    "            amps = np.array(f['amps'])\n",
    "\n",
    "        # assume zero frequency at zero amplitude, used for interpolation function\n",
    "        omegas = np.append(omegas, 0.0)\n",
    "        amps = np.append(amps, 0.0)\n",
    "\n",
    "        o_s = omegas\n",
    "        a_s = amps\n",
    "\n",
    "        # interpolate data, transfer_fn is a function that for each amp returns the corresponding omega\n",
    "        transfer_fn = scipy.interpolate.interp1d(a_s, o_s)\n",
    "\n",
    "        omega_desired = transfer_fn(cav_amp)\n",
    "        alpha = omega_desired * cav_len\n",
    "\n",
    "        \"\"\"Returns alpha in the cavity\"\"\"\n",
    "        return alpha\n",
    "        \n",
    "    ##----------------------------------------------------------------##\n",
    "    def openfile(self, filename):\n",
    "        \n",
    "        return File(filename,'r')\n",
    "\n",
    "    def stateprep(self, data_filename, at_end=True):\n",
    "        \n",
    "        \"\"\"Readout fidelities from an independent measurement\"\"\"\n",
    "        g_infidelity, e_infidelity = 0.0198, 0.0694\n",
    "        \n",
    "        self.a = self.openfile(data_filename)\n",
    "\n",
    "        bit1 = np.array(self.a['bit1'])[:]\n",
    "        bit2 = np.array(self.a['bit2'])[:]\n",
    "        bit3 = pd.DataFrame(self.a['bit3'])[:]\n",
    "        \n",
    "        p_cav = np.array(self.a['p_cav'])/100\n",
    "        cav_amp = np.array(self.a['amp'])\n",
    "        cav_len = np.array(self.a['time'])\n",
    "        npi_m = int(np.array(self.a['pi_m']))\n",
    "        npi_n = int(np.array(self.a['pi_n']))\n",
    "\n",
    "        self.a.close()\n",
    "        \n",
    "        df = bit3\n",
    "        alpha = self.alpha_awg_cal(cav_amp, cav_len)\n",
    "        print('# of π at m= {}, at n = {}'.format(npi_m, npi_n))\n",
    "        print('Coherent drive: amp = {}, length = {} ns'.format(cav_amp, cav_len))\n",
    "\n",
    "        nx, ny = np.shape(df)\n",
    "                \n",
    "        \"\"\"Renaming the columns of repeated pi pulses\"\"\"\n",
    "        l = []\n",
    "        for i in range(ny):\n",
    "            l.append('π%i'%i)\n",
    "        df.columns = l\n",
    "\n",
    "        df['n'] = 2*bit2 + bit1\n",
    "\n",
    "        cols = df.columns.tolist()\n",
    "        cols = cols[-1:] + cols[:-1]\n",
    "        df = df[cols].sort_values(by=['n'])\n",
    "\n",
    "        \"\"\"Find out the unique Fock levels and their occurences\"\"\"\n",
    "\n",
    "        (unique, counts) = np.unique(df['n'], return_counts=True)\n",
    "\n",
    "        print(unique, counts)\n",
    "        \n",
    "        p_m_counts = []\n",
    "        p_n_counts = []\n",
    "        \n",
    "        index = 0\n",
    "        for ii in range(len(unique)):\n",
    "            pm_temp = []\n",
    "            pn_temp = []\n",
    "            \n",
    "            fstate_in = unique[ii]+1\n",
    "\n",
    "            cavity_t1 = self.cavity_t1/fstate_in\n",
    "            Pnm =  (1-np.exp(-self.trigger_period/cavity_t1)) + self.cavity_nth * (1-np.exp(-self.trigger_period/cavity_t1))\n",
    "\n",
    "            Pmn = 0 + 0 #assuming that the population at (n+1) is negligible and (n-1) we will estimate\\\n",
    "            Pge = self.qubit_nth * (1-np.exp(-self.trigger_period/self.qubit_t1)) +\\\n",
    "                (1-np.exp(-self.pi_length/self.qubit_t2))\n",
    "            Peg = (1-np.exp(-self.trigger_period/self.qubit_t1)) + \\\n",
    "                (1-np.exp(-self.pi_length/self.qubit_t2))\n",
    "\n",
    "            T = asarray([[(1-Pmn)*(1-Pge), (1-Pmn)*Pge, Pmn*Pge, Pmn*(1-Pge)],\n",
    "                 [(1-Pmn)*Peg, (1-Pmn)*(1-Peg), Pmn*(1-Peg), Pmn*Peg],\n",
    "                 [Pnm*(1-Pge), Pnm*Pge, (1-Pnm)*Pge, (1-Pnm)*(1-Pge)],\n",
    "                 [Pnm*Peg, Pnm*(1-Peg), (1-Pnm)*(1-Peg), (1-Pnm)*Peg]])\n",
    "\n",
    "            E = 0.5*asarray([[1-g_infidelity, g_infidelity],\n",
    "                [e_infidelity, 1- e_infidelity],\n",
    "                [1-g_infidelity, g_infidelity],\n",
    "                [e_infidelity, 1- e_infidelity]])\n",
    "            \n",
    "            for jj in range(counts[ii]):\n",
    "                \"\"\"State preparation probabilities at the end or at the beginning of m π pulses\"\"\"\n",
    "                meas_seq = df.iloc[index + jj][1:1+npi_m]\n",
    "                gamma_matrix = self.gamma(meas_seq, T, E)\n",
    "                if at_end==True: #Probablitity of state surviving till the end\n",
    "                    P0_last = gamma_matrix[-1,0] + gamma_matrix[-1,1]\n",
    "                    P1_last = gamma_matrix[-1,2] + gamma_matrix[-1,3]\n",
    "                else:#Probability at the beginnning\n",
    "                    P0_last = gamma_matrix[0,0] + gamma_matrix[0,1]\n",
    "                    P1_last = gamma_matrix[0,2] + gamma_matrix[0,3]   \n",
    "                pm_temp.append(P1_last/P0_last)\n",
    "\n",
    "                \"\"\"After the coherent drive, probabilities at the begining of n π pulses\"\"\"    \n",
    "                meas_seq = df.iloc[index + jj][npi_m:]\n",
    "                gamma_matrix = self.gamma(meas_seq, T, E)\n",
    "                P0_first = gamma_matrix[0,0] + gamma_matrix[0,1]\n",
    "                P1_first = gamma_matrix[0,2] + gamma_matrix[0,3]   \n",
    "                pn_temp.append(P1_first/P0_first)\n",
    "\n",
    "            index = index + counts[ii]\n",
    "            p_m_counts.append(pm_temp)\n",
    "            p_n_counts.append(pn_temp)\n",
    "\n",
    "        return alpha, unique, counts, p_m_counts, p_n_counts"
   ]
  },
  {
   "cell_type": "code",
   "execution_count": 45,
   "metadata": {
    "ExecuteTime": {
     "end_time": "2021-07-15T20:44:26.254288Z",
     "start_time": "2021-07-15T20:44:26.154281Z"
    }
   },
   "outputs": [],
   "source": [
    "class hmm_analysis_2:\n",
    "\n",
    "    def __init__(self, qubit_params = None, cavity_params = None, readout_params = None):\n",
    "        \n",
    "        self.qubit_params = qubit_params\n",
    "        self.cavity_params = cavity_params\n",
    "        self.readout_params = readout_params\n",
    "\n",
    "        \"\"\"All the timescales are in μs\"\"\"\n",
    "        self.qubit_t1 = qubit_params['t1']\n",
    "        self.qubit_t2 = qubit_params['t2']\n",
    "        self.qubit_nth = qubit_params['nth']\n",
    "        \n",
    "        self.cavity_t1 = cavity_params['t1']\n",
    "        self.cavity_nth = cavity_params['nth']\n",
    "        \n",
    "        self.readout_len = readout_params['length']        \n",
    "        self.trigger_period = readout_params['trigger']\n",
    "        self.pi_length = readout_params['pi_pulse']\n",
    "        self.g_inf = readout_params['g_inf']        \n",
    "        self.e_inf = readout_params['e_inf']        \n",
    "\n",
    "    ##----------------------------------------------------------------##\n",
    "    def forward(self, meas_seq, T, E):\n",
    "        num_meas = len(meas_seq)\n",
    "        N = T.shape[0]\n",
    "        alpha = zeros((num_meas, N))\n",
    "        pi = [0.25, 0.25, 0.25, 0.25]\n",
    "        alpha[0] = pi*E[:,meas_seq[0]]\n",
    "        for t in range(1, num_meas):\n",
    "            alpha[t] = alpha[t-1].dot(T) * E[:, meas_seq[t]]\n",
    "        return alpha\n",
    "\n",
    "    def backward(self, meas_seq, T, E):\n",
    "        N = T.shape[0]\n",
    "        num_meas = len(meas_seq)\n",
    "        beta = zeros((N,num_meas))\n",
    "        beta[:,-1:] = 1\n",
    "        for t in reversed(range(num_meas-1)):\n",
    "            for n in range(N):\n",
    "                beta[n,t] = sum(beta[:,t+1] * T[n,:] * E[:, meas_seq[t+1]])\n",
    "        return beta\n",
    "\n",
    "    def likelihood(self, meas_seq, T, E):\n",
    "        # returns log P(Y  \\mid  model)\n",
    "        # using the forward part of the forward-backward algorithm\n",
    "        return  self.forward(meas_seq, T, E)[-1].sum()\n",
    "\n",
    "    def gamma(self, meas_seq, T, E):\n",
    "        alpha = self.forward(meas_seq, T, E)\n",
    "        beta  = self.backward(meas_seq, T, E)\n",
    "        obs_prob = self.likelihood(meas_seq, T, E)\n",
    "        return (multiply(alpha, beta.T) / obs_prob)\n",
    "\n",
    "    def viterbi(self, meas_seq, T, E):\n",
    "        # returns the most likely state sequence given observed sequence x\n",
    "        # using the Viterbi algorithm\n",
    "        num_meas = len(meas_seq)\n",
    "        N = T.shape[0]\n",
    "        delta = zeros((num_meas, N))\n",
    "        psi = zeros((num_meas, N))\n",
    "        pi = [0.25,0.25,0.25,0.25]\n",
    "        delta[0] = pi*E[:,meas_seq[0]]\n",
    "        for t in range(1, num_meas):\n",
    "            for j in range(N):\n",
    "                delta[t,j] = max(delta[t-1]*T[:,j]) * E[j, meas_seq[t]]\n",
    "                psi[t,j] = argmax(delta[t-1]*T[:,j])\n",
    "\n",
    "        # backtrack\n",
    "        states = zeros(num_meas, dtype=int32)\n",
    "        states[num_meas-1] = argmax(delta[num_meas-1])\n",
    "        for t in range(num_meas-2, -1, -1):\n",
    "            states[t] = psi[t+1, states[t+1]]\n",
    "        return states\n",
    "    ##----------------------------------------------------------------##\n",
    "    def alpha_awg_cal(self, cav_amp=0.4, cav_len=250):\n",
    "        # takes input array of amps and length and converts them to output array of alphas,\n",
    "        # using a calibration h5 file defined in the experiment config\n",
    "        # pull calibration data from file, handling properly in case of multimode cavity\n",
    "        cal_path = 'C:\\_Lib\\python\\slab\\experiments\\qm_opx\\drive_calibration'\n",
    "\n",
    "        fn_file = cal_path + '\\\\00000_2021_7_14_cavity_square.h5'\n",
    "\n",
    "        with File(fn_file, 'r') as f:\n",
    "            omegas = np.array(f['omegas'])\n",
    "            amps = np.array(f['amps'])\n",
    "\n",
    "        # assume zero frequency at zero amplitude, used for interpolation function\n",
    "        omegas = np.append(omegas, 0.0)\n",
    "        amps = np.append(amps, 0.0)\n",
    "\n",
    "        o_s = omegas\n",
    "        a_s = amps\n",
    "\n",
    "        # interpolate data, transfer_fn is a function that for each amp returns the corresponding omega\n",
    "        transfer_fn = scipy.interpolate.interp1d(a_s, o_s)\n",
    "\n",
    "        omega_desired = transfer_fn(cav_amp)\n",
    "        alpha = omega_desired * cav_len\n",
    "\n",
    "        \"\"\"Returns alpha in the cavity\"\"\"\n",
    "        return alpha\n",
    "        \n",
    "    ##----------------------------------------------------------------##\n",
    "    def openfile(self, filename):\n",
    "\n",
    "        return File(filename,'r')\n",
    "\n",
    "    def stateprep(self, fstate_in=0, data_filename=None, at_end=True):\n",
    "        \n",
    "        \"\"\"Readout fidelities from an independent measurement\"\"\"\n",
    "        g_infidelity, e_infidelity = self.g_inf, self.e_inf\n",
    "        \n",
    "        self.a = self.openfile(data_filename)\n",
    "\n",
    "        bit3 = pd.DataFrame(self.a['bit3'])[:]\n",
    "        \n",
    "        cav_amp = np.array(self.a['amp'])\n",
    "        cav_len = np.array(self.a['time'])\n",
    "        npi_m = int(np.array(self.a['pi_m']))\n",
    "        npi_n = int(np.array(self.a['pi_n']))\n",
    "\n",
    "        self.a.close()\n",
    "        \n",
    "        df = bit3\n",
    "        alpha = self.alpha_awg_cal(cav_amp, cav_len)\n",
    "        print('# of π at m= {}, at n = {}'.format(npi_m, npi_n))\n",
    "        print('Coherent drive: amp = {}, length = {} ns'.format(cav_amp, cav_len))\n",
    "\n",
    "        nx, ny = np.shape(df)\n",
    "                \n",
    "        \"\"\"Renaming the columns of repeated pi pulses\"\"\"\n",
    "        l = []\n",
    "        for i in range(ny):\n",
    "            l.append('π%i'%i)\n",
    "        df.columns = l\n",
    "\n",
    "        \"\"\"Find out the unique Fock levels and their occurences\"\"\"\n",
    "        \n",
    "        p_m_counts = []\n",
    "        \n",
    "        \"\"\"T and E matrices for the state prep part\"\"\"\n",
    "        fstate_in = 0\n",
    "\n",
    "        if fstate_in ==0:\n",
    "            cavity_t1 = self.cavity_t1/(fstate_in+1)\n",
    "            Pnm =  self.cavity_nth * (1-np.exp(-self.trigger_period/cavity_t1))\n",
    "        else: \n",
    "            cavity_t1 = self.cavity_t1/(fstate_in)\n",
    "            Pnm =  (1-np.exp(-self.trigger_period/cavity_t1)) + self.cavity_nth * (1-np.exp(-self.trigger_period/cavity_t1))\n",
    "\n",
    "        Pmn = 0 + 0 #assuming that the population at (n+1) is negligible and (n-1) we will estimate\\\n",
    "\n",
    "        Pge = self.qubit_nth * (1-np.exp(-self.trigger_period/self.qubit_t1)) +\\\n",
    "            (1-np.exp(-self.pi_length/self.qubit_t2))\n",
    "        Peg = (1-np.exp(-self.trigger_period/self.qubit_t1)) + \\\n",
    "            (1-np.exp(-self.pi_length/self.qubit_t2))\n",
    "\n",
    "        T = np.asarray([[(1-Pmn)*(1-Pge), (1-Pmn)*Pge, Pmn*Pge, Pmn*(1-Pge)],\n",
    "             [(1-Pmn)*Peg, (1-Pmn)*(1-Peg), Pmn*(1-Peg), Pmn*Peg],\n",
    "             [Pnm*(1-Pge), Pnm*Pge, (1-Pnm)*Pge, (1-Pnm)*(1-Pge)],\n",
    "             [Pnm*Peg, Pnm*(1-Peg), (1-Pnm)*(1-Peg), (1-Pnm)*Peg]])\n",
    "\n",
    "        E = 0.5*np.asarray([[1-g_infidelity, g_infidelity],\n",
    "            [e_infidelity, 1- e_infidelity],\n",
    "            [1-g_infidelity, g_infidelity],\n",
    "            [e_infidelity, 1- e_infidelity]])\n",
    "            \n",
    "        for jj in range(len(df)):\n",
    "            \"\"\"State preparation probabilities at the end or at the beginning of m π pulses\"\"\"\n",
    "            meas_seq = df.iloc[jj]\n",
    "            gamma_matrix = self.gamma(meas_seq, T, E)\n",
    "            if at_end==True: #Probablitity of state surviving till the end\n",
    "                P0_last = gamma_matrix[-1,0] + gamma_matrix[-1,1]\n",
    "                P1_last = gamma_matrix[-1,2] + gamma_matrix[-1,3]\n",
    "            else:#Probability at the beginnning\n",
    "                P0_last = gamma_matrix[0,0] + gamma_matrix[0,1]\n",
    "                P1_last = gamma_matrix[0,2] + gamma_matrix[0,3]   \n",
    "            p_m_counts.append(P1_last/P0_last)\n",
    "\n",
    "        return alpha, cav_amp, p_m_counts"
   ]
  },
  {
   "cell_type": "markdown",
   "metadata": {},
   "source": [
    "## Debug/Estimating number of pi pulses"
   ]
  },
  {
   "cell_type": "code",
   "execution_count": 4,
   "metadata": {},
   "outputs": [
    {
     "name": "stdout",
     "output_type": "stream",
     "text": [
      "(4,)\n",
      "# of π at m= 10, at n = 30\n",
      "(10000, 40)\n"
     ]
    }
   ],
   "source": [
    "expt_name = 'stim_em_bd_rp'\n",
    "filelist = [8]\n",
    "# 4 => n=0\n",
    "# 7 => n=1\n",
    "\n",
    "qubit_freq = 4.746910599438208\n",
    "two_chi = -1.13e6\n",
    "for ii, i in enumerate(filelist):\n",
    "    filename = \"..\\\\data\\\\\" + str(i).zfill(5) + \"_\"+expt_name.lower()+\".h5\"\n",
    "\n",
    "    with File(filename,'r') as a:\n",
    "\n",
    "        bit1 = np.array(a['bit1'])[:]\n",
    "        bit2 = np.array(a['bit2'])[:]\n",
    "        bit3 = pd.DataFrame(a['bit3'])[:]\n",
    "        \n",
    "        p_cav = np.array(a['p_cav'])/100\n",
    "        cav_amp = np.array(a['amp'])\n",
    "        cav_len = np.array(a['time'])\n",
    "        npi_m = int(np.array(a['pi_m']))\n",
    "        npi_n = int(np.array(a['pi_n']))\n",
    "\n",
    "        a.close()\n",
    "\n",
    "print(np.shape(p_cav))\n",
    "print('# of π at m= {}, at n = {}'.format(npi_m, npi_n))\n",
    "df = bit3\n",
    "print(np.shape(df))\n",
    "\n",
    "nx, ny = np.shape(df)\n",
    "\n",
    "pd.set_option('display.max_rows', None)\n",
    "l = []\n",
    "for i in range(ny):\n",
    "    l.append('π%i'%i)\n",
    "df.columns = l\n",
    "\n",
    "df['n'] = bit1+2*bit2\n",
    "\n",
    "cols = df.columns.tolist()\n",
    "cols = cols[-1:] + cols[:-1]\n",
    "df = df[cols].sort_values(by=['n'])\n",
    "# print(df)"
   ]
  },
  {
   "cell_type": "code",
   "execution_count": 5,
   "metadata": {},
   "outputs": [
    {
     "name": "stdout",
     "output_type": "stream",
     "text": [
      "[0 1 2 3] [1252 7343  669  736]\n"
     ]
    },
    {
     "data": {
      "text/plain": [
       "n      1\n",
       "π0     0\n",
       "π1     0\n",
       "π2     0\n",
       "π3     0\n",
       "π4     0\n",
       "π5     0\n",
       "π6     0\n",
       "π7     0\n",
       "π8     0\n",
       "π9     0\n",
       "π10    0\n",
       "π11    0\n",
       "π12    0\n",
       "π13    0\n",
       "π14    0\n",
       "π15    0\n",
       "π16    0\n",
       "π17    0\n",
       "π18    0\n",
       "π19    0\n",
       "π20    0\n",
       "π21    0\n",
       "π22    0\n",
       "π23    0\n",
       "π24    0\n",
       "π25    0\n",
       "π26    0\n",
       "π27    0\n",
       "π28    1\n",
       "π29    1\n",
       "π30    1\n",
       "π31    1\n",
       "π32    1\n",
       "π33    1\n",
       "π34    1\n",
       "π35    0\n",
       "π36    0\n",
       "π37    0\n",
       "π38    0\n",
       "π39    0\n",
       "Name: 7651, dtype: int64"
      ]
     },
     "execution_count": 5,
     "metadata": {},
     "output_type": "execute_result"
    }
   ],
   "source": [
    "(unique, counts) = np.unique(df['n'], return_counts=True)\n",
    "\n",
    "\n",
    "print(unique, counts)\n",
    "df.iloc[4000][:]"
   ]
  },
  {
   "cell_type": "code",
   "execution_count": 6,
   "metadata": {},
   "outputs": [
    {
     "name": "stdout",
     "output_type": "stream",
     "text": [
      "10\n"
     ]
    }
   ],
   "source": [
    "##----------------------------------------------------------------##\n",
    "def forward( meas_seq, T, E):\n",
    "    num_meas = len(meas_seq)\n",
    "    N = T.shape[0]\n",
    "    alpha = zeros((num_meas, N))\n",
    "    pi = [0.25, 0.25, 0.25, 0.25]\n",
    "    alpha[0] = pi*E[:,meas_seq[0]]\n",
    "    for t in range(1, num_meas):\n",
    "        alpha[t] = alpha[t-1].dot(T) * E[:, meas_seq[t]]\n",
    "    return alpha\n",
    "\n",
    "def backward( meas_seq, T, E):\n",
    "    N = T.shape[0]\n",
    "    num_meas = len(meas_seq)\n",
    "    beta = zeros((N,num_meas))\n",
    "    beta[:,-1:] = 1\n",
    "    for t in reversed(range(num_meas-1)):\n",
    "        for n in range(N):\n",
    "            beta[n,t] = sum(beta[:,t+1] * T[n,:] * E[:, meas_seq[t+1]])\n",
    "    return beta\n",
    "\n",
    "def likelihood( meas_seq, T, E):\n",
    "    # returns log P(Y  \\mid  model)\n",
    "    # using the forward part of the forward-backward algorithm\n",
    "    return  forward(meas_seq, T, E)[-1].sum()\n",
    "\n",
    "def gamma( meas_seq, T, E):\n",
    "    alpha = forward(meas_seq, T, E)\n",
    "    beta  = backward(meas_seq, T, E)\n",
    "    obs_prob = likelihood(meas_seq, T, E)\n",
    "    return (multiply(alpha, beta.T) / obs_prob)\n",
    "\n",
    "def viterbi(meas_seq, T, E):\n",
    "    # returns the most likely state sequence given observed sequence x\n",
    "    # using the Viterbi algorithm\n",
    "    num_meas = len(meas_seq)\n",
    "    N = T.shape[0]\n",
    "    delta = zeros((num_meas, N))\n",
    "    psi = zeros((num_meas, N))\n",
    "    pi = [0.25,0.25,0.25,0.25]\n",
    "    delta[0] = pi*E[:,meas_seq[0]]\n",
    "    for t in range(1, num_meas):\n",
    "        for j in range(N):\n",
    "            delta[t,j] = max(delta[t-1]*T[:,j]) * E[j, meas_seq[t]]\n",
    "            psi[t,j] = argmax(delta[t-1]*T[:,j])\n",
    "\n",
    "    # backtrack\n",
    "    states = zeros(num_meas, dtype=int32)\n",
    "    states[num_meas-1] = argmax(delta[num_meas-1])\n",
    "    for t in range(num_meas-2, -1, -1):\n",
    "        states[t] = psi[t+1, states[t+1]]\n",
    "    return states\n",
    "\n",
    "\n",
    "qubit_params = {'t1':100, 't2':130, 'nth':5e-2}\n",
    "cavity_params = {'t1':5e2, 'nth':0.001}\n",
    "readout_params = {'length':3.2, 'trigger':7.2, 'pi_pulse':3}\n",
    "\n",
    "qubit_t1 = qubit_params['t1']\n",
    "qubit_t2 = qubit_params['t2']\n",
    "qubit_nth = qubit_params['nth']\n",
    "cavity_t1 = cavity_params['t1']\n",
    "cavity_nth = cavity_params['nth']\n",
    "\n",
    "readout_len = readout_params['length']        \n",
    "trigger_period = readout_params['trigger']\n",
    "pi_length = readout_params['pi_pulse']\n",
    "\n",
    "\"\"\"Readout fidelities from an independent measurement\"\"\"\n",
    "g_infidelity, e_infidelity = 0.0194, 0.06647\n",
    "\n",
    "fstate_in = 0\n",
    "\n",
    "if fstate_in == 0:\n",
    "    cavity_t1 = cavity_t1/1\n",
    "    Pnm =  cavity_nth * (1-np.exp(-trigger_period/cavity_t1))\n",
    "else:\n",
    "    cavity_t1 = cavity_t1/fstate_in\n",
    "    Pnm =  (1-np.exp(-trigger_period/cavity_t1)) + cavity_nth * (1-np.exp(-strigger_period/cavity_t1))\n",
    "\n",
    "Pmn = 0 + 0 #assuming that the population at (n+1) is negligible and (n-1) we will estimate\\\n",
    "Pge = qubit_nth * (1-np.exp(-trigger_period/qubit_t1)) +\\\n",
    "    (1-np.exp(-pi_length/qubit_t2))\n",
    "Peg = (1-np.exp(-trigger_period/qubit_t1)) + \\\n",
    "    (1-np.exp(-pi_length/qubit_t2))\n",
    "\n",
    "T = asarray([[(1-Pmn)*(1-Pge), (1-Pmn)*Pge, Pmn*Pge, Pmn*(1-Pge)],\n",
    "     [(1-Pmn)*Peg, (1-Pmn)*(1-Peg), Pmn*(1-Peg), Pmn*Peg],\n",
    "     [Pnm*(1-Pge), Pnm*Pge, (1-Pnm)*Pge, (1-Pnm)*(1-Pge)],\n",
    "     [Pnm*Peg, Pnm*(1-Peg), (1-Pnm)*(1-Peg), (1-Pnm)*Peg]])\n",
    "\n",
    "E = 0.5*asarray([[1-g_infidelity, g_infidelity],\n",
    "    [e_infidelity, 1- e_infidelity],\n",
    "    [1-g_infidelity, g_infidelity],\n",
    "    [e_infidelity, 1- e_infidelity]])\n",
    "\n",
    "meas_seq = df.iloc[4000][1:1+npi_m]\n",
    "P0_last = []\n",
    "P1_last = []\n",
    "print(len(meas_seq))\n",
    "\n",
    "p_m_temp = []\n",
    "\n",
    "for kk in range (len(meas_seq)):\n",
    "    temp_meas_sequence = meas_seq[0:kk+1]\n",
    "    gamma_matrix = gamma(temp_meas_sequence, T, E)\n",
    "    P0_last.append(gamma_matrix[-1,0] + gamma_matrix[-1,1])\n",
    "    P1_last.append(gamma_matrix[-1,2] + gamma_matrix[-1,3])"
   ]
  },
  {
   "cell_type": "code",
   "execution_count": null,
   "metadata": {},
   "outputs": [],
   "source": [
    "P0_last[-1]"
   ]
  },
  {
   "cell_type": "code",
   "execution_count": 7,
   "metadata": {},
   "outputs": [
    {
     "data": {
      "image/png": "[encoded data removed]",
      "text/plain": [
       "<Figure size 1800x1200 with 1 Axes>"
      ]
     },
     "metadata": {
      "needs_background": "light"
     },
     "output_type": "display_data"
    }
   ],
   "source": [
    "\"\"\"### Threshold analysis to estimate the number of pi pulses to be included for < detector based errors\"\"\"\n",
    "plt.figure(dpi=300)\n",
    "\n",
    "n = np.arange(npi_m)\n",
    "t1_err = (1-np.exp(-n*trigger_period/cavity_t1))\n",
    "\n",
    "plt.semilogy(np.array(P0_last), '.', label='!|n+1>')\n",
    "plt.semilogy(np.array(P1_last), '*', label='|n+1>')\n",
    "plt.semilogy(t1_err, 'o', label='T1 decay of |n>')\n",
    "# plt.semilogy(1-t1_err, 'D', label='1-T1')\n",
    "\n",
    "plt.xticks([0, 5, 10])\n",
    "plt.ylabel('P(n+1|n)')\n",
    "plt.xlabel('Number of π pulses included')\n",
    "plt.legend(loc='best')\n",
    "plt.show()"
   ]
  },
  {
   "cell_type": "code",
   "execution_count": 8,
   "metadata": {},
   "outputs": [],
   "source": [
    "meas_seq = df.iloc[4000][:]\n",
    "P0_first = []\n",
    "P1_first =  []\n",
    "for kk in range (len(meas_seq)):\n",
    "    temp_meas_sequence = meas_seq[1+npi_m:]\n",
    "    gamma_matrix = gamma(temp_meas_sequence, T, E)\n",
    "    P0_first.append(gamma_matrix[0,0] + gamma_matrix[0,1])\n",
    "    P1_first.append(gamma_matrix[0,2] + gamma_matrix[0,3])"
   ]
  },
  {
   "cell_type": "code",
   "execution_count": 9,
   "metadata": {},
   "outputs": [
    {
     "data": {
      "image/png": "[encoded data removed]",
      "text/plain": [
       "<Figure size 432x288 with 1 Axes>"
      ]
     },
     "metadata": {
      "needs_background": "light"
     },
     "output_type": "display_data"
    }
   ],
   "source": [
    "plt.plot(np.arange(npi_n), meas_seq[1+npi_m:], '.')\n",
    "plt.show()"
   ]
  },
  {
   "cell_type": "code",
   "execution_count": 10,
   "metadata": {},
   "outputs": [
    {
     "data": {
      "image/png": "[encoded data removed]",
      "text/plain": [
       "<Figure size 1800x1200 with 1 Axes>"
      ]
     },
     "metadata": {
      "needs_background": "light"
     },
     "output_type": "display_data"
    }
   ],
   "source": [
    "\"\"\"### Threshold analysis to estimate the number of pi pulses to be included for < detector based errors\"\"\"\n",
    "plt.figure(dpi=300)\n",
    "\n",
    "n = np.arange(npi_n)\n",
    "t1_err = (1-np.exp(-n*trigger_period/cavity_t1))\n",
    "\n",
    "plt.semilogy(np.array(P0_first), '.', label='!|n+1>')\n",
    "plt.semilogy(np.array(P1_first), '*', label='|n+1>')\n",
    "plt.semilogy(t1_err, 'o', label='T1 decay of |n>')\n",
    "# plt.semilogy(1-t1_err, 'D', label='1-T1')\n",
    "\n",
    "plt.xticks([0, 5, 10, 15, 20, 25, 30])\n",
    "plt.ylabel('P(n+1|n)')\n",
    "plt.xlabel('Number of π pulses included')\n",
    "plt.legend(loc='best')\n",
    "plt.show()"
   ]
  },
  {
   "cell_type": "markdown",
   "metadata": {},
   "source": [
    "## Estimating the cavity state decay after repeated pi pulses"
   ]
  },
  {
   "cell_type": "code",
   "execution_count": 14,
   "metadata": {
    "ExecuteTime": {
     "end_time": "2021-06-05T02:31:09.471049Z",
     "start_time": "2021-06-05T02:31:07.940081Z"
    }
   },
   "outputs": [
    {
     "name": "stdout",
     "output_type": "stream",
     "text": [
      "(4,)\n",
      "# of π at m= 10, at n = 0\n",
      "(15000, 10)\n"
     ]
    }
   ],
   "source": [
    "expt_name = 'stim_em_bd_rp_debug'\n",
    "filelist = [36]\n",
    "# 0 => n=1 with pi's at n+1\n",
    "# 1 => n=1 with pi's at n\n",
    "# 2 => n=1 with pi's at n+1 but an active reset before last BD\n",
    "\n",
    "# 32 - n=1, no first BD, 10 rep pi pulses and then last BD\n",
    "# 33 - n=1, no first BD, 6 rep pi pulses and then last BD\n",
    "# 34 - n=2, first BD, 10 pi's and BD\n",
    "# 35 - n=3, first BD, 10 pi's and BD\n",
    "# 36 - n=1, first BD, 10 pi's and BD\n",
    "\n",
    "for ii, i in enumerate(filelist):\n",
    "    filename = \"..\\\\data\\\\\" + str(i).zfill(5) + \"_\"+expt_name.lower()+\".h5\"\n",
    "\n",
    "    with File(filename,'r') as a:\n",
    "\n",
    "        num1 = np.array(a['num1'])[:]\n",
    "        num2 = np.array(a['num2'])[:]\n",
    "        bit3 = pd.DataFrame(a['bit3'])[:]\n",
    "        \n",
    "        p_cav = np.array(a['p_cav'])/100\n",
    "        cav_amp = np.array(a['amp'])\n",
    "        cav_len = np.array(a['time'])\n",
    "        npi_m = int(np.array(a['pi_m']))\n",
    "        npi_n = int(np.array(a['pi_n']))\n",
    "\n",
    "        a.close()\n",
    "        \n",
    "print(np.shape(p_cav))\n",
    "print('# of π at m= {}, at n = {}'.format(npi_m, npi_n))\n",
    "df = bit3\n",
    "print(np.shape(df))\n",
    "\n",
    "nx, ny = np.shape(df)\n",
    "\n",
    "pd.set_option('display.max_rows', None)\n",
    "l = []\n",
    "for i in range(ny):\n",
    "    l.append('π%i'%i)\n",
    "df.columns = l\n",
    "\n",
    "df['m'] = num1\n",
    "cols = df.columns.tolist()\n",
    "cols = cols[-1:] + cols[:-1]\n",
    "df = df[cols].sort_values(by=['m'])\n",
    "df['n'] = num2"
   ]
  },
  {
   "cell_type": "code",
   "execution_count": 15,
   "metadata": {
    "ExecuteTime": {
     "end_time": "2021-06-05T02:31:09.481050Z",
     "start_time": "2021-06-05T02:31:09.471049Z"
    }
   },
   "outputs": [
    {
     "name": "stdout",
     "output_type": "stream",
     "text": [
      "[0 1 2 3] [3153 9605  719 1523]\n"
     ]
    }
   ],
   "source": [
    "(unique, counts) = np.unique(df['n'], return_counts=True)\n",
    "\n",
    "print(unique, counts)"
   ]
  },
  {
   "cell_type": "code",
   "execution_count": 16,
   "metadata": {
    "ExecuteTime": {
     "end_time": "2021-06-05T02:31:09.491050Z",
     "start_time": "2021-06-05T02:31:09.481050Z"
    }
   },
   "outputs": [
    {
     "name": "stdout",
     "output_type": "stream",
     "text": [
      "[0 1 2 3] [ 1451 11841   637  1071]\n"
     ]
    }
   ],
   "source": [
    "(unique, counts) = np.unique(df['m'], return_counts=True)\n",
    "\n",
    "print(unique, counts)"
   ]
  },
  {
   "cell_type": "code",
   "execution_count": null,
   "metadata": {},
   "outputs": [],
   "source": []
  },
  {
   "cell_type": "code",
   "execution_count": 17,
   "metadata": {
    "ExecuteTime": {
     "end_time": "2021-06-05T02:31:09.991362Z",
     "start_time": "2021-06-05T02:31:09.971362Z"
    }
   },
   "outputs": [
    {
     "name": "stdout",
     "output_type": "stream",
     "text": [
      "11841 7533\n"
     ]
    }
   ],
   "source": [
    "count_m = df['m'][df['m']==1].count() #Number of times n=1 measured after preparing n=1\n",
    "\n",
    "count_n = df['m'][(df['m']==1) & (df['n']==1)].count() #Number of times n=1 measured pre and post repeated pi pulses\n",
    "\n",
    "print(count_m, count_n)"
   ]
  },
  {
   "cell_type": "code",
   "execution_count": 18,
   "metadata": {
    "ExecuteTime": {
     "end_time": "2021-06-05T02:31:10.742531Z",
     "start_time": "2021-06-05T02:31:10.704933Z"
    }
   },
   "outputs": [
    {
     "data": {
      "text/html": [
       "<div>\n",
       "<style scoped>\n",
       "    .dataframe tbody tr th:only-of-type {\n",
       "        vertical-align: middle;\n",
       "    }\n",
       "\n",
       "    .dataframe tbody tr th {\n",
       "        vertical-align: top;\n",
       "    }\n",
       "\n",
       "    .dataframe thead th {\n",
       "        text-align: right;\n",
       "    }\n",
       "</style>\n",
       "<table border=\"1\" class=\"dataframe\">\n",
       "  <thead>\n",
       "    <tr style=\"text-align: right;\">\n",
       "      <th></th>\n",
       "      <th>m</th>\n",
       "      <th>π0</th>\n",
       "      <th>π1</th>\n",
       "      <th>π2</th>\n",
       "      <th>π3</th>\n",
       "      <th>π4</th>\n",
       "      <th>π5</th>\n",
       "      <th>π6</th>\n",
       "      <th>π7</th>\n",
       "      <th>π8</th>\n",
       "      <th>π9</th>\n",
       "      <th>n</th>\n",
       "    </tr>\n",
       "  </thead>\n",
       "  <tbody>\n",
       "    <tr>\n",
       "      <th>9358</th>\n",
       "      <td>0</td>\n",
       "      <td>1</td>\n",
       "      <td>0</td>\n",
       "      <td>1</td>\n",
       "      <td>1</td>\n",
       "      <td>0</td>\n",
       "      <td>1</td>\n",
       "      <td>0</td>\n",
       "      <td>1</td>\n",
       "      <td>0</td>\n",
       "      <td>1</td>\n",
       "      <td>1</td>\n",
       "    </tr>\n",
       "    <tr>\n",
       "      <th>2340</th>\n",
       "      <td>0</td>\n",
       "      <td>0</td>\n",
       "      <td>1</td>\n",
       "      <td>0</td>\n",
       "      <td>1</td>\n",
       "      <td>0</td>\n",
       "      <td>1</td>\n",
       "      <td>0</td>\n",
       "      <td>1</td>\n",
       "      <td>0</td>\n",
       "      <td>1</td>\n",
       "      <td>2</td>\n",
       "    </tr>\n",
       "    <tr>\n",
       "      <th>2585</th>\n",
       "      <td>0</td>\n",
       "      <td>0</td>\n",
       "      <td>1</td>\n",
       "      <td>0</td>\n",
       "      <td>1</td>\n",
       "      <td>0</td>\n",
       "      <td>0</td>\n",
       "      <td>0</td>\n",
       "      <td>1</td>\n",
       "      <td>0</td>\n",
       "      <td>0</td>\n",
       "      <td>1</td>\n",
       "    </tr>\n",
       "    <tr>\n",
       "      <th>9352</th>\n",
       "      <td>0</td>\n",
       "      <td>1</td>\n",
       "      <td>0</td>\n",
       "      <td>0</td>\n",
       "      <td>1</td>\n",
       "      <td>0</td>\n",
       "      <td>1</td>\n",
       "      <td>0</td>\n",
       "      <td>1</td>\n",
       "      <td>0</td>\n",
       "      <td>1</td>\n",
       "      <td>3</td>\n",
       "    </tr>\n",
       "    <tr>\n",
       "      <th>12660</th>\n",
       "      <td>0</td>\n",
       "      <td>0</td>\n",
       "      <td>0</td>\n",
       "      <td>0</td>\n",
       "      <td>0</td>\n",
       "      <td>0</td>\n",
       "      <td>0</td>\n",
       "      <td>0</td>\n",
       "      <td>0</td>\n",
       "      <td>0</td>\n",
       "      <td>0</td>\n",
       "      <td>1</td>\n",
       "    </tr>\n",
       "    <tr>\n",
       "      <th>2312</th>\n",
       "      <td>0</td>\n",
       "      <td>1</td>\n",
       "      <td>0</td>\n",
       "      <td>1</td>\n",
       "      <td>0</td>\n",
       "      <td>1</td>\n",
       "      <td>0</td>\n",
       "      <td>1</td>\n",
       "      <td>0</td>\n",
       "      <td>1</td>\n",
       "      <td>0</td>\n",
       "      <td>1</td>\n",
       "    </tr>\n",
       "    <tr>\n",
       "      <th>5579</th>\n",
       "      <td>0</td>\n",
       "      <td>1</td>\n",
       "      <td>0</td>\n",
       "      <td>1</td>\n",
       "      <td>0</td>\n",
       "      <td>1</td>\n",
       "      <td>0</td>\n",
       "      <td>1</td>\n",
       "      <td>0</td>\n",
       "      <td>1</td>\n",
       "      <td>0</td>\n",
       "      <td>1</td>\n",
       "    </tr>\n",
       "    <tr>\n",
       "      <th>2307</th>\n",
       "      <td>0</td>\n",
       "      <td>1</td>\n",
       "      <td>0</td>\n",
       "      <td>1</td>\n",
       "      <td>0</td>\n",
       "      <td>0</td>\n",
       "      <td>1</td>\n",
       "      <td>0</td>\n",
       "      <td>0</td>\n",
       "      <td>1</td>\n",
       "      <td>0</td>\n",
       "      <td>1</td>\n",
       "    </tr>\n",
       "    <tr>\n",
       "      <th>5580</th>\n",
       "      <td>0</td>\n",
       "      <td>0</td>\n",
       "      <td>0</td>\n",
       "      <td>0</td>\n",
       "      <td>0</td>\n",
       "      <td>0</td>\n",
       "      <td>0</td>\n",
       "      <td>0</td>\n",
       "      <td>1</td>\n",
       "      <td>1</td>\n",
       "      <td>1</td>\n",
       "      <td>1</td>\n",
       "    </tr>\n",
       "    <tr>\n",
       "      <th>2305</th>\n",
       "      <td>0</td>\n",
       "      <td>1</td>\n",
       "      <td>0</td>\n",
       "      <td>1</td>\n",
       "      <td>0</td>\n",
       "      <td>1</td>\n",
       "      <td>0</td>\n",
       "      <td>1</td>\n",
       "      <td>0</td>\n",
       "      <td>1</td>\n",
       "      <td>0</td>\n",
       "      <td>1</td>\n",
       "    </tr>\n",
       "  </tbody>\n",
       "</table>\n",
       "</div>"
      ],
      "text/plain": [
       "       m  π0  π1  π2  π3  π4  π5  π6  π7  π8  π9  n\n",
       "9358   0   1   0   1   1   0   1   0   1   0   1  1\n",
       "2340   0   0   1   0   1   0   1   0   1   0   1  2\n",
       "2585   0   0   1   0   1   0   0   0   1   0   0  1\n",
       "9352   0   1   0   0   1   0   1   0   1   0   1  3\n",
       "12660  0   0   0   0   0   0   0   0   0   0   0  1\n",
       "2312   0   1   0   1   0   1   0   1   0   1   0  1\n",
       "5579   0   1   0   1   0   1   0   1   0   1   0  1\n",
       "2307   0   1   0   1   0   0   1   0   0   1   0  1\n",
       "5580   0   0   0   0   0   0   0   0   1   1   1  1\n",
       "2305   0   1   0   1   0   1   0   1   0   1   0  1"
      ]
     },
     "execution_count": 18,
     "metadata": {},
     "output_type": "execute_result"
    }
   ],
   "source": [
    "df[counts[2]:counts[2]+10]"
   ]
  },
  {
   "cell_type": "code",
   "execution_count": 19,
   "metadata": {
    "ExecuteTime": {
     "end_time": "2021-06-05T02:31:11.637521Z",
     "start_time": "2021-06-05T02:31:11.434920Z"
    }
   },
   "outputs": [
    {
     "data": {
      "text/plain": [
       "[<matplotlib.lines.Line2D at 0x1af98193160>]"
      ]
     },
     "execution_count": 19,
     "metadata": {},
     "output_type": "execute_result"
    },
    {
     "data": {
      "image/png": "[encoded data removed]",
      "text/plain": [
       "<Figure size 432x288 with 1 Axes>"
      ]
     },
     "metadata": {
      "needs_background": "light"
     },
     "output_type": "display_data"
    }
   ],
   "source": [
    "plt.plot(df.iloc[counts[0]+1][1:-1], '.--')"
   ]
  },
  {
   "cell_type": "code",
   "execution_count": 20,
   "metadata": {
    "ExecuteTime": {
     "end_time": "2021-06-05T02:31:12.292911Z",
     "start_time": "2021-06-05T02:31:12.272733Z"
    }
   },
   "outputs": [
    {
     "data": {
      "text/plain": [
       "0.6361793767418292"
      ]
     },
     "execution_count": 20,
     "metadata": {},
     "output_type": "execute_result"
    }
   ],
   "source": [
    "count_n/count_m"
   ]
  },
  {
   "cell_type": "code",
   "execution_count": 21,
   "metadata": {
    "ExecuteTime": {
     "end_time": "2021-06-05T02:31:13.180017Z",
     "start_time": "2021-06-05T02:31:13.151426Z"
    }
   },
   "outputs": [
    {
     "data": {
      "text/plain": [
       "(0.8045333333333333, 0.596619158104077)"
      ]
     },
     "execution_count": 21,
     "metadata": {},
     "output_type": "execute_result"
    }
   ],
   "source": [
    "12068/15000, 7200/12068"
   ]
  },
  {
   "cell_type": "code",
   "execution_count": 22,
   "metadata": {
    "ExecuteTime": {
     "end_time": "2021-06-05T02:31:29.080794Z",
     "start_time": "2021-06-05T02:31:14.182450Z"
    }
   },
   "outputs": [],
   "source": [
    "\"\"\"Estimates from HMM\"\"\"\n",
    "\n",
    "##----------------------------------------------------------------##\n",
    "def forward( meas_seq, T, E):\n",
    "    num_meas = len(meas_seq)\n",
    "    N = T.shape[0]\n",
    "    alpha = zeros((num_meas, N))\n",
    "    pi = [0.25, 0.25, 0.25, 0.25]\n",
    "    alpha[0] = pi*E[:,meas_seq[0]]\n",
    "    for t in range(1, num_meas):\n",
    "        alpha[t] = alpha[t-1].dot(T) * E[:, meas_seq[t]]\n",
    "    return alpha\n",
    "\n",
    "def backward( meas_seq, T, E):\n",
    "    N = T.shape[0]\n",
    "    num_meas = len(meas_seq)\n",
    "    beta = zeros((N,num_meas))\n",
    "    beta[:,-1:] = 1\n",
    "    for t in reversed(range(num_meas-1)):\n",
    "        for n in range(N):\n",
    "            beta[n,t] = sum(beta[:,t+1] * T[n,:] * E[:, meas_seq[t+1]])\n",
    "    return beta\n",
    "\n",
    "def likelihood( meas_seq, T, E):\n",
    "    # returns log P(Y  \\mid  model)\n",
    "    # using the forward part of the forward-backward algorithm\n",
    "    return  forward(meas_seq, T, E)[-1].sum()\n",
    "\n",
    "def gamma( meas_seq, T, E):\n",
    "    alpha = forward(meas_seq, T, E)\n",
    "    beta  = backward(meas_seq, T, E)\n",
    "    obs_prob = likelihood(meas_seq, T, E)\n",
    "    return (multiply(alpha, beta.T) / obs_prob)\n",
    "\n",
    "def viterbi(meas_seq, T, E):\n",
    "    # returns the most likely state sequence given observed sequence x\n",
    "    # using the Viterbi algorithm\n",
    "    num_meas = len(meas_seq)\n",
    "    N = T.shape[0]\n",
    "    delta = zeros((num_meas, N))\n",
    "    psi = zeros((num_meas, N))\n",
    "    pi = [0.25,0.25,0.25,0.25]\n",
    "    delta[0] = pi*E[:,meas_seq[0]]\n",
    "    for t in range(1, num_meas):\n",
    "        for j in range(N):\n",
    "            delta[t,j] = max(delta[t-1]*T[:,j]) * E[j, meas_seq[t]]\n",
    "            psi[t,j] = argmax(delta[t-1]*T[:,j])\n",
    "\n",
    "    # backtrack\n",
    "    states = zeros(num_meas, dtype=int32)\n",
    "    states[num_meas-1] = argmax(delta[num_meas-1])\n",
    "    for t in range(num_meas-2, -1, -1):\n",
    "        states[t] = psi[t+1, states[t+1]]\n",
    "    return states\n",
    "\n",
    "\n",
    "qubit_params = {'t1':100, 't2':100, 'nth':5e-2}\n",
    "cavity_params = {'t1':6.8e2, 'nth':0.001}\n",
    "readout_params = {'length':3.2, 'trigger':7.2, 'pi_pulse':0.5}\n",
    "\n",
    "qubit_t1 = qubit_params['t1']\n",
    "qubit_t2 = qubit_params['t2']\n",
    "qubit_nth = qubit_params['nth']\n",
    "cavity_t1 = cavity_params['t1']\n",
    "cavity_nth = cavity_params['nth']\n",
    "\n",
    "readout_len = readout_params['length']        \n",
    "trigger_period = readout_params['trigger']\n",
    "pi_length = readout_params['pi_pulse']\n",
    "\n",
    "\"\"\"Readout fidelities from an independent measurement\"\"\"\n",
    "g_infidelity, e_infidelity = 0.0194, 0.06647\n",
    "\n",
    "fstate_in = 1\n",
    "\n",
    "if fstate_in == 0:\n",
    "    cavity_t1 = cavity_t1/1\n",
    "    Pnm =  cavity_nth * (1-np.exp(-trigger_period/cavity_t1))\n",
    "else:\n",
    "    cavity_t1 = cavity_t1/fstate_in\n",
    "    Pnm =  (1-np.exp(-trigger_period/cavity_t1)) + cavity_nth * (1-np.exp(-trigger_period/cavity_t1))\n",
    "\n",
    "Pmn = 0 + 0 #assuming that the population at (n+1) is negligible and (n-1) we will estimate\\\n",
    "Pge = qubit_nth * (1-np.exp(-trigger_period/qubit_t1)) +\\\n",
    "    (1-np.exp(-pi_length/qubit_t2))\n",
    "Peg = (1-np.exp(-trigger_period/qubit_t1)) + \\\n",
    "    (1-np.exp(-pi_length/qubit_t2))\n",
    "\n",
    "T = asarray([[(1-Pmn)*(1-Pge), (1-Pmn)*Pge, Pmn*Pge, Pmn*(1-Pge)],\n",
    "     [(1-Pmn)*Peg, (1-Pmn)*(1-Peg), Pmn*(1-Peg), Pmn*Peg],\n",
    "     [Pnm*(1-Pge), Pnm*Pge, (1-Pnm)*Pge, (1-Pnm)*(1-Pge)],\n",
    "     [Pnm*Peg, Pnm*(1-Peg), (1-Pnm)*(1-Peg), (1-Pnm)*Peg]])\n",
    "\n",
    "E = 0.5*asarray([[1-g_infidelity, g_infidelity],\n",
    "    [e_infidelity, 1- e_infidelity],\n",
    "    [1-g_infidelity, g_infidelity],\n",
    "    [e_infidelity, 1- e_infidelity]])\n",
    "\n",
    "p_m_counts = []\n",
    "\n",
    "for i in range(counts[1]):\n",
    "\n",
    "    meas_seq = df.iloc[counts[0]+i][1:1+npi_m]\n",
    "    P0_last = []\n",
    "    P1_last = []\n",
    "\n",
    "    gamma_matrix = gamma(meas_seq, T, E)\n",
    "    P0_last=(gamma_matrix[-1,0] + gamma_matrix[-1,1])\n",
    "    P1_last=(gamma_matrix[-1,2] + gamma_matrix[-1,3])\n",
    "    p_m_counts.append(P1_last/P0_last)"
   ]
  },
  {
   "cell_type": "code",
   "execution_count": 24,
   "metadata": {
    "ExecuteTime": {
     "end_time": "2021-06-05T02:31:32.948681Z",
     "start_time": "2021-06-05T02:31:32.938678Z"
    }
   },
   "outputs": [
    {
     "data": {
      "text/plain": [
       "11841"
      ]
     },
     "execution_count": 24,
     "metadata": {},
     "output_type": "execute_result"
    }
   ],
   "source": [
    "len(p_m_counts)"
   ]
  },
  {
   "cell_type": "code",
   "execution_count": 25,
   "metadata": {
    "ExecuteTime": {
     "end_time": "2021-06-05T02:31:33.692952Z",
     "start_time": "2021-06-05T02:31:33.668695Z"
    }
   },
   "outputs": [
    {
     "data": {
      "text/plain": [
       "0    8040\n",
       "dtype: int64"
      ]
     },
     "execution_count": 25,
     "metadata": {},
     "output_type": "execute_result"
    }
   ],
   "source": [
    "df = pd.DataFrame(p_m_counts)\n",
    "\n",
    "th = 1e2\n",
    "\n",
    "count_m = df[df>th].count()\n",
    "count_m"
   ]
  },
  {
   "cell_type": "code",
   "execution_count": null,
   "metadata": {},
   "outputs": [],
   "source": [
    "df[df>th]"
   ]
  },
  {
   "cell_type": "code",
   "execution_count": 123,
   "metadata": {},
   "outputs": [
    {
     "data": {
      "text/plain": [
       "0.6448"
      ]
     },
     "execution_count": 123,
     "metadata": {},
     "output_type": "execute_result"
    }
   ],
   "source": [
    "9672/15000"
   ]
  },
  {
   "cell_type": "code",
   "execution_count": null,
   "metadata": {
    "collapsed": true
   },
   "outputs": [],
   "source": []
  },
  {
   "cell_type": "markdown",
   "metadata": {},
   "source": [
    "## Actual analysis for |n=0>"
   ]
  },
  {
   "cell_type": "code",
   "execution_count": null,
   "metadata": {},
   "outputs": [],
   "source": [
    "qubit_params = {'t1':100, 't2':130, 'nth':5e-2}\n",
    "cavity_params = {'t1':5e2, 'nth':0.001}\n",
    "readout_params = {'length':3.2, 'trigger':7.2, 'pi_pulse':3}\n",
    "expt_name = 'stim_em_bd_rp_oct'\n",
    "filelist = [22]\n",
    "\n",
    "p_counts = []\n",
    "\n",
    "for ii, i in enumerate(filelist):\n",
    "    filename = \"..\\\\data\\\\\" + str(i).zfill(5) + \"_\"+expt_name.lower()+\".h5\"\n",
    "\n",
    "    obj = hmm_analysis(qubit_params=qubit_params, cavity_params=cavity_params, readout_params=readout_params)\n",
    "    alpha, unique, counts, p_m_counts, p_n_counts = obj.stateprep(data_filename=filename)"
   ]
  },
  {
   "cell_type": "code",
   "execution_count": null,
   "metadata": {},
   "outputs": [],
   "source": [
    "df = pd.DataFrame(p_m_counts[0])\n",
    "print(df[df < 1e-5 ].count() /len(p_m_counts[0]))\n",
    "df = pd.DataFrame(p_n_counts[0])\n",
    "print(df[df < 1e-3 ].count() /len(p_n_counts[0]))"
   ]
  },
  {
   "cell_type": "code",
   "execution_count": null,
   "metadata": {
    "collapsed": true
   },
   "outputs": [],
   "source": [
    "plt.his"
   ]
  },
  {
   "cell_type": "code",
   "execution_count": null,
   "metadata": {
    "collapsed": true
   },
   "outputs": [],
   "source": [
    "plt.figure(dpi=300)\n",
    "plt.plot(p_m_counts[0], '.', color='firebrick')\n",
    "plt.ylabel(r'$\\lambda_{th}$')\n",
    "plt.xlabel('Iteration #')\n",
    "plt.yscale('log')\n",
    "plt.show()\n",
    "\n",
    "x = []\n",
    "for ii, p in enumerate(p_m_counts[0]):\n",
    "    if p < 1e-5:\n",
    "#         print(ii)\n",
    "        x.append(ii)\n",
    "    \n",
    "print(len(x)/len(p_m_counts[0]))"
   ]
  },
  {
   "cell_type": "code",
   "execution_count": null,
   "metadata": {},
   "outputs": [],
   "source": [
    "plt.figure(dpi=300)\n",
    "plt.plot(p_n_counts[0], '.', color='firebrick')\n",
    "plt.ylabel(r'$\\lambda_{th}$')\n",
    "plt.xlabel('Iteration #')\n",
    "plt.yscale('log')\n",
    "plt.show()\n",
    "\n",
    "x = []\n",
    "for ii, p in enumerate(zip(p_m_counts[0], p_n_counts[0])):\n",
    "    if p[0] < 1e-5 and p[1] < 1e-3:\n",
    "#         print(ii)\n",
    "        x.append(ii)\n",
    "    \n",
    "print(len(x)/len(p_n_counts[0]))"
   ]
  },
  {
   "cell_type": "code",
   "execution_count": null,
   "metadata": {
    "collapsed": true
   },
   "outputs": [],
   "source": []
  },
  {
   "cell_type": "markdown",
   "metadata": {},
   "source": [
    "## Actual analysis for |n> = 1>"
   ]
  },
  {
   "cell_type": "code",
   "execution_count": null,
   "metadata": {},
   "outputs": [],
   "source": [
    "qubit_params = {'t1':100, 't2':100, 'nth':5e-2}\n",
    "cavity_params = {'t1':5e2, 'nth':0.001}\n",
    "readout_params = {'length':3.2, 'trigger':7.2, 'pi_pulse':3}\n",
    "expt_name = 'stim_em_bd_rp'\n",
    "filelist = [12]\n",
    "\n",
    "#11- OCT\n",
    "#12- OCT\n",
    "\n",
    "p_m_counts = []\n",
    "p_n_counts = []\n",
    "\n",
    "for ii, i in enumerate(filelist):\n",
    "    filename = \"..\\\\data\\\\\" + str(i).zfill(5) + \"_\"+expt_name.lower()+\".h5\"\n",
    "\n",
    "    obj = hmm_analysis(qubit_params=qubit_params, cavity_params=cavity_params, readout_params=readout_params)\n",
    "    unique, counts, p_m_counts, p_n_counts = obj.stateprep(data_filename=filename)"
   ]
  },
  {
   "cell_type": "code",
   "execution_count": null,
   "metadata": {},
   "outputs": [],
   "source": [
    "plt.figure(dpi=300)\n",
    "plt.plot(p_m_counts[1], '.', color='firebrick')\n",
    "plt.ylabel(r'$\\lambda_{th}$')\n",
    "plt.xlabel('Iteration #')\n",
    "plt.yscale('log')\n",
    "plt.show()\n",
    "\n",
    "x = []\n",
    "for ii, p in enumerate(p_m_counts[1]):\n",
    "    if p < 1e-5:\n",
    "#         print(ii)\n",
    "        x.append(ii)\n",
    "    \n",
    "print(len(x)/len(p_m_counts[1]))"
   ]
  },
  {
   "cell_type": "code",
   "execution_count": null,
   "metadata": {},
   "outputs": [],
   "source": [
    "plt.figure(dpi=300)\n",
    "plt.plot(p_n_counts[1], '.', color='firebrick')\n",
    "plt.ylabel(r'$\\lambda_{th}$')\n",
    "plt.xlabel('Iteration #')\n",
    "plt.yscale('log')\n",
    "plt.show()\n",
    "\n",
    "x = []\n",
    "for ii, p in enumerate(zip(p_m_counts[1], p_n_counts[1])):\n",
    "    if p[0] < 1e-5 and p[1] < 1e-3:\n",
    "#         print(ii)\n",
    "        x.append(ii)\n",
    "    \n",
    "print(len(x)/len(p_n_counts[1]))"
   ]
  },
  {
   "cell_type": "code",
   "execution_count": 25,
   "metadata": {
    "ExecuteTime": {
     "end_time": "2021-07-27T15:32:26.610836Z",
     "start_time": "2021-07-27T15:32:26.570829Z"
    }
   },
   "outputs": [],
   "source": [
    "##----------------------------------------------------------------##\n",
    "def forward(meas_seq, T, E):\n",
    "    num_meas = len(meas_seq)\n",
    "    N = T.shape[0]\n",
    "    alpha = zeros((num_meas, N))\n",
    "    pi = [0.25, 0.25, 0.25, 0.25]\n",
    "    alpha[0] = pi*E[:,meas_seq[0]] #No information in the first measurement with the prior above\n",
    "    for t in range(1, num_meas):\n",
    "        alpha[t] = alpha[t-1].dot(T) * E[:, meas_seq[t]]\n",
    "    return alpha\n",
    "\n",
    "def backward( meas_seq, T, E):\n",
    "    N = T.shape[0]\n",
    "    num_meas = len(meas_seq)\n",
    "    beta = zeros((N,num_meas))\n",
    "    beta[:,-1:] = 0.25 #No information in the last measuremnt\n",
    "    for t in reversed(range(num_meas-1)):\n",
    "        for n in range(N):\n",
    "            beta[n,t] = sum(beta[:,t+1] * T[n,:] * E[:, meas_seq[t+1]])\n",
    "    return beta\n",
    "\n",
    "def likelihood(meas_seq, T, E):\n",
    "    # returns log P(Y  \\mid  model)\n",
    "    # using the forward part of the forward-backward algorithm\n",
    "    return  forward(meas_seq, T, E)[-1].sum()\n",
    "\n",
    "def gamma(meas_seq, T, E):\n",
    "    alpha = forward(meas_seq, T, E)\n",
    "    beta  = backward(meas_seq, T, E)\n",
    "    obs_prob = likelihood(meas_seq, T, E)\n",
    "    return (multiply(alpha, beta.T) / obs_prob)\n",
    "\n",
    "\n",
    "qubit_params = {'t1':100, 't2':130, 'nth':5e-2}\n",
    "cavity_params = {'t1':5e2, 'nth':0.001}\n",
    "readout_params = {'length':3.2, 'trigger':7.2, 'pi_pulse':3, 'g_inf':0.02, 'e_inf':0.05}\n",
    "\n",
    "qubit_t1 = qubit_params['t1']\n",
    "qubit_t2 = qubit_params['t2']\n",
    "qubit_nth = qubit_params['nth']\n",
    "cavity_t1 = cavity_params['t1']\n",
    "cavity_nth = cavity_params['nth']\n",
    "\n",
    "readout_len = readout_params['length']        \n",
    "trigger_period = readout_params['trigger']\n",
    "pi_length = readout_params['pi_pulse']\n",
    "\n",
    "\"\"\"Readout fidelities from an independent measurement\"\"\"\n",
    "g_infidelity, e_infidelity = 0.0194, 0.06647\n",
    "\n",
    "fstate_in = 0\n",
    "\n",
    "if fstate_in == 0:\n",
    "    cavity_t1 = cavity_t1/1\n",
    "    Pnm =  cavity_nth * (1-np.exp(-trigger_period/cavity_t1))\n",
    "else:\n",
    "    cavity_t1 = cavity_t1/fstate_in\n",
    "    Pnm =  (1-np.exp(-trigger_period/cavity_t1)) + cavity_nth * (1-np.exp(-strigger_period/cavity_t1))\n",
    "\n",
    "Pmn = 0 + 0 #assuming that the population at (n+1) is negligible and (n-1) we will estimate\\\n",
    "Pge = qubit_nth * (1-np.exp(-trigger_period/qubit_t1)) +\\\n",
    "    (1-np.exp(-pi_length/qubit_t2))\n",
    "Peg = (1-np.exp(-trigger_period/qubit_t1)) + \\\n",
    "    (1-np.exp(-pi_length/qubit_t2))\n",
    "\n",
    "T = np.array([[(1-Pmn)*(1-Pge), (1-Pmn)*Pge, Pmn*Pge, Pmn*(1-Pge)],\n",
    "     [(1-Pmn)*Peg, (1-Pmn)*(1-Peg), Pmn*(1-Peg), Pmn*Peg],\n",
    "     [Pnm*(1-Pge), Pnm*Pge, (1-Pnm)*Pge, (1-Pnm)*(1-Pge)],\n",
    "     [Pnm*Peg, Pnm*(1-Peg), (1-Pnm)*(1-Peg), (1-Pnm)*Peg]])\n",
    "\n",
    "E = 0.5*np.array([[1-g_infidelity, g_infidelity],\n",
    "    [e_infidelity, 1- e_infidelity],\n",
    "    [1-g_infidelity, g_infidelity],\n",
    "    [e_infidelity, 1- e_infidelity]])\n"
   ]
  },
  {
   "cell_type": "code",
   "execution_count": 26,
   "metadata": {
    "ExecuteTime": {
     "end_time": "2021-07-27T15:32:29.549282Z",
     "start_time": "2021-07-27T15:32:29.539331Z"
    }
   },
   "outputs": [
    {
     "data": {
      "text/plain": [
       "array([[0.4903  , 0.0097  ],\n",
       "       [0.033235, 0.466765],\n",
       "       [0.4903  , 0.0097  ],\n",
       "       [0.033235, 0.466765]])"
      ]
     },
     "execution_count": 26,
     "metadata": {},
     "output_type": "execute_result"
    }
   ],
   "source": [
    "E"
   ]
  },
  {
   "cell_type": "code",
   "execution_count": 27,
   "metadata": {
    "ExecuteTime": {
     "end_time": "2021-07-27T15:32:30.670696Z",
     "start_time": "2021-07-27T15:32:30.650692Z"
    }
   },
   "outputs": [
    {
     "data": {
      "text/plain": [
       "array([0.0097  , 0.466765, 0.0097  , 0.466765])"
      ]
     },
     "execution_count": 27,
     "metadata": {},
     "output_type": "execute_result"
    }
   ],
   "source": [
    "E[:, 1]"
   ]
  },
  {
   "cell_type": "code",
   "execution_count": 28,
   "metadata": {
    "ExecuteTime": {
     "end_time": "2021-07-27T15:32:31.830792Z",
     "start_time": "2021-07-27T15:32:31.810790Z"
    }
   },
   "outputs": [
    {
     "data": {
      "text/plain": [
       "array([[1.22575000e-01, 8.30875000e-03, 1.22575000e-01, 8.30875000e-03],\n",
       "       [1.16517797e-03, 5.02434317e-03, 1.04409575e-04, 5.60668806e-02],\n",
       "       [7.83637049e-04, 1.52616564e-04, 2.49537917e-02, 1.75332632e-04],\n",
       "       [7.54145509e-06, 7.42825144e-05, 7.90627499e-06, 1.13487773e-02],\n",
       "       [6.96874459e-06, 2.25243925e-06, 5.05085109e-03, 3.50618902e-05],\n",
       "       [6.85186805e-08, 1.04093949e-06, 1.59653614e-06, 2.29706675e-03],\n",
       "       [8.13065360e-08, 3.24536969e-08, 1.02232525e-03, 7.09663471e-06],\n",
       "       [9.35131862e-10, 1.49702464e-08, 3.23148279e-07, 4.64941309e-04],\n",
       "       [1.42674567e-09, 6.52975832e-10, 2.06925306e-04, 1.43640517e-06],\n",
       "       [4.20204359e-11, 3.39163971e-10, 6.54073213e-08, 9.41071566e-05],\n",
       "       [9.67283523e-11, 5.08584636e-11, 4.18830330e-05, 2.90737784e-07],\n",
       "       [6.61847155e-12, 3.18430804e-11, 1.32388689e-08, 1.90479030e-05],\n",
       "       [1.70123864e-11, 9.18207523e-12, 8.47739935e-06, 5.88472259e-08],\n",
       "       [1.31438992e-12, 5.94261453e-12, 2.67963351e-09, 3.85541993e-06],\n",
       "       [3.40863006e-12, 1.84332650e-12, 1.71588098e-06, 1.19110628e-08],\n",
       "       [2.65698936e-13, 1.19596320e-12, 5.42375318e-10, 7.80362167e-07],\n",
       "       [6.89455204e-13, 3.72894044e-13, 3.47305514e-07, 2.41087687e-09],\n",
       "       [5.37745391e-14, 2.41977127e-13, 1.09780306e-10, 1.57950398e-07]])"
      ]
     },
     "execution_count": 28,
     "metadata": {},
     "output_type": "execute_result"
    }
   ],
   "source": [
    "meas_seq = [0, 1, 0, 1, 0, 1, 0, 1, 0, 1, 0, 1, 0, 1, 0, 1, 0, 1]\n",
    "# meas_seq = [0, 0, 0, 0, 0, 0, 0, 0, 0, 0, 0, 0, 0, 0, 0, 0, 0, 0]\n",
    "alp = forward(meas_seq, T, E)\n",
    "alp"
   ]
  },
  {
   "cell_type": "code",
   "execution_count": 20,
   "metadata": {
    "ExecuteTime": {
     "end_time": "2021-07-27T15:31:51.191786Z",
     "start_time": "2021-07-27T15:31:51.171785Z"
    }
   },
   "outputs": [
    {
     "data": {
      "text/plain": [
       "array([[2.28480689e-17, 8.32501711e-16, 1.67429327e-15, 6.10085776e-14,\n",
       "        1.22698401e-13, 4.47172782e-12, 8.99349667e-12, 3.27955807e-10,\n",
       "        6.59607316e-10, 2.40981366e-08, 4.84739466e-08, 1.78164793e-06,\n",
       "        3.58527668e-06, 1.34315520e-04, 2.70630665e-04, 1.07376762e-02,\n",
       "        2.17144758e-02, 1.00000000e+00],\n",
       "       [5.18212559e-16, 1.22133170e-15, 3.79732322e-14, 8.94959141e-14,\n",
       "        2.78256068e-12, 6.55798046e-12, 2.03893525e-10, 4.80538689e-10,\n",
       "        1.49394734e-08, 3.52093843e-08, 1.09440890e-06, 2.57927086e-06,\n",
       "        8.01197001e-05, 1.88815559e-04, 5.85290978e-03, 1.37914114e-02,\n",
       "        4.24586223e-01, 1.00000000e+00],\n",
       "       [1.28120917e-06, 1.01134291e-07, 6.32988061e-06, 4.99659233e-07,\n",
       "        3.12731048e-05, 2.46859246e-06, 1.54506403e-04, 1.21962097e-05,\n",
       "        7.63346932e-04, 6.02560098e-05, 3.77135527e-03, 2.97698035e-04,\n",
       "        1.86325771e-02, 1.47087413e-03, 9.20551939e-02, 7.53987547e-03,\n",
       "        4.54744333e-01, 1.00000000e+00],\n",
       "       [1.22312064e-07, 2.81895323e-06, 6.04289124e-07, 1.39271853e-05,\n",
       "        2.98552189e-06, 6.88079842e-05, 1.47501264e-05, 3.39949429e-04,\n",
       "        7.28737679e-05, 1.67953786e-03, 3.60036661e-04, 8.29784428e-03,\n",
       "        1.77878164e-03, 4.09959315e-02, 8.79063542e-03, 2.02542322e-01,\n",
       "        5.18841056e-02, 1.00000000e+00]])"
      ]
     },
     "execution_count": 20,
     "metadata": {},
     "output_type": "execute_result"
    }
   ],
   "source": [
    "bck = backward(meas_seq, T, E)\n",
    "bck"
   ]
  },
  {
   "cell_type": "code",
   "execution_count": null,
   "metadata": {},
   "outputs": [],
   "source": []
  },
  {
   "cell_type": "code",
   "execution_count": 29,
   "metadata": {
    "ExecuteTime": {
     "end_time": "2021-07-27T15:32:36.269616Z",
     "start_time": "2021-07-27T15:32:36.249616Z"
    }
   },
   "outputs": [
    {
     "data": {
      "text/plain": [
       "array([[5.71201721e-18, 2.08125428e-16, 4.18573317e-16, 1.52521444e-14,\n",
       "        3.06746002e-14, 1.11793196e-12, 2.24837417e-12, 8.19889517e-11,\n",
       "        1.64901829e-10, 6.02453415e-09, 1.21184867e-08, 4.45411984e-07,\n",
       "        8.96319169e-07, 3.35788800e-05, 6.76576663e-05, 2.68441905e-03,\n",
       "        5.42861894e-03, 2.50000000e-01],\n",
       "       [1.29553140e-16, 3.05332925e-16, 9.49330804e-15, 2.23739785e-14,\n",
       "        6.95640170e-13, 1.63949512e-12, 5.09733813e-11, 1.20134672e-10,\n",
       "        3.73486836e-09, 8.80234607e-09, 2.73602224e-07, 6.44817716e-07,\n",
       "        2.00299250e-05, 4.72038897e-05, 1.46322744e-03, 3.44785285e-03,\n",
       "        1.06146556e-01, 2.50000000e-01],\n",
       "       [3.20302291e-07, 2.52835728e-08, 1.58247015e-06, 1.24914808e-07,\n",
       "        7.81827621e-06, 6.17148116e-07, 3.86266008e-05, 3.04905241e-06,\n",
       "        1.90836733e-04, 1.50640025e-05, 9.42838819e-04, 7.44245086e-05,\n",
       "        4.65814426e-03, 3.67718534e-04, 2.30137985e-02, 1.88496887e-03,\n",
       "        1.13686083e-01, 2.50000000e-01],\n",
       "       [3.05780161e-08, 7.04738308e-07, 1.51072281e-07, 3.48179632e-06,\n",
       "        7.46380473e-07, 1.72019960e-05, 3.68753160e-06, 8.49873574e-05,\n",
       "        1.82184420e-05, 4.19884465e-04, 9.00091652e-05, 2.07446107e-03,\n",
       "        4.44695411e-04, 1.02489829e-02, 2.19765886e-03, 5.06355804e-02,\n",
       "        1.29710264e-02, 2.50000000e-01]])"
      ]
     },
     "execution_count": 29,
     "metadata": {},
     "output_type": "execute_result"
    }
   ],
   "source": [
    "bck = backward(meas_seq, T, E)\n",
    "bck"
   ]
  },
  {
   "cell_type": "code",
   "execution_count": 114,
   "metadata": {
    "ExecuteTime": {
     "end_time": "2021-07-15T21:27:54.185685Z",
     "start_time": "2021-07-15T21:27:54.165665Z"
    }
   },
   "outputs": [
    {
     "data": {
      "text/plain": [
       "array([[1.77185477e-11, 2.72408306e-11, 9.93570433e-01, 6.42956673e-03],\n",
       "       [6.13697167e-12, 3.88230494e-11, 6.68060021e-05, 9.99933194e-01],\n",
       "       [8.30086236e-12, 3.66653604e-11, 9.99329677e-01, 6.70323201e-04],\n",
       "       [2.91086973e-12, 4.20597343e-11, 2.49932396e-05, 9.99975007e-01],\n",
       "       [5.40966249e-12, 3.96528540e-11, 9.99337734e-01, 6.62265766e-04],\n",
       "       [1.93847888e-12, 4.31889179e-11, 2.49347417e-05, 9.99975065e-01],\n",
       "       [4.62626767e-12, 4.18643479e-11, 9.99337745e-01, 6.62254493e-04],\n",
       "       [1.94028220e-12, 4.55128498e-11, 2.49346599e-05, 9.99975065e-01],\n",
       "       [5.95399889e-12, 6.17176126e-11, 9.99337745e-01, 6.62254479e-04],\n",
       "       [6.40649860e-12, 7.55518080e-11, 2.49346601e-05, 9.99975065e-01],\n",
       "       [2.96646269e-11, 3.52143415e-10, 9.99337745e-01, 6.62254507e-04],\n",
       "       [7.46030040e-11, 5.19623456e-10, 2.49346668e-05, 9.99975065e-01],\n",
       "       [3.85890987e-10, 4.65432689e-09, 9.99337740e-01, 6.62255166e-04],\n",
       "       [1.11693304e-09, 7.09891635e-09, 2.49360483e-05, 9.99975056e-01],\n",
       "       [5.83624608e-09, 6.82575690e-08, 9.99337484e-01, 6.62441455e-04],\n",
       "       [1.80499848e-08, 1.04352594e-07, 2.58726439e-05, 9.99974005e-01],\n",
       "       [9.47179137e-08, 1.00167784e-06, 9.99207522e-01, 7.91381850e-04],\n",
       "       [3.40214968e-07, 1.53091485e-06, 6.94546227e-04, 9.99303583e-01]])"
      ]
     },
     "execution_count": 114,
     "metadata": {},
     "output_type": "execute_result"
    }
   ],
   "source": [
    "res = gamma(meas_seq, T, E)\n",
    "res"
   ]
  },
  {
   "cell_type": "code",
   "execution_count": 115,
   "metadata": {
    "ExecuteTime": {
     "end_time": "2021-07-15T21:28:30.529202Z",
     "start_time": "2021-07-15T21:28:30.509184Z"
    }
   },
   "outputs": [
    {
     "name": "stdout",
     "output_type": "stream",
     "text": [
      "1.8711298197220613e-06 0.9999981288701802\n"
     ]
    }
   ],
   "source": [
    "n = res[-1, 0] + res[-1, 1]\n",
    "m = res[-1, 2] + res[-1, 3]\n",
    "print(n, m)"
   ]
  },
  {
   "cell_type": "code",
   "execution_count": 117,
   "metadata": {
    "ExecuteTime": {
     "end_time": "2021-07-15T21:29:00.331582Z",
     "start_time": "2021-07-15T21:29:00.315484Z"
    }
   },
   "outputs": [
    {
     "name": "stdout",
     "output_type": "stream",
     "text": [
      "1.8711298197220613e-06 0.9999981288701804\n"
     ]
    }
   ],
   "source": [
    "n = alp[-1, 0] + alp[-1, 1]\n",
    "m = alp[-1, 2] + alp[-1, 3]\n",
    "print(n/(n+m), m/(n+m))"
   ]
  },
  {
   "cell_type": "code",
   "execution_count": 106,
   "metadata": {
    "ExecuteTime": {
     "end_time": "2021-07-15T21:17:27.890268Z",
     "start_time": "2021-07-15T21:17:27.870271Z"
    }
   },
   "outputs": [
    {
     "data": {
      "text/plain": [
       "0.9999831812869496"
      ]
     },
     "execution_count": 106,
     "metadata": {},
     "output_type": "execute_result"
    }
   ],
   "source": [
    "res[0, 0] + res[0, 1]"
   ]
  },
  {
   "cell_type": "code",
   "execution_count": 107,
   "metadata": {
    "ExecuteTime": {
     "end_time": "2021-07-15T21:17:28.496548Z",
     "start_time": "2021-07-15T21:17:28.486550Z"
    }
   },
   "outputs": [
    {
     "data": {
      "text/plain": [
       "1.6818713050789845e-05"
      ]
     },
     "execution_count": 107,
     "metadata": {},
     "output_type": "execute_result"
    }
   ],
   "source": [
    "res[0, 2] + res[0, 3]"
   ]
  },
  {
   "cell_type": "code",
   "execution_count": 30,
   "metadata": {
    "ExecuteTime": {
     "end_time": "2021-07-27T15:32:40.780577Z",
     "start_time": "2021-07-27T15:32:40.762000Z"
    }
   },
   "outputs": [],
   "source": [
    "g = bck[0, 0] + bck[1, 0]"
   ]
  },
  {
   "cell_type": "code",
   "execution_count": 50,
   "metadata": {
    "ExecuteTime": {
     "end_time": "2021-07-27T15:48:09.851907Z",
     "start_time": "2021-07-27T15:48:09.831955Z"
    }
   },
   "outputs": [
    {
     "data": {
      "text/plain": [
       "1.352651569220166e-16"
      ]
     },
     "execution_count": 50,
     "metadata": {},
     "output_type": "execute_result"
    }
   ],
   "source": [
    "g"
   ]
  },
  {
   "cell_type": "code",
   "execution_count": 42,
   "metadata": {
    "ExecuteTime": {
     "end_time": "2021-07-27T15:40:51.653445Z",
     "start_time": "2021-07-27T15:40:51.633445Z"
    }
   },
   "outputs": [
    {
     "data": {
      "text/plain": [
       "0.25821563466493697"
      ]
     },
     "execution_count": 42,
     "metadata": {},
     "output_type": "execute_result"
    }
   ],
   "source": [
    "np.sum(bck[0, :])"
   ]
  },
  {
   "cell_type": "code",
   "execution_count": 37,
   "metadata": {
    "ExecuteTime": {
     "end_time": "2021-07-27T15:40:10.206737Z",
     "start_time": "2021-07-27T15:40:10.186737Z"
    }
   },
   "outputs": [
    {
     "data": {
      "text/plain": [
       "0.25821563466493697"
      ]
     },
     "execution_count": 37,
     "metadata": {},
     "output_type": "execute_result"
    }
   ],
   "source": [
    "np.sum(bck[0,:])"
   ]
  },
  {
   "cell_type": "code",
   "execution_count": 38,
   "metadata": {
    "ExecuteTime": {
     "end_time": "2021-07-27T15:40:20.491952Z",
     "start_time": "2021-07-27T15:40:20.481952Z"
    }
   },
   "outputs": [
    {
     "data": {
      "text/plain": [
       "0.361125800976914"
      ]
     },
     "execution_count": 38,
     "metadata": {},
     "output_type": "execute_result"
    }
   ],
   "source": [
    "np.sum(bck[1,:])"
   ]
  },
  {
   "cell_type": "code",
   "execution_count": 39,
   "metadata": {
    "ExecuteTime": {
     "end_time": "2021-07-27T15:40:27.125688Z",
     "start_time": "2021-07-27T15:40:27.115689Z"
    }
   },
   "outputs": [
    {
     "data": {
      "text/plain": [
       "0.3948860415474798"
      ]
     },
     "execution_count": 39,
     "metadata": {},
     "output_type": "execute_result"
    }
   ],
   "source": [
    "np.sum(bck[2,:])"
   ]
  },
  {
   "cell_type": "code",
   "execution_count": 48,
   "metadata": {
    "ExecuteTime": {
     "end_time": "2021-07-27T15:47:36.554336Z",
     "start_time": "2021-07-27T15:47:36.544337Z"
    }
   },
   "outputs": [
    {
     "data": {
      "text/plain": [
       "array([5.71201721e-18, 1.29553140e-16, 3.20302291e-07, 3.05780161e-08])"
      ]
     },
     "execution_count": 48,
     "metadata": {},
     "output_type": "execute_result"
    }
   ],
   "source": [
    "bck[:,0]"
   ]
  },
  {
   "cell_type": "code",
   "execution_count": 49,
   "metadata": {
    "ExecuteTime": {
     "end_time": "2021-07-27T15:48:02.222000Z",
     "start_time": "2021-07-27T15:48:02.211999Z"
    }
   },
   "outputs": [
    {
     "data": {
      "text/plain": [
       "1.352651569220166e-16"
      ]
     },
     "execution_count": 49,
     "metadata": {},
     "output_type": "execute_result"
    }
   ],
   "source": [
    "bck[0, 0] + bck[1, 0]"
   ]
  },
  {
   "cell_type": "code",
   "execution_count": 45,
   "metadata": {
    "ExecuteTime": {
     "end_time": "2021-07-27T15:41:40.967926Z",
     "start_time": "2021-07-27T15:41:40.941907Z"
    }
   },
   "outputs": [
    {
     "data": {
      "text/plain": [
       "7.300218813151271e-07"
      ]
     },
     "execution_count": 45,
     "metadata": {},
     "output_type": "execute_result"
    }
   ],
   "source": [
    "np.sum(bck[:, 1])"
   ]
  },
  {
   "cell_type": "code",
   "execution_count": 31,
   "metadata": {
    "ExecuteTime": {
     "end_time": "2021-07-27T15:32:41.703446Z",
     "start_time": "2021-07-27T15:32:41.693432Z"
    }
   },
   "outputs": [],
   "source": [
    "h = bck[2, 0] + bck[3, 0]"
   ]
  },
  {
   "cell_type": "code",
   "execution_count": 32,
   "metadata": {
    "ExecuteTime": {
     "end_time": "2021-07-27T15:32:45.707089Z",
     "start_time": "2021-07-27T15:32:45.697089Z"
    }
   },
   "outputs": [
    {
     "data": {
      "text/plain": [
       "1.352651569220166e-16"
      ]
     },
     "execution_count": 32,
     "metadata": {},
     "output_type": "execute_result"
    }
   ],
   "source": [
    "g"
   ]
  },
  {
   "cell_type": "code",
   "execution_count": 33,
   "metadata": {
    "ExecuteTime": {
     "end_time": "2021-07-27T15:32:47.943341Z",
     "start_time": "2021-07-27T15:32:47.933339Z"
    }
   },
   "outputs": [
    {
     "data": {
      "text/plain": [
       "3.508803073535964e-07"
      ]
     },
     "execution_count": 33,
     "metadata": {},
     "output_type": "execute_result"
    }
   ],
   "source": [
    "h"
   ]
  },
  {
   "cell_type": "code",
   "execution_count": 34,
   "metadata": {
    "ExecuteTime": {
     "end_time": "2021-07-27T15:32:56.539382Z",
     "start_time": "2021-07-27T15:32:56.529380Z"
    }
   },
   "outputs": [
    {
     "data": {
      "text/plain": [
       "3.8550227537722524e-10"
      ]
     },
     "execution_count": 34,
     "metadata": {},
     "output_type": "execute_result"
    }
   ],
   "source": [
    "g/(g+h)"
   ]
  },
  {
   "cell_type": "code",
   "execution_count": 35,
   "metadata": {
    "ExecuteTime": {
     "end_time": "2021-07-27T15:32:57.999504Z",
     "start_time": "2021-07-27T15:32:57.989489Z"
    }
   },
   "outputs": [
    {
     "data": {
      "text/plain": [
       "0.9999999996144977"
      ]
     },
     "execution_count": 35,
     "metadata": {},
     "output_type": "execute_result"
    }
   ],
   "source": [
    "h/(g+h)"
   ]
  },
  {
   "cell_type": "code",
   "execution_count": 23,
   "metadata": {
    "ExecuteTime": {
     "end_time": "2021-07-27T15:32:04.590497Z",
     "start_time": "2021-07-27T15:32:04.570495Z"
    }
   },
   "outputs": [
    {
     "data": {
      "text/plain": [
       "3.8550227537722524e-10"
      ]
     },
     "execution_count": 23,
     "metadata": {},
     "output_type": "execute_result"
    }
   ],
   "source": [
    "g/(g+h)"
   ]
  },
  {
   "cell_type": "code",
   "execution_count": 24,
   "metadata": {
    "ExecuteTime": {
     "end_time": "2021-07-27T15:32:06.060760Z",
     "start_time": "2021-07-27T15:32:06.040745Z"
    }
   },
   "outputs": [
    {
     "data": {
      "text/plain": [
       "0.9999999996144977"
      ]
     },
     "execution_count": 24,
     "metadata": {},
     "output_type": "execute_result"
    }
   ],
   "source": [
    "h/(g+h)"
   ]
  },
  {
   "cell_type": "markdown",
   "metadata": {},
   "source": [
    "# Repeated BD"
   ]
  },
  {
   "cell_type": "code",
   "execution_count": 20,
   "metadata": {},
   "outputs": [
    {
     "name": "stdout",
     "output_type": "stream",
     "text": [
      "# of π at m= 10, at n = 0\n",
      "(15000, 10)\n"
     ]
    }
   ],
   "source": [
    "expt_name = 'stim_em_bd_rep_bd_debug'\n",
    "filelist = [3]\n",
    "# 0 => n=1 with pi's at n+1\n",
    "# 1 => n=1 with pi's at n\n",
    "# 2 => n=1 with pi's at n+1 but an active reset before last BD\n",
    "\n",
    "\n",
    "for ii, i in enumerate(filelist):\n",
    "    filename = \"..\\\\data\\\\\" + str(i).zfill(5) + \"_\"+expt_name.lower()+\".h5\"\n",
    "\n",
    "    with File(filename,'r') as a:\n",
    "\n",
    "        num1 = np.array(a['num1'])[:]        \n",
    "        cav_amp = np.array(a['amp'])\n",
    "        cav_len = np.array(a['time'])\n",
    "        npi_m = int(np.array(a['pi_m']))\n",
    "        npi_n = int( np.array(a['pi_n']))\n",
    "\n",
    "        a.close()\n",
    "\n",
    "print('# of π at m= {}, at n = {}'.format(npi_m, npi_n))\n",
    "df = pd.DataFrame(num1)\n",
    "print(np.shape(df))\n",
    "\n",
    "nx, ny = np.shape(df)\n",
    "\n",
    "pd.set_option('display.max_rows', None)\n",
    "l = []\n",
    "for i in range(ny):\n",
    "    l.append('BD%i'%i)\n",
    "df.columns = l\n",
    "\n",
    "# df['m'] = num1\n",
    "# cols = df.columns.tolist()\n",
    "# cols = cols[-1:] + cols[:-1]\n",
    "# df = df[cols].sort_values(by=['m'])\n",
    "# df['n'] = num2"
   ]
  },
  {
   "cell_type": "code",
   "execution_count": 21,
   "metadata": {},
   "outputs": [
    {
     "data": {
      "text/plain": [
       "BD0    1\n",
       "BD1    1\n",
       "BD2    2\n",
       "BD3    1\n",
       "BD4    1\n",
       "BD5    1\n",
       "BD6    1\n",
       "BD7    1\n",
       "BD8    1\n",
       "BD9    1\n",
       "Name: 10000, dtype: int64"
      ]
     },
     "execution_count": 21,
     "metadata": {},
     "output_type": "execute_result"
    }
   ],
   "source": [
    "df.iloc[10000]"
   ]
  },
  {
   "cell_type": "code",
   "execution_count": null,
   "metadata": {},
   "outputs": [],
   "source": []
  },
  {
   "cell_type": "code",
   "execution_count": 22,
   "metadata": {},
   "outputs": [
    {
     "name": "stdout",
     "output_type": "stream",
     "text": [
      "[0 1 2 3] [ 1376 12033   572  1019]\n"
     ]
    }
   ],
   "source": [
    "(unique, counts) = np.unique(df['BD0'], return_counts=True)\n",
    "\n",
    "print(unique, counts)"
   ]
  },
  {
   "cell_type": "code",
   "execution_count": 23,
   "metadata": {},
   "outputs": [
    {
     "name": "stdout",
     "output_type": "stream",
     "text": [
      "[0 1 2 3] [2914 9395  572 2119]\n"
     ]
    }
   ],
   "source": [
    "(unique, counts) = np.unique(df['BD9'], return_counts=True)\n",
    "\n",
    "print(unique, counts)"
   ]
  },
  {
   "cell_type": "code",
   "execution_count": 24,
   "metadata": {},
   "outputs": [
    {
     "name": "stdout",
     "output_type": "stream",
     "text": [
      "12033 8499\n"
     ]
    }
   ],
   "source": [
    "count_m = df['BD0'][df['BD0']==1].count() #Number of times n=1 measured after preparing n=1\n",
    "\n",
    "count_n = df['BD0'][(df['BD0']==1) & (df['BD9']==1)].count() #Number of times n=1 measured pre and post repeated pi pulses\n",
    "\n",
    "print(count_m, count_n)"
   ]
  },
  {
   "cell_type": "code",
   "execution_count": 26,
   "metadata": {},
   "outputs": [],
   "source": [
    "ind = df.index[(df['BD0']==1) & (df['BD9']==1)].tolist()"
   ]
  },
  {
   "cell_type": "code",
   "execution_count": 27,
   "metadata": {},
   "outputs": [
    {
     "data": {
      "text/plain": [
       "[5, 7, 11, 13, 14, 15, 19, 21, 22, 23]"
      ]
     },
     "execution_count": 27,
     "metadata": {},
     "output_type": "execute_result"
    }
   ],
   "source": [
    "ind[:10]"
   ]
  },
  {
   "cell_type": "code",
   "execution_count": 28,
   "metadata": {},
   "outputs": [
    {
     "data": {
      "text/plain": [
       "BD0    1\n",
       "BD1    1\n",
       "BD2    1\n",
       "BD3    1\n",
       "BD4    1\n",
       "BD5    1\n",
       "BD6    1\n",
       "BD7    1\n",
       "BD8    1\n",
       "BD9    1\n",
       "Name: 7, dtype: int64"
      ]
     },
     "execution_count": 28,
     "metadata": {},
     "output_type": "execute_result"
    }
   ],
   "source": [
    "df.iloc[ind[1]]"
   ]
  },
  {
   "cell_type": "code",
   "execution_count": 29,
   "metadata": {},
   "outputs": [],
   "source": [
    "hist_counts = {}\n",
    "hist_counts = {'0':[], '1':[], '2':[], '3':[]}\n",
    "\n",
    "for ii in range(len(ind)):\n",
    "    \n",
    "    (unique, counts) = np.unique(df.iloc[ind[ii]], return_counts=True)\n",
    "    \n",
    "    for jj in range(len(unique)):\n",
    "        if unique[jj]==0:\n",
    "            hist_counts['0'].extend([counts[jj]])\n",
    "        elif unique[jj]==1:\n",
    "            hist_counts['1'].extend([counts[jj]])\n",
    "        elif unique[jj]==2:\n",
    "            hist_counts['2'].extend([counts[jj]])\n",
    "        elif unique[jj]==3:\n",
    "            hist_counts['3'].extend([counts[jj]])"
   ]
  },
  {
   "cell_type": "code",
   "execution_count": 30,
   "metadata": {},
   "outputs": [
    {
     "data": {
      "image/png": "[encoded data removed]",
      "text/plain": [
       "<Figure size 1296x288 with 4 Axes>"
      ]
     },
     "metadata": {
      "needs_background": "light"
     },
     "output_type": "display_data"
    }
   ],
   "source": [
    "fig, axs = plt.subplots(nrows=1, ncols=4, figsize=(18, 4), sharey=True)\n",
    "fig.tight_layout()\n",
    "for i in range(4):\n",
    "\n",
    "    axs[i].hist(hist_counts[str(i)], alpha=0.75, label='i')\n",
    "    axs[i].set_title('n={}'.format(i))\n",
    "    axs[i].set_xlabel('Number of occurences')\n",
    "#     plt.hist(hist_counts['1'], alpha=0.25, label='1')\n",
    "#     # plt.show()\n",
    "\n",
    "#     # plt.figure()\n",
    "#     plt.hist(hist_counts['2'], alpha=0.25, label='2')\n",
    "#     plt.hist(hist_counts['3'], alpha=0.25, label='3')\n",
    "axs[0].set_ylabel('Number')\n",
    "plt.show()"
   ]
  },
  {
   "cell_type": "markdown",
   "metadata": {},
   "source": [
    "# Varying injected photons"
   ]
  },
  {
   "cell_type": "markdown",
   "metadata": {},
   "source": [
    "## Debug"
   ]
  },
  {
   "cell_type": "code",
   "execution_count": 5,
   "metadata": {
    "ExecuteTime": {
     "end_time": "2021-07-15T18:22:50.789255Z",
     "start_time": "2021-07-15T18:22:44.203205Z"
    }
   },
   "outputs": [
    {
     "name": "stdout",
     "output_type": "stream",
     "text": [
      "0.0005 400\n",
      "# of π at m= 30, at n = 0\n",
      "(50000, 30)\n"
     ]
    }
   ],
   "source": [
    "expt_name = 'photon_counting_parity_alpha'\n",
    "filelist = [65]\n",
    "# 4 => n=0\n",
    "# 7 => n=1\n",
    "\n",
    "for ii, i in enumerate(filelist):\n",
    "    filename = \"..\\\\data\\\\\" + str(i).zfill(5) + \"_\"+expt_name.lower()+\".h5\"\n",
    "\n",
    "    with File(filename,'r') as a:\n",
    "        bit3 = pd.DataFrame(a['bit3'])[:]\n",
    "        \n",
    "        cav_amp = np.array(a['amp'])\n",
    "        cav_len = np.array(a['time'])\n",
    "        npi_m = int(np.array(a['pi_m']))\n",
    "        npi_n = int(np.array(a['pi_n']))\n",
    "\n",
    "        a.close()\n",
    "\n",
    "print(cav_amp, cav_len)\n",
    "\n",
    "print('# of π at m= {}, at n = {}'.format(npi_m, npi_n))\n",
    "df = bit3\n",
    "print(np.shape(df))\n",
    "\n",
    "nx, ny = np.shape(df)\n",
    "\n",
    "pd.set_option('display.max_rows', None)\n",
    "l = []\n",
    "for i in range(ny):\n",
    "    l.append('π%i'%i)\n",
    "df.columns = l\n"
   ]
  },
  {
   "cell_type": "code",
   "execution_count": 6,
   "metadata": {
    "ExecuteTime": {
     "end_time": "2021-07-15T18:22:53.517175Z",
     "start_time": "2021-07-15T18:22:53.465652Z"
    }
   },
   "outputs": [
    {
     "data": {
      "text/html": [
       "<div>\n",
       "<style scoped>\n",
       "    .dataframe tbody tr th:only-of-type {\n",
       "        vertical-align: middle;\n",
       "    }\n",
       "\n",
       "    .dataframe tbody tr th {\n",
       "        vertical-align: top;\n",
       "    }\n",
       "\n",
       "    .dataframe thead th {\n",
       "        text-align: right;\n",
       "    }\n",
       "</style>\n",
       "<table border=\"1\" class=\"dataframe\">\n",
       "  <thead>\n",
       "    <tr style=\"text-align: right;\">\n",
       "      <th></th>\n",
       "      <th>π0</th>\n",
       "      <th>π1</th>\n",
       "      <th>π2</th>\n",
       "      <th>π3</th>\n",
       "      <th>π4</th>\n",
       "      <th>π5</th>\n",
       "      <th>π6</th>\n",
       "      <th>π7</th>\n",
       "      <th>π8</th>\n",
       "      <th>π9</th>\n",
       "      <th>...</th>\n",
       "      <th>π20</th>\n",
       "      <th>π21</th>\n",
       "      <th>π22</th>\n",
       "      <th>π23</th>\n",
       "      <th>π24</th>\n",
       "      <th>π25</th>\n",
       "      <th>π26</th>\n",
       "      <th>π27</th>\n",
       "      <th>π28</th>\n",
       "      <th>π29</th>\n",
       "    </tr>\n",
       "  </thead>\n",
       "  <tbody>\n",
       "    <tr>\n",
       "      <th>1</th>\n",
       "      <td>0</td>\n",
       "      <td>0</td>\n",
       "      <td>0</td>\n",
       "      <td>0</td>\n",
       "      <td>0</td>\n",
       "      <td>0</td>\n",
       "      <td>0</td>\n",
       "      <td>0</td>\n",
       "      <td>0</td>\n",
       "      <td>0</td>\n",
       "      <td>...</td>\n",
       "      <td>0</td>\n",
       "      <td>0</td>\n",
       "      <td>0</td>\n",
       "      <td>0</td>\n",
       "      <td>0</td>\n",
       "      <td>0</td>\n",
       "      <td>0</td>\n",
       "      <td>0</td>\n",
       "      <td>0</td>\n",
       "      <td>0</td>\n",
       "    </tr>\n",
       "    <tr>\n",
       "      <th>2</th>\n",
       "      <td>0</td>\n",
       "      <td>0</td>\n",
       "      <td>0</td>\n",
       "      <td>0</td>\n",
       "      <td>0</td>\n",
       "      <td>0</td>\n",
       "      <td>0</td>\n",
       "      <td>0</td>\n",
       "      <td>0</td>\n",
       "      <td>0</td>\n",
       "      <td>...</td>\n",
       "      <td>0</td>\n",
       "      <td>0</td>\n",
       "      <td>0</td>\n",
       "      <td>0</td>\n",
       "      <td>0</td>\n",
       "      <td>0</td>\n",
       "      <td>0</td>\n",
       "      <td>0</td>\n",
       "      <td>0</td>\n",
       "      <td>0</td>\n",
       "    </tr>\n",
       "    <tr>\n",
       "      <th>3</th>\n",
       "      <td>0</td>\n",
       "      <td>0</td>\n",
       "      <td>0</td>\n",
       "      <td>0</td>\n",
       "      <td>0</td>\n",
       "      <td>0</td>\n",
       "      <td>0</td>\n",
       "      <td>0</td>\n",
       "      <td>0</td>\n",
       "      <td>0</td>\n",
       "      <td>...</td>\n",
       "      <td>0</td>\n",
       "      <td>0</td>\n",
       "      <td>0</td>\n",
       "      <td>0</td>\n",
       "      <td>0</td>\n",
       "      <td>0</td>\n",
       "      <td>0</td>\n",
       "      <td>0</td>\n",
       "      <td>0</td>\n",
       "      <td>0</td>\n",
       "    </tr>\n",
       "    <tr>\n",
       "      <th>4</th>\n",
       "      <td>0</td>\n",
       "      <td>0</td>\n",
       "      <td>0</td>\n",
       "      <td>0</td>\n",
       "      <td>0</td>\n",
       "      <td>0</td>\n",
       "      <td>0</td>\n",
       "      <td>0</td>\n",
       "      <td>0</td>\n",
       "      <td>0</td>\n",
       "      <td>...</td>\n",
       "      <td>0</td>\n",
       "      <td>0</td>\n",
       "      <td>0</td>\n",
       "      <td>0</td>\n",
       "      <td>0</td>\n",
       "      <td>0</td>\n",
       "      <td>0</td>\n",
       "      <td>0</td>\n",
       "      <td>0</td>\n",
       "      <td>0</td>\n",
       "    </tr>\n",
       "    <tr>\n",
       "      <th>5</th>\n",
       "      <td>0</td>\n",
       "      <td>0</td>\n",
       "      <td>0</td>\n",
       "      <td>0</td>\n",
       "      <td>0</td>\n",
       "      <td>0</td>\n",
       "      <td>0</td>\n",
       "      <td>0</td>\n",
       "      <td>0</td>\n",
       "      <td>0</td>\n",
       "      <td>...</td>\n",
       "      <td>0</td>\n",
       "      <td>0</td>\n",
       "      <td>0</td>\n",
       "      <td>0</td>\n",
       "      <td>0</td>\n",
       "      <td>0</td>\n",
       "      <td>0</td>\n",
       "      <td>0</td>\n",
       "      <td>0</td>\n",
       "      <td>0</td>\n",
       "    </tr>\n",
       "    <tr>\n",
       "      <th>6</th>\n",
       "      <td>0</td>\n",
       "      <td>0</td>\n",
       "      <td>0</td>\n",
       "      <td>0</td>\n",
       "      <td>0</td>\n",
       "      <td>0</td>\n",
       "      <td>0</td>\n",
       "      <td>0</td>\n",
       "      <td>0</td>\n",
       "      <td>0</td>\n",
       "      <td>...</td>\n",
       "      <td>0</td>\n",
       "      <td>0</td>\n",
       "      <td>0</td>\n",
       "      <td>0</td>\n",
       "      <td>0</td>\n",
       "      <td>0</td>\n",
       "      <td>0</td>\n",
       "      <td>0</td>\n",
       "      <td>0</td>\n",
       "      <td>0</td>\n",
       "    </tr>\n",
       "    <tr>\n",
       "      <th>7</th>\n",
       "      <td>0</td>\n",
       "      <td>0</td>\n",
       "      <td>0</td>\n",
       "      <td>0</td>\n",
       "      <td>0</td>\n",
       "      <td>0</td>\n",
       "      <td>0</td>\n",
       "      <td>0</td>\n",
       "      <td>0</td>\n",
       "      <td>0</td>\n",
       "      <td>...</td>\n",
       "      <td>0</td>\n",
       "      <td>0</td>\n",
       "      <td>0</td>\n",
       "      <td>0</td>\n",
       "      <td>0</td>\n",
       "      <td>0</td>\n",
       "      <td>0</td>\n",
       "      <td>0</td>\n",
       "      <td>0</td>\n",
       "      <td>0</td>\n",
       "    </tr>\n",
       "    <tr>\n",
       "      <th>8</th>\n",
       "      <td>0</td>\n",
       "      <td>0</td>\n",
       "      <td>0</td>\n",
       "      <td>0</td>\n",
       "      <td>0</td>\n",
       "      <td>0</td>\n",
       "      <td>0</td>\n",
       "      <td>0</td>\n",
       "      <td>0</td>\n",
       "      <td>0</td>\n",
       "      <td>...</td>\n",
       "      <td>0</td>\n",
       "      <td>0</td>\n",
       "      <td>0</td>\n",
       "      <td>0</td>\n",
       "      <td>0</td>\n",
       "      <td>0</td>\n",
       "      <td>0</td>\n",
       "      <td>0</td>\n",
       "      <td>0</td>\n",
       "      <td>0</td>\n",
       "    </tr>\n",
       "    <tr>\n",
       "      <th>9</th>\n",
       "      <td>0</td>\n",
       "      <td>0</td>\n",
       "      <td>0</td>\n",
       "      <td>0</td>\n",
       "      <td>0</td>\n",
       "      <td>0</td>\n",
       "      <td>0</td>\n",
       "      <td>0</td>\n",
       "      <td>0</td>\n",
       "      <td>0</td>\n",
       "      <td>...</td>\n",
       "      <td>0</td>\n",
       "      <td>0</td>\n",
       "      <td>0</td>\n",
       "      <td>0</td>\n",
       "      <td>0</td>\n",
       "      <td>0</td>\n",
       "      <td>0</td>\n",
       "      <td>0</td>\n",
       "      <td>0</td>\n",
       "      <td>0</td>\n",
       "    </tr>\n",
       "  </tbody>\n",
       "</table>\n",
       "<p>9 rows × 30 columns</p>\n",
       "</div>"
      ],
      "text/plain": [
       "   π0  π1  π2  π3  π4  π5  π6  π7  π8  π9  ...  π20  π21  π22  π23  π24  π25  \\\n",
       "1   0   0   0   0   0   0   0   0   0   0  ...    0    0    0    0    0    0   \n",
       "2   0   0   0   0   0   0   0   0   0   0  ...    0    0    0    0    0    0   \n",
       "3   0   0   0   0   0   0   0   0   0   0  ...    0    0    0    0    0    0   \n",
       "4   0   0   0   0   0   0   0   0   0   0  ...    0    0    0    0    0    0   \n",
       "5   0   0   0   0   0   0   0   0   0   0  ...    0    0    0    0    0    0   \n",
       "6   0   0   0   0   0   0   0   0   0   0  ...    0    0    0    0    0    0   \n",
       "7   0   0   0   0   0   0   0   0   0   0  ...    0    0    0    0    0    0   \n",
       "8   0   0   0   0   0   0   0   0   0   0  ...    0    0    0    0    0    0   \n",
       "9   0   0   0   0   0   0   0   0   0   0  ...    0    0    0    0    0    0   \n",
       "\n",
       "   π26  π27  π28  π29  \n",
       "1    0    0    0    0  \n",
       "2    0    0    0    0  \n",
       "3    0    0    0    0  \n",
       "4    0    0    0    0  \n",
       "5    0    0    0    0  \n",
       "6    0    0    0    0  \n",
       "7    0    0    0    0  \n",
       "8    0    0    0    0  \n",
       "9    0    0    0    0  \n",
       "\n",
       "[9 rows x 30 columns]"
      ]
     },
     "execution_count": 6,
     "metadata": {},
     "output_type": "execute_result"
    }
   ],
   "source": [
    "df[1:10]"
   ]
  },
  {
   "cell_type": "code",
   "execution_count": 33,
   "metadata": {},
   "outputs": [
    {
     "name": "stdout",
     "output_type": "stream",
     "text": [
      "# of π at m= 30, at n = 0\n",
      "Coherent drive: amp = 0.006, length = 400 ns\n",
      "[0] [25000]\n"
     ]
    }
   ],
   "source": [
    "qubit_params = {'t1':100, 't2':130, 'nth':5e-2}\n",
    "cavity_params = {'t1':5e2, 'nth':0.001}\n",
    "readout_params = {'length':3.2, 'trigger':7.2, 'pi_pulse':500e-3}\n",
    "expt_name = 'photon_counting_parity_alpha_test'\n",
    "filelist = [2]\n",
    "\n",
    "for ii, i in enumerate(filelist):\n",
    "    filename = \"..\\\\data\\\\\" + str(i).zfill(5) + \"_\"+expt_name.lower()+\".h5\"\n",
    "    obj = hmm_analysis(qubit_params=qubit_params, cavity_params=cavity_params, readout_params=readout_params)\n",
    "    alpha, unique, counts, p_m, p_n = obj.stateprep(data_filename=filename, at_end=False)"
   ]
  },
  {
   "cell_type": "code",
   "execution_count": null,
   "metadata": {},
   "outputs": [],
   "source": [
    "np.shape(p_m)"
   ]
  },
  {
   "cell_type": "code",
   "execution_count": null,
   "metadata": {},
   "outputs": [],
   "source": [
    "lambd_th = 1e6\n",
    "df = pd.DataFrame(p_m[0])\n",
    "t = df[df>lambd_th].count()/len(p_m[0])\n",
    "print(t)"
   ]
  },
  {
   "cell_type": "code",
   "execution_count": null,
   "metadata": {},
   "outputs": [],
   "source": [
    "filelist = np.arange(13, 23, 1)\n",
    "(filelist)"
   ]
  },
  {
   "cell_type": "markdown",
   "metadata": {},
   "source": [
    "## Varying injected alpha"
   ]
  },
  {
   "cell_type": "markdown",
   "metadata": {},
   "source": [
    "### 0.0005-0.0009"
   ]
  },
  {
   "cell_type": "code",
   "execution_count": 118,
   "metadata": {
    "ExecuteTime": {
     "end_time": "2021-07-16T00:40:57.017805Z",
     "start_time": "2021-07-16T00:24:37.380807Z"
    }
   },
   "outputs": [
    {
     "name": "stdout",
     "output_type": "stream",
     "text": [
      "..\\data\\00065_photon_counting_parity_alpha.h5\n",
      "# of π at m= 30, at n = 0\n",
      "Coherent drive: amp = 0.0005, length = 400 ns\n",
      "..\\data\\00066_photon_counting_parity_alpha.h5\n",
      "# of π at m= 30, at n = 0\n",
      "Coherent drive: amp = 0.0006, length = 400 ns\n",
      "..\\data\\00067_photon_counting_parity_alpha.h5\n",
      "# of π at m= 30, at n = 0\n",
      "Coherent drive: amp = 0.0007, length = 400 ns\n",
      "..\\data\\00068_photon_counting_parity_alpha.h5\n",
      "# of π at m= 30, at n = 0\n",
      "Coherent drive: amp = 0.0008, length = 400 ns\n",
      "..\\data\\00069_photon_counting_parity_alpha.h5\n",
      "# of π at m= 30, at n = 0\n",
      "Coherent drive: amp = 0.0009, length = 400 ns\n"
     ]
    }
   ],
   "source": [
    "qubit_params = {'t1':100, 't2':120, 'nth':5e-2}\n",
    "cavity_params = {'t1':5.92e2, 'nth':0.001}\n",
    "readout_params = {'length':3.2, 'trigger':7.2, 'pi_pulse':500e-3, 'g_inf':0.0232, 'e_inf':0.0566}\n",
    "expt_name = 'photon_counting_parity_alpha'\n",
    "\n",
    "filelist = np.arange(65, 70, 1)\n",
    "\n",
    "p_m_counts = []\n",
    "alphas = []\n",
    "camp = []\n",
    "for ii, i in enumerate(filelist):\n",
    "    p_m_temp = []\n",
    "    filename = \"..\\\\data\\\\\" + str(i).zfill(5) + \"_\"+expt_name.lower()+\".h5\"\n",
    "    print(filename)\n",
    "    obj = hmm_analysis_2(qubit_params=qubit_params, cavity_params=cavity_params, readout_params=readout_params)\n",
    "    alpha, c_amp, p_m_temp = obj.stateprep(data_filename=filename, at_end=False)\n",
    "    alphas.append(alpha)\n",
    "    camp.append(c_amp)\n",
    "    p_m_counts.append(p_m_temp)"
   ]
  },
  {
   "cell_type": "code",
   "execution_count": 17,
   "metadata": {
    "ExecuteTime": {
     "end_time": "2021-07-15T18:02:49.594566Z",
     "start_time": "2021-07-15T18:02:49.540451Z"
    }
   },
   "outputs": [
    {
     "name": "stdout",
     "output_type": "stream",
     "text": [
      "..\\data\\00065_photon_counting_parity_alpha.h5\n"
     ]
    },
    {
     "ename": "KeyError",
     "evalue": "'g_inf'",
     "output_type": "error",
     "traceback": [
      "\u001b[1;31m---------------------------------------------------------------------------\u001b[0m",
      "\u001b[1;31mKeyError\u001b[0m                                  Traceback (most recent call last)",
      "\u001b[1;32m<ipython-input-17-91527710de04>\u001b[0m in \u001b[0;36m<module>\u001b[1;34m\u001b[0m\n\u001b[0;32m     17\u001b[0m         \u001b[0mfilename\u001b[0m \u001b[1;33m=\u001b[0m \u001b[1;34m\"..\\\\data\\\\\"\u001b[0m \u001b[1;33m+\u001b[0m \u001b[0mstr\u001b[0m\u001b[1;33m(\u001b[0m\u001b[0mi\u001b[0m\u001b[1;33m+\u001b[0m\u001b[0mjj\u001b[0m\u001b[1;33m*\u001b[0m\u001b[1;36m5\u001b[0m\u001b[1;33m)\u001b[0m\u001b[1;33m.\u001b[0m\u001b[0mzfill\u001b[0m\u001b[1;33m(\u001b[0m\u001b[1;36m5\u001b[0m\u001b[1;33m)\u001b[0m \u001b[1;33m+\u001b[0m \u001b[1;34m\"_\"\u001b[0m\u001b[1;33m+\u001b[0m\u001b[0mexpt_name\u001b[0m\u001b[1;33m.\u001b[0m\u001b[0mlower\u001b[0m\u001b[1;33m(\u001b[0m\u001b[1;33m)\u001b[0m\u001b[1;33m+\u001b[0m\u001b[1;34m\".h5\"\u001b[0m\u001b[1;33m\u001b[0m\u001b[1;33m\u001b[0m\u001b[0m\n\u001b[0;32m     18\u001b[0m         \u001b[0mprint\u001b[0m\u001b[1;33m(\u001b[0m\u001b[0mfilename\u001b[0m\u001b[1;33m)\u001b[0m\u001b[1;33m\u001b[0m\u001b[1;33m\u001b[0m\u001b[0m\n\u001b[1;32m---> 19\u001b[1;33m         \u001b[0mobj\u001b[0m \u001b[1;33m=\u001b[0m \u001b[0mhmm_analysis_2\u001b[0m\u001b[1;33m(\u001b[0m\u001b[0mqubit_params\u001b[0m\u001b[1;33m=\u001b[0m\u001b[0mqubit_params\u001b[0m\u001b[1;33m,\u001b[0m \u001b[0mcavity_params\u001b[0m\u001b[1;33m=\u001b[0m\u001b[0mcavity_params\u001b[0m\u001b[1;33m,\u001b[0m \u001b[0mreadout_params\u001b[0m\u001b[1;33m=\u001b[0m\u001b[0mreadout_params\u001b[0m\u001b[1;33m)\u001b[0m\u001b[1;33m\u001b[0m\u001b[1;33m\u001b[0m\u001b[0m\n\u001b[0m\u001b[0;32m     20\u001b[0m         \u001b[0malpha\u001b[0m\u001b[1;33m,\u001b[0m \u001b[0munique\u001b[0m\u001b[1;33m,\u001b[0m \u001b[0mcounts\u001b[0m\u001b[1;33m,\u001b[0m \u001b[0mp_m\u001b[0m\u001b[1;33m,\u001b[0m \u001b[0mp_n\u001b[0m \u001b[1;33m=\u001b[0m \u001b[0mobj\u001b[0m\u001b[1;33m.\u001b[0m\u001b[0mstateprep\u001b[0m\u001b[1;33m(\u001b[0m\u001b[0mdata_filename\u001b[0m\u001b[1;33m=\u001b[0m\u001b[0mfilename\u001b[0m\u001b[1;33m,\u001b[0m \u001b[0mat_end\u001b[0m\u001b[1;33m=\u001b[0m\u001b[1;32mFalse\u001b[0m\u001b[1;33m)\u001b[0m\u001b[1;33m\u001b[0m\u001b[1;33m\u001b[0m\u001b[0m\n\u001b[0;32m     21\u001b[0m         \u001b[0mp_m_temp\u001b[0m\u001b[1;33m.\u001b[0m\u001b[0mextend\u001b[0m\u001b[1;33m(\u001b[0m\u001b[0mp_m\u001b[0m\u001b[1;33m[\u001b[0m\u001b[1;36m0\u001b[0m\u001b[1;33m]\u001b[0m\u001b[1;33m)\u001b[0m\u001b[1;33m\u001b[0m\u001b[1;33m\u001b[0m\u001b[0m\n",
      "\u001b[1;32m<ipython-input-15-02de13d05c00>\u001b[0m in \u001b[0;36m__init__\u001b[1;34m(self, qubit_params, cavity_params, readout_params)\u001b[0m\n\u001b[0;32m     18\u001b[0m         \u001b[0mself\u001b[0m\u001b[1;33m.\u001b[0m\u001b[0mtrigger_period\u001b[0m \u001b[1;33m=\u001b[0m \u001b[0mreadout_params\u001b[0m\u001b[1;33m[\u001b[0m\u001b[1;34m'trigger'\u001b[0m\u001b[1;33m]\u001b[0m\u001b[1;33m\u001b[0m\u001b[1;33m\u001b[0m\u001b[0m\n\u001b[0;32m     19\u001b[0m         \u001b[0mself\u001b[0m\u001b[1;33m.\u001b[0m\u001b[0mpi_length\u001b[0m \u001b[1;33m=\u001b[0m \u001b[0mreadout_params\u001b[0m\u001b[1;33m[\u001b[0m\u001b[1;34m'pi_pulse'\u001b[0m\u001b[1;33m]\u001b[0m\u001b[1;33m\u001b[0m\u001b[1;33m\u001b[0m\u001b[0m\n\u001b[1;32m---> 20\u001b[1;33m         \u001b[0mself\u001b[0m\u001b[1;33m.\u001b[0m\u001b[0mg_inf\u001b[0m \u001b[1;33m=\u001b[0m \u001b[0mreadout_params\u001b[0m\u001b[1;33m[\u001b[0m\u001b[1;34m'g_inf'\u001b[0m\u001b[1;33m]\u001b[0m\u001b[1;33m\u001b[0m\u001b[1;33m\u001b[0m\u001b[0m\n\u001b[0m\u001b[0;32m     21\u001b[0m         \u001b[0mself\u001b[0m\u001b[1;33m.\u001b[0m\u001b[0me_inf\u001b[0m \u001b[1;33m=\u001b[0m \u001b[0mreadout_params\u001b[0m\u001b[1;33m[\u001b[0m\u001b[1;34m'e_inf'\u001b[0m\u001b[1;33m]\u001b[0m\u001b[1;33m\u001b[0m\u001b[1;33m\u001b[0m\u001b[0m\n\u001b[0;32m     22\u001b[0m \u001b[1;33m\u001b[0m\u001b[0m\n",
      "\u001b[1;31mKeyError\u001b[0m: 'g_inf'"
     ]
    }
   ],
   "source": [
    "qubit_params = {'t1':100, 't2':130, 'nth':5e-2}\n",
    "cavity_params = {'t1':5e2, 'nth':0.001}\n",
    "readout_params = {'length':3.2, 'trigger':7.2, 'pi_pulse':500e-3, 'g_inf':0.0232, 'e_inf':0.0566}\n",
    "expt_name = 'photon_counting_parity_alpha'\n",
    "filelist = np.arange(53, 58, 1)\n",
    "\n",
    "filelist = [65]\n",
    "\n",
    "p_m_counts = []\n",
    "p_n_counts = []\n",
    "alphas = []\n",
    "for ii, i in enumerate(filelist):\n",
    "    p_m_temp = []\n",
    "    p_n_temp = []\n",
    "\n",
    "    for jj in range(2):\n",
    "        filename = \"..\\\\data\\\\\" + str(i+jj*5).zfill(5) + \"_\"+expt_name.lower()+\".h5\"\n",
    "        print(filename)\n",
    "        obj = hmm_analysis_2(qubit_params=qubit_params, cavity_params=cavity_params, readout_params=readout_params)\n",
    "        alpha, unique, counts, p_m, p_n = obj.stateprep(data_filename=filename, at_end=False)\n",
    "        p_m_temp.extend(p_m[0])\n",
    "        p_n_temp.extend(p_n[0])\n",
    "        \n",
    "    p_m_counts.append(p_m_temp)\n",
    "    p_n_counts.append(p_n_temp)        \n",
    "    alphas.append(alpha)"
   ]
  },
  {
   "cell_type": "code",
   "execution_count": 26,
   "metadata": {
    "ExecuteTime": {
     "end_time": "2021-07-15T18:48:33.726482Z",
     "start_time": "2021-07-15T18:48:33.619449Z"
    }
   },
   "outputs": [],
   "source": [
    "lambd_th = 1e7\n",
    "pos_events = []\n",
    "pos_events_err = []\n",
    "\n",
    "for i in range(len(filelist)):\n",
    "    df = pd.DataFrame(p_m_counts[i])\n",
    "    t = df[df>lambd_th].count()/len(p_m_counts[i])\n",
    "    pos_events.append(t)\n",
    "    pos_events_err.append(np.sqrt(df[df>lambd_th].count())/len(p_m_counts[i]))\n",
    "pos_events = np.array(pos_events).flatten()\n",
    "pos_events_err = np.array(pos_events_err[:]).flatten()"
   ]
  },
  {
   "cell_type": "code",
   "execution_count": 27,
   "metadata": {
    "ExecuteTime": {
     "end_time": "2021-07-15T18:48:35.944352Z",
     "start_time": "2021-07-15T18:48:35.934413Z"
    }
   },
   "outputs": [
    {
     "data": {
      "text/plain": [
       "array([0.00024, 0.00026, 0.00024, 0.0003 , 0.00022])"
      ]
     },
     "execution_count": 27,
     "metadata": {},
     "output_type": "execute_result"
    }
   ],
   "source": [
    "pos_events"
   ]
  },
  {
   "cell_type": "code",
   "execution_count": 23,
   "metadata": {
    "ExecuteTime": {
     "end_time": "2021-07-15T18:47:51.503148Z",
     "start_time": "2021-07-15T18:47:51.493147Z"
    }
   },
   "outputs": [
    {
     "data": {
      "text/plain": [
       "[0.0005680673952185346,\n",
       " 0.0006816808742622413,\n",
       " 0.0007952943533059483,\n",
       " 0.0009089078323496552,\n",
       " 0.001022521311393362]"
      ]
     },
     "execution_count": 23,
     "metadata": {},
     "output_type": "execute_result"
    }
   ],
   "source": [
    "alphas"
   ]
  },
  {
   "cell_type": "code",
   "execution_count": 24,
   "metadata": {
    "ExecuteTime": {
     "end_time": "2021-07-15T18:48:12.195471Z",
     "start_time": "2021-07-15T18:48:12.175472Z"
    }
   },
   "outputs": [],
   "source": [
    "camp = np.round(np.arange(0.0005, 0.001, 0.0001).tolist(), 4)\n",
    "\n",
    "alphas = obj.alpha_awg_cal(cav_amp=camp, cav_len=400*np.ones(len(camp)))"
   ]
  },
  {
   "cell_type": "code",
   "execution_count": 25,
   "metadata": {
    "ExecuteTime": {
     "end_time": "2021-07-15T18:48:17.714045Z",
     "start_time": "2021-07-15T18:48:17.694044Z"
    }
   },
   "outputs": [
    {
     "data": {
      "text/plain": [
       "array([0.00056807, 0.00068168, 0.00079529, 0.00090891, 0.00102252])"
      ]
     },
     "execution_count": 25,
     "metadata": {},
     "output_type": "execute_result"
    }
   ],
   "source": [
    "alphas"
   ]
  },
  {
   "cell_type": "code",
   "execution_count": null,
   "metadata": {},
   "outputs": [],
   "source": [
    "np.round(camp, 4)"
   ]
  },
  {
   "cell_type": "code",
   "execution_count": 119,
   "metadata": {
    "ExecuteTime": {
     "end_time": "2021-07-16T00:40:57.259407Z",
     "start_time": "2021-07-16T00:40:57.017805Z"
    }
   },
   "outputs": [
    {
     "name": "stdout",
     "output_type": "stream",
     "text": [
      "../data/photon_counting/g0_20210715/n0_camp_0.0005_len_400.h5\n",
      "../data/photon_counting/g0_20210715/n0_camp_0.0006_len_400.h5\n",
      "../data/photon_counting/g0_20210715/n0_camp_0.0007_len_400.h5\n",
      "../data/photon_counting/g0_20210715/n0_camp_0.0008_len_400.h5\n",
      "../data/photon_counting/g0_20210715/n0_camp_0.0009_len_400.h5\n"
     ]
    }
   ],
   "source": [
    "path = \"../data/photon_counting/g0_20210715/\"\n",
    "\n",
    "for i in range(len(filelist)):\n",
    "\n",
    "    filename = path + \"n\" + str(0) +\"_camp_\" + str(camp[i])+\"_len_\"+str(400)+\".h5\"\n",
    "    print(filename)\n",
    "    \n",
    "    temp= p_m_counts[i]\n",
    "    \n",
    "    with File(filename, 'w') as f:\n",
    "        dset = f.create_dataset(\"p_m_counts\", data=temp)\n",
    "        f.create_dataset('alpha', data = alphas[i])"
   ]
  },
  {
   "cell_type": "markdown",
   "metadata": {},
   "source": [
    "### 0.001-0.009"
   ]
  },
  {
   "cell_type": "code",
   "execution_count": 31,
   "metadata": {
    "ExecuteTime": {
     "end_time": "2021-07-15T20:20:49.742107Z",
     "start_time": "2021-07-15T19:51:12.800273Z"
    }
   },
   "outputs": [
    {
     "name": "stdout",
     "output_type": "stream",
     "text": [
      "..\\data\\00070_photon_counting_parity_alpha.h5\n",
      "# of π at m= 30, at n = 0\n",
      "Coherent drive: amp = 0.001, length = 400 ns\n",
      "..\\data\\00071_photon_counting_parity_alpha.h5\n",
      "# of π at m= 30, at n = 0\n",
      "Coherent drive: amp = 0.002, length = 400 ns\n",
      "..\\data\\00072_photon_counting_parity_alpha.h5\n",
      "# of π at m= 30, at n = 0\n",
      "Coherent drive: amp = 0.003, length = 400 ns\n",
      "..\\data\\00073_photon_counting_parity_alpha.h5\n",
      "# of π at m= 30, at n = 0\n",
      "Coherent drive: amp = 0.004, length = 400 ns\n",
      "..\\data\\00074_photon_counting_parity_alpha.h5\n",
      "# of π at m= 30, at n = 0\n",
      "Coherent drive: amp = 0.005, length = 400 ns\n",
      "..\\data\\00075_photon_counting_parity_alpha.h5\n",
      "# of π at m= 30, at n = 0\n",
      "Coherent drive: amp = 0.006, length = 400 ns\n",
      "..\\data\\00076_photon_counting_parity_alpha.h5\n",
      "# of π at m= 30, at n = 0\n",
      "Coherent drive: amp = 0.007, length = 400 ns\n",
      "..\\data\\00077_photon_counting_parity_alpha.h5\n",
      "# of π at m= 30, at n = 0\n",
      "Coherent drive: amp = 0.008, length = 400 ns\n",
      "..\\data\\00078_photon_counting_parity_alpha.h5\n",
      "# of π at m= 30, at n = 0\n",
      "Coherent drive: amp = 0.01, length = 400 ns\n",
      "..\\data\\00079_photon_counting_parity_alpha.h5\n",
      "# of π at m= 30, at n = 0\n",
      "Coherent drive: amp = 0.02, length = 400 ns\n"
     ]
    }
   ],
   "source": [
    "qubit_params = {'t1':100, 't2':120, 'nth':5e-2}\n",
    "cavity_params = {'t1':5.92e2, 'nth':0.001}\n",
    "readout_params = {'length':3.2, 'trigger':7.2, 'pi_pulse':500e-3, 'g_inf':0.0232, 'e_inf':0.0566}\n",
    "expt_name = 'photon_counting_parity_alpha'\n",
    "\n",
    "filelist = np.arange(70, 80, 1)\n",
    "\n",
    "p_m_counts = []\n",
    "alphas = []\n",
    "for ii, i in enumerate(filelist):\n",
    "    p_m_temp = []\n",
    "    filename = \"..\\\\data\\\\\" + str(i).zfill(5) + \"_\"+expt_name.lower()+\".h5\"\n",
    "    print(filename)\n",
    "    obj = hmm_analysis_2(qubit_params=qubit_params, cavity_params=cavity_params, readout_params=readout_params)\n",
    "    alpha, p_m_temp = obj.stateprep(data_filename=filename, at_end=False)\n",
    "    \n",
    "    alphas.append(alpha)\n",
    "    p_m_counts.append(p_m_temp)"
   ]
  },
  {
   "cell_type": "code",
   "execution_count": 32,
   "metadata": {
    "ExecuteTime": {
     "end_time": "2021-07-15T20:23:37.162833Z",
     "start_time": "2021-07-15T20:23:36.902832Z"
    }
   },
   "outputs": [],
   "source": [
    "lambd_th = 1e7\n",
    "pos_events = []\n",
    "pos_events_err = []\n",
    "\n",
    "for i in range(len(filelist)):\n",
    "    df = pd.DataFrame(p_m_counts[i])\n",
    "    t = df[df>lambd_th].count()/len(p_m_counts[i])\n",
    "    pos_events.append(t)\n",
    "    pos_events_err.append(np.sqrt(df[df>lambd_th].count())/len(p_m_counts[i]))\n",
    "pos_events = np.array(pos_events).flatten()\n",
    "pos_events_err = np.array(pos_events_err[:]).flatten()"
   ]
  },
  {
   "cell_type": "code",
   "execution_count": 33,
   "metadata": {
    "ExecuteTime": {
     "end_time": "2021-07-15T20:23:40.683287Z",
     "start_time": "2021-07-15T20:23:40.659283Z"
    }
   },
   "outputs": [
    {
     "data": {
      "text/plain": [
       "array([0.00016, 0.00016, 0.00044, 0.00028, 0.0002 , 0.00012, 0.00024,\n",
       "       0.00026, 0.0004 , 0.00064])"
      ]
     },
     "execution_count": 33,
     "metadata": {},
     "output_type": "execute_result"
    }
   ],
   "source": [
    "pos_events"
   ]
  },
  {
   "cell_type": "code",
   "execution_count": 42,
   "metadata": {
    "ExecuteTime": {
     "end_time": "2021-07-15T20:27:29.394271Z",
     "start_time": "2021-07-15T20:27:29.372780Z"
    }
   },
   "outputs": [
    {
     "name": "stdout",
     "output_type": "stream",
     "text": [
      "[0.001 0.002 0.003 0.004 0.005 0.006 0.007 0.008 0.01  0.02 ]\n"
     ]
    }
   ],
   "source": [
    "camp  = list(np.arange(0.001, 0.009, 0.001))\n",
    "camp.extend([0.01, 0.02])\n",
    "camp = np.array(np.round(camp, 6))\n",
    "print(camp)"
   ]
  },
  {
   "cell_type": "code",
   "execution_count": 43,
   "metadata": {
    "ExecuteTime": {
     "end_time": "2021-07-15T20:27:41.589438Z",
     "start_time": "2021-07-15T20:27:41.170711Z"
    }
   },
   "outputs": [
    {
     "name": "stdout",
     "output_type": "stream",
     "text": [
      "../data/photon_counting/g0_20210715/n0_camp_0.001_len_400.h5\n",
      "../data/photon_counting/g0_20210715/n0_camp_0.002_len_400.h5\n",
      "../data/photon_counting/g0_20210715/n0_camp_0.003_len_400.h5\n",
      "../data/photon_counting/g0_20210715/n0_camp_0.004_len_400.h5\n",
      "../data/photon_counting/g0_20210715/n0_camp_0.005_len_400.h5\n",
      "../data/photon_counting/g0_20210715/n0_camp_0.006_len_400.h5\n",
      "../data/photon_counting/g0_20210715/n0_camp_0.007_len_400.h5\n",
      "../data/photon_counting/g0_20210715/n0_camp_0.008_len_400.h5\n",
      "../data/photon_counting/g0_20210715/n0_camp_0.01_len_400.h5\n",
      "../data/photon_counting/g0_20210715/n0_camp_0.02_len_400.h5\n"
     ]
    }
   ],
   "source": [
    "path = \"../data/photon_counting/g0_20210715/\"\n",
    "for i in range(len(filelist)):\n",
    "\n",
    "    filename = path + \"n\" + str(0) +\"_camp_\" + str(camp[i])+\"_len_\"+str(400)+\".h5\"\n",
    "    print(filename)\n",
    "    \n",
    "    temp= p_m_counts[i]\n",
    "    \n",
    "    with File(filename, 'w') as f:\n",
    "        dset = f.create_dataset(\"p_m_counts\", data=temp)\n",
    "        f.create_dataset('alpha', data = alphas[i])"
   ]
  },
  {
   "cell_type": "markdown",
   "metadata": {},
   "source": [
    "### 0.0"
   ]
  },
  {
   "cell_type": "code",
   "execution_count": 133,
   "metadata": {
    "ExecuteTime": {
     "end_time": "2021-07-16T15:56:44.878609Z",
     "start_time": "2021-07-16T15:43:46.986685Z"
    }
   },
   "outputs": [
    {
     "name": "stdout",
     "output_type": "stream",
     "text": [
      "..\\data\\00094_photon_counting_parity_alpha.h5\n",
      "# of π at m= 30, at n = 0\n",
      "Coherent drive: amp = 0.1, length = 400 ns\n",
      "..\\data\\00095_photon_counting_parity_alpha.h5\n",
      "# of π at m= 30, at n = 0\n",
      "Coherent drive: amp = 0.2, length = 400 ns\n",
      "..\\data\\00096_photon_counting_parity_alpha.h5\n",
      "# of π at m= 30, at n = 0\n",
      "Coherent drive: amp = 0.3, length = 400 ns\n",
      "..\\data\\00097_photon_counting_parity_alpha.h5\n",
      "# of π at m= 30, at n = 0\n",
      "Coherent drive: amp = 0.4, length = 400 ns\n",
      "..\\data\\00098_photon_counting_parity_alpha.h5\n",
      "# of π at m= 30, at n = 0\n",
      "Coherent drive: amp = 0.5, length = 400 ns\n",
      "..\\data\\00099_photon_counting_parity_alpha.h5\n",
      "# of π at m= 30, at n = 0\n",
      "Coherent drive: amp = 0.6, length = 400 ns\n",
      "..\\data\\00100_photon_counting_parity_alpha.h5\n",
      "# of π at m= 30, at n = 0\n",
      "Coherent drive: amp = 0.7, length = 400 ns\n",
      "..\\data\\00101_photon_counting_parity_alpha.h5\n",
      "# of π at m= 30, at n = 0\n",
      "Coherent drive: amp = 0.8, length = 400 ns\n"
     ]
    }
   ],
   "source": [
    "qubit_params = {'t1':100, 't2':120, 'nth':5e-2}\n",
    "cavity_params = {'t1':5.92e2, 'nth':0.001}\n",
    "readout_params = {'length':3.2, 'trigger':7.2, 'pi_pulse':500e-3, 'g_inf':0.0232, 'e_inf':0.0566}\n",
    "expt_name = 'photon_counting_parity_alpha'\n",
    "\n",
    "filelist = np.arange(94, 102, 1)\n",
    "\n",
    "p_m_counts = []\n",
    "alphas = []\n",
    "camp = []\n",
    "for ii, i in enumerate(filelist):\n",
    "    p_m_temp = []\n",
    "    filename = \"..\\\\data\\\\\" + str(i).zfill(5) + \"_\"+expt_name.lower()+\".h5\"\n",
    "    print(filename)\n",
    "    obj = hmm_analysis_2(qubit_params=qubit_params, cavity_params=cavity_params, readout_params=readout_params)\n",
    "    alpha, c_amp, p_m_temp = obj.stateprep(data_filename=filename, at_end=False)\n",
    "    alphas.append(alpha)\n",
    "    camp.append(c_amp)\n",
    "    p_m_counts.append(p_m_temp)"
   ]
  },
  {
   "cell_type": "code",
   "execution_count": 126,
   "metadata": {
    "ExecuteTime": {
     "end_time": "2021-07-16T04:35:45.566846Z",
     "start_time": "2021-07-16T04:35:45.546846Z"
    }
   },
   "outputs": [
    {
     "data": {
      "text/plain": [
       "[array(0.1),\n",
       " array(0.2),\n",
       " array(0.3),\n",
       " array(0.4),\n",
       " array(0.5),\n",
       " array(0.6),\n",
       " array(0.7)]"
      ]
     },
     "execution_count": 126,
     "metadata": {},
     "output_type": "execute_result"
    }
   ],
   "source": [
    "camp"
   ]
  },
  {
   "cell_type": "code",
   "execution_count": null,
   "metadata": {
    "collapsed": true
   },
   "outputs": [],
   "source": [
    "camp = [0.0002]"
   ]
  },
  {
   "cell_type": "code",
   "execution_count": 127,
   "metadata": {
    "ExecuteTime": {
     "end_time": "2021-07-16T04:35:54.642855Z",
     "start_time": "2021-07-16T04:35:54.440740Z"
    }
   },
   "outputs": [
    {
     "name": "stdout",
     "output_type": "stream",
     "text": [
      "../data/photon_counting/g0_20210715/n0_camp_0.1_len_400.h5\n",
      "../data/photon_counting/g0_20210715/n0_camp_0.2_len_400.h5\n",
      "../data/photon_counting/g0_20210715/n0_camp_0.3_len_400.h5\n",
      "../data/photon_counting/g0_20210715/n0_camp_0.4_len_400.h5\n",
      "../data/photon_counting/g0_20210715/n0_camp_0.5_len_400.h5\n",
      "../data/photon_counting/g0_20210715/n0_camp_0.6_len_400.h5\n",
      "../data/photon_counting/g0_20210715/n0_camp_0.7_len_400.h5\n"
     ]
    }
   ],
   "source": [
    "path = \"../data/photon_counting/g0_20210715/\"\n",
    "for i in range(len(filelist)):\n",
    "\n",
    "    filename = path + \"n\" + str(0) +\"_camp_\" + str(camp[i])+\"_len_\"+str(400)+\".h5\"\n",
    "    print(filename)\n",
    "    \n",
    "    temp= p_m_counts[i]\n",
    "    \n",
    "    with File(filename, 'w') as f:\n",
    "        dset = f.create_dataset(\"p_m_counts\", data=temp)\n",
    "        f.create_dataset('alpha', data = alphas[i])"
   ]
  },
  {
   "cell_type": "code",
   "execution_count": null,
   "metadata": {},
   "outputs": [],
   "source": [
    "np.shape(p_m_counts)"
   ]
  },
  {
   "cell_type": "code",
   "execution_count": null,
   "metadata": {},
   "outputs": [],
   "source": [
    "pos_events_err"
   ]
  },
  {
   "cell_type": "code",
   "execution_count": null,
   "metadata": {},
   "outputs": [],
   "source": [
    "plt.figure(dpi=300)\n",
    "plt.errorbar(x=alphas**2, y=pos_events, yerr=pos_events_err, fmt='o', capthick=4, color='y', ecolor='k')\n",
    "plt.xlabel(r'$n_{inj}$')\n",
    "plt.ylabel(r'$n_{meas}$')\n",
    "plt.yscale('log')\n",
    "plt.xscale('log')\n",
    "plt.show()"
   ]
  },
  {
   "cell_type": "markdown",
   "metadata": {},
   "source": [
    "## photon counter fit"
   ]
  },
  {
   "cell_type": "code",
   "execution_count": 128,
   "metadata": {
    "ExecuteTime": {
     "end_time": "2021-07-16T04:36:03.111879Z",
     "start_time": "2021-07-16T04:36:01.768075Z"
    }
   },
   "outputs": [
    {
     "name": "stdout",
     "output_type": "stream",
     "text": [
      "n0_camp_0.0005_len_400.h5\n",
      "0.000568\n",
      "Total number of events collected: 50000, 12 events crossed \\lambda \n",
      "n0_camp_0.0006_len_400.h5\n",
      "0.000682\n",
      "Total number of events collected: 50000, 13 events crossed \\lambda \n",
      "n0_camp_0.0007_len_400.h5\n",
      "0.000795\n",
      "Total number of events collected: 50000, 11 events crossed \\lambda \n",
      "n0_camp_0.0008_len_400.h5\n",
      "0.000909\n",
      "Total number of events collected: 50000, 11 events crossed \\lambda \n",
      "n0_camp_0.0009_len_400.h5\n",
      "0.001023\n",
      "Total number of events collected: 50000, 11 events crossed \\lambda \n",
      "n0_camp_0.001_len_400.h5\n",
      "0.001136\n",
      "Total number of events collected: 50000, 7 events crossed \\lambda \n",
      "n0_camp_0.002_len_400.h5\n",
      "0.002272\n",
      "Total number of events collected: 50000, 8 events crossed \\lambda \n",
      "n0_camp_0.003_len_400.h5\n",
      "0.003408\n",
      "Total number of events collected: 50000, 20 events crossed \\lambda \n",
      "n0_camp_0.004_len_400.h5\n",
      "0.004545\n",
      "Total number of events collected: 50000, 13 events crossed \\lambda \n",
      "n0_camp_0.005_len_400.h5\n",
      "0.005866\n",
      "Total number of events collected: 50000, 10 events crossed \\lambda \n",
      "n0_camp_0.006_len_400.h5\n",
      "0.007188\n",
      "Total number of events collected: 50000, 6 events crossed \\lambda \n",
      "n0_camp_0.007_len_400.h5\n",
      "0.008387\n",
      "Total number of events collected: 50000, 12 events crossed \\lambda \n",
      "n0_camp_0.008_len_400.h5\n",
      "0.009587\n",
      "Total number of events collected: 50000, 12 events crossed \\lambda \n",
      "n0_camp_0.01_len_400.h5\n",
      "0.011974\n",
      "Total number of events collected: 25000, 9 events crossed \\lambda \n",
      "n0_camp_0.02_len_400.h5\n",
      "0.024948\n",
      "Total number of events collected: 25000, 14 events crossed \\lambda \n",
      "n0_camp_0.1_len_400.h5\n",
      "0.123727\n",
      "Total number of events collected: 25000, 374 events crossed \\lambda \n",
      "n0_camp_0.2_len_400.h5\n",
      "0.251341\n",
      "Total number of events collected: 25000, 1332 events crossed \\lambda \n",
      "n0_camp_0.3_len_400.h5\n",
      "0.386739\n",
      "Total number of events collected: 25000, 2674 events crossed \\lambda \n",
      "n0_camp_0.4_len_400.h5\n",
      "0.503709\n",
      "Total number of events collected: 25000, 4288 events crossed \\lambda \n",
      "n0_camp_0.5_len_400.h5\n",
      "0.6498\n",
      "Total number of events collected: 25000, 5553 events crossed \\lambda \n",
      "n0_camp_0.6_len_400.h5\n",
      "0.771188\n",
      "Total number of events collected: 25000, 6674 events crossed \\lambda \n",
      "n0_camp_0.7_len_400.h5\n",
      "0.849765\n",
      "Total number of events collected: 25000, 7072 events crossed \\lambda \n"
     ]
    }
   ],
   "source": [
    "data_path =  \"../data/photon_counting/g0_20210715/\"\n",
    "filenames_like = os.listdir(data_path)\n",
    "\n",
    "th_m = np.logspace(2, 10, 9)\n",
    "detected_th = {}\n",
    "detected_th_err = {}\n",
    "alphas = []\n",
    "for jj, filename in enumerate(filenames_like):\n",
    "    print(filename)\n",
    "    filename = data_path + filename\n",
    "    with File(filename,'r') as a:\n",
    "        p_m_counts = np.array(a['p_m_counts'], dtype=float)\n",
    "        alpha = np.array(a['alpha'])\n",
    "        print(np.round(alpha, 6))\n",
    "        a.close()\n",
    "    alphas.append(np.round(alpha, 6))\n",
    "    detect = []\n",
    "    detect_err = []\n",
    "    detect_err_bi = []\n",
    "    for th in th_m:\n",
    "        df = pd.DataFrame(p_m_counts)\n",
    "        count_m = df[df>th].count()\n",
    "        t = count_m/len(p_m_counts)\n",
    "        detect.append(t)\n",
    "        detect_err.append(np.sqrt(count_m)/len(p_m_counts))\n",
    "    print(r\"Total number of events collected: %d, %d events crossed \\lambda \"%(len(p_m_counts), count_m))\n",
    "    detected_th[np.round(alpha, 6)]= detect\n",
    "    detected_th_err[np.round(alpha, 6)] = detect_err\n",
    "\n",
    "\"\"\"Sorts the columns according to injected photon number\"\"\"\n",
    "y = pd.DataFrame(detected_th).sort_index(axis=1)\n",
    "yerr = pd.DataFrame(detected_th_err).sort_index(axis=1)\n",
    "n_exp = np.sort(np.array(alphas)**2)"
   ]
  },
  {
   "cell_type": "code",
   "execution_count": 129,
   "metadata": {
    "ExecuteTime": {
     "end_time": "2021-07-16T04:36:08.236681Z",
     "start_time": "2021-07-16T04:36:08.134132Z"
    }
   },
   "outputs": [],
   "source": [
    "def photon_counter_line0(x, eff, err):\n",
    "    return eff*(np.array(x)) + err\n",
    "\n",
    "det_eff = []\n",
    "det_darkcount = []\n",
    "eff_corr_darkcount = []\n",
    "\n",
    "for ii in range(len(th_m)):\n",
    "    popt, pcov = curve_fit(f=photon_counter_line0, xdata=n_exp, ydata=np.array(y.iloc[ii], dtype=float), sigma=np.array(yerr.iloc[ii], dtype=float), \n",
    "                           bounds = ([0.0, 1e-5],[1.0, 1e-2]))\n",
    "    perr = np.sqrt(np.diag(pcov))\n",
    "    det_eff.append([popt[0], perr[0]])\n",
    "    det_darkcount.append([popt[1], perr[1]])\n",
    "    err = np.sqrt((perr[1]/(popt[0]))**2 + (perr[0]*(popt[1]/(popt[0]**2)))**2)\n",
    "    eff_corr_darkcount.append([popt[1]/(popt[0]), err])"
   ]
  },
  {
   "cell_type": "code",
   "execution_count": 130,
   "metadata": {
    "ExecuteTime": {
     "end_time": "2021-07-16T04:36:09.933029Z",
     "start_time": "2021-07-16T04:36:08.944117Z"
    }
   },
   "outputs": [
    {
     "data": {
      "image/png": "[encoded data removed]",
      "text/plain": [
       "<Figure size 1800x1200 with 2 Axes>"
      ]
     },
     "metadata": {
      "needs_background": "light"
     },
     "output_type": "display_data"
    }
   ],
   "source": [
    "fig, (ax1, ax2) = plt.subplots(nrows=2, dpi=300, sharex=True)\n",
    "ax1.errorbar(x= th_m, y= pd.DataFrame(det_eff)[0], yerr= pd.DataFrame(det_eff)[1],\n",
    "             fmt='o',  capthick=4, markerfacecolor='#ffa600', markeredgecolor='k', ecolor='#003f5c')\n",
    "ax1.set_ylabel(r'$\\eta$')\n",
    "ax1.grid(minorticks_on)\n",
    "ax2.errorbar(x= th_m, y= pd.DataFrame(eff_corr_darkcount)[0], yerr= pd.DataFrame(eff_corr_darkcount)[1],\n",
    "             fmt='o',  capthick=4, markerfacecolor='#ffa600', markeredgecolor='k', ecolor='#003f5c')\n",
    "ax2.set_ylabel(r'$\\frac{\\delta}{\\eta}$')\n",
    "ax2.set_xlabel(r'$\\lambda_{th}$')\n",
    "ax2.set_xscale('log')\n",
    "ax2.set_yscale('log')\n",
    "ax2.grid(minorticks_on)\n",
    "plt.tight_layout()\n",
    "plt.show()"
   ]
  },
  {
   "cell_type": "code",
   "execution_count": 131,
   "metadata": {
    "ExecuteTime": {
     "end_time": "2021-07-16T04:36:16.711716Z",
     "start_time": "2021-07-16T04:36:14.640550Z"
    }
   },
   "outputs": [
    {
     "name": "stdout",
     "output_type": "stream",
     "text": [
      "0.03714\n"
     ]
    },
    {
     "data": {
      "image/png": "[encoded data removed]",
      "text/plain": [
       "<Figure size 1800x1200 with 1 Axes>"
      ]
     },
     "metadata": {
      "needs_background": "light"
     },
     "output_type": "display_data"
    }
   ],
   "source": [
    "#003f5c\n",
    "#58508d\n",
    "#bc5090\n",
    "#ff6361\n",
    "#ffa600\n",
    "m = 4\n",
    "plt.figure(dpi=300)\n",
    "plt.errorbar(n_exp, y= y.iloc[-m], yerr= yerr.iloc[-m], fmt='o', capthick=4, \n",
    "            markerfacecolor='#003f5c', markeredgecolor='k', ecolor='#003f5c',\n",
    "                 label=r'$\\lambda_{th} =  10^{%.f}$'%(np.log10(th_m[-m])))\n",
    "\n",
    "popt, pcov = curve_fit(f=photon_counter_line0, xdata=n_exp, ydata=np.array(y.iloc[-m], dtype=float), sigma=np.array(yerr.iloc[-m], dtype=float), \n",
    "                           bounds = ([0.0, 1e-5],[1.0, 1e-2]))\n",
    "perr = np.sqrt(np.diag(pcov))\n",
    "delta_eta  = popt[1]/popt[0]\n",
    "delta_eta_err = delta_eta*(np.sqrt((perr[0]/popt[0])**2 + (perr[1]/popt[1])**2))\n",
    "###########\n",
    "w = 2*np.pi*6.011*1e9\n",
    "\n",
    "from scipy.constants import hbar, k\n",
    "\n",
    "T = np.round(hbar*w/(k*np.log(1/delta_eta)), 5)\n",
    "print(T)\n",
    "###########\n",
    "x = np.linspace(1e-8, 4e-1, 100001)\n",
    "h = photon_counter_line0(x, *popt)\n",
    "plt.plot(x, h, linewidth=2, linestyle='--', color='#ffa600')\n",
    "plt.ylabel(r'$n_{meas}$')\n",
    "plt.xlabel(r'$n_{inj}$')\n",
    "plt.xscale('symlog', linthresh=1e-6)\n",
    "# plt.yscale('symlog', linthreshy=1e-5)\n",
    "plt.yscale('log')\n",
    "plt.ylim(5e-6, 2e0)\n",
    "plt.text(1e-3, 5e-5, '$\\eta$ = {:^.2f} $\\pm$ {:^.3f} \\n$\\delta$ = {:^.2e} $\\pm$ {:^.2e}'.format(popt[0], perr[0], popt[1], perr[1]))\n",
    "plt.text(5e-7, 5e-2, 'Efficiency corrected \\n dark count rate,\\\n",
    "        \\n $\\delta$/$\\eta$ = {:<.2e} $\\pm$ {:<.2e}'.format(delta_eta, delta_eta_err))\n",
    "plt.title('Photon temperature = {} mK'.format(T*1000))\n",
    "plt.legend(fontsize=14, loc='best') \n",
    "plt.grid(minorticks_on)\n",
    "plt.savefig('2021-05-24-PhotonCounting.png', dpi=300)\n",
    "plt.show()"
   ]
  },
  {
   "cell_type": "code",
   "execution_count": null,
   "metadata": {},
   "outputs": [],
   "source": [
    "w = 2*np.pi*6.011*1e9\n",
    "\n",
    "from scipy.constants import hbar, k\n",
    "\n",
    "T = hbar*w/(k*np.log(1/3.28e-4))\n",
    "print(T)"
   ]
  }
 ],
 "metadata": {
  "kernelspec": {
   "display_name": "Python 3",
   "language": "python",
   "name": "python3"
  },
  "language_info": {
   "codemirror_mode": {
    "name": "ipython",
    "version": 3
   },
   "file_extension": ".py",
   "mimetype": "text/x-python",
   "name": "python",
   "nbconvert_exporter": "python",
   "pygments_lexer": "ipython3",
   "version": "3.8.5"
  },
  "toc": {
   "base_numbering": 1,
   "nav_menu": {},
   "number_sections": true,
   "sideBar": true,
   "skip_h1_title": false,
   "title_cell": "Table of Contents",
   "title_sidebar": "Contents",
   "toc_cell": false,
   "toc_position": {
    "height": "calc(100% - 180px)",
    "left": "10px",
    "top": "150px",
    "width": "493.833px"
   },
   "toc_section_display": true,
   "toc_window_display": true
  }
 },
 "nbformat": 4,
 "nbformat_minor": 4
}
