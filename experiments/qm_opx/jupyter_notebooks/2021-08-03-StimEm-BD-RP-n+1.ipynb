{
 "cells": [
  {
   "cell_type": "markdown",
   "metadata": {},
   "source": [
    "# Repeated parity measurement photon counting "
   ]
  },
  {
   "cell_type": "code",
   "execution_count": 1,
   "metadata": {
    "ExecuteTime": {
     "end_time": "2021-08-03T16:40:03.005362Z",
     "start_time": "2021-08-03T16:40:00.908057Z"
    }
   },
   "outputs": [
    {
     "name": "stdout",
     "output_type": "stream",
     "text": [
      "Warning could not load Chase AWG dll, check that dll located at 'C:\\_Lib\\python\\slab\\instruments\\awg\\chase\\dax22000_lib_DLL32.dll'\n",
      "Could not load InstrumentManagerWindow\n",
      "Warning could not load LDA labbrick dll, check that dll located at 'C:\\_Lib\\python\\slab\\instruments\\labbrick\\VNX_atten.dll'\n",
      "Warning could not load LMS labbrick dll, check that dll located at 'C:\\_Lib\\python\\slab\\instruments\\labbrick\\vnx_fmsynth.dll'\n",
      "Warning could not load LPS labbrick dll, check that dll located at 'C:\\_Lib\\python\\slab\\instruments\\labbrick\\VNX_dps.dll'\n",
      "Could not load labbrick\n"
     ]
    },
    {
     "name": "stderr",
     "output_type": "stream",
     "text": [
      "C:\\ProgramData\\Miniconda3\\lib\\site-packages\\IPython\\qt.py:12: ShimWarning: The `IPython.qt` package has been deprecated since IPython 4.0. You should import from qtconsole instead.\n",
      "  warn(\"The `IPython.qt` package has been deprecated since IPython 4.0. \"\n",
      "C:\\ProgramData\\Miniconda3\\lib\\site-packages\\visa.py:13: FutureWarning: The visa module provided by PyVISA is being deprecated. You can replace `import visa` by `import pyvisa as visa` to achieve the same effect.\n",
      "\n",
      "The reason for the deprecation is the possible conflict with the visa package provided by the https://github.com/visa-sdk/visa-python which can result in hard to debug situations.\n",
      "  warnings.warn(\n"
     ]
    }
   ],
   "source": [
    "from pylab import*\n",
    "import matplotlib.pyplot as plt\n",
    "import seaborn as sns\n",
    "from h5py import File\n",
    "import pandas as pd\n",
    "from slab.dsfit import*\n",
    "import json\n",
    "import numpy as np\n",
    "from datetime import datetime\n",
    "import scipy as sc\n",
    "from scipy.optimize import curve_fit\n",
    "from scipy.signal import argrelextrema\n",
    "# from qutip import *\n",
    "from h5py import File\n",
    "import os\n",
    "from slab.dataanalysis import get_next_filename"
   ]
  },
  {
   "cell_type": "markdown",
   "metadata": {},
   "source": [
    "# Fit functions"
   ]
  },
  {
   "cell_type": "code",
   "execution_count": 2,
   "metadata": {
    "ExecuteTime": {
     "end_time": "2021-08-03T16:40:03.095361Z",
     "start_time": "2021-08-03T16:40:03.005362Z"
    }
   },
   "outputs": [],
   "source": [
    "def coherent_state(n, alpha):\n",
    "    return np.exp(-abs(alpha)**2)*abs(alpha)**(2*n)/scipy.special.factorial(n)\n",
    "\n",
    "def line(x, m, b):\n",
    "    return m*x+b\n",
    "\n",
    "def proportional(x, m):\n",
    "    return m * x\n",
    "\n",
    "def gfromchi(chi,alpha,delta):\n",
    "    return np.sqrt(chi*delta*(delta+alpha)/alpha)\n",
    "\n",
    "def gaussfuncsum(p, x):\n",
    "    \"\"\"p[0]+p[1]/(1+(x-p[2])**2/p[3]**2)\"\"\"\n",
    "    y = 0\n",
    "    for ii in range(N):\n",
    "        y = y + p[3*ii+1]*exp(-(x-(p[3*ii+2]))**2/2/p[3*ii+3]**2)\n",
    "    return y\n",
    "\n",
    "def gaussfuncsum_with_baseline(x, *args):\n",
    "    \"\"\"p[0]+p[1]/(1+(x-p[2])**2/p[3]**2)\"\"\"\n",
    "    y = 0 \n",
    "    p = args\n",
    "#     print(len(p))\n",
    "    for ii in range(7):\n",
    "        y = y + p[3*ii+1]*exp(-(x-(p[3*ii+2]))**2/2/p[3*ii+3]**2)\n",
    "    y += p[0]\n",
    "    return y\n",
    "def fitgausssum(xdata, ydata, fitparams=None, domain=None, showfit=False,\n",
    "                showstartfit=False, label=\"\", debug=False):\n",
    "    \"\"\"fit lorentzian:\n",
    "        returns [offset,amplitude,center,hwhm]\"\"\"\n",
    "    if domain is not None:\n",
    "        fitdatax,fitdatay = selectdomain(xdata, ydata, domain)\n",
    "    else:\n",
    "        fitdatax = xdata\n",
    "        fitdatay = ydata\n",
    "    \n",
    "    if fitparams is None:\n",
    "        fitparams = 0*ones(3*N+1)\n",
    "        fitparams[0] = (fitdatay[0] + fitdatay[-1])/2.\n",
    "        fitparams[1] = max(fitdatay) - min(fitdatay)\n",
    "        fitparams[2] = fitdatax[np.argmax(fitdatay)]\n",
    "        fitparams[3] = (max(fitdatax) - min(fitdatax))/10.\n",
    "    \n",
    "    if debug==True: \n",
    "        print(fitparams)\n",
    "        \n",
    "    p1 = fitgeneral(fitdatax, fitdatay, gaussfuncsum, fitparams, domain=None, showfit=showfit, \n",
    "                    showstartfit=showstartfit, label=label)\n",
    "    p1[3]=abs(p1[3])\n",
    "    \n",
    "    return p1\n",
    "\n",
    "def fitgausssum_with_baseline(xdata, ydata, fitparams=None):\n",
    "    \"\"\"fit lorentzian:\n",
    "        returns [offset,amplitude,center,hwhm]\"\"\"\n",
    "    fitdatax = xdata\n",
    "    fitdatay = ydata\n",
    "#     if fitparams is None:\n",
    "#         fitparams = 0*ones(3*N+1)\n",
    "#         fitparams[0] = (fitdatay[0]+fitdatay[-1])/2.\n",
    "#         fitparams[1] = max(fitdatay)-min(fitdatay)\n",
    "#         fitparams[2] = fitdatax[np.argmax(fitdatay)]\n",
    "#         fitparams[3] = (max(fitdatax)-min(fitdatax))/10.\n",
    "    \n",
    "#     p1 = fitgeneral(fitdatax, fitdatay, gaussfuncsum_with_baseline, fitparams, domain=None, showfit=showfit,\n",
    "#                     showstartfit=showstartfit, label=label)\n",
    "#     bounds=(0, [3., 1., 0.5])\n",
    "        \n",
    "    popt, pcov = curve_fit(gaussfuncsum_with_baseline, fitdatax, fitdatay, p0=fitparams, bounds=(0, np.inf))\n",
    "\n",
    "    return popt, pcov\n",
    "\n",
    "def fitamp(p1):\n",
    "    fitamparray = []\n",
    "    fitfreqarray = []\n",
    "    n_peaks = int((len(p1)-1)/3)\n",
    "    for i in range(n_peaks):\n",
    "        fitamparray.append(p1[3*i+1])\n",
    "        fitfreqarray.append(p1[3*i+2])\n",
    "    return fitamparray , fitfreqarray\n",
    "\n",
    "def fitcoherentstate(peak_val):\n",
    "    xdata = np.arange(len(peak_val))\n",
    "    ydata = peak_val\n",
    "    popt, pcov = curve_fit(coherent_state, xdata, ydata)\n",
    "    return popt[0], np.sqrt(pcov[0][0])\n",
    "\n",
    "def expfunc2(x, p):\n",
    "    \"\"\"p[0]+p[1]*exp(-(x-p[2])/p[3])\"\"\"\n",
    "    return p[0]*np.exp**(-(x-p[1])/p[2])\n",
    "\n",
    "def fitexp2(xdata,ydata,fitparams=None,domain=None,showfit=False,showstartfit=False,label=\"\"):\n",
    "    \"\"\"Fit exponential decay (p[0]*exp(-(x-p[1])/p[2]))\"\"\"\n",
    "    if domain is not None:\n",
    "        fitdatax,fitdatay = selectdomain(xdata,ydata,domain)\n",
    "    else:\n",
    "        fitdatax=xdata\n",
    "        fitdatay=ydata\n",
    "    if fitparams is None:    \n",
    "        fitparams=[0.,0.,0.,0.]\n",
    "        fitparams[0]=fitdatay[0]-fitdatay[-1]\n",
    "        fitparams[1]=fitdatax[0]\n",
    "        fitparams[2]=(fitdatax[-1]-fitdatax[0])/5.\n",
    "    #print fitparams\n",
    "    p1 = fitgeneral(fitdatax, fitdatay, expfunc2, fitparams, domain=None, showfit=showfit, showstartfit=showstartfit,\n",
    "                    label=label)\n",
    "    return p1   \n",
    "\n",
    "def expfunc_test(x, a, b, c):\n",
    "    return b*np.exp(-(x-a)/c)\n",
    "\n",
    "def expfunc_baseline(x, a, b, c):\n",
    "    return a*np.exp(-x/b) + c\n",
    "\n",
    "def doublegauss(bins, *p):\n",
    "    a1, sigma1, mu1 = p[0], p[1], p[2]\n",
    "    a2, sigma2, mu2 = p[3], p[4], p[5]\n",
    "\n",
    "    y1 = a1*((1 / (np.sqrt(2 * np.pi) * sigma1)) *\n",
    "     np.exp(-0.5 * (1 / sigma1 * (bins - mu1))**2))\n",
    "    y2 = a2*((1 / (np.sqrt(2 * np.pi) * sigma2)) *\n",
    "     np.exp(-0.5 * (1 / sigma2 * (bins - mu2))**2))\n",
    "    y = y1+y2\n",
    "    \n",
    "    return y\n",
    "def gaussian2d(x, y, x0, y0, xalpha, yalpha, A):\n",
    "    return A * np.exp( -((x-x0)/xalpha)**2 -((y-y0)/yalpha)**2)\n",
    "\n",
    "\n",
    "def hist(filename=None, data=None, plot=True, ran=1.0):\n",
    "    \n",
    "    if data == None:\n",
    "        with File(filename,'r') as a:\n",
    "            ig = array(a['ig'])\n",
    "            qg = array(a['qg'])\n",
    "            ie = array(a['ie'])\n",
    "            qe = array(a['qe'])\n",
    "            a.close()\n",
    "    else:\n",
    "        ig = data[0]\n",
    "        qg = data[1]\n",
    "        ie = data[2]\n",
    "        qe = data[3]\n",
    "\n",
    "    numbins = 200\n",
    "    \n",
    "    xg, yg = np.median(ig), np.median(qg)\n",
    "    xe, ye = np.median(ie), np.median(qe)\n",
    "\n",
    "    if plot==True:\n",
    "        fig, axs = plt.subplots(nrows=1, ncols=3, figsize=(16, 4))\n",
    "        fig.tight_layout()\n",
    "\n",
    "        axs[0].scatter(ig, qg, label='g', color='b', marker='*')\n",
    "        axs[0].scatter(ie, qe, label='e', color='r', marker='*')\n",
    "        axs[0].scatter(xg, yg, color='k', marker='o')\n",
    "        axs[0].scatter(xe, ye, color='k', marker='o')\n",
    "        axs[0].set_xlabel('I (a.u.)')\n",
    "        axs[0].set_ylabel('Q (a.u.)')\n",
    "        axs[0].legend(loc='upper right')\n",
    "        axs[0].set_title('Unrotated')\n",
    "        axs[0].axis('equal')\n",
    "    \"\"\"Compute the rotation angle\"\"\"\n",
    "    theta = -arctan((ye-yg)/(xe-xg))\n",
    "    \"\"\"Rotate the IQ data\"\"\"\n",
    "    ig_new = ig*cos(theta) - qg*sin(theta)\n",
    "    qg_new = ig*sin(theta) + qg*cos(theta) \n",
    "    ie_new = ie*cos(theta) - qe*sin(theta)\n",
    "    qe_new = ie*sin(theta) + qe*cos(theta)\n",
    "    \n",
    "    \"\"\"New means of each blob\"\"\"\n",
    "    xg, yg = np.median(ig_new), np.median(qg_new)\n",
    "    xe, ye = np.median(ie_new), np.median(qe_new)\n",
    "\n",
    "    xlims = [xg-ran, xg+ran]\n",
    "    ylims = [yg-ran, yg+ran]\n",
    "\n",
    "    if plot==True:\n",
    "        axs[1].scatter(ig_new, qg_new, label='g', color='b', marker='*')\n",
    "        axs[1].scatter(ie_new, qe_new, label='e', color='r', marker='*')\n",
    "        axs[1].scatter(xg, yg, color='k', marker='o')\n",
    "        axs[1].scatter(xe, ye, color='k', marker='o')    \n",
    "        axs[1].set_xlabel('I (a.u.)')\n",
    "        axs[1].legend(loc='upper right')\n",
    "        axs[1].set_title('Rotated')\n",
    "        axs[1].axis('equal')\n",
    "\n",
    "        \"\"\"X and Y ranges for histogram\"\"\"\n",
    "        \n",
    "        ng, binsg, pg = axs[2].hist(ig_new, bins=numbins, range = xlims, color='b', label='g', alpha=0.5)\n",
    "    #     popt, pcov = curve_fit(doublegauss, xdata=binsg[:-1], ydata=ng, p0=p0)\n",
    "    #     mu_g = popt[2]\n",
    "    #     axs[2].plot(binsg, doublegauss(binsg, *popt), 'k--', linewidth=2 )\n",
    "        ne, binse, pe = axs[2].hist(ie_new, bins=numbins, range = xlims, color='r', label='e', alpha=0.5)\n",
    "    #     popt, pcov = curve_fit(doublegauss, xdata=binse[:-1], ydata=ne, p0=p0)\n",
    "    #     mu_e = popt[5]\n",
    "    #     axs[2].plot(binse, doublegauss(binse, *popt), 'k--', linewidth=2 )\n",
    "    #     axs[2].text(0.5*(mu_g + mu_e), 0.3*np.max(ne), \"$\\mu_{g}$ = %.4f \\n $\\mu_{e}$ = %.4f\"%(mu_g, mu_e), fontsize=16)\n",
    "\n",
    "        axs[2].set_xlabel('I(a.u.)')        \n",
    "        fig.show()\n",
    "        \n",
    "    else:        \n",
    "        ng, binsg = np.histogram(ig_new, bins=numbins, range = xlims)\n",
    "        ne, binse = np.histogram(ie_new, bins=numbins, range = xlims)\n",
    "\n",
    "    \"\"\"Compute the fidelity using overlap of the histograms\"\"\"\n",
    "    fid = np.abs(((np.cumsum(ng) - np.cumsum(ne)) / (0.5*ng.sum() + 0.5*ne.sum()))).max()\n",
    "\n",
    "    return fid, theta\n",
    "\n",
    "def rot_data(i, q, hist_filename=None):\n",
    "    \n",
    "    fid, theta = hist(hist_filename, ran=0.1)\n",
    "    print(fid, theta)\n",
    "    \"\"\"Rotate the IQ data\"\"\"\n",
    "    i_new = i*cos(theta) - q*sin(theta)\n",
    "    q_new = i*sin(theta) + q*cos(theta) \n",
    "    \n",
    "    return (i_new, q_new)\n",
    "\n",
    "\n",
    "def ramsfit(tR, n0, phi0, a):\n",
    "    T2 = 120e-6\n",
    "    dephase = 1/T2\n",
    "    detune = 2*np.pi*1e6 \n",
    "    chi = 2*np.pi*380e3\n",
    "    kappa = 2*np.pi*(8.0517e9)/8800\n",
    "    tau = []\n",
    "    z = []\n",
    "    res = []\n",
    "    for i,t in enumerate(tR):\n",
    "        tau.append((1-np.exp(-complex(kappa*tR[i], 2*chi*tR[i])))/complex(kappa, 2*chi))\n",
    "        z.append(np.exp(complex(-dephase*tR[i] , phi0 - detune*tR[i] - 2*n0*chi*tau[i])))\n",
    "        res.append(a*0.5*(1-np.imag(z[i])))\n",
    "    return np.array(res)\n",
    "\n",
    "def cav_response_new(p, x):\n",
    "    \"\"\"(p[0]/p[1])/(-1/2*p[0]/p[1] - 1j*(x-p[0])\"\"\"\n",
    "    ### p[0]=center freq, p[1]=kappa\n",
    "    temp = (p[1])/(p[1] - 1j*(x-p[0]))\n",
    "    return temp/max(abs(temp))\n",
    "\n",
    "def IF_window(p,x):\n",
    "    ### p[0] = center freq, p[1] = window width\n",
    "    temp = zeros(len(x)) + 1j*zeros(len(x))\n",
    "    for ii in range(len(x)):\n",
    "        if x[ii]>(p[0]-p[1]) and x[ii]<(p[0]+p[1]):\n",
    "            temp[ii] = 1/sqrt(2)*(1+1j)\n",
    "        else:\n",
    "            pass\n",
    "    return temp/max(abs(temp))\n",
    "\n",
    "def erf_t(A, sig, tc, tb, t):\n",
    "    #A-Amplitude, sig-Gaussian Filter Width, tc-Core Pulse length, tb - zero-amplitude buffer length\n",
    "    return (A/2)*(sc.special.erf((t-tb)/(sqrt(2)*sig))-sc.special.erf((t-tc-tb)/(sqrt(2)*sig)))"
   ]
  },
  {
   "cell_type": "markdown",
   "metadata": {},
   "source": [
    "# HMM Model"
   ]
  },
  {
   "cell_type": "code",
   "execution_count": 3,
   "metadata": {
    "ExecuteTime": {
     "end_time": "2021-08-03T16:40:07.886719Z",
     "start_time": "2021-08-03T16:40:07.816712Z"
    }
   },
   "outputs": [],
   "source": [
    "class hmm_analysis:\n",
    "\n",
    "    def __init__(self, qubit_params = None, cavity_params = None, readout_params = None):\n",
    "        \n",
    "        self.qubit_params = qubit_params\n",
    "        self.cavity_params = cavity_params\n",
    "        self.readout_params = readout_params\n",
    "\n",
    "        \"\"\"All the timescales are in μs\"\"\"\n",
    "        self.qubit_t1 = qubit_params['t1']\n",
    "        self.qubit_t2 = qubit_params['t2']\n",
    "        self.qubit_nth = qubit_params['nth']\n",
    "        \n",
    "        self.cavity_t1 = cavity_params['t1']\n",
    "        self.cavity_nth = cavity_params['nth']\n",
    "        \n",
    "        self.readout_len = readout_params['length']        \n",
    "        self.trigger_period = readout_params['trigger']\n",
    "        self.pi_length = readout_params['pi_pulse']\n",
    "\n",
    "    ##----------------------------------------------------------------##\n",
    "    def forward(self, meas_seq, T, E):\n",
    "        num_meas = len(meas_seq)\n",
    "        N = T.shape[0]\n",
    "        alpha = zeros((num_meas, N))\n",
    "        pi = [0.25, 0.25, 0.25, 0.25]\n",
    "        alpha[0] = pi*E[:,meas_seq[0]]\n",
    "        for t in range(1, num_meas):\n",
    "            alpha[t] = alpha[t-1].dot(T) * E[:, meas_seq[t]]\n",
    "        return alpha\n",
    "\n",
    "    def backward(self, meas_seq, T, E):\n",
    "        N = T.shape[0]\n",
    "        num_meas = len(meas_seq)\n",
    "        beta = zeros((N,num_meas))\n",
    "        beta[:,-1:] = 1\n",
    "        for t in reversed(range(num_meas-1)):\n",
    "            for n in range(N):\n",
    "                beta[n,t] = sum(beta[:,t+1] * T[n,:] * E[:, meas_seq[t+1]])\n",
    "        return beta\n",
    "\n",
    "    def likelihood(self, meas_seq, T, E):\n",
    "        # returns log P(Y  \\mid  model)\n",
    "        # using the forward part of the forward-backward algorithm\n",
    "        return  self.forward(meas_seq, T, E)[-1].sum()\n",
    "\n",
    "    def gamma(self, meas_seq, T, E):\n",
    "        alpha = self.forward(meas_seq, T, E)\n",
    "        beta  = self.backward(meas_seq, T, E)\n",
    "        obs_prob = self.likelihood(meas_seq, T, E)\n",
    "        return (multiply(alpha, beta.T) / obs_prob)\n",
    "\n",
    "    def viterbi(self, meas_seq, T, E):\n",
    "        # returns the most likely state sequence given observed sequence x\n",
    "        # using the Viterbi algorithm\n",
    "        num_meas = len(meas_seq)\n",
    "        N = T.shape[0]\n",
    "        delta = zeros((num_meas, N))\n",
    "        psi = zeros((num_meas, N))\n",
    "        pi = [0.25,0.25,0.25,0.25]\n",
    "        delta[0] = pi*E[:,meas_seq[0]]\n",
    "        for t in range(1, num_meas):\n",
    "            for j in range(N):\n",
    "                delta[t,j] = max(delta[t-1]*T[:,j]) * E[j, meas_seq[t]]\n",
    "                psi[t,j] = argmax(delta[t-1]*T[:,j])\n",
    "\n",
    "        # backtrack\n",
    "        states = zeros(num_meas, dtype=int32)\n",
    "        states[num_meas-1] = argmax(delta[num_meas-1])\n",
    "        for t in range(num_meas-2, -1, -1):\n",
    "            states[t] = psi[t+1, states[t+1]]\n",
    "        return states\n",
    "    ##----------------------------------------------------------------##\n",
    "    def alpha_awg_cal(self, cav_amp=0.4, cav_len=250):\n",
    "        # takes input array of amps and length and converts them to output array of alphas,\n",
    "        # using a calibration h5 file defined in the experiment config\n",
    "        # pull calibration data from file, handling properly in case of multimode cavity\n",
    "        cal_path = 'C:\\_Lib\\python\\slab\\experiments\\qm_opx\\drive_calibration'\n",
    "\n",
    "        fn_file = cal_path + '\\\\00000_2021_7_30_cavity_square.h5'\n",
    "\n",
    "        with File(fn_file, 'r') as f:\n",
    "            omegas = np.array(f['omegas'])\n",
    "            amps = np.array(f['amps'])\n",
    "\n",
    "        # assume zero frequency at zero amplitude, used for interpolation function\n",
    "        omegas = np.append(omegas, 0.0)\n",
    "        amps = np.append(amps, 0.0)\n",
    "\n",
    "        o_s = omegas\n",
    "        a_s = amps\n",
    "\n",
    "        # interpolate data, transfer_fn is a function that for each amp returns the corresponding omega\n",
    "        transfer_fn = scipy.interpolate.interp1d(a_s, o_s)\n",
    "\n",
    "        omega_desired = transfer_fn(cav_amp)\n",
    "        alpha = omega_desired * cav_len\n",
    "\n",
    "        \"\"\"Returns alpha in the cavity\"\"\"\n",
    "        return alpha\n",
    "        \n",
    "    ##----------------------------------------------------------------##\n",
    "    def openfile(self, filename):\n",
    "        \n",
    "        return File(filename,'r')\n",
    "\n",
    "    def stateprep(self, data_filename, at_end=True):\n",
    "        \n",
    "        \"\"\"Readout fidelities from an independent measurement\"\"\"\n",
    "        g_infidelity, e_infidelity = 0.0198, 0.0694\n",
    "        \n",
    "        self.a = self.openfile(data_filename)\n",
    "\n",
    "        bit1 = np.array(self.a['bit1'])[:]\n",
    "        bit2 = np.array(self.a['bit2'])[:]\n",
    "        bit3 = pd.DataFrame(self.a['bit3'])[:]\n",
    "        \n",
    "        p_cav = np.array(self.a['p_cav'])/100\n",
    "        cav_amp = np.array(self.a['amp'])\n",
    "        cav_len = np.array(self.a['time'])\n",
    "        npi_m = int(np.array(self.a['pi_m']))\n",
    "        npi_n = int(np.array(self.a['pi_n']))\n",
    "\n",
    "        self.a.close()\n",
    "        \n",
    "        df = bit3\n",
    "        alpha = self.alpha_awg_cal(cav_amp, cav_len)\n",
    "        print('# of π at m= {}, at n = {}'.format(npi_m, npi_n))\n",
    "        print('Coherent drive: amp = {}, length = {} ns'.format(cav_amp, cav_len))\n",
    "\n",
    "        nx, ny = np.shape(df)\n",
    "                \n",
    "        \"\"\"Renaming the columns of repeated pi pulses\"\"\"\n",
    "        l = []\n",
    "        for i in range(ny):\n",
    "            l.append('π%i'%i)\n",
    "        df.columns = l\n",
    "\n",
    "        df['n'] = 2*bit2 + bit1\n",
    "\n",
    "        cols = df.columns.tolist()\n",
    "        cols = cols[-1:] + cols[:-1]\n",
    "        df = df[cols].sort_values(by=['n'])\n",
    "\n",
    "        \"\"\"Find out the unique Fock levels and their occurences\"\"\"\n",
    "\n",
    "        (unique, counts) = np.unique(df['n'], return_counts=True)\n",
    "\n",
    "        print(unique, counts)\n",
    "        \n",
    "        p_m_counts = []\n",
    "        p_n_counts = []\n",
    "        \n",
    "        index = 0\n",
    "        for ii in range(len(unique)):\n",
    "            pm_temp = []\n",
    "            pn_temp = []\n",
    "            \n",
    "            fstate_in = unique[ii]+1\n",
    "\n",
    "            cavity_t1 = self.cavity_t1/fstate_in\n",
    "            Pnm =  (1-np.exp(-self.trigger_period/cavity_t1)) + self.cavity_nth * (1-np.exp(-self.trigger_period/cavity_t1))\n",
    "\n",
    "            Pmn = 0 + 0 #assuming that the population at (n+1) is negligible and (n-1) we will estimate\\\n",
    "            Pge = self.qubit_nth * (1-np.exp(-self.trigger_period/self.qubit_t1)) +\\\n",
    "                (1-np.exp(-self.pi_length/self.qubit_t2))\n",
    "            Peg = (1-np.exp(-self.trigger_period/self.qubit_t1)) + \\\n",
    "                (1-np.exp(-self.pi_length/self.qubit_t2))\n",
    "\n",
    "            T = asarray([[(1-Pmn)*(1-Pge), (1-Pmn)*Pge, Pmn*Pge, Pmn*(1-Pge)],\n",
    "                 [(1-Pmn)*Peg, (1-Pmn)*(1-Peg), Pmn*(1-Peg), Pmn*Peg],\n",
    "                 [Pnm*(1-Pge), Pnm*Pge, (1-Pnm)*Pge, (1-Pnm)*(1-Pge)],\n",
    "                 [Pnm*Peg, Pnm*(1-Peg), (1-Pnm)*(1-Peg), (1-Pnm)*Peg]])\n",
    "\n",
    "            E = 0.5*asarray([[1-g_infidelity, g_infidelity],\n",
    "                [e_infidelity, 1- e_infidelity],\n",
    "                [1-g_infidelity, g_infidelity],\n",
    "                [e_infidelity, 1- e_infidelity]])\n",
    "            \n",
    "            for jj in range(counts[ii]):\n",
    "                \"\"\"State preparation probabilities at the end or at the beginning of m π pulses\"\"\"\n",
    "                meas_seq = df.iloc[index + jj][1:1+npi_m]\n",
    "                gamma_matrix = self.gamma(meas_seq, T, E)\n",
    "                if at_end==True: #Probablitity of state surviving till the end\n",
    "                    P0_last = gamma_matrix[-1,0] + gamma_matrix[-1,1]\n",
    "                    P1_last = gamma_matrix[-1,2] + gamma_matrix[-1,3]\n",
    "                else:#Probability at the beginnning\n",
    "                    P0_last = gamma_matrix[0,0] + gamma_matrix[0,1]\n",
    "                    P1_last = gamma_matrix[0,2] + gamma_matrix[0,3]   \n",
    "                pm_temp.append(P1_last/P0_last)\n",
    "\n",
    "                \"\"\"After the coherent drive, probabilities at the begining of n π pulses\"\"\"    \n",
    "                meas_seq = df.iloc[index + jj][npi_m:]\n",
    "                gamma_matrix = self.gamma(meas_seq, T, E)\n",
    "                P0_first = gamma_matrix[0,0] + gamma_matrix[0,1]\n",
    "                P1_first = gamma_matrix[0,2] + gamma_matrix[0,3]   \n",
    "                pn_temp.append(P1_first/P0_first)\n",
    "\n",
    "            index = index + counts[ii]\n",
    "            p_m_counts.append(pm_temp)\n",
    "            p_n_counts.append(pn_temp)\n",
    "\n",
    "        return alpha, unique, counts, p_m_counts, p_n_counts"
   ]
  },
  {
   "cell_type": "code",
   "execution_count": 4,
   "metadata": {
    "ExecuteTime": {
     "end_time": "2021-08-03T16:40:10.084000Z",
     "start_time": "2021-08-03T16:40:10.024000Z"
    }
   },
   "outputs": [],
   "source": [
    "class hmm_analysis_2:\n",
    "\n",
    "    def __init__(self, qubit_params = None, cavity_params = None, readout_params = None):\n",
    "        \n",
    "        self.qubit_params = qubit_params\n",
    "        self.cavity_params = cavity_params\n",
    "        self.readout_params = readout_params\n",
    "\n",
    "        \"\"\"All the timescales are in μs\"\"\"\n",
    "        self.qubit_t1 = qubit_params['t1']\n",
    "        self.qubit_t2 = qubit_params['t2']\n",
    "        self.qubit_nth = qubit_params['nth']\n",
    "        \n",
    "        self.cavity_t1 = cavity_params['t1']\n",
    "        self.cavity_nth = cavity_params['nth']\n",
    "        \n",
    "        self.readout_len = readout_params['length']        \n",
    "        self.trigger_period = readout_params['trigger']\n",
    "        self.pi_length = readout_params['pi_pulse']\n",
    "        self.g_inf = readout_params['g_inf']        \n",
    "        self.e_inf = readout_params['e_inf']        \n",
    "\n",
    "    ##----------------------------------------------------------------##\n",
    "    def forward(self, meas_seq, T, E):\n",
    "        num_meas = len(meas_seq)\n",
    "        N = T.shape[0]\n",
    "        alpha = zeros((num_meas, N))\n",
    "        pi = [0.25, 0.25, 0.25, 0.25]\n",
    "        alpha[0] = pi*E[:,meas_seq[0]]\n",
    "        for t in range(1, num_meas):\n",
    "            alpha[t] = alpha[t-1].dot(T) * E[:, meas_seq[t]]\n",
    "        return alpha\n",
    "\n",
    "    def backward(self, meas_seq, T, E):\n",
    "        N = T.shape[0]\n",
    "        num_meas = len(meas_seq)\n",
    "        beta = zeros((N,num_meas))\n",
    "        beta[:,-1:] = 1\n",
    "        for t in reversed(range(num_meas-1)):\n",
    "            for n in range(N):\n",
    "                beta[n,t] = sum(beta[:,t+1] * T[n,:] * E[:, meas_seq[t+1]])\n",
    "        return beta\n",
    "\n",
    "    def likelihood(self, meas_seq, T, E):\n",
    "        # returns log P(Y  \\mid  model)\n",
    "        # using the forward part of the forward-backward algorithm\n",
    "        return  self.forward(meas_seq, T, E)[-1].sum()\n",
    "\n",
    "    def gamma(self, meas_seq, T, E):\n",
    "        alpha = self.forward(meas_seq, T, E)\n",
    "        beta  = self.backward(meas_seq, T, E)\n",
    "        obs_prob = self.likelihood(meas_seq, T, E)\n",
    "        return (multiply(alpha, beta.T) / obs_prob)\n",
    "\n",
    "    def viterbi(self, meas_seq, T, E):\n",
    "        # returns the most likely state sequence given observed sequence x\n",
    "        # using the Viterbi algorithm\n",
    "        num_meas = len(meas_seq)\n",
    "        N = T.shape[0]\n",
    "        delta = zeros((num_meas, N))\n",
    "        psi = zeros((num_meas, N))\n",
    "        pi = [0.25,0.25,0.25,0.25]\n",
    "        delta[0] = pi*E[:,meas_seq[0]]\n",
    "        for t in range(1, num_meas):\n",
    "            for j in range(N):\n",
    "                delta[t,j] = max(delta[t-1]*T[:,j]) * E[j, meas_seq[t]]\n",
    "                psi[t,j] = argmax(delta[t-1]*T[:,j])\n",
    "\n",
    "        # backtrack\n",
    "        states = zeros(num_meas, dtype=int32)\n",
    "        states[num_meas-1] = argmax(delta[num_meas-1])\n",
    "        for t in range(num_meas-2, -1, -1):\n",
    "            states[t] = psi[t+1, states[t+1]]\n",
    "        return states\n",
    "    ##----------------------------------------------------------------##\n",
    "    def alpha_awg_cal(self, cav_amp=0.4, cav_len=250):\n",
    "        # takes input array of amps and length and converts them to output array of alphas,\n",
    "        # using a calibration h5 file defined in the experiment config\n",
    "        # pull calibration data from file, handling properly in case of multimode cavity\n",
    "        cal_path = 'C:\\_Lib\\python\\slab\\experiments\\qm_opx\\drive_calibration'\n",
    "\n",
    "        fn_file = cal_path + '\\\\00000_2021_7_30_cavity_square.h5'\n",
    "\n",
    "        with File(fn_file, 'r') as f:\n",
    "            omegas = np.array(f['omegas'])\n",
    "            amps = np.array(f['amps'])\n",
    "\n",
    "        # assume zero frequency at zero amplitude, used for interpolation function\n",
    "        omegas = np.append(omegas, 0.0)\n",
    "        amps = np.append(amps, 0.0)\n",
    "\n",
    "        o_s = omegas\n",
    "        a_s = amps\n",
    "\n",
    "        # interpolate data, transfer_fn is a function that for each amp returns the corresponding omega\n",
    "        transfer_fn = scipy.interpolate.interp1d(a_s, o_s)\n",
    "\n",
    "        omega_desired = transfer_fn(cav_amp)\n",
    "        alpha = omega_desired * cav_len\n",
    "\n",
    "        \"\"\"Returns alpha in the cavity\"\"\"\n",
    "        return alpha\n",
    "        \n",
    "    ##----------------------------------------------------------------##\n",
    "    def openfile(self, filename):\n",
    "\n",
    "        return File(filename,'r')\n",
    "\n",
    "    def stateprep(self, fstate_in=0, data_filename=None, at_end=True):\n",
    "        \n",
    "        \"\"\"Readout fidelities from an independent measurement\"\"\"\n",
    "        g_infidelity, e_infidelity = self.g_inf, self.e_inf\n",
    "        \n",
    "        self.a = self.openfile(data_filename)\n",
    "\n",
    "        bit3 = pd.DataFrame(self.a['bit3'])[:]\n",
    "        \n",
    "        cav_amp = np.array(self.a['amp'])\n",
    "        cav_len = np.array(self.a['time'])\n",
    "        npi_m = int(np.array(self.a['pi_m']))\n",
    "        npi_n = int(np.array(self.a['pi_n']))\n",
    "\n",
    "        self.a.close()\n",
    "        \n",
    "        df = bit3\n",
    "        alpha = self.alpha_awg_cal(cav_amp, cav_len)\n",
    "        print('# of π at m= {}, at n = {}'.format(npi_m, npi_n))\n",
    "        print('Coherent drive: amp = {}, length = {} ns'.format(cav_amp, cav_len))\n",
    "\n",
    "        nx, ny = np.shape(df)\n",
    "                \n",
    "        \"\"\"Renaming the columns of repeated pi pulses\"\"\"\n",
    "        l = []\n",
    "        for i in range(ny):\n",
    "            l.append('π%i'%i)\n",
    "        df.columns = l\n",
    "\n",
    "        \"\"\"Find out the unique Fock levels and their occurences\"\"\"\n",
    "        \n",
    "        p_m_counts = []\n",
    "        \n",
    "        \"\"\"T and E matrices for the state prep part\"\"\"\n",
    "        fstate_in = 0\n",
    "\n",
    "        if fstate_in ==0:\n",
    "            cavity_t1 = self.cavity_t1/(fstate_in+1)\n",
    "            Pnm =  self.cavity_nth * (1-np.exp(-self.trigger_period/cavity_t1))\n",
    "        else: \n",
    "            cavity_t1 = self.cavity_t1/(fstate_in)\n",
    "            Pnm =  (1-np.exp(-self.trigger_period/cavity_t1)) + self.cavity_nth * (1-np.exp(-self.trigger_period/cavity_t1))\n",
    "\n",
    "        Pmn = 0 + 0 #assuming that the population at (n+1) is negligible and (n-1) we will estimate\\\n",
    "\n",
    "        Pge = self.qubit_nth * (1-np.exp(-self.trigger_period/self.qubit_t1)) +\\\n",
    "            (1-np.exp(-self.pi_length/self.qubit_t2))\n",
    "        Peg = (1-np.exp(-self.trigger_period/self.qubit_t1)) + \\\n",
    "            (1-np.exp(-self.pi_length/self.qubit_t2))\n",
    "\n",
    "        T = np.asarray([[(1-Pmn)*(1-Pge), (1-Pmn)*Pge, Pmn*Pge, Pmn*(1-Pge)],\n",
    "             [(1-Pmn)*Peg, (1-Pmn)*(1-Peg), Pmn*(1-Peg), Pmn*Peg],\n",
    "             [Pnm*(1-Pge), Pnm*Pge, (1-Pnm)*Pge, (1-Pnm)*(1-Pge)],\n",
    "             [Pnm*Peg, Pnm*(1-Peg), (1-Pnm)*(1-Peg), (1-Pnm)*Peg]])\n",
    "\n",
    "        E = 0.5*np.asarray([[1-g_infidelity, g_infidelity],\n",
    "            [e_infidelity, 1- e_infidelity],\n",
    "            [1-g_infidelity, g_infidelity],\n",
    "            [e_infidelity, 1- e_infidelity]])\n",
    "            \n",
    "        for jj in range(len(df)):\n",
    "            \"\"\"State preparation probabilities at the end or at the beginning of m π pulses\"\"\"\n",
    "            meas_seq = df.iloc[jj]\n",
    "            gamma_matrix = self.gamma(meas_seq, T, E)\n",
    "            if at_end==True: #Probablitity of state surviving till the end\n",
    "                P0_last = gamma_matrix[-1,0] + gamma_matrix[-1,1]\n",
    "                P1_last = gamma_matrix[-1,2] + gamma_matrix[-1,3]\n",
    "            else:#Probability at the beginnning\n",
    "                P0_last = gamma_matrix[0,0] + gamma_matrix[0,1]\n",
    "                P1_last = gamma_matrix[0,2] + gamma_matrix[0,3]   \n",
    "            p_m_counts.append(P1_last/P0_last)\n",
    "\n",
    "        return alpha, cav_amp, p_m_counts"
   ]
  },
  {
   "cell_type": "markdown",
   "metadata": {},
   "source": [
    "# Varying injected alpha"
   ]
  },
  {
   "cell_type": "markdown",
   "metadata": {},
   "source": [
    "## 0.0005-0.0009"
   ]
  },
  {
   "cell_type": "code",
   "execution_count": 77,
   "metadata": {
    "ExecuteTime": {
     "end_time": "2021-08-02T00:16:00.466915Z",
     "start_time": "2021-08-01T23:48:32.803922Z"
    }
   },
   "outputs": [
    {
     "name": "stdout",
     "output_type": "stream",
     "text": [
      "..\\data\\00178_photon_counting_parity_alpha.h5\n",
      "# of π at m= 30, at n = 0\n",
      "Coherent drive: amp = 0.0005, length = 400 ns\n",
      "..\\data\\00179_photon_counting_parity_alpha.h5\n",
      "# of π at m= 30, at n = 0\n",
      "Coherent drive: amp = 0.0006, length = 400 ns\n",
      "..\\data\\00180_photon_counting_parity_alpha.h5\n",
      "# of π at m= 30, at n = 0\n",
      "Coherent drive: amp = 0.0007, length = 400 ns\n",
      "..\\data\\00181_photon_counting_parity_alpha.h5\n",
      "# of π at m= 30, at n = 0\n",
      "Coherent drive: amp = 0.0008, length = 400 ns\n",
      "..\\data\\00182_photon_counting_parity_alpha.h5\n",
      "# of π at m= 30, at n = 0\n",
      "Coherent drive: amp = 0.0009, length = 400 ns\n"
     ]
    }
   ],
   "source": [
    "qubit_params = {'t1':100, 't2':130, 'nth':2.2e-2}\n",
    "cavity_params = {'t1':6.0e2, 'nth':0.001}\n",
    "readout_params = {'length':3.2, 'trigger':4.768, 'pi_pulse':565e-3, 'g_inf':0.0246, 'e_inf':0.0408}\n",
    "expt_name = 'photon_counting_parity_alpha'\n",
    "\n",
    "filelist = np.arange(178, 183, 1)\n",
    "\n",
    "p_m_counts = []\n",
    "alphas = []\n",
    "camp = []\n",
    "for ii, i in enumerate(filelist):\n",
    "    p_m_temp = []\n",
    "    filename = \"..\\\\data\\\\\" + str(i).zfill(5) + \"_\"+expt_name.lower()+\".h5\"\n",
    "    print(filename)\n",
    "    obj = hmm_analysis_2(qubit_params=qubit_params, cavity_params=cavity_params, readout_params=readout_params)\n",
    "    alpha, c_amp, p_m_temp = obj.stateprep(data_filename=filename, at_end=False)\n",
    "    alphas.append(alpha)\n",
    "    camp.append(c_amp)\n",
    "    p_m_counts.append(p_m_temp)"
   ]
  },
  {
   "cell_type": "code",
   "execution_count": null,
   "metadata": {},
   "outputs": [],
   "source": [
    "lambd_th = 1e7\n",
    "pos_events = []\n",
    "pos_events_err = []\n",
    "\n",
    "for i in range(len(filelist)):\n",
    "    df = pd.DataFrame(p_m_counts[i])\n",
    "    t = df[df>lambd_th].count()/len(p_m_counts[i])\n",
    "    pos_events.append(t)\n",
    "    pos_events_err.append(np.sqrt(df[df>lambd_th].count())/len(p_m_counts[i]))\n",
    "pos_events = np.array(pos_events).flatten()\n",
    "pos_events_err = np.array(pos_events_err[:]).flatten()"
   ]
  },
  {
   "cell_type": "code",
   "execution_count": 78,
   "metadata": {
    "ExecuteTime": {
     "end_time": "2021-08-02T00:16:00.866915Z",
     "start_time": "2021-08-02T00:16:00.466915Z"
    }
   },
   "outputs": [
    {
     "name": "stdout",
     "output_type": "stream",
     "text": [
      "../data/photon_counting/g0_20210731/n0_camp_0.0005_len_400.h5\n",
      "../data/photon_counting/g0_20210731/n0_camp_0.0006_len_400.h5\n",
      "../data/photon_counting/g0_20210731/n0_camp_0.0007_len_400.h5\n",
      "../data/photon_counting/g0_20210731/n0_camp_0.0008_len_400.h5\n",
      "../data/photon_counting/g0_20210731/n0_camp_0.0009_len_400.h5\n"
     ]
    }
   ],
   "source": [
    "alphas = obj.alpha_awg_cal(cav_amp=camp, cav_len=400*np.ones(len(camp)))\n",
    "path = \"../data/photon_counting/g0_20210731/\"\n",
    "for i in range(len(filelist)):\n",
    "\n",
    "    filename = path + \"n\" + str(0) +\"_camp_\" + str(camp[i])+\"_len_\"+str(400)+\".h5\"\n",
    "    print(filename)\n",
    "    \n",
    "    temp= p_m_counts[i]\n",
    "    \n",
    "    with File(filename, 'w') as f:\n",
    "        f.create_dataset(\"p_m_counts\", data=temp)\n",
    "        f.create_dataset('alpha', data = alphas[i])"
   ]
  },
  {
   "cell_type": "code",
   "execution_count": null,
   "metadata": {},
   "outputs": [],
   "source": []
  },
  {
   "cell_type": "markdown",
   "metadata": {},
   "source": [
    "## 0.001-0.009 "
   ]
  },
  {
   "cell_type": "code",
   "execution_count": 79,
   "metadata": {
    "ExecuteTime": {
     "end_time": "2021-08-02T00:40:43.037734Z",
     "start_time": "2021-08-02T00:16:00.866915Z"
    }
   },
   "outputs": [
    {
     "name": "stdout",
     "output_type": "stream",
     "text": [
      "..\\data\\00169_photon_counting_parity_alpha.h5\n",
      "# of π at m= 30, at n = 0\n",
      "Coherent drive: amp = 0.001, length = 400 ns\n",
      "..\\data\\00170_photon_counting_parity_alpha.h5\n",
      "# of π at m= 30, at n = 0\n",
      "Coherent drive: amp = 0.002, length = 400 ns\n",
      "..\\data\\00171_photon_counting_parity_alpha.h5\n",
      "# of π at m= 30, at n = 0\n",
      "Coherent drive: amp = 0.003, length = 400 ns\n",
      "..\\data\\00172_photon_counting_parity_alpha.h5\n",
      "# of π at m= 30, at n = 0\n",
      "Coherent drive: amp = 0.004, length = 400 ns\n",
      "..\\data\\00173_photon_counting_parity_alpha.h5\n",
      "# of π at m= 30, at n = 0\n",
      "Coherent drive: amp = 0.005, length = 400 ns\n",
      "..\\data\\00174_photon_counting_parity_alpha.h5\n",
      "# of π at m= 30, at n = 0\n",
      "Coherent drive: amp = 0.006, length = 400 ns\n",
      "..\\data\\00175_photon_counting_parity_alpha.h5\n",
      "# of π at m= 30, at n = 0\n",
      "Coherent drive: amp = 0.007, length = 400 ns\n",
      "..\\data\\00176_photon_counting_parity_alpha.h5\n",
      "# of π at m= 30, at n = 0\n",
      "Coherent drive: amp = 0.008, length = 400 ns\n",
      "..\\data\\00177_photon_counting_parity_alpha.h5\n",
      "# of π at m= 30, at n = 0\n",
      "Coherent drive: amp = 0.009, length = 400 ns\n"
     ]
    }
   ],
   "source": [
    "qubit_params = {'t1':100, 't2':130, 'nth':2.2e-2}\n",
    "cavity_params = {'t1':6.0e2, 'nth':0.001}\n",
    "readout_params = {'length':3.2, 'trigger':4.768, 'pi_pulse':565e-3, 'g_inf':0.0246, 'e_inf':0.0408}\n",
    "expt_name = 'photon_counting_parity_alpha'\n",
    "\n",
    "filelist = np.arange(169, 178, 1)\n",
    "\n",
    "p_m_counts = []\n",
    "alphas = []\n",
    "camp = []\n",
    "for ii, i in enumerate(filelist):\n",
    "    p_m_temp = []\n",
    "    filename = \"..\\\\data\\\\\" + str(i).zfill(5) + \"_\"+expt_name.lower()+\".h5\"\n",
    "    print(filename)\n",
    "    obj = hmm_analysis_2(qubit_params=qubit_params, cavity_params=cavity_params, readout_params=readout_params)\n",
    "    alpha, c_amp, p_m_temp = obj.stateprep(data_filename=filename, at_end=False)\n",
    "    alphas.append(alpha)\n",
    "    camp.append(c_amp)\n",
    "    p_m_counts.append(p_m_temp)"
   ]
  },
  {
   "cell_type": "code",
   "execution_count": 26,
   "metadata": {
    "ExecuteTime": {
     "end_time": "2021-07-15T18:48:33.726482Z",
     "start_time": "2021-07-15T18:48:33.619449Z"
    }
   },
   "outputs": [],
   "source": [
    "lambd_th = 1e7\n",
    "pos_events = []\n",
    "pos_events_err = []\n",
    "\n",
    "for i in range(len(filelist)):\n",
    "    df = pd.DataFrame(p_m_counts[i])\n",
    "    t = df[df>lambd_th].count()/len(p_m_counts[i])\n",
    "    pos_events.append(t)\n",
    "    pos_events_err.append(np.sqrt(df[df>lambd_th].count())/len(p_m_counts[i]))\n",
    "pos_events = np.array(pos_events).flatten()\n",
    "pos_events_err = np.array(pos_events_err[:]).flatten()"
   ]
  },
  {
   "cell_type": "code",
   "execution_count": 80,
   "metadata": {
    "ExecuteTime": {
     "end_time": "2021-08-02T00:40:43.407680Z",
     "start_time": "2021-08-02T00:40:43.037734Z"
    }
   },
   "outputs": [
    {
     "name": "stdout",
     "output_type": "stream",
     "text": [
      "../data/photon_counting/g0_20210731/n0_camp_0.001_len_400.h5\n",
      "../data/photon_counting/g0_20210731/n0_camp_0.002_len_400.h5\n",
      "../data/photon_counting/g0_20210731/n0_camp_0.003_len_400.h5\n",
      "../data/photon_counting/g0_20210731/n0_camp_0.004_len_400.h5\n",
      "../data/photon_counting/g0_20210731/n0_camp_0.005_len_400.h5\n",
      "../data/photon_counting/g0_20210731/n0_camp_0.006_len_400.h5\n",
      "../data/photon_counting/g0_20210731/n0_camp_0.007_len_400.h5\n",
      "../data/photon_counting/g0_20210731/n0_camp_0.008_len_400.h5\n",
      "../data/photon_counting/g0_20210731/n0_camp_0.009_len_400.h5\n"
     ]
    }
   ],
   "source": [
    "alphas = obj.alpha_awg_cal(cav_amp=camp, cav_len=400*np.ones(len(camp)))\n",
    "path = \"../data/photon_counting/g0_20210731/\"\n",
    "for i in range(len(filelist)):\n",
    "\n",
    "    filename = path + \"n\" + str(0) +\"_camp_\" + str(camp[i])+\"_len_\"+str(400)+\".h5\"\n",
    "    print(filename)\n",
    "    \n",
    "    temp= p_m_counts[i]\n",
    "    \n",
    "    with File(filename, 'w') as f:\n",
    "        f.create_dataset(\"p_m_counts\", data=temp)\n",
    "        f.create_dataset('alpha', data = alphas[i])"
   ]
  },
  {
   "cell_type": "markdown",
   "metadata": {},
   "source": [
    "## 0.01-0.09"
   ]
  },
  {
   "cell_type": "code",
   "execution_count": 81,
   "metadata": {
    "ExecuteTime": {
     "end_time": "2021-08-02T00:45:39.426710Z",
     "start_time": "2021-08-02T00:40:43.407680Z"
    }
   },
   "outputs": [
    {
     "name": "stdout",
     "output_type": "stream",
     "text": [
      "..\\data\\00160_photon_counting_parity_alpha.h5\n",
      "# of π at m= 30, at n = 0\n",
      "Coherent drive: amp = 0.01, length = 400 ns\n",
      "..\\data\\00161_photon_counting_parity_alpha.h5\n",
      "# of π at m= 30, at n = 0\n",
      "Coherent drive: amp = 0.02, length = 400 ns\n",
      "..\\data\\00162_photon_counting_parity_alpha.h5\n",
      "# of π at m= 30, at n = 0\n",
      "Coherent drive: amp = 0.03, length = 400 ns\n",
      "..\\data\\00163_photon_counting_parity_alpha.h5\n",
      "# of π at m= 30, at n = 0\n",
      "Coherent drive: amp = 0.04, length = 400 ns\n",
      "..\\data\\00164_photon_counting_parity_alpha.h5\n",
      "# of π at m= 30, at n = 0\n",
      "Coherent drive: amp = 0.05, length = 400 ns\n",
      "..\\data\\00165_photon_counting_parity_alpha.h5\n",
      "# of π at m= 30, at n = 0\n",
      "Coherent drive: amp = 0.06, length = 400 ns\n",
      "..\\data\\00166_photon_counting_parity_alpha.h5\n",
      "# of π at m= 30, at n = 0\n",
      "Coherent drive: amp = 0.07, length = 400 ns\n",
      "..\\data\\00167_photon_counting_parity_alpha.h5\n",
      "# of π at m= 30, at n = 0\n",
      "Coherent drive: amp = 0.08, length = 400 ns\n",
      "..\\data\\00168_photon_counting_parity_alpha.h5\n",
      "# of π at m= 30, at n = 0\n",
      "Coherent drive: amp = 0.09, length = 400 ns\n"
     ]
    }
   ],
   "source": [
    "qubit_params = {'t1':100, 't2':130, 'nth':2.2e-2}\n",
    "cavity_params = {'t1':6.0e2, 'nth':0.001}\n",
    "readout_params = {'length':3.2, 'trigger':4.768, 'pi_pulse':565e-3, 'g_inf':0.0246, 'e_inf':0.0408}\n",
    "expt_name = 'photon_counting_parity_alpha'\n",
    "\n",
    "filelist = np.arange(160, 169, 1)\n",
    "\n",
    "p_m_counts = []\n",
    "alphas = []\n",
    "camp = []\n",
    "for ii, i in enumerate(filelist):\n",
    "    p_m_temp = []\n",
    "    filename = \"..\\\\data\\\\\" + str(i).zfill(5) + \"_\"+expt_name.lower()+\".h5\"\n",
    "    print(filename)\n",
    "    obj = hmm_analysis_2(qubit_params=qubit_params, cavity_params=cavity_params, readout_params=readout_params)\n",
    "    alpha, c_amp, p_m_temp = obj.stateprep(data_filename=filename, at_end=False)\n",
    "    alphas.append(alpha)\n",
    "    camp.append(c_amp)\n",
    "    p_m_counts.append(p_m_temp)"
   ]
  },
  {
   "cell_type": "code",
   "execution_count": 32,
   "metadata": {
    "ExecuteTime": {
     "end_time": "2021-07-15T20:23:37.162833Z",
     "start_time": "2021-07-15T20:23:36.902832Z"
    }
   },
   "outputs": [],
   "source": [
    "lambd_th = 1e7\n",
    "pos_events = []\n",
    "pos_events_err = []\n",
    "\n",
    "for i in range(len(filelist)):\n",
    "    df = pd.DataFrame(p_m_counts[i])\n",
    "    t = df[df>lambd_th].count()/len(p_m_counts[i])\n",
    "    pos_events.append(t)\n",
    "    pos_events_err.append(np.sqrt(df[df>lambd_th].count())/len(p_m_counts[i]))\n",
    "pos_events = np.array(pos_events).flatten()\n",
    "pos_events_err = np.array(pos_events_err[:]).flatten()"
   ]
  },
  {
   "cell_type": "code",
   "execution_count": 82,
   "metadata": {
    "ExecuteTime": {
     "end_time": "2021-08-02T00:45:39.536712Z",
     "start_time": "2021-08-02T00:45:39.426710Z"
    }
   },
   "outputs": [
    {
     "name": "stdout",
     "output_type": "stream",
     "text": [
      "../data/photon_counting/g0_20210731/n0_camp_0.01_len_400.h5\n",
      "../data/photon_counting/g0_20210731/n0_camp_0.02_len_400.h5\n",
      "../data/photon_counting/g0_20210731/n0_camp_0.03_len_400.h5\n",
      "../data/photon_counting/g0_20210731/n0_camp_0.04_len_400.h5\n",
      "../data/photon_counting/g0_20210731/n0_camp_0.05_len_400.h5\n",
      "../data/photon_counting/g0_20210731/n0_camp_0.06_len_400.h5\n",
      "../data/photon_counting/g0_20210731/n0_camp_0.07_len_400.h5\n",
      "../data/photon_counting/g0_20210731/n0_camp_0.08_len_400.h5\n",
      "../data/photon_counting/g0_20210731/n0_camp_0.09_len_400.h5\n"
     ]
    }
   ],
   "source": [
    "alphas = obj.alpha_awg_cal(cav_amp=camp, cav_len=400*np.ones(len(camp)))\n",
    "path = \"../data/photon_counting/g0_20210731/\"\n",
    "for i in range(len(filelist)):\n",
    "\n",
    "    filename = path + \"n\" + str(0) +\"_camp_\" + str(camp[i])+\"_len_\"+str(400)+\".h5\"\n",
    "    print(filename)\n",
    "    \n",
    "    temp= p_m_counts[i]\n",
    "    \n",
    "    with File(filename, 'w') as f:\n",
    "        f.create_dataset(\"p_m_counts\", data=temp)\n",
    "        f.create_dataset('alpha', data = alphas[i])"
   ]
  },
  {
   "cell_type": "markdown",
   "metadata": {},
   "source": [
    "## 0.1-0.9"
   ]
  },
  {
   "cell_type": "code",
   "execution_count": 83,
   "metadata": {
    "ExecuteTime": {
     "end_time": "2021-08-02T00:50:04.000769Z",
     "start_time": "2021-08-02T00:45:39.536712Z"
    }
   },
   "outputs": [
    {
     "name": "stdout",
     "output_type": "stream",
     "text": [
      "..\\data\\00151_photon_counting_parity_alpha.h5\n",
      "# of π at m= 30, at n = 0\n",
      "Coherent drive: amp = 0.1, length = 400 ns\n",
      "..\\data\\00152_photon_counting_parity_alpha.h5\n",
      "# of π at m= 30, at n = 0\n",
      "Coherent drive: amp = 0.2, length = 400 ns\n",
      "..\\data\\00153_photon_counting_parity_alpha.h5\n",
      "# of π at m= 30, at n = 0\n",
      "Coherent drive: amp = 0.3, length = 400 ns\n",
      "..\\data\\00154_photon_counting_parity_alpha.h5\n",
      "# of π at m= 30, at n = 0\n",
      "Coherent drive: amp = 0.4, length = 400 ns\n",
      "..\\data\\00155_photon_counting_parity_alpha.h5\n",
      "# of π at m= 30, at n = 0\n",
      "Coherent drive: amp = 0.5, length = 400 ns\n",
      "..\\data\\00156_photon_counting_parity_alpha.h5\n",
      "# of π at m= 30, at n = 0\n",
      "Coherent drive: amp = 0.6, length = 400 ns\n",
      "..\\data\\00157_photon_counting_parity_alpha.h5\n",
      "# of π at m= 30, at n = 0\n",
      "Coherent drive: amp = 0.7, length = 400 ns\n",
      "..\\data\\00158_photon_counting_parity_alpha.h5\n",
      "# of π at m= 30, at n = 0\n",
      "Coherent drive: amp = 0.8, length = 400 ns\n",
      "..\\data\\00159_photon_counting_parity_alpha.h5\n"
     ]
    },
    {
     "ename": "ValueError",
     "evalue": "A value in x_new is above the interpolation range.",
     "output_type": "error",
     "traceback": [
      "\u001b[1;31m---------------------------------------------------------------------------\u001b[0m",
      "\u001b[1;31mValueError\u001b[0m                                Traceback (most recent call last)",
      "\u001b[1;32m<ipython-input-83-caa9d495b429>\u001b[0m in \u001b[0;36m<module>\u001b[1;34m\u001b[0m\n\u001b[0;32m     14\u001b[0m     \u001b[0mprint\u001b[0m\u001b[1;33m(\u001b[0m\u001b[0mfilename\u001b[0m\u001b[1;33m)\u001b[0m\u001b[1;33m\u001b[0m\u001b[1;33m\u001b[0m\u001b[0m\n\u001b[0;32m     15\u001b[0m     \u001b[0mobj\u001b[0m \u001b[1;33m=\u001b[0m \u001b[0mhmm_analysis_2\u001b[0m\u001b[1;33m(\u001b[0m\u001b[0mqubit_params\u001b[0m\u001b[1;33m=\u001b[0m\u001b[0mqubit_params\u001b[0m\u001b[1;33m,\u001b[0m \u001b[0mcavity_params\u001b[0m\u001b[1;33m=\u001b[0m\u001b[0mcavity_params\u001b[0m\u001b[1;33m,\u001b[0m \u001b[0mreadout_params\u001b[0m\u001b[1;33m=\u001b[0m\u001b[0mreadout_params\u001b[0m\u001b[1;33m)\u001b[0m\u001b[1;33m\u001b[0m\u001b[1;33m\u001b[0m\u001b[0m\n\u001b[1;32m---> 16\u001b[1;33m     \u001b[0malpha\u001b[0m\u001b[1;33m,\u001b[0m \u001b[0mc_amp\u001b[0m\u001b[1;33m,\u001b[0m \u001b[0mp_m_temp\u001b[0m \u001b[1;33m=\u001b[0m \u001b[0mobj\u001b[0m\u001b[1;33m.\u001b[0m\u001b[0mstateprep\u001b[0m\u001b[1;33m(\u001b[0m\u001b[0mdata_filename\u001b[0m\u001b[1;33m=\u001b[0m\u001b[0mfilename\u001b[0m\u001b[1;33m,\u001b[0m \u001b[0mat_end\u001b[0m\u001b[1;33m=\u001b[0m\u001b[1;32mFalse\u001b[0m\u001b[1;33m)\u001b[0m\u001b[1;33m\u001b[0m\u001b[1;33m\u001b[0m\u001b[0m\n\u001b[0m\u001b[0;32m     17\u001b[0m     \u001b[0malphas\u001b[0m\u001b[1;33m.\u001b[0m\u001b[0mappend\u001b[0m\u001b[1;33m(\u001b[0m\u001b[0malpha\u001b[0m\u001b[1;33m)\u001b[0m\u001b[1;33m\u001b[0m\u001b[1;33m\u001b[0m\u001b[0m\n\u001b[0;32m     18\u001b[0m     \u001b[0mcamp\u001b[0m\u001b[1;33m.\u001b[0m\u001b[0mappend\u001b[0m\u001b[1;33m(\u001b[0m\u001b[0mc_amp\u001b[0m\u001b[1;33m)\u001b[0m\u001b[1;33m\u001b[0m\u001b[1;33m\u001b[0m\u001b[0m\n",
      "\u001b[1;32m<ipython-input-31-1adcd5185be8>\u001b[0m in \u001b[0;36mstateprep\u001b[1;34m(self, fstate_in, data_filename, at_end)\u001b[0m\n\u001b[0;32m    124\u001b[0m \u001b[1;33m\u001b[0m\u001b[0m\n\u001b[0;32m    125\u001b[0m         \u001b[0mdf\u001b[0m \u001b[1;33m=\u001b[0m \u001b[0mbit3\u001b[0m\u001b[1;33m\u001b[0m\u001b[1;33m\u001b[0m\u001b[0m\n\u001b[1;32m--> 126\u001b[1;33m         \u001b[0malpha\u001b[0m \u001b[1;33m=\u001b[0m \u001b[0mself\u001b[0m\u001b[1;33m.\u001b[0m\u001b[0malpha_awg_cal\u001b[0m\u001b[1;33m(\u001b[0m\u001b[0mcav_amp\u001b[0m\u001b[1;33m,\u001b[0m \u001b[0mcav_len\u001b[0m\u001b[1;33m)\u001b[0m\u001b[1;33m\u001b[0m\u001b[1;33m\u001b[0m\u001b[0m\n\u001b[0m\u001b[0;32m    127\u001b[0m         \u001b[0mprint\u001b[0m\u001b[1;33m(\u001b[0m\u001b[1;34m'# of π at m= {}, at n = {}'\u001b[0m\u001b[1;33m.\u001b[0m\u001b[0mformat\u001b[0m\u001b[1;33m(\u001b[0m\u001b[0mnpi_m\u001b[0m\u001b[1;33m,\u001b[0m \u001b[0mnpi_n\u001b[0m\u001b[1;33m)\u001b[0m\u001b[1;33m)\u001b[0m\u001b[1;33m\u001b[0m\u001b[1;33m\u001b[0m\u001b[0m\n\u001b[0;32m    128\u001b[0m         \u001b[0mprint\u001b[0m\u001b[1;33m(\u001b[0m\u001b[1;34m'Coherent drive: amp = {}, length = {} ns'\u001b[0m\u001b[1;33m.\u001b[0m\u001b[0mformat\u001b[0m\u001b[1;33m(\u001b[0m\u001b[0mcav_amp\u001b[0m\u001b[1;33m,\u001b[0m \u001b[0mcav_len\u001b[0m\u001b[1;33m)\u001b[0m\u001b[1;33m)\u001b[0m\u001b[1;33m\u001b[0m\u001b[1;33m\u001b[0m\u001b[0m\n",
      "\u001b[1;32m<ipython-input-31-1adcd5185be8>\u001b[0m in \u001b[0;36malpha_awg_cal\u001b[1;34m(self, cav_amp, cav_len)\u001b[0m\n\u001b[0;32m     96\u001b[0m         \u001b[0mtransfer_fn\u001b[0m \u001b[1;33m=\u001b[0m \u001b[0mscipy\u001b[0m\u001b[1;33m.\u001b[0m\u001b[0minterpolate\u001b[0m\u001b[1;33m.\u001b[0m\u001b[0minterp1d\u001b[0m\u001b[1;33m(\u001b[0m\u001b[0ma_s\u001b[0m\u001b[1;33m,\u001b[0m \u001b[0mo_s\u001b[0m\u001b[1;33m)\u001b[0m\u001b[1;33m\u001b[0m\u001b[1;33m\u001b[0m\u001b[0m\n\u001b[0;32m     97\u001b[0m \u001b[1;33m\u001b[0m\u001b[0m\n\u001b[1;32m---> 98\u001b[1;33m         \u001b[0momega_desired\u001b[0m \u001b[1;33m=\u001b[0m \u001b[0mtransfer_fn\u001b[0m\u001b[1;33m(\u001b[0m\u001b[0mcav_amp\u001b[0m\u001b[1;33m)\u001b[0m\u001b[1;33m\u001b[0m\u001b[1;33m\u001b[0m\u001b[0m\n\u001b[0m\u001b[0;32m     99\u001b[0m         \u001b[0malpha\u001b[0m \u001b[1;33m=\u001b[0m \u001b[0momega_desired\u001b[0m \u001b[1;33m*\u001b[0m \u001b[0mcav_len\u001b[0m\u001b[1;33m\u001b[0m\u001b[1;33m\u001b[0m\u001b[0m\n\u001b[0;32m    100\u001b[0m \u001b[1;33m\u001b[0m\u001b[0m\n",
      "\u001b[1;32mC:\\ProgramData\\Miniconda3\\lib\\site-packages\\scipy\\interpolate\\polyint.py\u001b[0m in \u001b[0;36m__call__\u001b[1;34m(self, x)\u001b[0m\n\u001b[0;32m     76\u001b[0m         \"\"\"\n\u001b[0;32m     77\u001b[0m         \u001b[0mx\u001b[0m\u001b[1;33m,\u001b[0m \u001b[0mx_shape\u001b[0m \u001b[1;33m=\u001b[0m \u001b[0mself\u001b[0m\u001b[1;33m.\u001b[0m\u001b[0m_prepare_x\u001b[0m\u001b[1;33m(\u001b[0m\u001b[0mx\u001b[0m\u001b[1;33m)\u001b[0m\u001b[1;33m\u001b[0m\u001b[1;33m\u001b[0m\u001b[0m\n\u001b[1;32m---> 78\u001b[1;33m         \u001b[0my\u001b[0m \u001b[1;33m=\u001b[0m \u001b[0mself\u001b[0m\u001b[1;33m.\u001b[0m\u001b[0m_evaluate\u001b[0m\u001b[1;33m(\u001b[0m\u001b[0mx\u001b[0m\u001b[1;33m)\u001b[0m\u001b[1;33m\u001b[0m\u001b[1;33m\u001b[0m\u001b[0m\n\u001b[0m\u001b[0;32m     79\u001b[0m         \u001b[1;32mreturn\u001b[0m \u001b[0mself\u001b[0m\u001b[1;33m.\u001b[0m\u001b[0m_finish_y\u001b[0m\u001b[1;33m(\u001b[0m\u001b[0my\u001b[0m\u001b[1;33m,\u001b[0m \u001b[0mx_shape\u001b[0m\u001b[1;33m)\u001b[0m\u001b[1;33m\u001b[0m\u001b[1;33m\u001b[0m\u001b[0m\n\u001b[0;32m     80\u001b[0m \u001b[1;33m\u001b[0m\u001b[0m\n",
      "\u001b[1;32mC:\\ProgramData\\Miniconda3\\lib\\site-packages\\scipy\\interpolate\\interpolate.py\u001b[0m in \u001b[0;36m_evaluate\u001b[1;34m(self, x_new)\u001b[0m\n\u001b[0;32m    675\u001b[0m         \u001b[0my_new\u001b[0m \u001b[1;33m=\u001b[0m \u001b[0mself\u001b[0m\u001b[1;33m.\u001b[0m\u001b[0m_call\u001b[0m\u001b[1;33m(\u001b[0m\u001b[0mself\u001b[0m\u001b[1;33m,\u001b[0m \u001b[0mx_new\u001b[0m\u001b[1;33m)\u001b[0m\u001b[1;33m\u001b[0m\u001b[1;33m\u001b[0m\u001b[0m\n\u001b[0;32m    676\u001b[0m         \u001b[1;32mif\u001b[0m \u001b[1;32mnot\u001b[0m \u001b[0mself\u001b[0m\u001b[1;33m.\u001b[0m\u001b[0m_extrapolate\u001b[0m\u001b[1;33m:\u001b[0m\u001b[1;33m\u001b[0m\u001b[1;33m\u001b[0m\u001b[0m\n\u001b[1;32m--> 677\u001b[1;33m             \u001b[0mbelow_bounds\u001b[0m\u001b[1;33m,\u001b[0m \u001b[0mabove_bounds\u001b[0m \u001b[1;33m=\u001b[0m \u001b[0mself\u001b[0m\u001b[1;33m.\u001b[0m\u001b[0m_check_bounds\u001b[0m\u001b[1;33m(\u001b[0m\u001b[0mx_new\u001b[0m\u001b[1;33m)\u001b[0m\u001b[1;33m\u001b[0m\u001b[1;33m\u001b[0m\u001b[0m\n\u001b[0m\u001b[0;32m    678\u001b[0m             \u001b[1;32mif\u001b[0m \u001b[0mlen\u001b[0m\u001b[1;33m(\u001b[0m\u001b[0my_new\u001b[0m\u001b[1;33m)\u001b[0m \u001b[1;33m>\u001b[0m \u001b[1;36m0\u001b[0m\u001b[1;33m:\u001b[0m\u001b[1;33m\u001b[0m\u001b[1;33m\u001b[0m\u001b[0m\n\u001b[0;32m    679\u001b[0m                 \u001b[1;31m# Note fill_value must be broadcast up to the proper size\u001b[0m\u001b[1;33m\u001b[0m\u001b[1;33m\u001b[0m\u001b[1;33m\u001b[0m\u001b[0m\n",
      "\u001b[1;32mC:\\ProgramData\\Miniconda3\\lib\\site-packages\\scipy\\interpolate\\interpolate.py\u001b[0m in \u001b[0;36m_check_bounds\u001b[1;34m(self, x_new)\u001b[0m\n\u001b[0;32m    707\u001b[0m                              \"range.\")\n\u001b[0;32m    708\u001b[0m         \u001b[1;32mif\u001b[0m \u001b[0mself\u001b[0m\u001b[1;33m.\u001b[0m\u001b[0mbounds_error\u001b[0m \u001b[1;32mand\u001b[0m \u001b[0mabove_bounds\u001b[0m\u001b[1;33m.\u001b[0m\u001b[0many\u001b[0m\u001b[1;33m(\u001b[0m\u001b[1;33m)\u001b[0m\u001b[1;33m:\u001b[0m\u001b[1;33m\u001b[0m\u001b[1;33m\u001b[0m\u001b[0m\n\u001b[1;32m--> 709\u001b[1;33m             raise ValueError(\"A value in x_new is above the interpolation \"\n\u001b[0m\u001b[0;32m    710\u001b[0m                              \"range.\")\n\u001b[0;32m    711\u001b[0m \u001b[1;33m\u001b[0m\u001b[0m\n",
      "\u001b[1;31mValueError\u001b[0m: A value in x_new is above the interpolation range."
     ]
    }
   ],
   "source": [
    "qubit_params = {'t1':100, 't2':130, 'nth':2.2e-2}\n",
    "cavity_params = {'t1':6.0e2, 'nth':0.001}\n",
    "readout_params = {'length':3.2, 'trigger':4.768, 'pi_pulse':565e-3, 'g_inf':0.0246, 'e_inf':0.0408}\n",
    "expt_name = 'photon_counting_parity_alpha'\n",
    "\n",
    "filelist = np.arange(151, 160, 1)\n",
    "\n",
    "p_m_counts = []\n",
    "alphas = []\n",
    "camp = []\n",
    "for ii, i in enumerate(filelist):\n",
    "    p_m_temp = []\n",
    "    filename = \"..\\\\data\\\\\" + str(i).zfill(5) + \"_\"+expt_name.lower()+\".h5\"\n",
    "    print(filename)\n",
    "    obj = hmm_analysis_2(qubit_params=qubit_params, cavity_params=cavity_params, readout_params=readout_params)\n",
    "    alpha, c_amp, p_m_temp = obj.stateprep(data_filename=filename, at_end=False)\n",
    "    alphas.append(alpha)\n",
    "    camp.append(c_amp)\n",
    "    p_m_counts.append(p_m_temp)"
   ]
  },
  {
   "cell_type": "code",
   "execution_count": 6,
   "metadata": {
    "ExecuteTime": {
     "end_time": "2021-07-31T23:57:03.763271Z",
     "start_time": "2021-07-31T23:57:03.723269Z"
    }
   },
   "outputs": [
    {
     "data": {
      "text/plain": [
       "[array(0.1),\n",
       " array(0.2),\n",
       " array(0.3),\n",
       " array(0.4),\n",
       " array(0.5),\n",
       " array(0.6),\n",
       " array(0.7),\n",
       " array(0.8)]"
      ]
     },
     "execution_count": 6,
     "metadata": {},
     "output_type": "execute_result"
    }
   ],
   "source": [
    "camp"
   ]
  },
  {
   "cell_type": "code",
   "execution_count": 11,
   "metadata": {
    "ExecuteTime": {
     "end_time": "2021-07-31T23:59:55.305691Z",
     "start_time": "2021-07-31T23:59:55.285688Z"
    }
   },
   "outputs": [],
   "source": [
    "camp = np.round(np.arange(0.1, 0.9, 0.1).tolist(), 4)\n",
    "\n",
    "alphas = obj.alpha_awg_cal(cav_amp=camp, cav_len=400*np.ones(len(camp)))"
   ]
  },
  {
   "cell_type": "code",
   "execution_count": 84,
   "metadata": {
    "ExecuteTime": {
     "end_time": "2021-08-02T01:00:49.718023Z",
     "start_time": "2021-08-02T01:00:49.598024Z"
    }
   },
   "outputs": [
    {
     "name": "stdout",
     "output_type": "stream",
     "text": [
      "../data/photon_counting/g0_20210731/n0_camp_0.1_len_400.h5\n",
      "../data/photon_counting/g0_20210731/n0_camp_0.2_len_400.h5\n",
      "../data/photon_counting/g0_20210731/n0_camp_0.3_len_400.h5\n",
      "../data/photon_counting/g0_20210731/n0_camp_0.4_len_400.h5\n",
      "../data/photon_counting/g0_20210731/n0_camp_0.5_len_400.h5\n",
      "../data/photon_counting/g0_20210731/n0_camp_0.6_len_400.h5\n",
      "../data/photon_counting/g0_20210731/n0_camp_0.7_len_400.h5\n",
      "../data/photon_counting/g0_20210731/n0_camp_0.8_len_400.h5\n"
     ]
    },
    {
     "ename": "IndexError",
     "evalue": "list index out of range",
     "output_type": "error",
     "traceback": [
      "\u001b[1;31m---------------------------------------------------------------------------\u001b[0m",
      "\u001b[1;31mIndexError\u001b[0m                                Traceback (most recent call last)",
      "\u001b[1;32m<ipython-input-84-70645ae2ebed>\u001b[0m in \u001b[0;36m<module>\u001b[1;34m\u001b[0m\n\u001b[0;32m      3\u001b[0m \u001b[1;32mfor\u001b[0m \u001b[0mi\u001b[0m \u001b[1;32min\u001b[0m \u001b[0mrange\u001b[0m\u001b[1;33m(\u001b[0m\u001b[0mlen\u001b[0m\u001b[1;33m(\u001b[0m\u001b[0mfilelist\u001b[0m\u001b[1;33m)\u001b[0m\u001b[1;33m)\u001b[0m\u001b[1;33m:\u001b[0m\u001b[1;33m\u001b[0m\u001b[1;33m\u001b[0m\u001b[0m\n\u001b[0;32m      4\u001b[0m \u001b[1;33m\u001b[0m\u001b[0m\n\u001b[1;32m----> 5\u001b[1;33m     \u001b[0mfilename\u001b[0m \u001b[1;33m=\u001b[0m \u001b[0mpath\u001b[0m \u001b[1;33m+\u001b[0m \u001b[1;34m\"n\"\u001b[0m \u001b[1;33m+\u001b[0m \u001b[0mstr\u001b[0m\u001b[1;33m(\u001b[0m\u001b[1;36m0\u001b[0m\u001b[1;33m)\u001b[0m \u001b[1;33m+\u001b[0m\u001b[1;34m\"_camp_\"\u001b[0m \u001b[1;33m+\u001b[0m \u001b[0mstr\u001b[0m\u001b[1;33m(\u001b[0m\u001b[0mcamp\u001b[0m\u001b[1;33m[\u001b[0m\u001b[0mi\u001b[0m\u001b[1;33m]\u001b[0m\u001b[1;33m)\u001b[0m\u001b[1;33m+\u001b[0m\u001b[1;34m\"_len_\"\u001b[0m\u001b[1;33m+\u001b[0m\u001b[0mstr\u001b[0m\u001b[1;33m(\u001b[0m\u001b[1;36m400\u001b[0m\u001b[1;33m)\u001b[0m\u001b[1;33m+\u001b[0m\u001b[1;34m\".h5\"\u001b[0m\u001b[1;33m\u001b[0m\u001b[1;33m\u001b[0m\u001b[0m\n\u001b[0m\u001b[0;32m      6\u001b[0m     \u001b[0mprint\u001b[0m\u001b[1;33m(\u001b[0m\u001b[0mfilename\u001b[0m\u001b[1;33m)\u001b[0m\u001b[1;33m\u001b[0m\u001b[1;33m\u001b[0m\u001b[0m\n\u001b[0;32m      7\u001b[0m \u001b[1;33m\u001b[0m\u001b[0m\n",
      "\u001b[1;31mIndexError\u001b[0m: list index out of range"
     ]
    }
   ],
   "source": [
    "alphas = obj.alpha_awg_cal(cav_amp=camp, cav_len=400*np.ones(len(camp)))\n",
    "path = \"../data/photon_counting/g0_20210731/\"\n",
    "for i in range(len(filelist)):\n",
    "\n",
    "    filename = path + \"n\" + str(0) +\"_camp_\" + str(camp[i])+\"_len_\"+str(400)+\".h5\"\n",
    "    print(filename)\n",
    "    \n",
    "    temp= p_m_counts[i]\n",
    "    \n",
    "    with File(filename, 'w') as f:\n",
    "        f.create_dataset(\"p_m_counts\", data=temp)\n",
    "        f.create_dataset('alpha', data = alphas[i])"
   ]
  },
  {
   "cell_type": "code",
   "execution_count": 8,
   "metadata": {
    "ExecuteTime": {
     "end_time": "2021-07-31T23:57:30.525718Z",
     "start_time": "2021-07-31T23:57:30.493211Z"
    }
   },
   "outputs": [
    {
     "data": {
      "text/plain": [
       "(8, 25000)"
      ]
     },
     "execution_count": 8,
     "metadata": {},
     "output_type": "execute_result"
    }
   ],
   "source": [
    "np.shape(p_m_counts)"
   ]
  },
  {
   "cell_type": "code",
   "execution_count": null,
   "metadata": {},
   "outputs": [],
   "source": [
    "pos_events_err"
   ]
  },
  {
   "cell_type": "code",
   "execution_count": 43,
   "metadata": {
    "ExecuteTime": {
     "end_time": "2021-08-01T13:41:21.819621Z",
     "start_time": "2021-08-01T13:36:57.221876Z"
    }
   },
   "outputs": [
    {
     "name": "stdout",
     "output_type": "stream",
     "text": [
      "..\\data\\00133_photon_counting_parity_alpha.h5\n",
      "# of π at m= 30, at n = 0\n",
      "Coherent drive: amp = 0.1, length = 400 ns\n",
      "..\\data\\00134_photon_counting_parity_alpha.h5\n",
      "# of π at m= 30, at n = 0\n",
      "Coherent drive: amp = 0.2, length = 400 ns\n",
      "..\\data\\00135_photon_counting_parity_alpha.h5\n",
      "# of π at m= 30, at n = 0\n",
      "Coherent drive: amp = 0.3, length = 400 ns\n",
      "..\\data\\00136_photon_counting_parity_alpha.h5\n",
      "# of π at m= 30, at n = 0\n",
      "Coherent drive: amp = 0.4, length = 400 ns\n",
      "..\\data\\00137_photon_counting_parity_alpha.h5\n",
      "# of π at m= 30, at n = 0\n",
      "Coherent drive: amp = 0.5, length = 400 ns\n",
      "..\\data\\00138_photon_counting_parity_alpha.h5\n",
      "# of π at m= 30, at n = 0\n",
      "Coherent drive: amp = 0.6, length = 400 ns\n",
      "..\\data\\00139_photon_counting_parity_alpha.h5\n",
      "# of π at m= 30, at n = 0\n",
      "Coherent drive: amp = 0.7, length = 400 ns\n",
      "..\\data\\00140_photon_counting_parity_alpha.h5\n",
      "# of π at m= 30, at n = 0\n",
      "Coherent drive: amp = 0.8, length = 400 ns\n"
     ]
    }
   ],
   "source": [
    "qubit_params = {'t1':100, 't2':130, 'nth':5e-2}\n",
    "cavity_params = {'t1':6.0e2, 'nth':0.001}\n",
    "readout_params = {'length':3.2, 'trigger':7.2, 'pi_pulse':500e-3, 'g_inf':0.0246, 'e_inf':0.0408}\n",
    "expt_name = 'photon_counting_parity_alpha'\n",
    "\n",
    "filelist = np.arange(133, 141, 1)\n",
    "\n",
    "p_m_counts = []\n",
    "alphas = []\n",
    "camp = []\n",
    "for ii, i in enumerate(filelist):\n",
    "    p_m_temp = []\n",
    "    filename = \"..\\\\data\\\\\" + str(i).zfill(5) + \"_\"+expt_name.lower()+\".h5\"\n",
    "    print(filename)\n",
    "    obj = hmm_analysis_2(qubit_params=qubit_params, cavity_params=cavity_params, readout_params=readout_params)\n",
    "    alpha, c_amp, p_m_temp = obj.stateprep(data_filename=filename, at_end=False)\n",
    "    alphas.append(alpha)\n",
    "    camp.append(c_amp)\n",
    "    p_m_counts.append(p_m_temp)"
   ]
  },
  {
   "cell_type": "code",
   "execution_count": 44,
   "metadata": {
    "ExecuteTime": {
     "end_time": "2021-08-01T14:19:26.805525Z",
     "start_time": "2021-08-01T14:19:26.616462Z"
    }
   },
   "outputs": [],
   "source": [
    "lambd_th = 1e7\n",
    "pos_events = []\n",
    "pos_events_err = []\n",
    "\n",
    "for i in range(len(filelist)):\n",
    "    df = pd.DataFrame(p_m_counts[i])\n",
    "    t = df[df>lambd_th].count()/len(p_m_counts[i])\n",
    "    pos_events.append(t)\n",
    "    pos_events_err.append(np.sqrt(df[df>lambd_th].count())/len(p_m_counts[i]))\n",
    "pos_events = np.array(pos_events).flatten()\n",
    "pos_events_err = np.array(pos_events_err[:]).flatten()"
   ]
  },
  {
   "cell_type": "code",
   "execution_count": 45,
   "metadata": {
    "ExecuteTime": {
     "end_time": "2021-08-01T14:19:41.157759Z",
     "start_time": "2021-08-01T14:19:41.147747Z"
    }
   },
   "outputs": [
    {
     "data": {
      "text/plain": [
       "array([0.0157, 0.0623, 0.1225, 0.1935, 0.245 , 0.293 , 0.3245, 0.3268])"
      ]
     },
     "execution_count": 45,
     "metadata": {},
     "output_type": "execute_result"
    }
   ],
   "source": [
    "pos_events"
   ]
  },
  {
   "cell_type": "code",
   "execution_count": 47,
   "metadata": {
    "ExecuteTime": {
     "end_time": "2021-08-01T14:25:59.410656Z",
     "start_time": "2021-08-01T14:25:59.374927Z"
    }
   },
   "outputs": [
    {
     "data": {
      "text/plain": [
       "0    3053\n",
       "dtype: int64"
      ]
     },
     "execution_count": 47,
     "metadata": {},
     "output_type": "execute_result"
    }
   ],
   "source": [
    "th = 1e9\n",
    "df[df>th].count()"
   ]
  },
  {
   "cell_type": "code",
   "execution_count": 48,
   "metadata": {
    "ExecuteTime": {
     "end_time": "2021-08-01T18:49:08.981657Z",
     "start_time": "2021-08-01T18:49:08.605297Z"
    }
   },
   "outputs": [
    {
     "name": "stdout",
     "output_type": "stream",
     "text": [
      "../data/photon_counting/g0_20210731/n0_camp_0.1_len_400.h5\n",
      "../data/photon_counting/g0_20210731/n0_camp_0.2_len_400.h5\n",
      "../data/photon_counting/g0_20210731/n0_camp_0.3_len_400.h5\n",
      "../data/photon_counting/g0_20210731/n0_camp_0.4_len_400.h5\n",
      "../data/photon_counting/g0_20210731/n0_camp_0.5_len_400.h5\n",
      "../data/photon_counting/g0_20210731/n0_camp_0.6_len_400.h5\n",
      "../data/photon_counting/g0_20210731/n0_camp_0.7_len_400.h5\n",
      "../data/photon_counting/g0_20210731/n0_camp_0.8_len_400.h5\n"
     ]
    }
   ],
   "source": [
    "alphas = obj.alpha_awg_cal(cav_amp=camp, cav_len=400*np.ones(len(camp)))\n",
    "path = \"../data/photon_counting/g0_20210731/\"\n",
    "for i in range(len(filelist)):\n",
    "\n",
    "    filename = path + \"n\" + str(0) +\"_camp_\" + str(camp[i])+\"_len_\"+str(400)+\".h5\"\n",
    "    print(filename)\n",
    "    \n",
    "    temp= p_m_counts[i]\n",
    "    \n",
    "    with File(filename, 'w') as f:\n",
    "        f.create_dataset(\"p_m_counts\", data=temp)\n",
    "        f.create_dataset('alpha', data = alphas[i])"
   ]
  },
  {
   "cell_type": "markdown",
   "metadata": {},
   "source": [
    "## photon counter fit"
   ]
  },
  {
   "cell_type": "code",
   "execution_count": 85,
   "metadata": {
    "ExecuteTime": {
     "end_time": "2021-08-02T01:01:05.085366Z",
     "start_time": "2021-08-02T01:01:04.211557Z"
    }
   },
   "outputs": [
    {
     "name": "stdout",
     "output_type": "stream",
     "text": [
      "n0_camp_0.0005_len_400.h5\n",
      "0.000592\n",
      "Total number of events collected: 100000, 18 events crossed \\lambda \n",
      "n0_camp_0.0006_len_400.h5\n",
      "0.00071\n",
      "Total number of events collected: 100000, 12 events crossed \\lambda \n",
      "n0_camp_0.0007_len_400.h5\n",
      "0.000829\n",
      "Total number of events collected: 100000, 31 events crossed \\lambda \n",
      "n0_camp_0.0008_len_400.h5\n",
      "0.000947\n",
      "Total number of events collected: 100000, 20 events crossed \\lambda \n",
      "n0_camp_0.0009_len_400.h5\n",
      "0.001066\n",
      "Total number of events collected: 100000, 20 events crossed \\lambda \n",
      "n0_camp_0.001_len_400.h5\n",
      "0.001184\n",
      "Total number of events collected: 50000, 9 events crossed \\lambda \n",
      "n0_camp_0.002_len_400.h5\n",
      "0.002809\n",
      "Total number of events collected: 50000, 9 events crossed \\lambda \n",
      "n0_camp_0.003_len_400.h5\n",
      "0.0044\n",
      "Total number of events collected: 50000, 9 events crossed \\lambda \n",
      "n0_camp_0.004_len_400.h5\n",
      "0.005909\n",
      "Total number of events collected: 50000, 16 events crossed \\lambda \n",
      "n0_camp_0.005_len_400.h5\n",
      "0.007447\n",
      "Total number of events collected: 50000, 11 events crossed \\lambda \n",
      "n0_camp_0.006_len_400.h5\n",
      "0.009021\n",
      "Total number of events collected: 50000, 12 events crossed \\lambda \n",
      "n0_camp_0.007_len_400.h5\n",
      "0.010632\n",
      "Total number of events collected: 50000, 9 events crossed \\lambda \n",
      "n0_camp_0.008_len_400.h5\n",
      "0.012143\n",
      "Total number of events collected: 50000, 11 events crossed \\lambda \n",
      "n0_camp_0.009_len_400.h5\n",
      "0.013537\n",
      "Total number of events collected: 50000, 18 events crossed \\lambda \n",
      "n0_camp_0.01_len_400.h5\n",
      "0.014538\n",
      "Total number of events collected: 10000, 3 events crossed \\lambda \n",
      "n0_camp_0.02_len_400.h5\n",
      "0.029243\n",
      "Total number of events collected: 10000, 9 events crossed \\lambda \n",
      "n0_camp_0.03_len_400.h5\n",
      "0.043748\n",
      "Total number of events collected: 10000, 23 events crossed \\lambda \n",
      "n0_camp_0.04_len_400.h5\n",
      "0.058254\n",
      "Total number of events collected: 10000, 23 events crossed \\lambda \n",
      "n0_camp_0.05_len_400.h5\n",
      "0.07391\n",
      "Total number of events collected: 10000, 44 events crossed \\lambda \n",
      "n0_camp_0.06_len_400.h5\n",
      "0.088123\n",
      "Total number of events collected: 10000, 60 events crossed \\lambda \n",
      "n0_camp_0.07_len_400.h5\n",
      "0.103122\n",
      "Total number of events collected: 10000, 65 events crossed \\lambda \n",
      "n0_camp_0.08_len_400.h5\n",
      "0.118913\n",
      "Total number of events collected: 10000, 103 events crossed \\lambda \n",
      "n0_camp_0.09_len_400.h5\n",
      "0.133493\n",
      "Total number of events collected: 10000, 131 events crossed \\lambda \n",
      "n0_camp_0.1_len_400.h5\n",
      "0.14522\n",
      "Total number of events collected: 10000, 125 events crossed \\lambda \n",
      "n0_camp_0.2_len_400.h5\n",
      "0.291933\n",
      "Total number of events collected: 10000, 587 events crossed \\lambda \n",
      "n0_camp_0.3_len_400.h5\n",
      "0.447729\n",
      "Total number of events collected: 10000, 1121 events crossed \\lambda \n"
     ]
    }
   ],
   "source": [
    "data_path =  \"../data/photon_counting/g0_20210731/\"\n",
    "filenames_like = os.listdir(data_path)\n",
    "\n",
    "th_m = np.logspace(2, 10, 9)\n",
    "detected_th = {}\n",
    "detected_th_err = {}\n",
    "alphas = []\n",
    "for jj, filename in enumerate(filenames_like):\n",
    "    print(filename)\n",
    "    filename = data_path + filename\n",
    "    with File(filename,'r') as a:\n",
    "        p_m_counts = np.array(a['p_m_counts'], dtype=float)\n",
    "        alpha = np.array(a['alpha'])\n",
    "        print(np.round(alpha, 6))\n",
    "        a.close()\n",
    "    alphas.append(np.round(alpha, 6))\n",
    "    detect = []\n",
    "    detect_err = []\n",
    "    detect_err_bi = []\n",
    "    for th in th_m:\n",
    "        df = pd.DataFrame(p_m_counts)\n",
    "        count_m = df[df>th].count()\n",
    "        t = count_m/len(p_m_counts)\n",
    "        detect.append(t)\n",
    "        detect_err.append(np.sqrt(count_m)/len(p_m_counts))\n",
    "    print(r\"Total number of events collected: %d, %d events crossed \\lambda \"%(len(p_m_counts), count_m))\n",
    "    detected_th[np.round(alpha, 6)]= detect\n",
    "    detected_th_err[np.round(alpha, 6)] = detect_err\n",
    "\n",
    "\"\"\"Sorts the columns according to injected photon number\"\"\"\n",
    "y = pd.DataFrame(detected_th).sort_index(axis=1)\n",
    "yerr = pd.DataFrame(detected_th_err).sort_index(axis=1)\n",
    "n_exp = np.sort(np.array(alphas)**2)"
   ]
  },
  {
   "cell_type": "code",
   "execution_count": 86,
   "metadata": {
    "ExecuteTime": {
     "end_time": "2021-08-02T01:01:08.440595Z",
     "start_time": "2021-08-02T01:01:08.344006Z"
    }
   },
   "outputs": [],
   "source": [
    "def photon_counter_line0(x, eff, err):\n",
    "    return eff*(np.array(x)) + err\n",
    "\n",
    "det_eff = []\n",
    "det_darkcount = []\n",
    "eff_corr_darkcount = []\n",
    "\n",
    "for ii in range(len(th_m)):\n",
    "    popt, pcov = curve_fit(f=photon_counter_line0, xdata=n_exp, ydata=np.array(y.iloc[ii], dtype=float), sigma=np.array(yerr.iloc[ii], dtype=float), \n",
    "                           bounds = ([0.0, 1e-5],[1.0, 1e-2]))\n",
    "    perr = np.sqrt(np.diag(pcov))\n",
    "    det_eff.append([popt[0], perr[0]])\n",
    "    det_darkcount.append([popt[1], perr[1]])\n",
    "    err = np.sqrt((perr[1]/(popt[0]))**2 + (perr[0]*(popt[1]/(popt[0]**2)))**2)\n",
    "    eff_corr_darkcount.append([popt[1]/(popt[0]), err])"
   ]
  },
  {
   "cell_type": "code",
   "execution_count": 87,
   "metadata": {
    "ExecuteTime": {
     "end_time": "2021-08-02T01:01:10.230950Z",
     "start_time": "2021-08-02T01:01:08.815464Z"
    }
   },
   "outputs": [
    {
     "data": {
      "image/png": "[encoded data removed]",
      "text/plain": [
       "<Figure size 1800x1200 with 2 Axes>"
      ]
     },
     "metadata": {
      "needs_background": "light"
     },
     "output_type": "display_data"
    }
   ],
   "source": [
    "fig, (ax1, ax2) = plt.subplots(nrows=2, dpi=300, sharex=True)\n",
    "ax1.errorbar(x= th_m, y= pd.DataFrame(det_eff)[0], yerr= pd.DataFrame(det_eff)[1],\n",
    "             fmt='o',  capthick=4, markerfacecolor='#ffa600', markeredgecolor='k', ecolor='#003f5c')\n",
    "ax1.set_ylabel(r'$\\eta$')\n",
    "ax1.grid(minorticks_on)\n",
    "ax2.errorbar(x= th_m, y= pd.DataFrame(eff_corr_darkcount)[0], yerr= pd.DataFrame(eff_corr_darkcount)[1],\n",
    "             fmt='o',  capthick=4, markerfacecolor='#ffa600', markeredgecolor='k', ecolor='#003f5c')\n",
    "ax2.set_ylabel(r'$\\frac{\\delta}{\\eta}$')\n",
    "ax2.set_xlabel(r'$\\lambda_{th}$')\n",
    "ax2.set_xscale('log')\n",
    "ax2.set_yscale('log')\n",
    "ax2.grid(minorticks_on)\n",
    "plt.tight_layout()\n",
    "plt.show()"
   ]
  },
  {
   "cell_type": "code",
   "execution_count": 90,
   "metadata": {
    "ExecuteTime": {
     "end_time": "2021-08-02T01:02:10.336883Z",
     "start_time": "2021-08-02T01:02:08.916852Z"
    }
   },
   "outputs": [
    {
     "name": "stdout",
     "output_type": "stream",
     "text": [
      "0.03597\n"
     ]
    },
    {
     "data": {
      "image/png": "[encoded data removed]",
      "text/plain": [
       "<Figure size 1800x1200 with 1 Axes>"
      ]
     },
     "metadata": {
      "needs_background": "light"
     },
     "output_type": "display_data"
    }
   ],
   "source": [
    "#003f5c\n",
    "#58508d\n",
    "#bc5090\n",
    "#ff6361\n",
    "#ffa600\n",
    "m = 5\n",
    "plt.figure(dpi=300)\n",
    "plt.errorbar(n_exp, y= y.iloc[-m], yerr= yerr.iloc[-m], fmt='o', capthick=4, \n",
    "            markerfacecolor='#003f5c', markeredgecolor='k', ecolor='#003f5c',\n",
    "                 label=r'$\\lambda_{th} =  10^{%.f}$'%(np.log10(th_m[-m])))\n",
    "\n",
    "popt, pcov = curve_fit(f=photon_counter_line0, xdata=n_exp, ydata=np.array(y.iloc[-m], dtype=float), sigma=np.array(yerr.iloc[-m], dtype=float), \n",
    "                           bounds = ([0.0, 1e-5],[1.0, 1e-2]))\n",
    "perr = np.sqrt(np.diag(pcov))\n",
    "delta_eta  = popt[1]/popt[0]\n",
    "delta_eta_err = delta_eta*(np.sqrt((perr[0]/popt[0])**2 + (perr[1]/popt[1])**2))\n",
    "###########\n",
    "w = 2*np.pi*6.011*1e9\n",
    "\n",
    "from scipy.constants import hbar, k\n",
    "\n",
    "T = np.round(hbar*w/(k*np.log(1/delta_eta)), 5)\n",
    "print(T)\n",
    "###########\n",
    "x = np.linspace(1e-8, 4e-1, 100001)\n",
    "h = photon_counter_line0(x, *popt)\n",
    "plt.plot(x, h, linewidth=2, linestyle='--', color='#ffa600')\n",
    "plt.ylabel(r'$n_{meas}$')\n",
    "plt.xlabel(r'$n_{inj}$')\n",
    "plt.xscale('symlog', linthresh=1e-6)\n",
    "# plt.yscale('symlog', linthreshy=1e-5)\n",
    "plt.yscale('log')\n",
    "plt.ylim(5e-6, 2e0)\n",
    "plt.text(1e-3, 5e-5, '$\\eta$ = {:^.2f} $\\pm$ {:^.3f} \\n$\\delta$ = {:^.2e} $\\pm$ {:^.2e}'.format(popt[0], perr[0], popt[1], perr[1]))\n",
    "plt.text(5e-7, 5e-2, 'Efficiency corrected \\n dark count rate,\\\n",
    "        \\n $\\delta$/$\\eta$ = {:<.2e} $\\pm$ {:<.2e}'.format(delta_eta, delta_eta_err))\n",
    "plt.title('Photon temperature = {} mK'.format(T*1000))\n",
    "plt.legend(fontsize=14, loc='best') \n",
    "plt.grid(minorticks_on)\n",
    "# plt.savefig('2021-08-01-PhotonCounting.png', dpi=300)\n",
    "plt.show()"
   ]
  },
  {
   "cell_type": "code",
   "execution_count": 73,
   "metadata": {
    "ExecuteTime": {
     "end_time": "2021-08-01T22:26:03.941895Z",
     "start_time": "2021-08-01T22:26:03.925356Z"
    }
   },
   "outputs": [
    {
     "name": "stdout",
     "output_type": "stream",
     "text": [
      "0.03595919112878462\n"
     ]
    }
   ],
   "source": [
    "w = 2*np.pi*6.011*1e9\n",
    "\n",
    "from scipy.constants import hbar, k\n",
    "\n",
    "T = hbar*w/(k*np.log(1/3.28e-4))\n",
    "print(T)"
   ]
  },
  {
   "cell_type": "code",
   "execution_count": null,
   "metadata": {},
   "outputs": [],
   "source": []
  }
 ],
 "metadata": {
  "kernelspec": {
   "display_name": "Python 3",
   "language": "python",
   "name": "python3"
  },
  "language_info": {
   "codemirror_mode": {
    "name": "ipython",
    "version": 3
   },
   "file_extension": ".py",
   "mimetype": "text/x-python",
   "name": "python",
   "nbconvert_exporter": "python",
   "pygments_lexer": "ipython3",
   "version": "3.8.5"
  },
  "toc": {
   "base_numbering": 1,
   "nav_menu": {},
   "number_sections": true,
   "sideBar": true,
   "skip_h1_title": false,
   "title_cell": "Table of Contents",
   "title_sidebar": "Contents",
   "toc_cell": false,
   "toc_position": {
    "height": "calc(100% - 180px)",
    "left": "10px",
    "top": "150px",
    "width": "493.833px"
   },
   "toc_section_display": true,
   "toc_window_display": true
  }
 },
 "nbformat": 4,
 "nbformat_minor": 4
}
