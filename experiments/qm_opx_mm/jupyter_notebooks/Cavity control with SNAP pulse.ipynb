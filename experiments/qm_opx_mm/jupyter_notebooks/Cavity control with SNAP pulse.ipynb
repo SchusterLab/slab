{
 "cells": [
  {
   "cell_type": "code",
   "execution_count": 1,
   "metadata": {
    "ExecuteTime": {
     "end_time": "2022-02-17T00:41:24.104627Z",
     "start_time": "2022-02-17T00:41:22.081350Z"
    }
   },
   "outputs": [
    {
     "ename": "ModuleNotFoundError",
     "evalue": "No module named 'qutip'",
     "output_type": "error",
     "traceback": [
      "\u001b[1;31m---------------------------------------------------------------------------\u001b[0m",
      "\u001b[1;31mModuleNotFoundError\u001b[0m                       Traceback (most recent call last)",
      "Input \u001b[1;32mIn [1]\u001b[0m, in \u001b[0;36m<module>\u001b[1;34m\u001b[0m\n\u001b[0;32m      3\u001b[0m \u001b[38;5;28;01mimport\u001b[39;00m \u001b[38;5;21;01mnumpy\u001b[39;00m \u001b[38;5;28;01mas\u001b[39;00m \u001b[38;5;21;01mnp\u001b[39;00m\n\u001b[0;32m      4\u001b[0m \u001b[38;5;28;01mfrom\u001b[39;00m \u001b[38;5;21;01mpylab\u001b[39;00m \u001b[38;5;28;01mimport\u001b[39;00m \u001b[38;5;241m*\u001b[39m\n\u001b[1;32m----> 5\u001b[0m \u001b[38;5;28;01mfrom\u001b[39;00m \u001b[38;5;21;01mqutip\u001b[39;00m \u001b[38;5;28;01mimport\u001b[39;00m \u001b[38;5;241m*\u001b[39m\n\u001b[0;32m      6\u001b[0m \u001b[38;5;28;01mfrom\u001b[39;00m \u001b[38;5;21;01mscipy\u001b[39;00m \u001b[38;5;28;01mimport\u001b[39;00m optimize\n\u001b[0;32m      8\u001b[0m \u001b[38;5;28;01mdef\u001b[39;00m \u001b[38;5;21mplot_wigner\u001b[39m(psi, xvec, yvec, cbar \u001b[38;5;241m=\u001b[39m \u001b[38;5;28;01mTrue\u001b[39;00m, norm_amp \u001b[38;5;241m=\u001b[39m \u001b[38;5;28;01mNone\u001b[39;00m):\n",
      "\u001b[1;31mModuleNotFoundError\u001b[0m: No module named 'qutip'"
     ]
    }
   ],
   "source": [
    "import matplotlib as mpl\n",
    "import matplotlib.pyplot as plt\n",
    "import numpy as np\n",
    "from pylab import *\n",
    "from qutip import *\n",
    "from scipy import optimize\n",
    "\n",
    "def plot_wigner(psi, xvec, yvec, cbar = True, norm_amp = None):\n",
    "    W = wigner(psi, xvec, yvec)\n",
    "    wmap = wigner_cmap(W)  # Generate Wigner colormap\n",
    "    if norm_amp == None:\n",
    "        nrm = mpl.colors.Normalize(-W.max(), W.max())\n",
    "    else:\n",
    "        nrm = mpl.colors.Normalize(-norm_amp, norm_amp)\n",
    "    fig, axes = plt.subplots(figsize=(5, 4))\n",
    "    plt1 = axes.contourf(xvec, yvec, W, 100, cmap='RdBu_r', norm=nrm)\n",
    "    if cabr: cb1 = fig.colorbar(plt1, ax=axes)\n",
    "        \n",
    "def plot_wigner_multi(psi_arr, xvec, yvec, cbar=True, norm_amp = None):\n",
    "    l = len(psi_arr)\n",
    "    fig = plt.figure(figsize=(16,3*(int(l/4)+1)))\n",
    "\n",
    "    for kk, psi in enumerate(psi_arr):\n",
    "        \n",
    "        W = wigner(psi, xvec, yvec)\n",
    "        wmap = wigner_cmap(W)  # Generate Wigner colormap\n",
    "        if norm_amp == None:\n",
    "            nrm = mpl.colors.Normalize(-W.max(), W.max())\n",
    "        else:\n",
    "            nrm = mpl.colors.Normalize(-norm_amp, norm_amp)\n",
    "            \n",
    "        ax = fig.add_subplot(int(l/4)+1,4,kk+1)\n",
    "        plt1 = ax.contourf(xvec, yvec, W, 100, cmap='RdBu_r', norm=nrm)\n",
    "        if cbar: fig.colorbar(plt1)"
   ]
  },
  {
   "cell_type": "code",
   "execution_count": null,
   "metadata": {
    "ExecuteTime": {
     "end_time": "2022-01-13T21:38:49.475335Z",
     "start_time": "2022-01-13T21:38:48.575Z"
    }
   },
   "outputs": [],
   "source": [
    "dim=25\n",
    "psi_t = (0*fock(dim,0) + 0*fock(dim,1) + 1*fock(dim,2)).unit() # Target state\n",
    "\n",
    "def snap(dim,n,theta):\n",
    "    state = basis(dim,n)\n",
    "    return (1j*theta*state*state.dag()).expm()\n",
    "\n",
    "def compute_final_state(params):\n",
    "    psi_f = basis(dim, 0) # Initital state\n",
    "    for ii,param in enumerate(params[:-1]):\n",
    "        psi_f = snap(dim,ii,pi)*displace(dim, param)*psi_f\n",
    "\n",
    "    psi_f = displace(dim, params[-1])*psi_f\n",
    "    return psi_f\n",
    "\n",
    "def compute_final_state_not_good(params):\n",
    "    psi_f = basis(dim, 0) # Initital state\n",
    "    for ii,param in enumerate(params[:-1]):\n",
    "        psi_f = displace(dim, param)*psi_f\n",
    "        for jj in range(ii+1,0,-2): # SNAP gates on even and odd manifolds alternatively\n",
    "            psi_f = snap(dim,jj-1,pi)*psi_f\n",
    "#             print(ii,jj-1,param)\n",
    "\n",
    "    psi_f = displace(dim, params[-1])*psi_f\n",
    "    return psi_f\n",
    "\n",
    "def cost_function(params):\n",
    "    psi_f = compute_final_state(params)\n",
    "#     psi_f = compute_final_state_complex(params)\n",
    "    cost = 1 - fidelity(psi_t, psi_f)\n",
    "    return cost"
   ]
  },
  {
   "cell_type": "code",
   "execution_count": 3,
   "metadata": {
    "ExecuteTime": {
     "end_time": "2021-06-23T15:01:12.840156Z",
     "start_time": "2021-06-23T15:01:12.792059Z"
    }
   },
   "outputs": [],
   "source": [
    "dim=25\n",
    "psi_t = (0.5*fock(dim,0) + 0.5*fock(dim,1) + 0*fock(dim,2)).unit() # Target state\n",
    "\n",
    "def snap(dim,n,theta):\n",
    "    state = basis(dim,n)\n",
    "    return (1j*theta*state*state.dag()).expm()\n",
    "\n",
    "def compute_final_state(params):\n",
    "    psi_f = basis(dim, 0) # Initital state\n",
    "    for ii,param in enumerate(params[:-1]):\n",
    "        psi_f = snap(dim,ii,pi)*displace(dim, param)*psi_f\n",
    "\n",
    "    psi_f = displace(dim, params[-1])*psi_f\n",
    "    return psi_f\n",
    "\n",
    "def compute_final_state_not_good(params):\n",
    "    psi_f = basis(dim, 0) # Initital state\n",
    "    for ii,param in enumerate(params[:-1]):\n",
    "        psi_f = displace(dim, param)*psi_f\n",
    "        for jj in range(ii+1,0,-2): # SNAP gates on even and odd manifolds alternatively\n",
    "            psi_f = snap(dim,jj-1,pi)*psi_f\n",
    "#             print(ii,jj-1,param)\n",
    "\n",
    "    psi_f = displace(dim, params[-1])*psi_f\n",
    "    return psi_f\n",
    "\n",
    "def cost_function(params):\n",
    "    psi_f = compute_final_state(params)\n",
    "#     psi_f = compute_final_state_complex(params)\n",
    "    cost = 1 - fidelity(psi_t, psi_f)\n",
    "    return cost"
   ]
  },
  {
   "cell_type": "code",
   "execution_count": 4,
   "metadata": {
    "ExecuteTime": {
     "end_time": "2021-06-23T15:01:17.669590Z",
     "start_time": "2021-06-23T15:01:16.142801Z"
    }
   },
   "outputs": [
    {
     "name": "stdout",
     "output_type": "stream",
     "text": [
      "Convergence:  True\n",
      "Displacements:  [ 1.88543008 -1.31268847] , Infidelity =  0.024544571041010044\n",
      "Fidelity =  0.97545542895899\n"
     ]
    },
    {
     "data": {
      "image/png": "[encoded data removed]",
      "text/plain": [
       "<Figure size 1152x216 with 2 Axes>"
      ]
     },
     "metadata": {
      "needs_background": "light"
     },
     "output_type": "display_data"
    }
   ],
   "source": [
    "#%%time\n",
    "\n",
    "val = 0.9\n",
    "optvals = optimize.minimize(cost_function, np.array([val,-val]), method='L-BFGS-B')\n",
    "# methods = ‘Nelder-Mead’ ‘Powell’ ‘CG’ ‘BFGS’ ‘Newton-CG’ ‘L-BFGS-B’ ‘TNC’ ‘COBYLA’ ‘SLSQP’ ‘dogleg’ ‘trust-ncg’\n",
    "\n",
    "print(\"Convergence: \", optvals.success)\n",
    "print(\"Displacements: \", optvals.x, \", Infidelity = \", cost_function(optvals.x))\n",
    "print(\"Fidelity = \", 1-cost_function(optvals.x))\n",
    "xvec = np.linspace(-5, 5, 200)\n",
    "plot_wigner_multi([compute_final_state(optvals.x)],xvec,xvec)"
   ]
  },
  {
   "cell_type": "markdown",
   "metadata": {},
   "source": [
    "## Plot coherent state population"
   ]
  },
  {
   "cell_type": "code",
   "execution_count": 4,
   "metadata": {},
   "outputs": [
    {
     "data": {
      "text/plain": [
       "Text(0, 0.5, 'Population')"
      ]
     },
     "execution_count": 4,
     "metadata": {},
     "output_type": "execute_result"
    },
    {
     "data": {
      "image/png": "[encoded data removed]",
      "text/plain": [
       "<Figure size 720x288 with 2 Axes>"
      ]
     },
     "metadata": {
      "needs_background": "light"
     },
     "output_type": "display_data"
    }
   ],
   "source": [
    "N = 20\n",
    "alpha = 1.14\n",
    "rho_coherent = coherent_dm(N, alpha)\n",
    "\n",
    "fig, axes = plt.subplots(1, 2, figsize=(10,4))\n",
    "\n",
    "bar0 = axes[0].bar(np.arange(0, N), rho_coherent.diag())\n",
    "lbl0 = axes[0].set_title(\"Coherent state alpha = %s\" %(2*alpha))\n",
    "lim0 = axes[0].set_xlim([-.5, 10])\n",
    "axes[0].set_xlabel('Fock state')\n",
    "axes[0].set_ylabel('Population')\n",
    "\n",
    "rho_coherent = coherent_dm(N, 1.14-0.58)\n",
    "bar0 = axes[1].bar(np.arange(0, N), rho_coherent.diag())\n",
    "lbl0 = axes[1].set_title(\"Coherent state alpha = %s\" %(2*alpha))\n",
    "lim0 = axes[1].set_xlim([-.5, 10])\n",
    "axes[0].set_xlabel('Fock state')\n",
    "axes[0].set_ylabel('Population')"
   ]
  },
  {
   "cell_type": "code",
   "execution_count": 7,
   "metadata": {
    "ExecuteTime": {
     "end_time": "2021-06-23T15:01:49.880158Z",
     "start_time": "2021-06-23T15:01:49.870164Z"
    }
   },
   "outputs": [
    {
     "name": "stdout",
     "output_type": "stream",
     "text": [
      "Quantum object: dims = [[20], [1]], shape = (20, 1), type = ket\n",
      "Qobj data =\n",
      "[[1.]\n",
      " [0.]\n",
      " [0.]\n",
      " [0.]\n",
      " [0.]\n",
      " [0.]\n",
      " [0.]\n",
      " [0.]\n",
      " [0.]\n",
      " [0.]\n",
      " [0.]\n",
      " [0.]\n",
      " [0.]\n",
      " [0.]\n",
      " [0.]\n",
      " [0.]\n",
      " [0.]\n",
      " [0.]\n",
      " [0.]\n",
      " [0.]]\n"
     ]
    }
   ],
   "source": [
    "import qutip as qt\n",
    "psi0 = qt.fock(20,0) \n",
    "print(psi0)"
   ]
  },
  {
   "cell_type": "code",
   "execution_count": 8,
   "metadata": {
    "ExecuteTime": {
     "end_time": "2021-06-23T15:02:15.118938Z",
     "start_time": "2021-06-23T15:02:15.088885Z"
    }
   },
   "outputs": [
    {
     "ename": "TypeError",
     "evalue": "Incompatible object for multiplication",
     "output_type": "error",
     "traceback": [
      "\u001b[1;31m---------------------------------------------------------------------------\u001b[0m",
      "\u001b[1;31mTypeError\u001b[0m                                 Traceback (most recent call last)",
      "\u001b[1;32m<ipython-input-8-c24cdf05dd85>\u001b[0m in \u001b[0;36m<module>\u001b[1;34m()\u001b[0m\n\u001b[0;32m      1\u001b[0m \u001b[1;31m# displace the resonator\u001b[0m\u001b[1;33m\u001b[0m\u001b[1;33m\u001b[0m\u001b[0m\n\u001b[0;32m      2\u001b[0m \u001b[0mbeta1\u001b[0m \u001b[1;33m=\u001b[0m \u001b[1;36m0.56\u001b[0m\u001b[1;33m\u001b[0m\u001b[0m\n\u001b[1;32m----> 3\u001b[1;33m \u001b[0mpsi1\u001b[0m \u001b[1;33m=\u001b[0m \u001b[0mqt\u001b[0m\u001b[1;33m.\u001b[0m\u001b[0mdisplace\u001b[0m\u001b[1;33m(\u001b[0m\u001b[1;36m20\u001b[0m\u001b[1;33m,\u001b[0m\u001b[0mbeta\u001b[0m\u001b[1;33m)\u001b[0m \u001b[1;33m*\u001b[0m \u001b[0mpsi0\u001b[0m\u001b[1;33m\u001b[0m\u001b[0m\n\u001b[0m\u001b[0;32m      4\u001b[0m \u001b[0mprint\u001b[0m\u001b[1;33m(\u001b[0m\u001b[0mpsi1\u001b[0m\u001b[1;33m)\u001b[0m\u001b[1;33m\u001b[0m\u001b[0m\n",
      "\u001b[1;32mC:\\Users\\slab\\.conda\\envs\\qoc_nl\\lib\\site-packages\\qutip\\operators.py\u001b[0m in \u001b[0;36mdisplace\u001b[1;34m(N, alpha, offset)\u001b[0m\n\u001b[0;32m    730\u001b[0m     \"\"\"\n\u001b[0;32m    731\u001b[0m     \u001b[0ma\u001b[0m \u001b[1;33m=\u001b[0m \u001b[0mdestroy\u001b[0m\u001b[1;33m(\u001b[0m\u001b[0mN\u001b[0m\u001b[1;33m,\u001b[0m \u001b[0moffset\u001b[0m\u001b[1;33m=\u001b[0m\u001b[0moffset\u001b[0m\u001b[1;33m)\u001b[0m\u001b[1;33m\u001b[0m\u001b[0m\n\u001b[1;32m--> 732\u001b[1;33m     \u001b[0mD\u001b[0m \u001b[1;33m=\u001b[0m \u001b[1;33m(\u001b[0m\u001b[0malpha\u001b[0m \u001b[1;33m*\u001b[0m \u001b[0ma\u001b[0m\u001b[1;33m.\u001b[0m\u001b[0mdag\u001b[0m\u001b[1;33m(\u001b[0m\u001b[1;33m)\u001b[0m \u001b[1;33m-\u001b[0m \u001b[0mnp\u001b[0m\u001b[1;33m.\u001b[0m\u001b[0mconj\u001b[0m\u001b[1;33m(\u001b[0m\u001b[0malpha\u001b[0m\u001b[1;33m)\u001b[0m \u001b[1;33m*\u001b[0m \u001b[0ma\u001b[0m\u001b[1;33m)\u001b[0m\u001b[1;33m.\u001b[0m\u001b[0mexpm\u001b[0m\u001b[1;33m(\u001b[0m\u001b[1;33m)\u001b[0m\u001b[1;33m\u001b[0m\u001b[0m\n\u001b[0m\u001b[0;32m    733\u001b[0m     \u001b[1;32mreturn\u001b[0m \u001b[0mD\u001b[0m\u001b[1;33m\u001b[0m\u001b[0m\n\u001b[0;32m    734\u001b[0m \u001b[1;33m\u001b[0m\u001b[0m\n",
      "\u001b[1;32mC:\\Users\\slab\\.conda\\envs\\qoc_nl\\lib\\site-packages\\qutip\\qobj.py\u001b[0m in \u001b[0;36m__rmul__\u001b[1;34m(self, other)\u001b[0m\n\u001b[0;32m    649\u001b[0m \u001b[1;33m\u001b[0m\u001b[0m\n\u001b[0;32m    650\u001b[0m         \u001b[1;32melse\u001b[0m\u001b[1;33m:\u001b[0m\u001b[1;33m\u001b[0m\u001b[0m\n\u001b[1;32m--> 651\u001b[1;33m             \u001b[1;32mraise\u001b[0m \u001b[0mTypeError\u001b[0m\u001b[1;33m(\u001b[0m\u001b[1;34m\"Incompatible object for multiplication\"\u001b[0m\u001b[1;33m)\u001b[0m\u001b[1;33m\u001b[0m\u001b[0m\n\u001b[0m\u001b[0;32m    652\u001b[0m \u001b[1;33m\u001b[0m\u001b[0m\n\u001b[0;32m    653\u001b[0m     \u001b[1;32mdef\u001b[0m \u001b[0m__truediv__\u001b[0m\u001b[1;33m(\u001b[0m\u001b[0mself\u001b[0m\u001b[1;33m,\u001b[0m \u001b[0mother\u001b[0m\u001b[1;33m)\u001b[0m\u001b[1;33m:\u001b[0m\u001b[1;33m\u001b[0m\u001b[0m\n",
      "\u001b[1;31mTypeError\u001b[0m: Incompatible object for multiplication"
     ]
    }
   ],
   "source": [
    "# displace the resonator\n",
    "beta1 = 0.56\n",
    "psi1 = qt.displace(20, beta) * psi0 \n",
    "print(psi1)"
   ]
  },
  {
   "cell_type": "code",
   "execution_count": null,
   "metadata": {},
   "outputs": [],
   "source": []
  }
 ],
 "metadata": {
  "kernelspec": {
   "display_name": "Python 3 (ipykernel)",
   "language": "python",
   "name": "python3"
  },
  "language_info": {
   "codemirror_mode": {
    "name": "ipython",
    "version": 3
   },
   "file_extension": ".py",
   "mimetype": "text/x-python",
   "name": "python",
   "nbconvert_exporter": "python",
   "pygments_lexer": "ipython3",
   "version": "3.8.5"
  },
  "toc": {
   "base_numbering": 1,
   "nav_menu": {},
   "number_sections": true,
   "sideBar": true,
   "skip_h1_title": false,
   "title_cell": "Table of Contents",
   "title_sidebar": "Contents",
   "toc_cell": false,
   "toc_position": {},
   "toc_section_display": true,
   "toc_window_display": false
  }
 },
 "nbformat": 4,
 "nbformat_minor": 4
}
