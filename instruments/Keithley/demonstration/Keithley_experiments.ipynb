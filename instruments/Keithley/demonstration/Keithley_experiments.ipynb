{
 "cells": [
  {
   "cell_type": "code",
   "execution_count": 1,
   "metadata": {},
   "outputs": [
    {
     "name": "stderr",
     "output_type": "stream",
     "text": [
      "C:\\ProgramData\\Anaconda3\\lib\\site-packages\\visa.py:13: FutureWarning: The visa module provided by PyVISA is being deprecated. You can replace `import visa` by `import pyvisa as visa` to achieve the same effect.\n",
      "\n",
      "The reason for the deprecation is the possible conflict with the visa package provided by the https://github.com/visa-sdk/visa-python which can result in hard to debug situations.\n",
      "  warnings.warn(\n"
     ]
    },
    {
     "name": "stdout",
     "output_type": "stream",
     "text": [
      "Warning could not load Chase AWG dll, check that dll located at 'C:\\_Lib\\python\\slab\\instruments\\awg\\chase\\dax22000_lib_DLL32.dll'\n"
     ]
    }
   ],
   "source": [
    "import datetime\n",
    "import os\n",
    "import time\n",
    "from numpy import *\n",
    "%matplotlib inline\n",
    "from matplotlib.pyplot import *\n",
    "from slab import *\n",
    "from slab.instruments import *"
   ]
  },
  {
   "cell_type": "code",
   "execution_count": 2,
   "metadata": {},
   "outputs": [
    {
     "name": "stdout",
     "output_type": "stream",
     "text": [
      "KEITHLEY INSTRUMENTS INC.,MODEL 6221,4127824,D03  /700x \n",
      "\n",
      "KEITHLEY INSTRUMENTS INC.,MODEL 2182A,4333843,C06  /A02  \n",
      "\n",
      "\n"
     ]
    }
   ],
   "source": [
    "'''Use instrument manager to connect to Keithley and get ID.'''\n",
    "\n",
    "im = InstrumentManager() #Remember to start Keithley on nameserver.\n",
    "curs = im['curs']\n",
    "nvm = im['nvm']\n",
    "\n",
    "print(f'{curs.get_id()}\\n{nvm.get_id()}')"
   ]
  },
  {
   "cell_type": "code",
   "execution_count": 3,
   "metadata": {},
   "outputs": [
    {
     "name": "stdout",
     "output_type": "stream",
     "text": [
      "Number of scan points: 41\n",
      "finish downloading S:\\KHLee\\Python_code_commented\\Keithley\\data\\00006_10OhmResistor.h5.\n"
     ]
    },
    {
     "data": {
      "image/png": "[encoded data removed]",
      "text/plain": [
       "<Figure size 432x288 with 1 Axes>"
      ]
     },
     "metadata": {
      "needs_background": "light"
     },
     "output_type": "display_data"
    }
   ],
   "source": [
    "'''Take IV curve and plot.'''\n",
    "\n",
    "folder = r'\\data'\n",
    "prefix = '10OhmResistor'\n",
    "\n",
    "expt_path = os.getcwd() + folder\n",
    "fname = get_next_filename(expt_path, prefix, suffix='.h5')\n",
    "filename = os.path.join(expt_path, fname)\n",
    "\n",
    "exp_para={\n",
    "    'Imax':1e-4, # unit:amp\n",
    "    'Imin':-1e-4,\n",
    "    'step':1e-5,\n",
    "    'v_channel':1,\n",
    "    'v_range':'auto',\n",
    "    'integrate_time':0.05,\n",
    "    'settling_time':0.05 #This is the time for current source to reach setpoint.\n",
    "}\n",
    "\n",
    "dp = take_IV(filename,curs,nvm,exp_para)\n",
    "\n",
    "plot(dp[0],dp[1],'bo') #plot the data\n",
    "ylabel('Voltage (V)')\n",
    "xlabel('Current (A)')\n",
    "plt.show()"
   ]
  },
  {
   "cell_type": "code",
   "execution_count": 4,
   "metadata": {},
   "outputs": [],
   "source": [
    "dp"
   ]
  },
  {
   "cell_type": "code",
   "execution_count": null,
   "metadata": {},
   "outputs": [],
   "source": [
    "'''Take voltage using delta mode - Keithley use a three-points delta method.\n",
    "Return of the measurement is voltage across the sample. Thermal voltage is\n",
    "eliminated by the delta mode.'''"
   ]
  }
 ],
 "metadata": {
  "kernelspec": {
   "display_name": "Python 3",
   "language": "python",
   "name": "python3"
  },
  "language_info": {
   "codemirror_mode": {
    "name": "ipython",
    "version": 3
   },
   "file_extension": ".py",
   "mimetype": "text/x-python",
   "name": "python",
   "nbconvert_exporter": "python",
   "pygments_lexer": "ipython3",
   "version": "3.8.3"
  }
 },
 "nbformat": 4,
 "nbformat_minor": 4
}
